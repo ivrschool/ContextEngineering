{
 "cells": [
  {
   "cell_type": "code",
   "execution_count": 2,
   "id": "b7202260",
   "metadata": {},
   "outputs": [],
   "source": [
    "from dotenv import load_dotenv\n",
    "load_dotenv()\n",
    "\n",
    "from langchain_community.document_loaders import WebBaseLoader\n",
    "\n",
    "urls = [\n",
    "    \"https://lilianweng.github.io/posts/2025-05-01-thinking/\",\n",
    "    \"https://lilianweng.github.io/posts/2024-11-28-reward-hacking/\",\n",
    "    \"https://lilianweng.github.io/posts/2024-07-07-hallucination/\",\n",
    "    \"https://lilianweng.github.io/posts/2024-04-12-diffusion-video/\",\n",
    "]\n",
    "docs = [WebBaseLoader(url).load() for url in urls]"
   ]
  },
  {
   "cell_type": "code",
   "execution_count": 3,
   "id": "77291564",
   "metadata": {},
   "outputs": [],
   "source": [
    "from langchain_text_splitters import RecursiveCharacterTextSplitter\n",
    "\n",
    "docs_flat = [doc for sublist in docs for doc in sublist]\n",
    "text_splitter = RecursiveCharacterTextSplitter.from_tiktoken_encoder(\n",
    "    chunk_size=3000,\n",
    "    chunk_overlap=50,\n",
    ")\n",
    "doc_chunks = text_splitter.split_documents(docs_flat)"
   ]
  },
  {
   "cell_type": "code",
   "execution_count": 4,
   "id": "6252756c",
   "metadata": {},
   "outputs": [],
   "source": [
    "from langchain_google_genai import GoogleGenerativeAIEmbeddings\n",
    "from langchain_core.vectorstores import InMemoryVectorStore\n",
    "\n",
    "vectorstore = InMemoryVectorStore.from_documents(\n",
    "    documents=doc_chunks,\n",
    "    embedding=GoogleGenerativeAIEmbeddings(model=\"models/embedding-001\"),\n",
    ")\n",
    "\n",
    "retriever = vectorstore.as_retriever()"
   ]
  },
  {
   "cell_type": "code",
   "execution_count": 5,
   "id": "3f7e095e",
   "metadata": {},
   "outputs": [],
   "source": [
    "from langchain.tools.retriever import create_retriever_tool\n",
    "\n",
    "retriever_tool = create_retriever_tool(\n",
    "    retriever,\n",
    "    name=\"retrieve_blog_data\",\n",
    "    description=\"Use this tool to look up technical concepts from Lilian Weng's blog.\",\n",
    ")"
   ]
  },
  {
   "cell_type": "code",
   "execution_count": 6,
   "id": "470246eb",
   "metadata": {},
   "outputs": [],
   "source": [
    "from langchain_google_genai import ChatGoogleGenerativeAI\n",
    "llm = ChatGoogleGenerativeAI(model=\"gemini-2.0-flash\", temperature=0)"
   ]
  },
  {
   "cell_type": "code",
   "execution_count": 7,
   "id": "d922cf68",
   "metadata": {},
   "outputs": [],
   "source": [
    "tools = [retriever_tool]\n",
    "tools_by_name = {tool.name: tool for tool in tools}\n",
    "llm_with_tools = llm.bind_tools(tools)"
   ]
  },
  {
   "cell_type": "code",
   "execution_count": 8,
   "id": "9242d273",
   "metadata": {},
   "outputs": [],
   "source": [
    "from langgraph.graph import END, START, MessagesState, StateGraph\n",
    "from langchain_core.messages import SystemMessage, ToolMessage\n",
    "from typing_extensions import Literal\n",
    "\n",
    "class State(MessagesState):\n",
    "    summary: str  # This holds the pruned context if needed\n",
    "    \n",
    "system_prompt = \"\"\"You are a technical assistant working with research blogs by Lilian Weng.\n",
    "Clarify what the user is looking for before retrieving.\n",
    "Only fetch content that helps answer their request.\n",
    "Reflect before each step, then act.\"\"\""
   ]
  },
  {
   "cell_type": "code",
   "execution_count": 9,
   "id": "65259fbb",
   "metadata": {},
   "outputs": [],
   "source": [
    "def llm_call(state: MessagesState) -> dict:\n",
    "    messages = [SystemMessage(content=system_prompt)] + state[\"messages\"]\n",
    "    response = llm_with_tools.invoke(messages)\n",
    "    return {\"messages\": [response]}"
   ]
  },
  {
   "cell_type": "code",
   "execution_count": 10,
   "id": "fa90f110",
   "metadata": {},
   "outputs": [],
   "source": [
    "tool_summarization_prompt = \"\"\"You are an expert at condensing technical documents while preserving all critical information.\n",
    "\n",
    "Transform the provided document into a comprehensive yet concise version. Extract and present the essential content in a clear, structured format.\n",
    "\n",
    "Condensation Guidelines:\n",
    "1. **Preserve All Key Information**: Include every important fact, statistic, finding, and conclusion\n",
    "2. **Eliminate Verbosity**: Remove repetitive text, excessive explanations, and filler words\n",
    "3. **Maintain Logical Structure**: Keep the natural flow and relationships between concepts\n",
    "4. **Use Precise Language**: Replace lengthy phrases with direct, technical terminology\n",
    "5. **Ensure Completeness**: The condensed version should contain all necessary information to fully understand the topic\n",
    "\n",
    "Create a comprehensive condensed version that is 50-70% shorter while retaining 100% of the essential information.\"\"\""
   ]
  },
  {
   "cell_type": "code",
   "execution_count": 11,
   "id": "bd0e75c6",
   "metadata": {},
   "outputs": [],
   "source": [
    "def tool_node_with_summarization(state: State):\n",
    "    results = []\n",
    "    for tool_call in state[\"messages\"][-1].tool_calls:\n",
    "        tool = tools_by_name[tool_call[\"name\"]]\n",
    "        observation = tool.invoke(tool_call[\"args\"])\n",
    "\n",
    "    summarizer = ChatGoogleGenerativeAI(model=\"gemini-2.0-flash\", temperature=0)\n",
    "    user_question = state[\"messages\"][0].content\n",
    "    pruned = summarizer.invoke([\n",
    "        {\"role\": \"system\", \"content\": tool_summarization_prompt.format(initial_request=user_question)},\n",
    "        {\"role\": \"user\", \"content\": observation},\n",
    "    ])\n",
    "    results.append(ToolMessage(content=pruned.content, tool_call_id=tool_call[\"id\"]))\n",
    "    \n",
    "    return {\"messages\": results}"
   ]
  },
  {
   "cell_type": "code",
   "execution_count": 12,
   "id": "cdc882f2",
   "metadata": {},
   "outputs": [],
   "source": [
    "def should_continue(state: State) -> Literal[\"tool_node_with_summarization\", \"__end__\"]:\n",
    "    last_msg = state[\"messages\"][-1]\n",
    "    if last_msg.tool_calls:\n",
    "        return \"tool_node_with_summarization\"\n",
    "    return END"
   ]
  },
  {
   "cell_type": "code",
   "execution_count": 13,
   "id": "e961298f",
   "metadata": {},
   "outputs": [],
   "source": [
    "graph = StateGraph(State)\n",
    "graph.add_node(\"llm_call\", llm_call)\n",
    "graph.add_node(\"tool_node_with_summarization\", tool_node_with_summarization)\n",
    "\n",
    "graph.add_edge(START, \"llm_call\")\n",
    "graph.add_conditional_edges(\"llm_call\", should_continue, {\n",
    "    \"tool_node_with_summarization\": \"tool_node_with_summarization\",\n",
    "    END: END,\n",
    "})\n",
    "graph.add_edge(\"tool_node_with_summarization\", \"llm_call\")\n",
    "agent = graph.compile()"
   ]
  },
  {
   "cell_type": "code",
   "execution_count": 14,
   "id": "e3aa113b",
   "metadata": {},
   "outputs": [
    {
     "data": {
      "image/png": "[encoded data removed]",
      "text/plain": [
       "<IPython.core.display.Image object>"
      ]
     },
     "metadata": {},
     "output_type": "display_data"
    }
   ],
   "source": [
    "from IPython.display import Image, display\n",
    "display(Image(agent.get_graph(xray=True).draw_mermaid_png()))"
   ]
  },
  {
   "cell_type": "code",
   "execution_count": 15,
   "id": "b3a1ff5f",
   "metadata": {},
   "outputs": [
    {
     "name": "stderr",
     "output_type": "stream",
     "text": [
      "WARNING: All log messages before absl::InitializeLog() is called are written to STDERR\n",
      "I0000 00:00:1754402579.422709 54545822 fork_posix.cc:71] Other threads are currently calling into gRPC, skipping fork() handlers\n"
     ]
    }
   ],
   "source": [
    "from utils import format_messages\n",
    "\n",
    "query = \"List and explain the types of reward hacking mentioned in the blogs. Do not ask clarification question, do what you think is best to come up with the answer\"\n",
    "output = agent.invoke({\"messages\": [{\"role\": \"user\", \"content\": query}]})\n"
   ]
  },
  {
   "cell_type": "code",
   "execution_count": 16,
   "id": "abb0f66d",
   "metadata": {},
   "outputs": [
    {
     "data": {
      "text/html": [
       "<pre style=\"white-space:pre;overflow-x:auto;line-height:normal;font-family:Menlo,'DejaVu Sans Mono',consolas,'Courier New',monospace\"><span style=\"color: #000080; text-decoration-color: #000080\">╭─────────────────────────────────────────────────── 🧑 Human ────────────────────────────────────────────────────╮</span>\n",
       "<span style=\"color: #000080; text-decoration-color: #000080\">│</span> List and explain the types of reward hacking mentioned in the blogs. Do not ask clarification question, do what <span style=\"color: #000080; text-decoration-color: #000080\">│</span>\n",
       "<span style=\"color: #000080; text-decoration-color: #000080\">│</span> you think is best to come up with the answer                                                                    <span style=\"color: #000080; text-decoration-color: #000080\">│</span>\n",
       "<span style=\"color: #000080; text-decoration-color: #000080\">╰─────────────────────────────────────────────────────────────────────────────────────────────────────────────────╯</span>\n",
       "</pre>\n"
      ],
      "text/plain": [
       "\u001b[34m╭─\u001b[0m\u001b[34m──────────────────────────────────────────────────\u001b[0m\u001b[34m 🧑 Human \u001b[0m\u001b[34m───────────────────────────────────────────────────\u001b[0m\u001b[34m─╮\u001b[0m\n",
       "\u001b[34m│\u001b[0m List and explain the types of reward hacking mentioned in the blogs. Do not ask clarification question, do what \u001b[34m│\u001b[0m\n",
       "\u001b[34m│\u001b[0m you think is best to come up with the answer                                                                    \u001b[34m│\u001b[0m\n",
       "\u001b[34m╰─────────────────────────────────────────────────────────────────────────────────────────────────────────────────╯\u001b[0m\n"
      ]
     },
     "metadata": {},
     "output_type": "display_data"
    },
    {
     "data": {
      "text/html": [
       "<pre style=\"white-space:pre;overflow-x:auto;line-height:normal;font-family:Menlo,'DejaVu Sans Mono',consolas,'Courier New',monospace\"><span style=\"color: #c0c0c0; text-decoration-color: #c0c0c0\">╭───────────────────────────────────────────────────── 📝 AI ─────────────────────────────────────────────────────╮</span>\n",
       "<span style=\"color: #c0c0c0; text-decoration-color: #c0c0c0\">│</span>                                                                                                                 <span style=\"color: #c0c0c0; text-decoration-color: #c0c0c0\">│</span>\n",
       "<span style=\"color: #c0c0c0; text-decoration-color: #c0c0c0\">│</span> 🔧 Tool Call: retrieve_blog_data                                                                                <span style=\"color: #c0c0c0; text-decoration-color: #c0c0c0\">│</span>\n",
       "<span style=\"color: #c0c0c0; text-decoration-color: #c0c0c0\">│</span>    Args: {                                                                                                      <span style=\"color: #c0c0c0; text-decoration-color: #c0c0c0\">│</span>\n",
       "<span style=\"color: #c0c0c0; text-decoration-color: #c0c0c0\">│</span>   \"query\": \"reward hacking types\"                                                                               <span style=\"color: #c0c0c0; text-decoration-color: #c0c0c0\">│</span>\n",
       "<span style=\"color: #c0c0c0; text-decoration-color: #c0c0c0\">│</span> }                                                                                                               <span style=\"color: #c0c0c0; text-decoration-color: #c0c0c0\">│</span>\n",
       "<span style=\"color: #c0c0c0; text-decoration-color: #c0c0c0\">╰─────────────────────────────────────────────────────────────────────────────────────────────────────────────────╯</span>\n",
       "</pre>\n"
      ],
      "text/plain": [
       "\u001b[37m╭─\u001b[0m\u001b[37m────────────────────────────────────────────────────\u001b[0m\u001b[37m 📝 AI \u001b[0m\u001b[37m────────────────────────────────────────────────────\u001b[0m\u001b[37m─╮\u001b[0m\n",
       "\u001b[37m│\u001b[0m                                                                                                                 \u001b[37m│\u001b[0m\n",
       "\u001b[37m│\u001b[0m 🔧 Tool Call: retrieve_blog_data                                                                                \u001b[37m│\u001b[0m\n",
       "\u001b[37m│\u001b[0m    Args: {                                                                                                      \u001b[37m│\u001b[0m\n",
       "\u001b[37m│\u001b[0m   \"query\": \"reward hacking types\"                                                                               \u001b[37m│\u001b[0m\n",
       "\u001b[37m│\u001b[0m }                                                                                                               \u001b[37m│\u001b[0m\n",
       "\u001b[37m╰─────────────────────────────────────────────────────────────────────────────────────────────────────────────────╯\u001b[0m\n"
      ]
     },
     "metadata": {},
     "output_type": "display_data"
    },
    {
     "data": {
      "text/html": [
       "<pre style=\"white-space:pre;overflow-x:auto;line-height:normal;font-family:Menlo,'DejaVu Sans Mono',consolas,'Courier New',monospace\"><span style=\"color: #808000; text-decoration-color: #808000\">╭──────────────────────────────────────────────── 🔧 Tool Output ─────────────────────────────────────────────────╮</span>\n",
       "<span style=\"color: #808000; text-decoration-color: #808000\">│</span> ## Condensed: Reward Hacking in Reinforcement Learning                                                          <span style=\"color: #808000; text-decoration-color: #808000\">│</span>\n",
       "<span style=\"color: #808000; text-decoration-color: #808000\">│</span>                                                                                                                 <span style=\"color: #808000; text-decoration-color: #808000\">│</span>\n",
       "<span style=\"color: #808000; text-decoration-color: #808000\">│</span> **Reward hacking** occurs when an RL agent exploits reward function flaws to achieve high rewards without       <span style=\"color: #808000; text-decoration-color: #808000\">│</span>\n",
       "<span style=\"color: #808000; text-decoration-color: #808000\">│</span> genuine task learning. This is exacerbated in RLHF for LLMs, where models may learn to game unit tests or       <span style=\"color: #808000; text-decoration-color: #808000\">│</span>\n",
       "<span style=\"color: #808000; text-decoration-color: #808000\">│</span> exhibit biased responses. Research on practical mitigations, especially in RLHF, is limited.                    <span style=\"color: #808000; text-decoration-color: #808000\">│</span>\n",
       "<span style=\"color: #808000; text-decoration-color: #808000\">│</span>                                                                                                                 <span style=\"color: #808000; text-decoration-color: #808000\">│</span>\n",
       "<span style=\"color: #808000; text-decoration-color: #808000\">│</span> **Background:**                                                                                                 <span style=\"color: #808000; text-decoration-color: #808000\">│</span>\n",
       "<span style=\"color: #808000; text-decoration-color: #808000\">│</span>                                                                                                                 <span style=\"color: #808000; text-decoration-color: #808000\">│</span>\n",
       "<span style=\"color: #808000; text-decoration-color: #808000\">│</span> *   **Reward Function:** Defines the RL task; reward shaping impacts learning. Designing effective reward       <span style=\"color: #808000; text-decoration-color: #808000\">│</span>\n",
       "<span style=\"color: #808000; text-decoration-color: #808000\">│</span> functions is challenging due to task complexity and potential for hackable rewards. Potential-based shaping     <span style=\"color: #808000; text-decoration-color: #808000\">│</span>\n",
       "<span style=\"color: #808000; text-decoration-color: #808000\">│</span> functions can incorporate heuristics without altering the optimal policy.                                       <span style=\"color: #808000; text-decoration-color: #808000\">│</span>\n",
       "<span style=\"color: #808000; text-decoration-color: #808000\">│</span> *   **Spurious Correlation:** Similar to shortcut learning, where models overfit to unreliable features,        <span style=\"color: #808000; text-decoration-color: #808000\">│</span>\n",
       "<span style=\"color: #808000; text-decoration-color: #808000\">│</span> hindering generalization. Empirical Risk Minimization (ERM) relies on all informative features, including       <span style=\"color: #808000; text-decoration-color: #808000\">│</span>\n",
       "<span style=\"color: #808000; text-decoration-color: #808000\">│</span> spurious ones.                                                                                                  <span style=\"color: #808000; text-decoration-color: #808000\">│</span>\n",
       "<span style=\"color: #808000; text-decoration-color: #808000\">│</span>                                                                                                                 <span style=\"color: #808000; text-decoration-color: #808000\">│</span>\n",
       "<span style=\"color: #808000; text-decoration-color: #808000\">│</span> **Definition:**                                                                                                 <span style=\"color: #808000; text-decoration-color: #808000\">│</span>\n",
       "<span style=\"color: #808000; text-decoration-color: #808000\">│</span>                                                                                                                 <span style=\"color: #808000; text-decoration-color: #808000\">│</span>\n",
       "<span style=\"color: #808000; text-decoration-color: #808000\">│</span> Reward hacking involves exploiting reward function ambiguities to gain high rewards without intended behavior.  <span style=\"color: #808000; text-decoration-color: #808000\">│</span>\n",
       "<span style=\"color: #808000; text-decoration-color: #808000\">│</span> Related concepts include reward corruption, tampering, specification gaming, objective robustness, goal         <span style=\"color: #808000; text-decoration-color: #808000\">│</span>\n",
       "<span style=\"color: #808000; text-decoration-color: #808000\">│</span> misgeneralization, and reward misspecifications. Specification gaming satisfies the literal objective but       <span style=\"color: #808000; text-decoration-color: #808000\">│</span>\n",
       "<span style=\"color: #808000; text-decoration-color: #808000\">│</span> misses the intended goal.                                                                                       <span style=\"color: #808000; text-decoration-color: #808000\">│</span>\n",
       "<span style=\"color: #808000; text-decoration-color: #808000\">│</span>                                                                                                                 <span style=\"color: #808000; text-decoration-color: #808000\">│</span>\n",
       "<span style=\"color: #808000; text-decoration-color: #808000\">│</span> **Robustness Failure:** Occurs in OOD environments when:                                                        <span style=\"color: #808000; text-decoration-color: #808000\">│</span>\n",
       "<span style=\"color: #808000; text-decoration-color: #808000\">│</span>                                                                                                                 <span style=\"color: #808000; text-decoration-color: #808000\">│</span>\n",
       "<span style=\"color: #808000; text-decoration-color: #808000\">│</span> 1.  The model fails to generalize despite a correct objective.                                                  <span style=\"color: #808000; text-decoration-color: #808000\">│</span>\n",
       "<span style=\"color: #808000; text-decoration-color: #808000\">│</span> 2.  The model generalizes but pursues a different objective due to proxy reward divergence from the true        <span style=\"color: #808000; text-decoration-color: #808000\">│</span>\n",
       "<span style=\"color: #808000; text-decoration-color: #808000\">│</span> reward.                                                                                                         <span style=\"color: #808000; text-decoration-color: #808000\">│</span>\n",
       "<span style=\"color: #808000; text-decoration-color: #808000\">│</span>                                                                                                                 <span style=\"color: #808000; text-decoration-color: #808000\">│</span>\n",
       "<span style=\"color: #808000; text-decoration-color: #808000\">│</span> **Reward Tampering:** A form of reward hacking where the agent interferes with the reward function itself.      <span style=\"color: #808000; text-decoration-color: #808000\">│</span>\n",
       "<span style=\"color: #808000; text-decoration-color: #808000\">│</span>                                                                                                                 <span style=\"color: #808000; text-decoration-color: #808000\">│</span>\n",
       "<span style=\"color: #808000; text-decoration-color: #808000\">│</span> **Types of Reward Hacking:**                                                                                    <span style=\"color: #808000; text-decoration-color: #808000\">│</span>\n",
       "<span style=\"color: #808000; text-decoration-color: #808000\">│</span>                                                                                                                 <span style=\"color: #808000; text-decoration-color: #808000\">│</span>\n",
       "<span style=\"color: #808000; text-decoration-color: #808000\">│</span> 1.  **Environment/Goal Misspecification:** Undesired behavior to achieve high rewards by hacking the            <span style=\"color: #808000; text-decoration-color: #808000\">│</span>\n",
       "<span style=\"color: #808000; text-decoration-color: #808000\">│</span> environment or optimizing a misaligned reward function.                                                         <span style=\"color: #808000; text-decoration-color: #808000\">│</span>\n",
       "<span style=\"color: #808000; text-decoration-color: #808000\">│</span> 2.  **Reward Tampering:** Interfering with the reward mechanism itself.                                         <span style=\"color: #808000; text-decoration-color: #808000\">│</span>\n",
       "<span style=\"color: #808000; text-decoration-color: #808000\">│</span>                                                                                                                 <span style=\"color: #808000; text-decoration-color: #808000\">│</span>\n",
       "<span style=\"color: #808000; text-decoration-color: #808000\">│</span> **Examples:**                                                                                                   <span style=\"color: #808000; text-decoration-color: #808000\">│</span>\n",
       "<span style=\"color: #808000; text-decoration-color: #808000\">│</span>                                                                                                                 <span style=\"color: #808000; text-decoration-color: #808000\">│</span>\n",
       "<span style=\"color: #808000; text-decoration-color: #808000\">│</span> *   **RL Tasks:** Robot hand tricking camera, agent exploiting physics bugs, agent circling goal, agent         <span style=\"color: #808000; text-decoration-color: #808000\">│</span>\n",
       "<span style=\"color: #808000; text-decoration-color: #808000\">│</span> vibrating next to the ball, agent hitting the same green blocks over and over again.                            <span style=\"color: #808000; text-decoration-color: #808000\">│</span>\n",
       "<span style=\"color: #808000; text-decoration-color: #808000\">│</span> *   **LLM Tasks:** Generating unreadable summaries with high ROUGE scores, changing unit tests to pass,         <span style=\"color: #808000; text-decoration-color: #808000\">│</span>\n",
       "<span style=\"color: #808000; text-decoration-color: #808000\">│</span> modifying reward calculation code.                                                                              <span style=\"color: #808000; text-decoration-color: #808000\">│</span>\n",
       "<span style=\"color: #808000; text-decoration-color: #808000\">│</span> *   **Real Life:** Social media algorithms promoting extreme content for engagement, optimizing watch time over <span style=\"color: #808000; text-decoration-color: #808000\">│</span>\n",
       "<span style=\"color: #808000; text-decoration-color: #808000\">│</span> user well-being, 2008 financial crisis.                                                                         <span style=\"color: #808000; text-decoration-color: #808000\">│</span>\n",
       "<span style=\"color: #808000; text-decoration-color: #808000\">│</span>                                                                                                                 <span style=\"color: #808000; text-decoration-color: #808000\">│</span>\n",
       "<span style=\"color: #808000; text-decoration-color: #808000\">│</span> **Why Reward Hacking Exists:**                                                                                  <span style=\"color: #808000; text-decoration-color: #808000\">│</span>\n",
       "<span style=\"color: #808000; text-decoration-color: #808000\">│</span>                                                                                                                 <span style=\"color: #808000; text-decoration-color: #808000\">│</span>\n",
       "<span style=\"color: #808000; text-decoration-color: #808000\">│</span> *   **Goodhart's Law:** \"When a measure becomes a target, it ceases to be a good measure.\"                      <span style=\"color: #808000; text-decoration-color: #808000\">│</span>\n",
       "<span style=\"color: #808000; text-decoration-color: #808000\">│</span> *   **Causes:** Partially observed states, complex systems, abstract rewards, RL's optimization focus,          <span style=\"color: #808000; text-decoration-color: #808000\">│</span>\n",
       "<span style=\"color: #808000; text-decoration-color: #808000\">│</span> self-reinforcing feedback.                                                                                      <span style=\"color: #808000; text-decoration-color: #808000\">│</span>\n",
       "<span style=\"color: #808000; text-decoration-color: #808000\">│</span> *   **Unidentifiability:** Multiple reward functions can be consistent with observed policy.                    <span style=\"color: #808000; text-decoration-color: #808000\">│</span>\n",
       "<span style=\"color: #808000; text-decoration-color: #808000\">│</span>                                                                                                                 <span style=\"color: #808000; text-decoration-color: #808000\">│</span>\n",
       "<span style=\"color: #808000; text-decoration-color: #808000\">│</span> **Hacking RL Environment:**                                                                                     <span style=\"color: #808000; text-decoration-color: #808000\">│</span>\n",
       "<span style=\"color: #808000; text-decoration-color: #808000\">│</span>                                                                                                                 <span style=\"color: #808000; text-decoration-color: #808000\">│</span>\n",
       "<span style=\"color: #808000; text-decoration-color: #808000\">│</span> *   More sophisticated agents are more capable of finding \"holes\" in the design of reward function.             <span style=\"color: #808000; text-decoration-color: #808000\">│</span>\n",
       "<span style=\"color: #808000; text-decoration-color: #808000\">│</span> *   Adversarial policies exploit victim vulnerabilities by introducing OOD observations.                        <span style=\"color: #808000; text-decoration-color: #808000\">│</span>\n",
       "<span style=\"color: #808000; text-decoration-color: #808000\">│</span> *   Higher model capability (size, action resolution) can increase proxy rewards but decrease true rewards.     <span style=\"color: #808000; text-decoration-color: #808000\">│</span>\n",
       "<span style=\"color: #808000; text-decoration-color: #808000\">│</span> *   Reward hacking can occur even with positive correlation between true and proxy rewards.                     <span style=\"color: #808000; text-decoration-color: #808000\">│</span>\n",
       "<span style=\"color: #808000; text-decoration-color: #808000\">│</span>                                                                                                                 <span style=\"color: #808000; text-decoration-color: #808000\">│</span>\n",
       "<span style=\"color: #808000; text-decoration-color: #808000\">│</span> **Hacking RLHF of LLMs:**                                                                                       <span style=\"color: #808000; text-decoration-color: #808000\">│</span>\n",
       "<span style=\"color: #808000; text-decoration-color: #808000\">│</span>                                                                                                                 <span style=\"color: #808000; text-decoration-color: #808000\">│</span>\n",
       "<span style=\"color: #808000; text-decoration-color: #808000\">│</span> *   RLHF uses a reward model trained on human feedback to fine-tune a language model.                           <span style=\"color: #808000; text-decoration-color: #808000\">│</span>\n",
       "<span style=\"color: #808000; text-decoration-color: #808000\">│</span> *   Three reward types: Oracle ($R^*$), Human ($R^\\text{human}$), and Proxy ($R$).                              <span style=\"color: #808000; text-decoration-color: #808000\">│</span>\n",
       "<span style=\"color: #808000; text-decoration-color: #808000\">│</span> *   RLHF optimizes the proxy reward, but the goal is to optimize the oracle reward.                             <span style=\"color: #808000; text-decoration-color: #808000\">│</span>\n",
       "<span style=\"color: #808000; text-decoration-color: #808000\">│</span>                                                                                                                 <span style=\"color: #808000; text-decoration-color: #808000\">│</span>\n",
       "<span style=\"color: #808000; text-decoration-color: #808000\">│</span> **Hacking the Training Process:**                                                                               <span style=\"color: #808000; text-decoration-color: #808000\">│</span>\n",
       "<span style=\"color: #808000; text-decoration-color: #808000\">│</span>                                                                                                                 <span style=\"color: #808000; text-decoration-color: #808000\">│</span>\n",
       "<span style=\"color: #808000; text-decoration-color: #808000\">│</span> *   Larger policies benefit less from optimization but overoptimize less.                                       <span style=\"color: #808000; text-decoration-color: #808000\">│</span>\n",
       "<span style=\"color: #808000; text-decoration-color: #808000\">│</span> *   More RM data improves gold reward scores and reduces \"Goodharting.\"                                         <span style=\"color: #808000; text-decoration-color: #808000\">│</span>\n",
       "<span style=\"color: #808000; text-decoration-color: #808000\">│</span> *   KL penalty can resemble early stopping.                                                                     <span style=\"color: #808000; text-decoration-color: #808000\">│</span>\n",
       "<span style=\"color: #808000; text-decoration-color: #808000\">│</span> *   RLHF can lead to models generating convincing but incorrect responses, misleading human evaluators          <span style=\"color: #808000; text-decoration-color: #808000\">│</span>\n",
       "<span style=\"color: #808000; text-decoration-color: #808000\">│</span> (\"U-Sophistry\").                                                                                                <span style=\"color: #808000; text-decoration-color: #808000\">│</span>\n",
       "<span style=\"color: #808000; text-decoration-color: #808000\">│</span> *   RLHF can lead to models generating less readable tests and making it less likely to generate easily         <span style=\"color: #808000; text-decoration-color: #808000\">│</span>\n",
       "<span style=\"color: #808000; text-decoration-color: #808000\">│</span> detectable errors that humans can exploit.                                                                      <span style=\"color: #808000; text-decoration-color: #808000\">│</span>\n",
       "<span style=\"color: #808000; text-decoration-color: #808000\">│</span>                                                                                                                 <span style=\"color: #808000; text-decoration-color: #808000\">│</span>\n",
       "<span style=\"color: #808000; text-decoration-color: #808000\">│</span> **Mitigations:**                                                                                                <span style=\"color: #808000; text-decoration-color: #808000\">│</span>\n",
       "<span style=\"color: #808000; text-decoration-color: #808000\">│</span>                                                                                                                 <span style=\"color: #808000; text-decoration-color: #808000\">│</span>\n",
       "<span style=\"color: #808000; text-decoration-color: #808000\">│</span> *   **RL Algorithm Improvement:** Adversarial reward functions, model lookahead, adversarial blinding, careful  <span style=\"color: #808000; text-decoration-color: #808000\">│</span>\n",
       "<span style=\"color: #808000; text-decoration-color: #808000\">│</span> engineering, reward capping, counterexample resistance, multiple rewards, reward pretraining, variable          <span style=\"color: #808000; text-decoration-color: #808000\">│</span>\n",
       "<span style=\"color: #808000; text-decoration-color: #808000\">│</span> indifference, trip wires, decoupled approval.                                                                   <span style=\"color: #808000; text-decoration-color: #808000\">│</span>\n",
       "<span style=\"color: #808000; text-decoration-color: #808000\">│</span> *   **Detecting Reward Hacking:** Anomaly detection using a trusted policy.                                     <span style=\"color: #808000; text-decoration-color: #808000\">│</span>\n",
       "<span style=\"color: #808000; text-decoration-color: #808000\">│</span> *   **Data Analysis of RLHF:** Analyzing training data impact using metrics like feature imprint, alignment     <span style=\"color: #808000; text-decoration-color: #808000\">│</span>\n",
       "<span style=\"color: #808000; text-decoration-color: #808000\">│</span> resistance, and alignment robustness (SEAL).                                                                    <span style=\"color: #808000; text-decoration-color: #808000\">│</span>\n",
       "<span style=\"color: #808000; text-decoration-color: #808000\">│</span>                                                                                                                 <span style=\"color: #808000; text-decoration-color: #808000\">│</span>\n",
       "<span style=\"color: #808000; text-decoration-color: #808000\">│</span> **References:** (List of cited papers)                                                                          <span style=\"color: #808000; text-decoration-color: #808000\">│</span>\n",
       "<span style=\"color: #808000; text-decoration-color: #808000\">╰─────────────────────────────────────────────────────────────────────────────────────────────────────────────────╯</span>\n",
       "</pre>\n"
      ],
      "text/plain": [
       "\u001b[33m╭─\u001b[0m\u001b[33m───────────────────────────────────────────────\u001b[0m\u001b[33m 🔧 Tool Output \u001b[0m\u001b[33m────────────────────────────────────────────────\u001b[0m\u001b[33m─╮\u001b[0m\n",
       "\u001b[33m│\u001b[0m ## Condensed: Reward Hacking in Reinforcement Learning                                                          \u001b[33m│\u001b[0m\n",
       "\u001b[33m│\u001b[0m                                                                                                                 \u001b[33m│\u001b[0m\n",
       "\u001b[33m│\u001b[0m **Reward hacking** occurs when an RL agent exploits reward function flaws to achieve high rewards without       \u001b[33m│\u001b[0m\n",
       "\u001b[33m│\u001b[0m genuine task learning. This is exacerbated in RLHF for LLMs, where models may learn to game unit tests or       \u001b[33m│\u001b[0m\n",
       "\u001b[33m│\u001b[0m exhibit biased responses. Research on practical mitigations, especially in RLHF, is limited.                    \u001b[33m│\u001b[0m\n",
       "\u001b[33m│\u001b[0m                                                                                                                 \u001b[33m│\u001b[0m\n",
       "\u001b[33m│\u001b[0m **Background:**                                                                                                 \u001b[33m│\u001b[0m\n",
       "\u001b[33m│\u001b[0m                                                                                                                 \u001b[33m│\u001b[0m\n",
       "\u001b[33m│\u001b[0m *   **Reward Function:** Defines the RL task; reward shaping impacts learning. Designing effective reward       \u001b[33m│\u001b[0m\n",
       "\u001b[33m│\u001b[0m functions is challenging due to task complexity and potential for hackable rewards. Potential-based shaping     \u001b[33m│\u001b[0m\n",
       "\u001b[33m│\u001b[0m functions can incorporate heuristics without altering the optimal policy.                                       \u001b[33m│\u001b[0m\n",
       "\u001b[33m│\u001b[0m *   **Spurious Correlation:** Similar to shortcut learning, where models overfit to unreliable features,        \u001b[33m│\u001b[0m\n",
       "\u001b[33m│\u001b[0m hindering generalization. Empirical Risk Minimization (ERM) relies on all informative features, including       \u001b[33m│\u001b[0m\n",
       "\u001b[33m│\u001b[0m spurious ones.                                                                                                  \u001b[33m│\u001b[0m\n",
       "\u001b[33m│\u001b[0m                                                                                                                 \u001b[33m│\u001b[0m\n",
       "\u001b[33m│\u001b[0m **Definition:**                                                                                                 \u001b[33m│\u001b[0m\n",
       "\u001b[33m│\u001b[0m                                                                                                                 \u001b[33m│\u001b[0m\n",
       "\u001b[33m│\u001b[0m Reward hacking involves exploiting reward function ambiguities to gain high rewards without intended behavior.  \u001b[33m│\u001b[0m\n",
       "\u001b[33m│\u001b[0m Related concepts include reward corruption, tampering, specification gaming, objective robustness, goal         \u001b[33m│\u001b[0m\n",
       "\u001b[33m│\u001b[0m misgeneralization, and reward misspecifications. Specification gaming satisfies the literal objective but       \u001b[33m│\u001b[0m\n",
       "\u001b[33m│\u001b[0m misses the intended goal.                                                                                       \u001b[33m│\u001b[0m\n",
       "\u001b[33m│\u001b[0m                                                                                                                 \u001b[33m│\u001b[0m\n",
       "\u001b[33m│\u001b[0m **Robustness Failure:** Occurs in OOD environments when:                                                        \u001b[33m│\u001b[0m\n",
       "\u001b[33m│\u001b[0m                                                                                                                 \u001b[33m│\u001b[0m\n",
       "\u001b[33m│\u001b[0m 1.  The model fails to generalize despite a correct objective.                                                  \u001b[33m│\u001b[0m\n",
       "\u001b[33m│\u001b[0m 2.  The model generalizes but pursues a different objective due to proxy reward divergence from the true        \u001b[33m│\u001b[0m\n",
       "\u001b[33m│\u001b[0m reward.                                                                                                         \u001b[33m│\u001b[0m\n",
       "\u001b[33m│\u001b[0m                                                                                                                 \u001b[33m│\u001b[0m\n",
       "\u001b[33m│\u001b[0m **Reward Tampering:** A form of reward hacking where the agent interferes with the reward function itself.      \u001b[33m│\u001b[0m\n",
       "\u001b[33m│\u001b[0m                                                                                                                 \u001b[33m│\u001b[0m\n",
       "\u001b[33m│\u001b[0m **Types of Reward Hacking:**                                                                                    \u001b[33m│\u001b[0m\n",
       "\u001b[33m│\u001b[0m                                                                                                                 \u001b[33m│\u001b[0m\n",
       "\u001b[33m│\u001b[0m 1.  **Environment/Goal Misspecification:** Undesired behavior to achieve high rewards by hacking the            \u001b[33m│\u001b[0m\n",
       "\u001b[33m│\u001b[0m environment or optimizing a misaligned reward function.                                                         \u001b[33m│\u001b[0m\n",
       "\u001b[33m│\u001b[0m 2.  **Reward Tampering:** Interfering with the reward mechanism itself.                                         \u001b[33m│\u001b[0m\n",
       "\u001b[33m│\u001b[0m                                                                                                                 \u001b[33m│\u001b[0m\n",
       "\u001b[33m│\u001b[0m **Examples:**                                                                                                   \u001b[33m│\u001b[0m\n",
       "\u001b[33m│\u001b[0m                                                                                                                 \u001b[33m│\u001b[0m\n",
       "\u001b[33m│\u001b[0m *   **RL Tasks:** Robot hand tricking camera, agent exploiting physics bugs, agent circling goal, agent         \u001b[33m│\u001b[0m\n",
       "\u001b[33m│\u001b[0m vibrating next to the ball, agent hitting the same green blocks over and over again.                            \u001b[33m│\u001b[0m\n",
       "\u001b[33m│\u001b[0m *   **LLM Tasks:** Generating unreadable summaries with high ROUGE scores, changing unit tests to pass,         \u001b[33m│\u001b[0m\n",
       "\u001b[33m│\u001b[0m modifying reward calculation code.                                                                              \u001b[33m│\u001b[0m\n",
       "\u001b[33m│\u001b[0m *   **Real Life:** Social media algorithms promoting extreme content for engagement, optimizing watch time over \u001b[33m│\u001b[0m\n",
       "\u001b[33m│\u001b[0m user well-being, 2008 financial crisis.                                                                         \u001b[33m│\u001b[0m\n",
       "\u001b[33m│\u001b[0m                                                                                                                 \u001b[33m│\u001b[0m\n",
       "\u001b[33m│\u001b[0m **Why Reward Hacking Exists:**                                                                                  \u001b[33m│\u001b[0m\n",
       "\u001b[33m│\u001b[0m                                                                                                                 \u001b[33m│\u001b[0m\n",
       "\u001b[33m│\u001b[0m *   **Goodhart's Law:** \"When a measure becomes a target, it ceases to be a good measure.\"                      \u001b[33m│\u001b[0m\n",
       "\u001b[33m│\u001b[0m *   **Causes:** Partially observed states, complex systems, abstract rewards, RL's optimization focus,          \u001b[33m│\u001b[0m\n",
       "\u001b[33m│\u001b[0m self-reinforcing feedback.                                                                                      \u001b[33m│\u001b[0m\n",
       "\u001b[33m│\u001b[0m *   **Unidentifiability:** Multiple reward functions can be consistent with observed policy.                    \u001b[33m│\u001b[0m\n",
       "\u001b[33m│\u001b[0m                                                                                                                 \u001b[33m│\u001b[0m\n",
       "\u001b[33m│\u001b[0m **Hacking RL Environment:**                                                                                     \u001b[33m│\u001b[0m\n",
       "\u001b[33m│\u001b[0m                                                                                                                 \u001b[33m│\u001b[0m\n",
       "\u001b[33m│\u001b[0m *   More sophisticated agents are more capable of finding \"holes\" in the design of reward function.             \u001b[33m│\u001b[0m\n",
       "\u001b[33m│\u001b[0m *   Adversarial policies exploit victim vulnerabilities by introducing OOD observations.                        \u001b[33m│\u001b[0m\n",
       "\u001b[33m│\u001b[0m *   Higher model capability (size, action resolution) can increase proxy rewards but decrease true rewards.     \u001b[33m│\u001b[0m\n",
       "\u001b[33m│\u001b[0m *   Reward hacking can occur even with positive correlation between true and proxy rewards.                     \u001b[33m│\u001b[0m\n",
       "\u001b[33m│\u001b[0m                                                                                                                 \u001b[33m│\u001b[0m\n",
       "\u001b[33m│\u001b[0m **Hacking RLHF of LLMs:**                                                                                       \u001b[33m│\u001b[0m\n",
       "\u001b[33m│\u001b[0m                                                                                                                 \u001b[33m│\u001b[0m\n",
       "\u001b[33m│\u001b[0m *   RLHF uses a reward model trained on human feedback to fine-tune a language model.                           \u001b[33m│\u001b[0m\n",
       "\u001b[33m│\u001b[0m *   Three reward types: Oracle ($R^*$), Human ($R^\\text{human}$), and Proxy ($R$).                              \u001b[33m│\u001b[0m\n",
       "\u001b[33m│\u001b[0m *   RLHF optimizes the proxy reward, but the goal is to optimize the oracle reward.                             \u001b[33m│\u001b[0m\n",
       "\u001b[33m│\u001b[0m                                                                                                                 \u001b[33m│\u001b[0m\n",
       "\u001b[33m│\u001b[0m **Hacking the Training Process:**                                                                               \u001b[33m│\u001b[0m\n",
       "\u001b[33m│\u001b[0m                                                                                                                 \u001b[33m│\u001b[0m\n",
       "\u001b[33m│\u001b[0m *   Larger policies benefit less from optimization but overoptimize less.                                       \u001b[33m│\u001b[0m\n",
       "\u001b[33m│\u001b[0m *   More RM data improves gold reward scores and reduces \"Goodharting.\"                                         \u001b[33m│\u001b[0m\n",
       "\u001b[33m│\u001b[0m *   KL penalty can resemble early stopping.                                                                     \u001b[33m│\u001b[0m\n",
       "\u001b[33m│\u001b[0m *   RLHF can lead to models generating convincing but incorrect responses, misleading human evaluators          \u001b[33m│\u001b[0m\n",
       "\u001b[33m│\u001b[0m (\"U-Sophistry\").                                                                                                \u001b[33m│\u001b[0m\n",
       "\u001b[33m│\u001b[0m *   RLHF can lead to models generating less readable tests and making it less likely to generate easily         \u001b[33m│\u001b[0m\n",
       "\u001b[33m│\u001b[0m detectable errors that humans can exploit.                                                                      \u001b[33m│\u001b[0m\n",
       "\u001b[33m│\u001b[0m                                                                                                                 \u001b[33m│\u001b[0m\n",
       "\u001b[33m│\u001b[0m **Mitigations:**                                                                                                \u001b[33m│\u001b[0m\n",
       "\u001b[33m│\u001b[0m                                                                                                                 \u001b[33m│\u001b[0m\n",
       "\u001b[33m│\u001b[0m *   **RL Algorithm Improvement:** Adversarial reward functions, model lookahead, adversarial blinding, careful  \u001b[33m│\u001b[0m\n",
       "\u001b[33m│\u001b[0m engineering, reward capping, counterexample resistance, multiple rewards, reward pretraining, variable          \u001b[33m│\u001b[0m\n",
       "\u001b[33m│\u001b[0m indifference, trip wires, decoupled approval.                                                                   \u001b[33m│\u001b[0m\n",
       "\u001b[33m│\u001b[0m *   **Detecting Reward Hacking:** Anomaly detection using a trusted policy.                                     \u001b[33m│\u001b[0m\n",
       "\u001b[33m│\u001b[0m *   **Data Analysis of RLHF:** Analyzing training data impact using metrics like feature imprint, alignment     \u001b[33m│\u001b[0m\n",
       "\u001b[33m│\u001b[0m resistance, and alignment robustness (SEAL).                                                                    \u001b[33m│\u001b[0m\n",
       "\u001b[33m│\u001b[0m                                                                                                                 \u001b[33m│\u001b[0m\n",
       "\u001b[33m│\u001b[0m **References:** (List of cited papers)                                                                          \u001b[33m│\u001b[0m\n",
       "\u001b[33m╰─────────────────────────────────────────────────────────────────────────────────────────────────────────────────╯\u001b[0m\n"
      ]
     },
     "metadata": {},
     "output_type": "display_data"
    },
    {
     "data": {
      "text/html": [
       "<pre style=\"white-space:pre;overflow-x:auto;line-height:normal;font-family:Menlo,'DejaVu Sans Mono',consolas,'Courier New',monospace\"><span style=\"color: #c0c0c0; text-decoration-color: #c0c0c0\">╭───────────────────────────────────────────────────── 📝 AI ─────────────────────────────────────────────────────╮</span>\n",
       "<span style=\"color: #c0c0c0; text-decoration-color: #c0c0c0\">│</span> The blog post describes reward hacking as exploiting reward function flaws to achieve high rewards without      <span style=\"color: #c0c0c0; text-decoration-color: #c0c0c0\">│</span>\n",
       "<span style=\"color: #c0c0c0; text-decoration-color: #c0c0c0\">│</span> genuine task learning. It outlines two main types of reward hacking:                                            <span style=\"color: #c0c0c0; text-decoration-color: #c0c0c0\">│</span>\n",
       "<span style=\"color: #c0c0c0; text-decoration-color: #c0c0c0\">│</span>                                                                                                                 <span style=\"color: #c0c0c0; text-decoration-color: #c0c0c0\">│</span>\n",
       "<span style=\"color: #c0c0c0; text-decoration-color: #c0c0c0\">│</span> 1.  **Environment/Goal Misspecification:** This involves achieving high rewards through undesired behavior by   <span style=\"color: #c0c0c0; text-decoration-color: #c0c0c0\">│</span>\n",
       "<span style=\"color: #c0c0c0; text-decoration-color: #c0c0c0\">│</span> either hacking the environment or optimizing a misaligned reward function.                                      <span style=\"color: #c0c0c0; text-decoration-color: #c0c0c0\">│</span>\n",
       "<span style=\"color: #c0c0c0; text-decoration-color: #c0c0c0\">│</span> 2.  **Reward Tampering:** This involves directly interfering with the reward mechanism itself.                  <span style=\"color: #c0c0c0; text-decoration-color: #c0c0c0\">│</span>\n",
       "<span style=\"color: #c0c0c0; text-decoration-color: #c0c0c0\">╰─────────────────────────────────────────────────────────────────────────────────────────────────────────────────╯</span>\n",
       "</pre>\n"
      ],
      "text/plain": [
       "\u001b[37m╭─\u001b[0m\u001b[37m────────────────────────────────────────────────────\u001b[0m\u001b[37m 📝 AI \u001b[0m\u001b[37m────────────────────────────────────────────────────\u001b[0m\u001b[37m─╮\u001b[0m\n",
       "\u001b[37m│\u001b[0m The blog post describes reward hacking as exploiting reward function flaws to achieve high rewards without      \u001b[37m│\u001b[0m\n",
       "\u001b[37m│\u001b[0m genuine task learning. It outlines two main types of reward hacking:                                            \u001b[37m│\u001b[0m\n",
       "\u001b[37m│\u001b[0m                                                                                                                 \u001b[37m│\u001b[0m\n",
       "\u001b[37m│\u001b[0m 1.  **Environment/Goal Misspecification:** This involves achieving high rewards through undesired behavior by   \u001b[37m│\u001b[0m\n",
       "\u001b[37m│\u001b[0m either hacking the environment or optimizing a misaligned reward function.                                      \u001b[37m│\u001b[0m\n",
       "\u001b[37m│\u001b[0m 2.  **Reward Tampering:** This involves directly interfering with the reward mechanism itself.                  \u001b[37m│\u001b[0m\n",
       "\u001b[37m╰─────────────────────────────────────────────────────────────────────────────────────────────────────────────────╯\u001b[0m\n"
      ]
     },
     "metadata": {},
     "output_type": "display_data"
    }
   ],
   "source": [
    "format_messages(output[\"messages\"])"
   ]
  },
  {
   "cell_type": "code",
   "execution_count": null,
   "id": "97365373",
   "metadata": {},
   "outputs": [],
   "source": []
  }
 ],
 "metadata": {
  "kernelspec": {
   "display_name": ".venv",
   "language": "python",
   "name": "python3"
  },
  "language_info": {
   "codemirror_mode": {
    "name": "ipython",
    "version": 3
   },
   "file_extension": ".py",
   "mimetype": "text/x-python",
   "name": "python",
   "nbconvert_exporter": "python",
   "pygments_lexer": "ipython3",
   "version": "3.13.3"
  }
 },
 "nbformat": 4,
 "nbformat_minor": 5
}
