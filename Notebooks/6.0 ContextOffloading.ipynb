{
 "cells": [
  {
   "cell_type": "code",
   "execution_count": null,
   "id": "0cca5bcb",
   "metadata": {},
   "outputs": [
    {
     "data": {
      "text/plain": [
       "True"
      ]
     },
     "execution_count": 1,
     "metadata": {},
     "output_type": "execute_result"
    }
   ],
   "source": []
  },
  {
   "cell_type": "code",
   "execution_count": 1,
   "id": "60f8dc53",
   "metadata": {},
   "outputs": [
    {
     "data": {
      "text/plain": [
       "True"
      ]
     },
     "execution_count": 1,
     "metadata": {},
     "output_type": "execute_result"
    }
   ],
   "source": [
    "# === Standard Library ===\n",
    "import getpass\n",
    "import os\n",
    "from typing_extensions import Literal\n",
    "\n",
    "# === Display Utilities ===\n",
    "from IPython.display import Image, display\n",
    "# === Data Modeling ===\n",
    "from pydantic import BaseModel, Field\n",
    "# === Formating tool ===\n",
    "from utils import format_messages\n",
    "# === LangChain / Tools ===\n",
    "from langchain_core.messages import SystemMessage, ToolMessage, HumanMessage\n",
    "from langchain_core.tools import tool\n",
    "from langchain_google_genai import ChatGoogleGenerativeAI, GoogleGenerativeAIEmbeddings\n",
    "from langchain_tavily import TavilySearch\n",
    "# === LangGraph ===\n",
    "from langgraph.graph import END, START, StateGraph, MessagesState\n",
    "\n",
    "# === Load env variables ===\n",
    "\n",
    "from dotenv import load_dotenv\n",
    "\n",
    "load_dotenv()"
   ]
  },
  {
   "cell_type": "code",
   "execution_count": 2,
   "id": "fcc14f59",
   "metadata": {},
   "outputs": [],
   "source": [
    "class ScratchpadState(MessagesState):\n",
    "    \"\"\"State that extends MessagesState to include a scratchpad field.\n",
    "    \n",
    "    The scratchpad provides temporary storage during agent execution,\n",
    "    allowing information to persist within a single conversation thread.\"\"\"\n",
    "    scratchpad: str = Field(description=\"The scratchpad for storing notes\")"
   ]
  },
  {
   "cell_type": "code",
   "execution_count": 3,
   "id": "eb41fae0",
   "metadata": {},
   "outputs": [],
   "source": [
    "@tool\n",
    "class WriteToScratchpad(BaseModel):\n",
    "    \"\"\"Save notes to the scratchpad for future reference within the conversation.\"\"\"\n",
    "    notes: str = Field(description=\"Notes to save to the scratchpad\")\n",
    "\n",
    "@tool  \n",
    "class ReadFromScratchpad(BaseModel):\n",
    "    \"\"\"Read previously saved notes from the scratchpad.\"\"\"\n",
    "    reasoning: str = Field(description=\"Why the agent wants to retrieve past notes\")"
   ]
  },
  {
   "cell_type": "code",
   "execution_count": 4,
   "id": "2b27132d",
   "metadata": {},
   "outputs": [],
   "source": [
    "#Tavily for real-time web search\n",
    "search_tool = TavilySearch(max_results=5, topic=\"general\")\n",
    "\n",
    "llm = ChatGoogleGenerativeAI(model=\"gemini-2.5-pro\", temperature=1)"
   ]
  },
  {
   "cell_type": "code",
   "execution_count": 5,
   "id": "bb389738",
   "metadata": {},
   "outputs": [],
   "source": [
    "tools = [ReadFromScratchpad, WriteToScratchpad, search_tool]\n",
    "tools_by_name = {tool.name: tool for tool in tools}\n",
    "llm_with_tools = llm.bind_tools(tools)"
   ]
  },
  {
   "cell_type": "code",
   "execution_count": 19,
   "id": "4e507b04",
   "metadata": {},
   "outputs": [],
   "source": [
    "scratchpad_prompt = \"\"\"You are a sophisticated research assistant with access to web search and a persistent scratchpad for note-taking.\n",
    "\n",
    "Your Research Workflow:\n",
    "1. **Check Scratchpad**: Before starting a new research task, check your scratchpad to see if you have any relevant information already saved and use this to help write your research plan\n",
    "2. **Create Research Plan**: Create a structured research plan\n",
    "3. **Write to Scratchpad**: Save the research plan and any important information to your scratchpad\n",
    "4. **Use Search**: Gather information using web search to address each aspect of your research plan\n",
    "5. **Update Scratchpad**: After each search, update your scratchpad with new findings and insights\n",
    "5. **Iterate**: Repeat searching and updating until you have comprehensive information\n",
    "6. **Complete Task**: Provide a thorough response based on your accumulated research\n",
    "\n",
    "Tools Available:\n",
    "- ReadFromScratchpad: Retrieve previous research work and notes\n",
    "- WriteToScratchpad: Save research plans, findings, and progress updates\n",
    "- TavilySearch: Search the web for current information\n",
    "\n",
    "Always maintain organized notes in your scratchpad and build upon previous research systematically.\"\"\"\n"
   ]
  },
  {
   "cell_type": "code",
   "execution_count": 20,
   "id": "c0ec5979",
   "metadata": {},
   "outputs": [],
   "source": [
    "def llm_call(state: ScratchpadState) -> dict:\n",
    "    return {\n",
    "        \"messages\": [\n",
    "            llm_with_tools.invoke(\n",
    "                [SystemMessage(content=scratchpad_prompt)] + state[\"messages\"]\n",
    "            )\n",
    "        ]\n",
    "    }\n",
    "\n",
    "def tool_node(state: ScratchpadState) -> dict:\n",
    "    result = []\n",
    "    for tool_call in state[\"messages\"][-1].tool_calls:\n",
    "        tool = tools_by_name[tool_call[\"name\"]]\n",
    "        observation = tool.invoke(tool_call[\"args\"])\n",
    "        if tool_call[\"name\"] == \"WriteToScratchpad\":\n",
    "            notes = observation.notes\n",
    "            result.append(ToolMessage(content=f\"Wrote to scratchpad: {notes}\", tool_call_id=tool_call[\"id\"]))\n",
    "            update = {\"messages\": result, \"scratchpad\": notes}\n",
    "        elif tool_call[\"name\"] == \"ReadFromScratchpad\":\n",
    "            notes = state.get(\"scratchpad\", \"\")\n",
    "            result.append(ToolMessage(content=f\"Notes from scratchpad: {notes}\", tool_call_id=tool_call[\"id\"]))\n",
    "            update = {\"messages\": result}\n",
    "        elif tool_call[\"name\"] == \"tavily_search\":\n",
    "            result.append(ToolMessage(content=observation, tool_call_id=tool_call[\"id\"]))\n",
    "            update = {\"messages\": result}\n",
    "    return update\n",
    "\n",
    "def should_continue(state: ScratchpadState) -> Literal[\"tool_node\", \"__end__\"]:\n",
    "    last_message = state[\"messages\"][-1]\n",
    "    return \"tool_node\" if last_message.tool_calls else END\n",
    "\n",
    "agent_builder = StateGraph(ScratchpadState)\n",
    "agent_builder.add_node(\"llm_call\", llm_call)\n",
    "agent_builder.add_node(\"tool_node\", tool_node)\n",
    "agent_builder.add_edge(START, \"llm_call\")\n",
    "agent_builder.add_conditional_edges(\"llm_call\", should_continue, {\"tool_node\": \"tool_node\", END: END})\n",
    "agent_builder.add_edge(\"tool_node\", \"llm_call\")\n",
    "agent = agent_builder.compile()"
   ]
  },
  {
   "cell_type": "code",
   "execution_count": 8,
   "id": "b8f79aed",
   "metadata": {},
   "outputs": [
    {
     "data": {
      "image/png": "[encoded data removed]",
      "text/plain": [
       "<IPython.core.display.Image object>"
      ]
     },
     "metadata": {},
     "output_type": "display_data"
    }
   ],
   "source": [
    "display(Image(agent.get_graph(xray=True).draw_mermaid_png()))"
   ]
  },
  {
   "cell_type": "code",
   "execution_count": 14,
   "id": "400145ef",
   "metadata": {},
   "outputs": [],
   "source": [
    "query = \"Compare the funding rounds and recent developments of Xaira vs Cohere.\"\n",
    "state = agent.invoke({\"messages\": [HumanMessage(content=query)]})"
   ]
  },
  {
   "cell_type": "code",
   "execution_count": 15,
   "id": "c514bf69",
   "metadata": {},
   "outputs": [
    {
     "data": {
      "text/html": [
       "<pre style=\"white-space:pre;overflow-x:auto;line-height:normal;font-family:Menlo,'DejaVu Sans Mono',consolas,'Courier New',monospace\"><span style=\"color: #000080; text-decoration-color: #000080\">╭─────────────────────────────────────────────────── 🧑 Human ────────────────────────────────────────────────────╮</span>\n",
       "<span style=\"color: #000080; text-decoration-color: #000080\">│</span> Compare the funding rounds and recent developments of Xaira vs Cohere.                                          <span style=\"color: #000080; text-decoration-color: #000080\">│</span>\n",
       "<span style=\"color: #000080; text-decoration-color: #000080\">╰─────────────────────────────────────────────────────────────────────────────────────────────────────────────────╯</span>\n",
       "</pre>\n"
      ],
      "text/plain": [
       "\u001b[34m╭─\u001b[0m\u001b[34m──────────────────────────────────────────────────\u001b[0m\u001b[34m 🧑 Human \u001b[0m\u001b[34m───────────────────────────────────────────────────\u001b[0m\u001b[34m─╮\u001b[0m\n",
       "\u001b[34m│\u001b[0m Compare the funding rounds and recent developments of Xaira vs Cohere.                                          \u001b[34m│\u001b[0m\n",
       "\u001b[34m╰─────────────────────────────────────────────────────────────────────────────────────────────────────────────────╯\u001b[0m\n"
      ]
     },
     "metadata": {},
     "output_type": "display_data"
    },
    {
     "data": {
      "text/html": [
       "<pre style=\"white-space:pre;overflow-x:auto;line-height:normal;font-family:Menlo,'DejaVu Sans Mono',consolas,'Courier New',monospace\"><span style=\"color: #c0c0c0; text-decoration-color: #c0c0c0\">╭───────────────────────────────────────────────────── 📝 AI ─────────────────────────────────────────────────────╮</span>\n",
       "<span style=\"color: #c0c0c0; text-decoration-color: #c0c0c0\">│</span>                                                                                                                 <span style=\"color: #c0c0c0; text-decoration-color: #c0c0c0\">│</span>\n",
       "<span style=\"color: #c0c0c0; text-decoration-color: #c0c0c0\">│</span> 🔧 Tool Call: ReadFromScratchpad                                                                                <span style=\"color: #c0c0c0; text-decoration-color: #c0c0c0\">│</span>\n",
       "<span style=\"color: #c0c0c0; text-decoration-color: #c0c0c0\">│</span>    Args: {                                                                                                      <span style=\"color: #c0c0c0; text-decoration-color: #c0c0c0\">│</span>\n",
       "<span style=\"color: #c0c0c0; text-decoration-color: #c0c0c0\">│</span>   \"reasoning\": \"I need to check if I have any existing notes on Xaira or Cohere to inform my research plan.\"    <span style=\"color: #c0c0c0; text-decoration-color: #c0c0c0\">│</span>\n",
       "<span style=\"color: #c0c0c0; text-decoration-color: #c0c0c0\">│</span> }                                                                                                               <span style=\"color: #c0c0c0; text-decoration-color: #c0c0c0\">│</span>\n",
       "<span style=\"color: #c0c0c0; text-decoration-color: #c0c0c0\">╰─────────────────────────────────────────────────────────────────────────────────────────────────────────────────╯</span>\n",
       "</pre>\n"
      ],
      "text/plain": [
       "\u001b[37m╭─\u001b[0m\u001b[37m────────────────────────────────────────────────────\u001b[0m\u001b[37m 📝 AI \u001b[0m\u001b[37m────────────────────────────────────────────────────\u001b[0m\u001b[37m─╮\u001b[0m\n",
       "\u001b[37m│\u001b[0m                                                                                                                 \u001b[37m│\u001b[0m\n",
       "\u001b[37m│\u001b[0m 🔧 Tool Call: ReadFromScratchpad                                                                                \u001b[37m│\u001b[0m\n",
       "\u001b[37m│\u001b[0m    Args: {                                                                                                      \u001b[37m│\u001b[0m\n",
       "\u001b[37m│\u001b[0m   \"reasoning\": \"I need to check if I have any existing notes on Xaira or Cohere to inform my research plan.\"    \u001b[37m│\u001b[0m\n",
       "\u001b[37m│\u001b[0m }                                                                                                               \u001b[37m│\u001b[0m\n",
       "\u001b[37m╰─────────────────────────────────────────────────────────────────────────────────────────────────────────────────╯\u001b[0m\n"
      ]
     },
     "metadata": {},
     "output_type": "display_data"
    },
    {
     "data": {
      "text/html": [
       "<pre style=\"white-space:pre;overflow-x:auto;line-height:normal;font-family:Menlo,'DejaVu Sans Mono',consolas,'Courier New',monospace\"><span style=\"color: #808000; text-decoration-color: #808000\">╭──────────────────────────────────────────────── 🔧 Tool Output ─────────────────────────────────────────────────╮</span>\n",
       "<span style=\"color: #808000; text-decoration-color: #808000\">│</span> Notes from scratchpad:                                                                                          <span style=\"color: #808000; text-decoration-color: #808000\">│</span>\n",
       "<span style=\"color: #808000; text-decoration-color: #808000\">╰─────────────────────────────────────────────────────────────────────────────────────────────────────────────────╯</span>\n",
       "</pre>\n"
      ],
      "text/plain": [
       "\u001b[33m╭─\u001b[0m\u001b[33m───────────────────────────────────────────────\u001b[0m\u001b[33m 🔧 Tool Output \u001b[0m\u001b[33m────────────────────────────────────────────────\u001b[0m\u001b[33m─╮\u001b[0m\n",
       "\u001b[33m│\u001b[0m Notes from scratchpad:                                                                                          \u001b[33m│\u001b[0m\n",
       "\u001b[33m╰─────────────────────────────────────────────────────────────────────────────────────────────────────────────────╯\u001b[0m\n"
      ]
     },
     "metadata": {},
     "output_type": "display_data"
    },
    {
     "data": {
      "text/html": [
       "<pre style=\"white-space:pre;overflow-x:auto;line-height:normal;font-family:Menlo,'DejaVu Sans Mono',consolas,'Courier New',monospace\"><span style=\"color: #c0c0c0; text-decoration-color: #c0c0c0\">╭───────────────────────────────────────────────────── 📝 AI ─────────────────────────────────────────────────────╮</span>\n",
       "<span style=\"color: #c0c0c0; text-decoration-color: #c0c0c0\">│</span> Right, I'll compare Xaira and Cohere's funding and recent progress. I'll start by outlining a research plan,    <span style=\"color: #c0c0c0; text-decoration-color: #c0c0c0\">│</span>\n",
       "<span style=\"color: #c0c0c0; text-decoration-color: #c0c0c0\">│</span> then use web search to find their funding rounds, investors, new products, partnerships, and personnel changes. <span style=\"color: #c0c0c0; text-decoration-color: #c0c0c0\">│</span>\n",
       "<span style=\"color: #c0c0c0; text-decoration-color: #c0c0c0\">│</span> I'll document my findings as I go and then synthesize the information for a full comparison.                    <span style=\"color: #c0c0c0; text-decoration-color: #c0c0c0\">│</span>\n",
       "<span style=\"color: #c0c0c0; text-decoration-color: #c0c0c0\">╰─────────────────────────────────────────────────────────────────────────────────────────────────────────────────╯</span>\n",
       "</pre>\n"
      ],
      "text/plain": [
       "\u001b[37m╭─\u001b[0m\u001b[37m────────────────────────────────────────────────────\u001b[0m\u001b[37m 📝 AI \u001b[0m\u001b[37m────────────────────────────────────────────────────\u001b[0m\u001b[37m─╮\u001b[0m\n",
       "\u001b[37m│\u001b[0m Right, I'll compare Xaira and Cohere's funding and recent progress. I'll start by outlining a research plan,    \u001b[37m│\u001b[0m\n",
       "\u001b[37m│\u001b[0m then use web search to find their funding rounds, investors, new products, partnerships, and personnel changes. \u001b[37m│\u001b[0m\n",
       "\u001b[37m│\u001b[0m I'll document my findings as I go and then synthesize the information for a full comparison.                    \u001b[37m│\u001b[0m\n",
       "\u001b[37m╰─────────────────────────────────────────────────────────────────────────────────────────────────────────────────╯\u001b[0m\n"
      ]
     },
     "metadata": {},
     "output_type": "display_data"
    },
    {
     "data": {
      "text/html": [
       "<pre style=\"white-space:pre;overflow-x:auto;line-height:normal;font-family:Menlo,'DejaVu Sans Mono',consolas,'Courier New',monospace\"><span style=\"color: #808000; text-decoration-color: #808000\">╭──────────────────────────────────────────────── 🔧 Tool Output ─────────────────────────────────────────────────╮</span>\n",
       "<span style=\"color: #808000; text-decoration-color: #808000\">│</span> Wrote to scratchpad: ## Research Plan: Xaira vs. Cohere                                                         <span style=\"color: #808000; text-decoration-color: #808000\">│</span>\n",
       "<span style=\"color: #808000; text-decoration-color: #808000\">│</span>                                                                                                                 <span style=\"color: #808000; text-decoration-color: #808000\">│</span>\n",
       "<span style=\"color: #808000; text-decoration-color: #808000\">│</span> **Objective:** Compare the funding rounds and recent developments of Xaira and Cohere.                          <span style=\"color: #808000; text-decoration-color: #808000\">│</span>\n",
       "<span style=\"color: #808000; text-decoration-color: #808000\">│</span>                                                                                                                 <span style=\"color: #808000; text-decoration-color: #808000\">│</span>\n",
       "<span style=\"color: #808000; text-decoration-color: #808000\">│</span> **Key Areas of Investigation:**                                                                                 <span style=\"color: #808000; text-decoration-color: #808000\">│</span>\n",
       "<span style=\"color: #808000; text-decoration-color: #808000\">│</span>                                                                                                                 <span style=\"color: #808000; text-decoration-color: #808000\">│</span>\n",
       "<span style=\"color: #808000; text-decoration-color: #808000\">│</span> **1. Xaira:**                                                                                                   <span style=\"color: #808000; text-decoration-color: #808000\">│</span>\n",
       "<span style=\"color: #808000; text-decoration-color: #808000\">│</span>     *   **Funding Rounds:**                                                                                     <span style=\"color: #808000; text-decoration-color: #808000\">│</span>\n",
       "<span style=\"color: #808000; text-decoration-color: #808000\">│</span>         *   Total funding raised.                                                                               <span style=\"color: #808000; text-decoration-color: #808000\">│</span>\n",
       "<span style=\"color: #808000; text-decoration-color: #808000\">│</span>         *   Details of individual funding rounds (e.g., Series A, Seed).                                        <span style=\"color: #808000; text-decoration-color: #808000\">│</span>\n",
       "<span style=\"color: #808000; text-decoration-color: #808000\">│</span>         *   Key investors.                                                                                      <span style=\"color: #808000; text-decoration-color: #808000\">│</span>\n",
       "<span style=\"color: #808000; text-decoration-color: #808000\">│</span>     *   **Recent Developments:**                                                                                <span style=\"color: #808000; text-decoration-color: #808000\">│</span>\n",
       "<span style=\"color: #808000; text-decoration-color: #808000\">│</span>         *   Launch of the company.                                                                              <span style=\"color: #808000; text-decoration-color: #808000\">│</span>\n",
       "<span style=\"color: #808000; text-decoration-color: #808000\">│</span>         *   Key leadership and team.                                                                            <span style=\"color: #808000; text-decoration-color: #808000\">│</span>\n",
       "<span style=\"color: #808000; text-decoration-color: #808000\">│</span>         *   Stated goals and focus.                                                                             <span style=\"color: #808000; text-decoration-color: #808000\">│</span>\n",
       "<span style=\"color: #808000; text-decoration-color: #808000\">│</span>         *   Any announced partnerships or collaborations.                                                       <span style=\"color: #808000; text-decoration-color: #808000\">│</span>\n",
       "<span style=\"color: #808000; text-decoration-color: #808000\">│</span>                                                                                                                 <span style=\"color: #808000; text-decoration-color: #808000\">│</span>\n",
       "<span style=\"color: #808000; text-decoration-color: #808000\">│</span> **2. Cohere:**                                                                                                  <span style=\"color: #808000; text-decoration-color: #808000\">│</span>\n",
       "<span style=\"color: #808000; text-decoration-color: #808000\">│</span>     *   **Funding Rounds:**                                                                                     <span style=\"color: #808000; text-decoration-color: #808000\">│</span>\n",
       "<span style=\"color: #808000; text-decoration-color: #808000\">│</span>         *   Total funding raised.                                                                               <span style=\"color: #808000; text-decoration-color: #808000\">│</span>\n",
       "<span style=\"color: #808000; text-decoration-color: #808000\">│</span>         *   Details of individual funding rounds (e.g., Series C, etc.).                                        <span style=\"color: #808000; text-decoration-color: #808000\">│</span>\n",
       "<span style=\"color: #808000; text-decoration-color: #808000\">│</span>         *   Key investors.                                                                                      <span style=\"color: #808000; text-decoration-color: #808000\">│</span>\n",
       "<span style=\"color: #808000; text-decoration-color: #808000\">│</span>     *   **Recent Developments:**                                                                                <span style=\"color: #808000; text-decoration-color: #808000\">│</span>\n",
       "<span style=\"color: #808000; text-decoration-color: #808000\">│</span>         *   New product launches or updates (e.g., Command R+).                                                 <span style=\"color: #808000; text-decoration-color: #808000\">│</span>\n",
       "<span style=\"color: #808000; text-decoration-color: #808000\">│</span>         *   Strategic partnerships (e.g., with major tech companies).                                           <span style=\"color: #808000; text-decoration-color: #808000\">│</span>\n",
       "<span style=\"color: #808000; text-decoration-color: #808000\">│</span>         *   Expansion of operations (e.g., new offices).                                                        <span style=\"color: #808000; text-decoration-color: #808000\">│</span>\n",
       "<span style=\"color: #808000; text-decoration-color: #808000\">│</span>         *   Key hires or leadership changes.                                                                    <span style=\"color: #808000; text-decoration-color: #808000\">│</span>\n",
       "<span style=\"color: #808000; text-decoration-color: #808000\">│</span>                                                                                                                 <span style=\"color: #808000; text-decoration-color: #808000\">│</span>\n",
       "<span style=\"color: #808000; text-decoration-color: #808000\">│</span> **Methodology:**                                                                                                <span style=\"color: #808000; text-decoration-color: #808000\">│</span>\n",
       "<span style=\"color: #808000; text-decoration-color: #808000\">│</span>                                                                                                                 <span style=\"color: #808000; text-decoration-color: #808000\">│</span>\n",
       "<span style=\"color: #808000; text-decoration-color: #808000\">│</span> *   Use search queries to find information on each of the key areas listed above.                               <span style=\"color: #808000; text-decoration-color: #808000\">│</span>\n",
       "<span style=\"color: #808000; text-decoration-color: #808000\">│</span> *   Save relevant articles, press releases, and other sources.                                                  <span style=\"color: #808000; text-decoration-color: #808000\">│</span>\n",
       "<span style=\"color: #808000; text-decoration-color: #808000\">│</span> *   Synthesize the information to create a direct comparison between the two companies.                         <span style=\"color: #808000; text-decoration-color: #808000\">│</span>\n",
       "<span style=\"color: #808000; text-decoration-color: #808000\">│</span>                                                                                                                 <span style=\"color: #808000; text-decoration-color: #808000\">│</span>\n",
       "<span style=\"color: #808000; text-decoration-color: #808000\">│</span> **Keywords for Search:**                                                                                        <span style=\"color: #808000; text-decoration-color: #808000\">│</span>\n",
       "<span style=\"color: #808000; text-decoration-color: #808000\">│</span> *   \"Xaira funding\"                                                                                             <span style=\"color: #808000; text-decoration-color: #808000\">│</span>\n",
       "<span style=\"color: #808000; text-decoration-color: #808000\">│</span> *   \"Xaira investors\"                                                                                           <span style=\"color: #808000; text-decoration-color: #808000\">│</span>\n",
       "<span style=\"color: #808000; text-decoration-color: #808000\">│</span> *   \"Xaira launch\"                                                                                              <span style=\"color: #808000; text-decoration-color: #808000\">│</span>\n",
       "<span style=\"color: #808000; text-decoration-color: #808000\">│</span> *   \"Xaira team\"                                                                                                <span style=\"color: #808000; text-decoration-color: #808000\">│</span>\n",
       "<span style=\"color: #808000; text-decoration-color: #808000\">│</span> *   \"Cohere funding rounds\"                                                                                     <span style=\"color: #808000; text-decoration-color: #808000\">│</span>\n",
       "<span style=\"color: #808000; text-decoration-color: #808000\">│</span> *   \"Cohere total funding\"                                                                                      <span style=\"color: #808000; text-decoration-color: #808000\">│</span>\n",
       "<span style=\"color: #808000; text-decoration-color: #808000\">│</span> *   \"Cohere investors\"                                                                                          <span style=\"color: #808000; text-decoration-color: #808000\">│</span>\n",
       "<span style=\"color: #808000; text-decoration-color: #808000\">│</span> *   \"Cohere recent developments\"                                                                                <span style=\"color: #808000; text-decoration-color: #808000\">│</span>\n",
       "<span style=\"color: #808000; text-decoration-color: #808000\">│</span> *   \"Cohere Command R+\"                                                                                         <span style=\"color: #808000; text-decoration-color: #808000\">│</span>\n",
       "<span style=\"color: #808000; text-decoration-color: #808000\">│</span> *   \"Cohere partnerships\"                                                                                       <span style=\"color: #808000; text-decoration-color: #808000\">│</span>\n",
       "<span style=\"color: #808000; text-decoration-color: #808000\">│</span> *   \"Aidan Gomez\"                                                                                               <span style=\"color: #808000; text-decoration-color: #808000\">│</span>\n",
       "<span style=\"color: #808000; text-decoration-color: #808000\">│</span> *   \"David Loker\"                                                                                               <span style=\"color: #808000; text-decoration-color: #808000\">│</span>\n",
       "<span style=\"color: #808000; text-decoration-color: #808000\">│</span>                                                                                                                 <span style=\"color: #808000; text-decoration-color: #808000\">│</span>\n",
       "<span style=\"color: #808000; text-decoration-color: #808000\">│</span> **Outcome:** A detailed comparison of Xaira and Cohere's financial backing and recent progress, highlighting    <span style=\"color: #808000; text-decoration-color: #808000\">│</span>\n",
       "<span style=\"color: #808000; text-decoration-color: #808000\">│</span> their competitive positions in the AI landscape.                                                                <span style=\"color: #808000; text-decoration-color: #808000\">│</span>\n",
       "<span style=\"color: #808000; text-decoration-color: #808000\">│</span>                                                                                                                 <span style=\"color: #808000; text-decoration-color: #808000\">│</span>\n",
       "<span style=\"color: #808000; text-decoration-color: #808000\">╰─────────────────────────────────────────────────────────────────────────────────────────────────────────────────╯</span>\n",
       "</pre>\n"
      ],
      "text/plain": [
       "\u001b[33m╭─\u001b[0m\u001b[33m───────────────────────────────────────────────\u001b[0m\u001b[33m 🔧 Tool Output \u001b[0m\u001b[33m────────────────────────────────────────────────\u001b[0m\u001b[33m─╮\u001b[0m\n",
       "\u001b[33m│\u001b[0m Wrote to scratchpad: ## Research Plan: Xaira vs. Cohere                                                         \u001b[33m│\u001b[0m\n",
       "\u001b[33m│\u001b[0m                                                                                                                 \u001b[33m│\u001b[0m\n",
       "\u001b[33m│\u001b[0m **Objective:** Compare the funding rounds and recent developments of Xaira and Cohere.                          \u001b[33m│\u001b[0m\n",
       "\u001b[33m│\u001b[0m                                                                                                                 \u001b[33m│\u001b[0m\n",
       "\u001b[33m│\u001b[0m **Key Areas of Investigation:**                                                                                 \u001b[33m│\u001b[0m\n",
       "\u001b[33m│\u001b[0m                                                                                                                 \u001b[33m│\u001b[0m\n",
       "\u001b[33m│\u001b[0m **1. Xaira:**                                                                                                   \u001b[33m│\u001b[0m\n",
       "\u001b[33m│\u001b[0m     *   **Funding Rounds:**                                                                                     \u001b[33m│\u001b[0m\n",
       "\u001b[33m│\u001b[0m         *   Total funding raised.                                                                               \u001b[33m│\u001b[0m\n",
       "\u001b[33m│\u001b[0m         *   Details of individual funding rounds (e.g., Series A, Seed).                                        \u001b[33m│\u001b[0m\n",
       "\u001b[33m│\u001b[0m         *   Key investors.                                                                                      \u001b[33m│\u001b[0m\n",
       "\u001b[33m│\u001b[0m     *   **Recent Developments:**                                                                                \u001b[33m│\u001b[0m\n",
       "\u001b[33m│\u001b[0m         *   Launch of the company.                                                                              \u001b[33m│\u001b[0m\n",
       "\u001b[33m│\u001b[0m         *   Key leadership and team.                                                                            \u001b[33m│\u001b[0m\n",
       "\u001b[33m│\u001b[0m         *   Stated goals and focus.                                                                             \u001b[33m│\u001b[0m\n",
       "\u001b[33m│\u001b[0m         *   Any announced partnerships or collaborations.                                                       \u001b[33m│\u001b[0m\n",
       "\u001b[33m│\u001b[0m                                                                                                                 \u001b[33m│\u001b[0m\n",
       "\u001b[33m│\u001b[0m **2. Cohere:**                                                                                                  \u001b[33m│\u001b[0m\n",
       "\u001b[33m│\u001b[0m     *   **Funding Rounds:**                                                                                     \u001b[33m│\u001b[0m\n",
       "\u001b[33m│\u001b[0m         *   Total funding raised.                                                                               \u001b[33m│\u001b[0m\n",
       "\u001b[33m│\u001b[0m         *   Details of individual funding rounds (e.g., Series C, etc.).                                        \u001b[33m│\u001b[0m\n",
       "\u001b[33m│\u001b[0m         *   Key investors.                                                                                      \u001b[33m│\u001b[0m\n",
       "\u001b[33m│\u001b[0m     *   **Recent Developments:**                                                                                \u001b[33m│\u001b[0m\n",
       "\u001b[33m│\u001b[0m         *   New product launches or updates (e.g., Command R+).                                                 \u001b[33m│\u001b[0m\n",
       "\u001b[33m│\u001b[0m         *   Strategic partnerships (e.g., with major tech companies).                                           \u001b[33m│\u001b[0m\n",
       "\u001b[33m│\u001b[0m         *   Expansion of operations (e.g., new offices).                                                        \u001b[33m│\u001b[0m\n",
       "\u001b[33m│\u001b[0m         *   Key hires or leadership changes.                                                                    \u001b[33m│\u001b[0m\n",
       "\u001b[33m│\u001b[0m                                                                                                                 \u001b[33m│\u001b[0m\n",
       "\u001b[33m│\u001b[0m **Methodology:**                                                                                                \u001b[33m│\u001b[0m\n",
       "\u001b[33m│\u001b[0m                                                                                                                 \u001b[33m│\u001b[0m\n",
       "\u001b[33m│\u001b[0m *   Use search queries to find information on each of the key areas listed above.                               \u001b[33m│\u001b[0m\n",
       "\u001b[33m│\u001b[0m *   Save relevant articles, press releases, and other sources.                                                  \u001b[33m│\u001b[0m\n",
       "\u001b[33m│\u001b[0m *   Synthesize the information to create a direct comparison between the two companies.                         \u001b[33m│\u001b[0m\n",
       "\u001b[33m│\u001b[0m                                                                                                                 \u001b[33m│\u001b[0m\n",
       "\u001b[33m│\u001b[0m **Keywords for Search:**                                                                                        \u001b[33m│\u001b[0m\n",
       "\u001b[33m│\u001b[0m *   \"Xaira funding\"                                                                                             \u001b[33m│\u001b[0m\n",
       "\u001b[33m│\u001b[0m *   \"Xaira investors\"                                                                                           \u001b[33m│\u001b[0m\n",
       "\u001b[33m│\u001b[0m *   \"Xaira launch\"                                                                                              \u001b[33m│\u001b[0m\n",
       "\u001b[33m│\u001b[0m *   \"Xaira team\"                                                                                                \u001b[33m│\u001b[0m\n",
       "\u001b[33m│\u001b[0m *   \"Cohere funding rounds\"                                                                                     \u001b[33m│\u001b[0m\n",
       "\u001b[33m│\u001b[0m *   \"Cohere total funding\"                                                                                      \u001b[33m│\u001b[0m\n",
       "\u001b[33m│\u001b[0m *   \"Cohere investors\"                                                                                          \u001b[33m│\u001b[0m\n",
       "\u001b[33m│\u001b[0m *   \"Cohere recent developments\"                                                                                \u001b[33m│\u001b[0m\n",
       "\u001b[33m│\u001b[0m *   \"Cohere Command R+\"                                                                                         \u001b[33m│\u001b[0m\n",
       "\u001b[33m│\u001b[0m *   \"Cohere partnerships\"                                                                                       \u001b[33m│\u001b[0m\n",
       "\u001b[33m│\u001b[0m *   \"Aidan Gomez\"                                                                                               \u001b[33m│\u001b[0m\n",
       "\u001b[33m│\u001b[0m *   \"David Loker\"                                                                                               \u001b[33m│\u001b[0m\n",
       "\u001b[33m│\u001b[0m                                                                                                                 \u001b[33m│\u001b[0m\n",
       "\u001b[33m│\u001b[0m **Outcome:** A detailed comparison of Xaira and Cohere's financial backing and recent progress, highlighting    \u001b[33m│\u001b[0m\n",
       "\u001b[33m│\u001b[0m their competitive positions in the AI landscape.                                                                \u001b[33m│\u001b[0m\n",
       "\u001b[33m│\u001b[0m                                                                                                                 \u001b[33m│\u001b[0m\n",
       "\u001b[33m╰─────────────────────────────────────────────────────────────────────────────────────────────────────────────────╯\u001b[0m\n"
      ]
     },
     "metadata": {},
     "output_type": "display_data"
    },
    {
     "data": {
      "text/html": [
       "<pre style=\"white-space:pre;overflow-x:auto;line-height:normal;font-family:Menlo,'DejaVu Sans Mono',consolas,'Courier New',monospace\"><span style=\"color: #c0c0c0; text-decoration-color: #c0c0c0\">╭───────────────────────────────────────────────────── 📝 AI ─────────────────────────────────────────────────────╮</span>\n",
       "<span style=\"color: #c0c0c0; text-decoration-color: #c0c0c0\">│</span> I have my research plan. I'll begin with Xaira, starting with a broad search to understand the company and its  <span style=\"color: #c0c0c0; text-decoration-color: #c0c0c0\">│</span>\n",
       "<span style=\"color: #c0c0c0; text-decoration-color: #c0c0c0\">│</span> funding. Next, I'll move on to Cohere, researching their funding and recent developments. Finally, I will       <span style=\"color: #c0c0c0; text-decoration-color: #c0c0c0\">│</span>\n",
       "<span style=\"color: #c0c0c0; text-decoration-color: #c0c0c0\">│</span> synthesize all the information to create a comprehensive comparison.                                            <span style=\"color: #c0c0c0; text-decoration-color: #c0c0c0\">│</span>\n",
       "<span style=\"color: #c0c0c0; text-decoration-color: #c0c0c0\">╰─────────────────────────────────────────────────────────────────────────────────────────────────────────────────╯</span>\n",
       "</pre>\n"
      ],
      "text/plain": [
       "\u001b[37m╭─\u001b[0m\u001b[37m────────────────────────────────────────────────────\u001b[0m\u001b[37m 📝 AI \u001b[0m\u001b[37m────────────────────────────────────────────────────\u001b[0m\u001b[37m─╮\u001b[0m\n",
       "\u001b[37m│\u001b[0m I have my research plan. I'll begin with Xaira, starting with a broad search to understand the company and its  \u001b[37m│\u001b[0m\n",
       "\u001b[37m│\u001b[0m funding. Next, I'll move on to Cohere, researching their funding and recent developments. Finally, I will       \u001b[37m│\u001b[0m\n",
       "\u001b[37m│\u001b[0m synthesize all the information to create a comprehensive comparison.                                            \u001b[37m│\u001b[0m\n",
       "\u001b[37m╰─────────────────────────────────────────────────────────────────────────────────────────────────────────────────╯\u001b[0m\n"
      ]
     },
     "metadata": {},
     "output_type": "display_data"
    },
    {
     "data": {
      "text/html": [
       "<pre style=\"white-space:pre;overflow-x:auto;line-height:normal;font-family:Menlo,'DejaVu Sans Mono',consolas,'Courier New',monospace\"><span style=\"color: #808000; text-decoration-color: #808000\">╭──────────────────────────────────────────────── 🔧 Tool Output ─────────────────────────────────────────────────╮</span>\n",
       "<span style=\"color: #808000; text-decoration-color: #808000\">│</span> {'query': 'Xaira funding and launch', 'follow_up_questions': None, 'answer': None, 'images': [], 'results':     <span style=\"color: #808000; text-decoration-color: #808000\">│</span>\n",
       "<span style=\"color: #808000; text-decoration-color: #808000\">│</span> [{'url': 'https://www.drugdiscoverytrends.com/xaira-therapeutics-billion-dollar-ai-biotech-funding/', 'title':  <span style=\"color: #808000; text-decoration-color: #808000\">│</span>\n",
       "<span style=\"color: #808000; text-decoration-color: #808000\">│</span> \"How Xaira Therapeutics' $1B funding raise stacks up\", 'content': 'XairaThe same week that BenevolentAI         <span style=\"color: #808000; text-decoration-color: #808000\">│</span>\n",
       "<span style=\"color: #808000; text-decoration-color: #808000\">│</span> announced it was cutting 30% of its staff, AI-focused biotech Xaira Therapeutics debuted with a $1 billion      <span style=\"color: #808000; text-decoration-color: #808000\">│</span>\n",
       "<span style=\"color: #808000; text-decoration-color: #808000\">│</span> funding round with little precedent in healthcare over the past year — or beyond that. The San Francisco-based  <span style=\"color: #808000; text-decoration-color: #808000\">│</span>\n",
       "<span style=\"color: #808000; text-decoration-color: #808000\">│</span> company, with former Genentech chief scientific officer and Denali Therapeutics co-founder Marc Tessier-Lavigne <span style=\"color: #808000; text-decoration-color: #808000\">│</span>\n",
       "<span style=\"color: #808000; text-decoration-color: #808000\">│</span> at the helm, aims to leverage AI for drug discovery and development. A Xaira spokesperson noted that            <span style=\"color: #808000; text-decoration-color: #808000\">│</span>\n",
       "<span style=\"color: #808000; text-decoration-color: #808000\">│</span> Tessier-Lavigne was “explicitly exonerated by the Scientific Panel regarding allegations of scientific          <span style=\"color: #808000; text-decoration-color: #808000\">│</span>\n",
       "<span style=\"color: #808000; text-decoration-color: #808000\">│</span> misconduct and falsification of data. The launch of Xaira Therapeutics with a massive $1 billion funding round  <span style=\"color: #808000; text-decoration-color: #808000\">│</span>\n",
       "<span style=\"color: #808000; text-decoration-color: #808000\">│</span> as the biotech sector continues to shed thousands of jobs (including at AI-focused biotechs like BenevolentAI), <span style=\"color: #808000; text-decoration-color: #808000\">│</span>\n",
       "<span style=\"color: #808000; text-decoration-color: #808000\">│</span> underscores the unwavering belief many top investors and industry leaders still have in AI’s potential to       <span style=\"color: #808000; text-decoration-color: #808000\">│</span>\n",
       "<span style=\"color: #808000; text-decoration-color: #808000\">│</span> transform drug discovery.', 'score': 0.85825616, 'raw_content': None}, {'url':                                  <span style=\"color: #808000; text-decoration-color: #808000\">│</span>\n",
       "<span style=\"color: #808000; text-decoration-color: #808000\">│</span> 'http://www.mobihealthnews.com/news/ai-enabled-drug-discovery-company-xaira-launches-1b', 'title': 'AI-enabled  <span style=\"color: #808000; text-decoration-color: #808000\">│</span>\n",
       "<span style=\"color: #808000; text-decoration-color: #808000\">│</span> drug discovery company Xaira launches with $1B', 'content': 'Xaira Therapeutics, an AI-enabled drug discovery   <span style=\"color: #808000; text-decoration-color: #808000\">│</span>\n",
       "<span style=\"color: #808000; text-decoration-color: #808000\">│</span> and development company, announced its launch with more than $1 billion in capital.', 'score': 0.7890553,       <span style=\"color: #808000; text-decoration-color: #808000\">│</span>\n",
       "<span style=\"color: #808000; text-decoration-color: #808000\">│</span> 'raw_content': None}, {'url':                                                                                   <span style=\"color: #808000; text-decoration-color: #808000\">│</span>\n",
       "<span style=\"color: #808000; text-decoration-color: #808000\">│</span> 'https://www.fiercebiotech.com/biotech/new-ai-drug-discovery-powerhouse-xaira-rises-1b-funding', 'title': 'New  <span style=\"color: #808000; text-decoration-color: #808000\">│</span>\n",
       "<span style=\"color: #808000; text-decoration-color: #808000\">│</span> AI drug discovery powerhouse Xaira rises with $1B in funding', 'content': \"The company emerged Tuesday with $1  <span style=\"color: #808000; text-decoration-color: #808000\">│</span>\n",
       "<span style=\"color: #808000; text-decoration-color: #808000\">│</span> billion in committed funding—that’s billion with a B—incubated by Arch Venture Partners and Foresite Labs with  <span style=\"color: #808000; text-decoration-color: #808000\">│</span>\n",
       "<span style=\"color: #808000; text-decoration-color: #808000\">│</span> none other than Marc Tessier-Lavigne, Ph.D., former chief scientific officer at Genentech, at the helm. Related <span style=\"color: #808000; text-decoration-color: #808000\">│</span>\n",
       "<span style=\"color: #808000; text-decoration-color: #808000\">│</span> 'Science doesn't care' about markets: Arch raises nearly $3B amid tough times for biotechs Headquartered in the <span style=\"color: #808000; text-decoration-color: #808000\">│</span>\n",
       "<span style=\"color: #808000; text-decoration-color: #808000\">│</span> San Francisco Bay Area, Xaira will combine machine learning, data generation and therapeutic product            <span style=\"color: #808000; text-decoration-color: #808000\">│</span>\n",
       "<span style=\"color: #808000; text-decoration-color: #808000\">│</span> development to build a platform for drug discovery. The biotech will use these models to develop new ways to    <span style=\"color: #808000; text-decoration-color: #808000\">│</span>\n",
       "<span style=\"color: #808000; text-decoration-color: #808000\">│</span> connect biological targets and engineered molecules to human diseases. “Now, witnessing how AI is impacting     <span style=\"color: #808000; text-decoration-color: #808000\">│</span>\n",
       "<span style=\"color: #808000; text-decoration-color: #808000\">│</span> other industries and the considerable progress in applications of AI in biology, I believe we are poised for a  <span style=\"color: #808000; text-decoration-color: #808000\">│</span>\n",
       "<span style=\"color: #808000; text-decoration-color: #808000\">│</span> revolution.\", 'score': 0.74004334, 'raw_content': None}, {'url':                                                <span style=\"color: #808000; text-decoration-color: #808000\">│</span>\n",
       "<span style=\"color: #808000; text-decoration-color: #808000\">│</span> 'https://techcrunch.com/2024/04/24/xaira-an-ai-drug-discovery-startup-launches-with-a-massive-1b-says-its-ready <span style=\"color: #808000; text-decoration-color: #808000\">│</span>\n",
       "<span style=\"color: #808000; text-decoration-color: #808000\">│</span> -to-start-developing-drugs/', 'title': 'Xaira, an AI drug discovery startup, launches with a massive $1B ...',  <span style=\"color: #808000; text-decoration-color: #808000\">│</span>\n",
       "<span style=\"color: #808000; text-decoration-color: #808000\">│</span> 'content': \"Xaira, an AI drug discovery startup, launches with a massive $1B, says it's 'ready' to start        <span style=\"color: #808000; text-decoration-color: #808000\">│</span>\n",
       "<span style=\"color: #808000; text-decoration-color: #808000\">│</span> developing drugs ... Advances in generative AI have\", 'score': 0.6811549, 'raw_content': None}, {'url':         <span style=\"color: #808000; text-decoration-color: #808000\">│</span>\n",
       "<span style=\"color: #808000; text-decoration-color: #808000\">│</span> 'https://www.gunder.com/en/news-insights/client-news/ai-biotech-xaira-therapeutics-emerges-from-stealth-with-do <span style=\"color: #808000; text-decoration-color: #808000\">│</span>\n",
       "<span style=\"color: #808000; text-decoration-color: #808000\">│</span> llar1b-in-funding', 'title': 'AI Biotech Xaira Therapeutics Emerges from Stealth With $1B in ...', 'content':   <span style=\"color: #808000; text-decoration-color: #808000\">│</span>\n",
       "<span style=\"color: #808000; text-decoration-color: #808000\">│</span> 'Gunderson Dettmer represented client Xaira Therapeutics, an AI biotechnology company, from formation and       <span style=\"color: #808000; text-decoration-color: #808000\">│</span>\n",
       "<span style=\"color: #808000; text-decoration-color: #808000\">│</span> through $1 billion in committed funding.', 'score': 0.60498303, 'raw_content': None}], 'response_time': 0.92}   <span style=\"color: #808000; text-decoration-color: #808000\">│</span>\n",
       "<span style=\"color: #808000; text-decoration-color: #808000\">╰─────────────────────────────────────────────────────────────────────────────────────────────────────────────────╯</span>\n",
       "</pre>\n"
      ],
      "text/plain": [
       "\u001b[33m╭─\u001b[0m\u001b[33m───────────────────────────────────────────────\u001b[0m\u001b[33m 🔧 Tool Output \u001b[0m\u001b[33m────────────────────────────────────────────────\u001b[0m\u001b[33m─╮\u001b[0m\n",
       "\u001b[33m│\u001b[0m {'query': 'Xaira funding and launch', 'follow_up_questions': None, 'answer': None, 'images': [], 'results':     \u001b[33m│\u001b[0m\n",
       "\u001b[33m│\u001b[0m [{'url': 'https://www.drugdiscoverytrends.com/xaira-therapeutics-billion-dollar-ai-biotech-funding/', 'title':  \u001b[33m│\u001b[0m\n",
       "\u001b[33m│\u001b[0m \"How Xaira Therapeutics' $1B funding raise stacks up\", 'content': 'XairaThe same week that BenevolentAI         \u001b[33m│\u001b[0m\n",
       "\u001b[33m│\u001b[0m announced it was cutting 30% of its staff, AI-focused biotech Xaira Therapeutics debuted with a $1 billion      \u001b[33m│\u001b[0m\n",
       "\u001b[33m│\u001b[0m funding round with little precedent in healthcare over the past year — or beyond that. The San Francisco-based  \u001b[33m│\u001b[0m\n",
       "\u001b[33m│\u001b[0m company, with former Genentech chief scientific officer and Denali Therapeutics co-founder Marc Tessier-Lavigne \u001b[33m│\u001b[0m\n",
       "\u001b[33m│\u001b[0m at the helm, aims to leverage AI for drug discovery and development. A Xaira spokesperson noted that            \u001b[33m│\u001b[0m\n",
       "\u001b[33m│\u001b[0m Tessier-Lavigne was “explicitly exonerated by the Scientific Panel regarding allegations of scientific          \u001b[33m│\u001b[0m\n",
       "\u001b[33m│\u001b[0m misconduct and falsification of data. The launch of Xaira Therapeutics with a massive $1 billion funding round  \u001b[33m│\u001b[0m\n",
       "\u001b[33m│\u001b[0m as the biotech sector continues to shed thousands of jobs (including at AI-focused biotechs like BenevolentAI), \u001b[33m│\u001b[0m\n",
       "\u001b[33m│\u001b[0m underscores the unwavering belief many top investors and industry leaders still have in AI’s potential to       \u001b[33m│\u001b[0m\n",
       "\u001b[33m│\u001b[0m transform drug discovery.', 'score': 0.85825616, 'raw_content': None}, {'url':                                  \u001b[33m│\u001b[0m\n",
       "\u001b[33m│\u001b[0m 'http://www.mobihealthnews.com/news/ai-enabled-drug-discovery-company-xaira-launches-1b', 'title': 'AI-enabled  \u001b[33m│\u001b[0m\n",
       "\u001b[33m│\u001b[0m drug discovery company Xaira launches with $1B', 'content': 'Xaira Therapeutics, an AI-enabled drug discovery   \u001b[33m│\u001b[0m\n",
       "\u001b[33m│\u001b[0m and development company, announced its launch with more than $1 billion in capital.', 'score': 0.7890553,       \u001b[33m│\u001b[0m\n",
       "\u001b[33m│\u001b[0m 'raw_content': None}, {'url':                                                                                   \u001b[33m│\u001b[0m\n",
       "\u001b[33m│\u001b[0m 'https://www.fiercebiotech.com/biotech/new-ai-drug-discovery-powerhouse-xaira-rises-1b-funding', 'title': 'New  \u001b[33m│\u001b[0m\n",
       "\u001b[33m│\u001b[0m AI drug discovery powerhouse Xaira rises with $1B in funding', 'content': \"The company emerged Tuesday with $1  \u001b[33m│\u001b[0m\n",
       "\u001b[33m│\u001b[0m billion in committed funding—that’s billion with a B—incubated by Arch Venture Partners and Foresite Labs with  \u001b[33m│\u001b[0m\n",
       "\u001b[33m│\u001b[0m none other than Marc Tessier-Lavigne, Ph.D., former chief scientific officer at Genentech, at the helm. Related \u001b[33m│\u001b[0m\n",
       "\u001b[33m│\u001b[0m 'Science doesn't care' about markets: Arch raises nearly $3B amid tough times for biotechs Headquartered in the \u001b[33m│\u001b[0m\n",
       "\u001b[33m│\u001b[0m San Francisco Bay Area, Xaira will combine machine learning, data generation and therapeutic product            \u001b[33m│\u001b[0m\n",
       "\u001b[33m│\u001b[0m development to build a platform for drug discovery. The biotech will use these models to develop new ways to    \u001b[33m│\u001b[0m\n",
       "\u001b[33m│\u001b[0m connect biological targets and engineered molecules to human diseases. “Now, witnessing how AI is impacting     \u001b[33m│\u001b[0m\n",
       "\u001b[33m│\u001b[0m other industries and the considerable progress in applications of AI in biology, I believe we are poised for a  \u001b[33m│\u001b[0m\n",
       "\u001b[33m│\u001b[0m revolution.\", 'score': 0.74004334, 'raw_content': None}, {'url':                                                \u001b[33m│\u001b[0m\n",
       "\u001b[33m│\u001b[0m 'https://techcrunch.com/2024/04/24/xaira-an-ai-drug-discovery-startup-launches-with-a-massive-1b-says-its-ready \u001b[33m│\u001b[0m\n",
       "\u001b[33m│\u001b[0m -to-start-developing-drugs/', 'title': 'Xaira, an AI drug discovery startup, launches with a massive $1B ...',  \u001b[33m│\u001b[0m\n",
       "\u001b[33m│\u001b[0m 'content': \"Xaira, an AI drug discovery startup, launches with a massive $1B, says it's 'ready' to start        \u001b[33m│\u001b[0m\n",
       "\u001b[33m│\u001b[0m developing drugs ... Advances in generative AI have\", 'score': 0.6811549, 'raw_content': None}, {'url':         \u001b[33m│\u001b[0m\n",
       "\u001b[33m│\u001b[0m 'https://www.gunder.com/en/news-insights/client-news/ai-biotech-xaira-therapeutics-emerges-from-stealth-with-do \u001b[33m│\u001b[0m\n",
       "\u001b[33m│\u001b[0m llar1b-in-funding', 'title': 'AI Biotech Xaira Therapeutics Emerges from Stealth With $1B in ...', 'content':   \u001b[33m│\u001b[0m\n",
       "\u001b[33m│\u001b[0m 'Gunderson Dettmer represented client Xaira Therapeutics, an AI biotechnology company, from formation and       \u001b[33m│\u001b[0m\n",
       "\u001b[33m│\u001b[0m through $1 billion in committed funding.', 'score': 0.60498303, 'raw_content': None}], 'response_time': 0.92}   \u001b[33m│\u001b[0m\n",
       "\u001b[33m╰─────────────────────────────────────────────────────────────────────────────────────────────────────────────────╯\u001b[0m\n"
      ]
     },
     "metadata": {},
     "output_type": "display_data"
    },
    {
     "data": {
      "text/html": [
       "<pre style=\"white-space:pre;overflow-x:auto;line-height:normal;font-family:Menlo,'DejaVu Sans Mono',consolas,'Courier New',monospace\"><span style=\"color: #c0c0c0; text-decoration-color: #c0c0c0\">╭───────────────────────────────────────────────────── 📝 AI ─────────────────────────────────────────────────────╮</span>\n",
       "<span style=\"color: #c0c0c0; text-decoration-color: #c0c0c0\">│</span>                                                                                                                 <span style=\"color: #c0c0c0; text-decoration-color: #c0c0c0\">│</span>\n",
       "<span style=\"color: #c0c0c0; text-decoration-color: #c0c0c0\">│</span> 🔧 Tool Call: WriteToScratchpad                                                                                 <span style=\"color: #c0c0c0; text-decoration-color: #c0c0c0\">│</span>\n",
       "<span style=\"color: #c0c0c0; text-decoration-color: #c0c0c0\">│</span>    Args: {                                                                                                      <span style=\"color: #c0c0c0; text-decoration-color: #c0c0c0\">│</span>\n",
       "<span style=\"color: #c0c0c0; text-decoration-color: #c0c0c0\">│</span>   \"notes\": \"## Xaira: Funding and Recent Developments\\n\\n**Funding:**\\n*   **Total Funding:** Over $1 billion   <span style=\"color: #c0c0c0; text-decoration-color: #c0c0c0\">│</span>\n",
       "<span style=\"color: #c0c0c0; text-decoration-color: #c0c0c0\">│</span> in committed capital at launch.\\n*   **Funding Round Details:** Launched with a single, massive funding         <span style=\"color: #c0c0c0; text-decoration-color: #c0c0c0\">│</span>\n",
       "<span style=\"color: #c0c0c0; text-decoration-color: #c0c0c0\">│</span> round.\\n*   **Key Investors:** Incubated by Arch Venture Partners and Foresite Labs.\\n\\n**Recent Developments   <span style=\"color: #c0c0c0; text-decoration-color: #c0c0c0\">│</span>\n",
       "<span style=\"color: #c0c0c0; text-decoration-color: #c0c0c0\">│</span> (Launch):**\\n*   **Company Launch:** Xaira Therapeutics launched in April 2024.\\n*   **Leadership:** Led by CEO <span style=\"color: #c0c0c0; text-decoration-color: #c0c0c0\">│</span>\n",
       "<span style=\"color: #c0c0c0; text-decoration-color: #c0c0c0\">│</span> Marc Tessier-Lavigne, former chief scientific officer of Genentech and co-founder of Denali Therapeutics.\\n*    <span style=\"color: #c0c0c0; text-decoration-color: #c0c0c0\">│</span>\n",
       "<span style=\"color: #c0c0c0; text-decoration-color: #c0c0c0\">│</span> **Focus:** Aims to use AI, machine learning, and data generation for drug discovery and development. The goal   <span style=\"color: #c0c0c0; text-decoration-color: #c0c0c0\">│</span>\n",
       "<span style=\"color: #c0c0c0; text-decoration-color: #c0c0c0\">│</span> is to connect biological targets and engineered molecules to human diseases.\\n*   **Location:** Headquartered   <span style=\"color: #c0c0c0; text-decoration-color: #c0c0c0\">│</span>\n",
       "<span style=\"color: #c0c0c0; text-decoration-color: #c0c0c0\">│</span> in the San Francisco Bay Area.\\n*   **Status:** Emerged from stealth mode and states it is \\\"ready\\\" to begin   <span style=\"color: #c0c0c0; text-decoration-color: #c0c0c0\">│</span>\n",
       "<span style=\"color: #c0c0c0; text-decoration-color: #c0c0c0\">│</span> developing drugs.\\n\"                                                                                            <span style=\"color: #c0c0c0; text-decoration-color: #c0c0c0\">│</span>\n",
       "<span style=\"color: #c0c0c0; text-decoration-color: #c0c0c0\">│</span> }                                                                                                               <span style=\"color: #c0c0c0; text-decoration-color: #c0c0c0\">│</span>\n",
       "<span style=\"color: #c0c0c0; text-decoration-color: #c0c0c0\">╰─────────────────────────────────────────────────────────────────────────────────────────────────────────────────╯</span>\n",
       "</pre>\n"
      ],
      "text/plain": [
       "\u001b[37m╭─\u001b[0m\u001b[37m────────────────────────────────────────────────────\u001b[0m\u001b[37m 📝 AI \u001b[0m\u001b[37m────────────────────────────────────────────────────\u001b[0m\u001b[37m─╮\u001b[0m\n",
       "\u001b[37m│\u001b[0m                                                                                                                 \u001b[37m│\u001b[0m\n",
       "\u001b[37m│\u001b[0m 🔧 Tool Call: WriteToScratchpad                                                                                 \u001b[37m│\u001b[0m\n",
       "\u001b[37m│\u001b[0m    Args: {                                                                                                      \u001b[37m│\u001b[0m\n",
       "\u001b[37m│\u001b[0m   \"notes\": \"## Xaira: Funding and Recent Developments\\n\\n**Funding:**\\n*   **Total Funding:** Over $1 billion   \u001b[37m│\u001b[0m\n",
       "\u001b[37m│\u001b[0m in committed capital at launch.\\n*   **Funding Round Details:** Launched with a single, massive funding         \u001b[37m│\u001b[0m\n",
       "\u001b[37m│\u001b[0m round.\\n*   **Key Investors:** Incubated by Arch Venture Partners and Foresite Labs.\\n\\n**Recent Developments   \u001b[37m│\u001b[0m\n",
       "\u001b[37m│\u001b[0m (Launch):**\\n*   **Company Launch:** Xaira Therapeutics launched in April 2024.\\n*   **Leadership:** Led by CEO \u001b[37m│\u001b[0m\n",
       "\u001b[37m│\u001b[0m Marc Tessier-Lavigne, former chief scientific officer of Genentech and co-founder of Denali Therapeutics.\\n*    \u001b[37m│\u001b[0m\n",
       "\u001b[37m│\u001b[0m **Focus:** Aims to use AI, machine learning, and data generation for drug discovery and development. The goal   \u001b[37m│\u001b[0m\n",
       "\u001b[37m│\u001b[0m is to connect biological targets and engineered molecules to human diseases.\\n*   **Location:** Headquartered   \u001b[37m│\u001b[0m\n",
       "\u001b[37m│\u001b[0m in the San Francisco Bay Area.\\n*   **Status:** Emerged from stealth mode and states it is \\\"ready\\\" to begin   \u001b[37m│\u001b[0m\n",
       "\u001b[37m│\u001b[0m developing drugs.\\n\"                                                                                            \u001b[37m│\u001b[0m\n",
       "\u001b[37m│\u001b[0m }                                                                                                               \u001b[37m│\u001b[0m\n",
       "\u001b[37m╰─────────────────────────────────────────────────────────────────────────────────────────────────────────────────╯\u001b[0m\n"
      ]
     },
     "metadata": {},
     "output_type": "display_data"
    },
    {
     "data": {
      "text/html": [
       "<pre style=\"white-space:pre;overflow-x:auto;line-height:normal;font-family:Menlo,'DejaVu Sans Mono',consolas,'Courier New',monospace\"><span style=\"color: #808000; text-decoration-color: #808000\">╭──────────────────────────────────────────────── 🔧 Tool Output ─────────────────────────────────────────────────╮</span>\n",
       "<span style=\"color: #808000; text-decoration-color: #808000\">│</span> Wrote to scratchpad: ## Xaira: Funding and Recent Developments                                                  <span style=\"color: #808000; text-decoration-color: #808000\">│</span>\n",
       "<span style=\"color: #808000; text-decoration-color: #808000\">│</span>                                                                                                                 <span style=\"color: #808000; text-decoration-color: #808000\">│</span>\n",
       "<span style=\"color: #808000; text-decoration-color: #808000\">│</span> **Funding:**                                                                                                    <span style=\"color: #808000; text-decoration-color: #808000\">│</span>\n",
       "<span style=\"color: #808000; text-decoration-color: #808000\">│</span> *   **Total Funding:** Over $1 billion in committed capital at launch.                                          <span style=\"color: #808000; text-decoration-color: #808000\">│</span>\n",
       "<span style=\"color: #808000; text-decoration-color: #808000\">│</span> *   **Funding Round Details:** Launched with a single, massive funding round.                                   <span style=\"color: #808000; text-decoration-color: #808000\">│</span>\n",
       "<span style=\"color: #808000; text-decoration-color: #808000\">│</span> *   **Key Investors:** Incubated by Arch Venture Partners and Foresite Labs.                                    <span style=\"color: #808000; text-decoration-color: #808000\">│</span>\n",
       "<span style=\"color: #808000; text-decoration-color: #808000\">│</span>                                                                                                                 <span style=\"color: #808000; text-decoration-color: #808000\">│</span>\n",
       "<span style=\"color: #808000; text-decoration-color: #808000\">│</span> **Recent Developments (Launch):**                                                                               <span style=\"color: #808000; text-decoration-color: #808000\">│</span>\n",
       "<span style=\"color: #808000; text-decoration-color: #808000\">│</span> *   **Company Launch:** Xaira Therapeutics launched in April 2024.                                              <span style=\"color: #808000; text-decoration-color: #808000\">│</span>\n",
       "<span style=\"color: #808000; text-decoration-color: #808000\">│</span> *   **Leadership:** Led by CEO Marc Tessier-Lavigne, former chief scientific officer of Genentech and           <span style=\"color: #808000; text-decoration-color: #808000\">│</span>\n",
       "<span style=\"color: #808000; text-decoration-color: #808000\">│</span> co-founder of Denali Therapeutics.                                                                              <span style=\"color: #808000; text-decoration-color: #808000\">│</span>\n",
       "<span style=\"color: #808000; text-decoration-color: #808000\">│</span> *   **Focus:** Aims to use AI, machine learning, and data generation for drug discovery and development. The    <span style=\"color: #808000; text-decoration-color: #808000\">│</span>\n",
       "<span style=\"color: #808000; text-decoration-color: #808000\">│</span> goal is to connect biological targets and engineered molecules to human diseases.                               <span style=\"color: #808000; text-decoration-color: #808000\">│</span>\n",
       "<span style=\"color: #808000; text-decoration-color: #808000\">│</span> *   **Location:** Headquartered in the San Francisco Bay Area.                                                  <span style=\"color: #808000; text-decoration-color: #808000\">│</span>\n",
       "<span style=\"color: #808000; text-decoration-color: #808000\">│</span> *   **Status:** Emerged from stealth mode and states it is \"ready\" to begin developing drugs.                   <span style=\"color: #808000; text-decoration-color: #808000\">│</span>\n",
       "<span style=\"color: #808000; text-decoration-color: #808000\">│</span>                                                                                                                 <span style=\"color: #808000; text-decoration-color: #808000\">│</span>\n",
       "<span style=\"color: #808000; text-decoration-color: #808000\">╰─────────────────────────────────────────────────────────────────────────────────────────────────────────────────╯</span>\n",
       "</pre>\n"
      ],
      "text/plain": [
       "\u001b[33m╭─\u001b[0m\u001b[33m───────────────────────────────────────────────\u001b[0m\u001b[33m 🔧 Tool Output \u001b[0m\u001b[33m────────────────────────────────────────────────\u001b[0m\u001b[33m─╮\u001b[0m\n",
       "\u001b[33m│\u001b[0m Wrote to scratchpad: ## Xaira: Funding and Recent Developments                                                  \u001b[33m│\u001b[0m\n",
       "\u001b[33m│\u001b[0m                                                                                                                 \u001b[33m│\u001b[0m\n",
       "\u001b[33m│\u001b[0m **Funding:**                                                                                                    \u001b[33m│\u001b[0m\n",
       "\u001b[33m│\u001b[0m *   **Total Funding:** Over $1 billion in committed capital at launch.                                          \u001b[33m│\u001b[0m\n",
       "\u001b[33m│\u001b[0m *   **Funding Round Details:** Launched with a single, massive funding round.                                   \u001b[33m│\u001b[0m\n",
       "\u001b[33m│\u001b[0m *   **Key Investors:** Incubated by Arch Venture Partners and Foresite Labs.                                    \u001b[33m│\u001b[0m\n",
       "\u001b[33m│\u001b[0m                                                                                                                 \u001b[33m│\u001b[0m\n",
       "\u001b[33m│\u001b[0m **Recent Developments (Launch):**                                                                               \u001b[33m│\u001b[0m\n",
       "\u001b[33m│\u001b[0m *   **Company Launch:** Xaira Therapeutics launched in April 2024.                                              \u001b[33m│\u001b[0m\n",
       "\u001b[33m│\u001b[0m *   **Leadership:** Led by CEO Marc Tessier-Lavigne, former chief scientific officer of Genentech and           \u001b[33m│\u001b[0m\n",
       "\u001b[33m│\u001b[0m co-founder of Denali Therapeutics.                                                                              \u001b[33m│\u001b[0m\n",
       "\u001b[33m│\u001b[0m *   **Focus:** Aims to use AI, machine learning, and data generation for drug discovery and development. The    \u001b[33m│\u001b[0m\n",
       "\u001b[33m│\u001b[0m goal is to connect biological targets and engineered molecules to human diseases.                               \u001b[33m│\u001b[0m\n",
       "\u001b[33m│\u001b[0m *   **Location:** Headquartered in the San Francisco Bay Area.                                                  \u001b[33m│\u001b[0m\n",
       "\u001b[33m│\u001b[0m *   **Status:** Emerged from stealth mode and states it is \"ready\" to begin developing drugs.                   \u001b[33m│\u001b[0m\n",
       "\u001b[33m│\u001b[0m                                                                                                                 \u001b[33m│\u001b[0m\n",
       "\u001b[33m╰─────────────────────────────────────────────────────────────────────────────────────────────────────────────────╯\u001b[0m\n"
      ]
     },
     "metadata": {},
     "output_type": "display_data"
    },
    {
     "data": {
      "text/html": [
       "<pre style=\"white-space:pre;overflow-x:auto;line-height:normal;font-family:Menlo,'DejaVu Sans Mono',consolas,'Courier New',monospace\"><span style=\"color: #c0c0c0; text-decoration-color: #c0c0c0\">╭───────────────────────────────────────────────────── 📝 AI ─────────────────────────────────────────────────────╮</span>\n",
       "<span style=\"color: #c0c0c0; text-decoration-color: #c0c0c0\">│</span>                                                                                                                 <span style=\"color: #c0c0c0; text-decoration-color: #c0c0c0\">│</span>\n",
       "<span style=\"color: #c0c0c0; text-decoration-color: #c0c0c0\">│</span> 🔧 Tool Call: tavily_search                                                                                     <span style=\"color: #c0c0c0; text-decoration-color: #c0c0c0\">│</span>\n",
       "<span style=\"color: #c0c0c0; text-decoration-color: #c0c0c0\">│</span>    Args: {                                                                                                      <span style=\"color: #c0c0c0; text-decoration-color: #c0c0c0\">│</span>\n",
       "<span style=\"color: #c0c0c0; text-decoration-color: #c0c0c0\">│</span>   \"query\": \"Cohere funding rounds and recent developments\"                                                      <span style=\"color: #c0c0c0; text-decoration-color: #c0c0c0\">│</span>\n",
       "<span style=\"color: #c0c0c0; text-decoration-color: #c0c0c0\">│</span> }                                                                                                               <span style=\"color: #c0c0c0; text-decoration-color: #c0c0c0\">│</span>\n",
       "<span style=\"color: #c0c0c0; text-decoration-color: #c0c0c0\">╰─────────────────────────────────────────────────────────────────────────────────────────────────────────────────╯</span>\n",
       "</pre>\n"
      ],
      "text/plain": [
       "\u001b[37m╭─\u001b[0m\u001b[37m────────────────────────────────────────────────────\u001b[0m\u001b[37m 📝 AI \u001b[0m\u001b[37m────────────────────────────────────────────────────\u001b[0m\u001b[37m─╮\u001b[0m\n",
       "\u001b[37m│\u001b[0m                                                                                                                 \u001b[37m│\u001b[0m\n",
       "\u001b[37m│\u001b[0m 🔧 Tool Call: tavily_search                                                                                     \u001b[37m│\u001b[0m\n",
       "\u001b[37m│\u001b[0m    Args: {                                                                                                      \u001b[37m│\u001b[0m\n",
       "\u001b[37m│\u001b[0m   \"query\": \"Cohere funding rounds and recent developments\"                                                      \u001b[37m│\u001b[0m\n",
       "\u001b[37m│\u001b[0m }                                                                                                               \u001b[37m│\u001b[0m\n",
       "\u001b[37m╰─────────────────────────────────────────────────────────────────────────────────────────────────────────────────╯\u001b[0m\n"
      ]
     },
     "metadata": {},
     "output_type": "display_data"
    },
    {
     "data": {
      "text/html": [
       "<pre style=\"white-space:pre;overflow-x:auto;line-height:normal;font-family:Menlo,'DejaVu Sans Mono',consolas,'Courier New',monospace\"><span style=\"color: #808000; text-decoration-color: #808000\">╭──────────────────────────────────────────────── 🔧 Tool Output ─────────────────────────────────────────────────╮</span>\n",
       "<span style=\"color: #808000; text-decoration-color: #808000\">│</span> {'query': 'Cohere funding rounds and recent developments', 'follow_up_questions': None, 'answer': None,         <span style=\"color: #808000; text-decoration-color: #808000\">│</span>\n",
       "<span style=\"color: #808000; text-decoration-color: #808000\">│</span> 'images': [], 'results': [{'url': 'https://exa.ai/websets/directory/cohere-funding', 'title': 'Cohere Inc.      <span style=\"color: #808000; text-decoration-color: #808000\">│</span>\n",
       "<span style=\"color: #808000; text-decoration-color: #808000\">│</span> Funding Rounds &amp; Investors - Exa', 'content': 'Key funding milestones included significant Series C and Series  <span style=\"color: #808000; text-decoration-color: #808000\">│</span>\n",
       "<span style=\"color: #808000; text-decoration-color: #808000\">│</span> D rounds, with the latest round in June 2024 raising $500 million at a $5.5 billion valuation . The overall     <span style=\"color: #808000; text-decoration-color: #808000\">│</span>\n",
       "<span style=\"color: #808000; text-decoration-color: #808000\">│</span> Cohere Inc. venture capital strategy emphasizes scaling enterprise AI capabilities while maintaining robust     <span style=\"color: #808000; text-decoration-color: #808000\">│</span>\n",
       "<span style=\"color: #808000; text-decoration-color: #808000\">│</span> research and development efforts.', 'score': 0.85509074, 'raw_content': None}, {'url':                          <span style=\"color: #808000; text-decoration-color: #808000\">│</span>\n",
       "<span style=\"color: #808000; text-decoration-color: #808000\">│</span> 'https://tracxn.com/d/companies/cohere/__o4xfwmr3XwgsGEyH41XvwBm6Xd-SjsMlSld3d4ci6G0/funding-and-investors',    <span style=\"color: #808000; text-decoration-color: #808000\">│</span>\n",
       "<span style=\"color: #808000; text-decoration-color: #808000\">│</span> 'title': '2025 Funding Rounds &amp; List of Investors - Cohere - Tracxn', 'content': \"Cohere has raised a total of  <span style=\"color: #808000; text-decoration-color: #808000\">│</span>\n",
       "<span style=\"color: #808000; text-decoration-color: #808000\">│</span> $970M over 5 funding rounds: 2 Early-Stage and 3 Late-Stage rounds. Cohere's largest funding round so far was a <span style=\"color: #808000; text-decoration-color: #808000\">│</span>\n",
       "<span style=\"color: #808000; text-decoration-color: #808000\">│</span> Series D round for\", 'score': 0.72605723, 'raw_content': None}, {'url':                                         <span style=\"color: #808000; text-decoration-color: #808000\">│</span>\n",
       "<span style=\"color: #808000; text-decoration-color: #808000\">│</span> 'https://news.crunchbase.com/startups/genai-unicorn-cohere-seeks-venture-funding/', 'title': 'Report: Cohere    <span style=\"color: #808000; text-decoration-color: #808000\">│</span>\n",
       "<span style=\"color: #808000; text-decoration-color: #808000\">│</span> Trying To Raise Another $500M As AI Race Speeds ...', 'content': \"Its last funding round was in July 2024, when <span style=\"color: #808000; text-decoration-color: #808000\">│</span>\n",
       "<span style=\"color: #808000; text-decoration-color: #808000\">│</span> it raised a $500 million Series D. One of Cohere's co-founders is Aidan Gomez, who co-authored\", 'score':       <span style=\"color: #808000; text-decoration-color: #808000\">│</span>\n",
       "<span style=\"color: #808000; text-decoration-color: #808000\">│</span> 0.69870013, 'raw_content': None}, {'url': 'https://www.crunchbase.com/organization/cohere-82b8', 'title':       <span style=\"color: #808000; text-decoration-color: #808000\">│</span>\n",
       "<span style=\"color: #808000; text-decoration-color: #808000\">│</span> 'Cohere - Crunchbase Company Profile &amp; Funding', 'content': \"When was the last funding round for Cohere ?       <span style=\"color: #808000; text-decoration-color: #808000\">│</span>\n",
       "<span style=\"color: #808000; text-decoration-color: #808000\">│</span> Cohere closed its last funding round on Jun 17, 2025 from a Secondary Market round. Who are Cohere 's           <span style=\"color: #808000; text-decoration-color: #808000\">│</span>\n",
       "<span style=\"color: #808000; text-decoration-color: #808000\">│</span> competitors?\", 'score': 0.6954834, 'raw_content': None}, {'url':                                                <span style=\"color: #808000; text-decoration-color: #808000\">│</span>\n",
       "<span style=\"color: #808000; text-decoration-color: #808000\">│</span> 'https://www.theinformation.com/articles/ai-startup-cohere-projects-200-million-revenue-pace-new-funding-nears' <span style=\"color: #808000; text-decoration-color: #808000\">│</span>\n",
       "<span style=\"color: #808000; text-decoration-color: #808000\">│</span> , 'title': 'AI Startup Cohere Projects $200 Million Revenue Pace as New ...', 'content': 'AI Startup Cohere     <span style=\"color: #808000; text-decoration-color: #808000\">│</span>\n",
       "<span style=\"color: #808000; text-decoration-color: #808000\">│</span> Projects $200 Million Revenue Pace as New Funding Nears. Cohere, a Canadian artificial intelligence developer   <span style=\"color: #808000; text-decoration-color: #808000\">│</span>\n",
       "<span style=\"color: #808000; text-decoration-color: #808000\">│</span> that competes', 'score': 0.4169159, 'raw_content': None}], 'response_time': 1.1}                                <span style=\"color: #808000; text-decoration-color: #808000\">│</span>\n",
       "<span style=\"color: #808000; text-decoration-color: #808000\">╰─────────────────────────────────────────────────────────────────────────────────────────────────────────────────╯</span>\n",
       "</pre>\n"
      ],
      "text/plain": [
       "\u001b[33m╭─\u001b[0m\u001b[33m───────────────────────────────────────────────\u001b[0m\u001b[33m 🔧 Tool Output \u001b[0m\u001b[33m────────────────────────────────────────────────\u001b[0m\u001b[33m─╮\u001b[0m\n",
       "\u001b[33m│\u001b[0m {'query': 'Cohere funding rounds and recent developments', 'follow_up_questions': None, 'answer': None,         \u001b[33m│\u001b[0m\n",
       "\u001b[33m│\u001b[0m 'images': [], 'results': [{'url': 'https://exa.ai/websets/directory/cohere-funding', 'title': 'Cohere Inc.      \u001b[33m│\u001b[0m\n",
       "\u001b[33m│\u001b[0m Funding Rounds & Investors - Exa', 'content': 'Key funding milestones included significant Series C and Series  \u001b[33m│\u001b[0m\n",
       "\u001b[33m│\u001b[0m D rounds, with the latest round in June 2024 raising $500 million at a $5.5 billion valuation . The overall     \u001b[33m│\u001b[0m\n",
       "\u001b[33m│\u001b[0m Cohere Inc. venture capital strategy emphasizes scaling enterprise AI capabilities while maintaining robust     \u001b[33m│\u001b[0m\n",
       "\u001b[33m│\u001b[0m research and development efforts.', 'score': 0.85509074, 'raw_content': None}, {'url':                          \u001b[33m│\u001b[0m\n",
       "\u001b[33m│\u001b[0m 'https://tracxn.com/d/companies/cohere/__o4xfwmr3XwgsGEyH41XvwBm6Xd-SjsMlSld3d4ci6G0/funding-and-investors',    \u001b[33m│\u001b[0m\n",
       "\u001b[33m│\u001b[0m 'title': '2025 Funding Rounds & List of Investors - Cohere - Tracxn', 'content': \"Cohere has raised a total of  \u001b[33m│\u001b[0m\n",
       "\u001b[33m│\u001b[0m $970M over 5 funding rounds: 2 Early-Stage and 3 Late-Stage rounds. Cohere's largest funding round so far was a \u001b[33m│\u001b[0m\n",
       "\u001b[33m│\u001b[0m Series D round for\", 'score': 0.72605723, 'raw_content': None}, {'url':                                         \u001b[33m│\u001b[0m\n",
       "\u001b[33m│\u001b[0m 'https://news.crunchbase.com/startups/genai-unicorn-cohere-seeks-venture-funding/', 'title': 'Report: Cohere    \u001b[33m│\u001b[0m\n",
       "\u001b[33m│\u001b[0m Trying To Raise Another $500M As AI Race Speeds ...', 'content': \"Its last funding round was in July 2024, when \u001b[33m│\u001b[0m\n",
       "\u001b[33m│\u001b[0m it raised a $500 million Series D. One of Cohere's co-founders is Aidan Gomez, who co-authored\", 'score':       \u001b[33m│\u001b[0m\n",
       "\u001b[33m│\u001b[0m 0.69870013, 'raw_content': None}, {'url': 'https://www.crunchbase.com/organization/cohere-82b8', 'title':       \u001b[33m│\u001b[0m\n",
       "\u001b[33m│\u001b[0m 'Cohere - Crunchbase Company Profile & Funding', 'content': \"When was the last funding round for Cohere ?       \u001b[33m│\u001b[0m\n",
       "\u001b[33m│\u001b[0m Cohere closed its last funding round on Jun 17, 2025 from a Secondary Market round. Who are Cohere 's           \u001b[33m│\u001b[0m\n",
       "\u001b[33m│\u001b[0m competitors?\", 'score': 0.6954834, 'raw_content': None}, {'url':                                                \u001b[33m│\u001b[0m\n",
       "\u001b[33m│\u001b[0m 'https://www.theinformation.com/articles/ai-startup-cohere-projects-200-million-revenue-pace-new-funding-nears' \u001b[33m│\u001b[0m\n",
       "\u001b[33m│\u001b[0m , 'title': 'AI Startup Cohere Projects $200 Million Revenue Pace as New ...', 'content': 'AI Startup Cohere     \u001b[33m│\u001b[0m\n",
       "\u001b[33m│\u001b[0m Projects $200 Million Revenue Pace as New Funding Nears. Cohere, a Canadian artificial intelligence developer   \u001b[33m│\u001b[0m\n",
       "\u001b[33m│\u001b[0m that competes', 'score': 0.4169159, 'raw_content': None}], 'response_time': 1.1}                                \u001b[33m│\u001b[0m\n",
       "\u001b[33m╰─────────────────────────────────────────────────────────────────────────────────────────────────────────────────╯\u001b[0m\n"
      ]
     },
     "metadata": {},
     "output_type": "display_data"
    },
    {
     "data": {
      "text/html": [
       "<pre style=\"white-space:pre;overflow-x:auto;line-height:normal;font-family:Menlo,'DejaVu Sans Mono',consolas,'Courier New',monospace\"><span style=\"color: #c0c0c0; text-decoration-color: #c0c0c0\">╭───────────────────────────────────────────────────── 📝 AI ─────────────────────────────────────────────────────╮</span>\n",
       "<span style=\"color: #c0c0c0; text-decoration-color: #c0c0c0\">│</span>                                                                                                                 <span style=\"color: #c0c0c0; text-decoration-color: #c0c0c0\">│</span>\n",
       "<span style=\"color: #c0c0c0; text-decoration-color: #c0c0c0\">│</span> 🔧 Tool Call: WriteToScratchpad                                                                                 <span style=\"color: #c0c0c0; text-decoration-color: #c0c0c0\">│</span>\n",
       "<span style=\"color: #c0c0c0; text-decoration-color: #c0c0c0\">│</span>    Args: {                                                                                                      <span style=\"color: #c0c0c0; text-decoration-color: #c0c0c0\">│</span>\n",
       "<span style=\"color: #c0c0c0; text-decoration-color: #c0c0c0\">│</span>   \"notes\": \"## Cohere: Funding and Recent Developments\\n\\n**Funding:**\\n*   **Total Funding:** $970 million     <span style=\"color: #c0c0c0; text-decoration-color: #c0c0c0\">│</span>\n",
       "<span style=\"color: #c0c0c0; text-decoration-color: #c0c0c0\">│</span> over 5 funding rounds.\\n*   **Funding Round Details:**\\n    *   Series D (June 2024): $500 million, valuing the <span style=\"color: #c0c0c0; text-decoration-color: #c0c0c0\">│</span>\n",
       "<span style=\"color: #c0c0c0; text-decoration-color: #c0c0c0\">│</span> company at $5.5 billion.\\n    *   Series C (June 2023): $270 million.\\n*   **Key Investors:** Inovia Capital,   <span style=\"color: #c0c0c0; text-decoration-color: #c0c0c0\">│</span>\n",
       "<span style=\"color: #c0c0c0; text-decoration-color: #c0c0c0\">│</span> NVIDIA, Oracle, Salesforce Ventures, and others.\\n\\n**Recent Developments:**\\n*   **Product Launches:**\\n    *  <span style=\"color: #c0c0c0; text-decoration-color: #c0c0c0\">│</span>\n",
       "<span style=\"color: #c0c0c0; text-decoration-color: #c0c0c0\">│</span> **Command R+:** A new, highly advanced language model designed for enterprise use cases.\\n    *   **Embed V3:** <span style=\"color: #c0c0c0; text-decoration-color: #c0c0c0\">│</span>\n",
       "<span style=\"color: #c0c0c0; text-decoration-color: #c0c0c0\">│</span> A highly performant text embedding model.\\n    *   **Open-Source Initiative:** Released some of its models as   <span style=\"color: #c0c0c0; text-decoration-color: #c0c0c0\">│</span>\n",
       "<span style=\"color: #c0c0c0; text-decoration-color: #c0c0c0\">│</span> open source.\\n*   **Strategic Partnerships:**\\n    *   **Oracle:** Integrated its models into Oracle's cloud    <span style=\"color: #c0c0c0; text-decoration-color: #c0c0c0\">│</span>\n",
       "<span style=\"color: #c0c0c0; text-decoration-color: #c0c0c0\">│</span> services.\\n    *   **NVIDIA:** Partnered on model training and deployment.\\n    *   **Salesforce:**             <span style=\"color: #c0c0c0; text-decoration-color: #c0c0c0\">│</span>\n",
       "<span style=\"color: #c0c0c0; text-decoration-color: #c0c0c0\">│</span> Collaborating on AI for enterprise customers.\\n*   **Expansion:**\\n    *   Opened a new office in New York      <span style=\"color: #c0c0c0; text-decoration-color: #c0c0c0\">│</span>\n",
       "<span style=\"color: #c0c0c0; text-decoration-color: #c0c0c0\">│</span> City.\\n    *   Expanded its team significantly.\\n*   **Leadership:** Co-founded by Aidan Gomez, one of the      <span style=\"color: #c0c0c0; text-decoration-color: #c0c0c0\">│</span>\n",
       "<span style=\"color: #c0c0c0; text-decoration-color: #c0c0c0\">│</span> co-authors of the original \\\"Attention is All You Need\\\" paper that introduced the Transformer architecture.\\n* <span style=\"color: #c0c0c0; text-decoration-color: #c0c0c0\">│</span>\n",
       "<span style=\"color: #c0c0c0; text-decoration-color: #c0c0c0\">│</span> **Focus:** Building a suite of large language models (LLMs) and making them accessible to developers and        <span style=\"color: #c0c0c0; text-decoration-color: #c0c0c0\">│</span>\n",
       "<span style=\"color: #c0c0c0; text-decoration-color: #c0c0c0\">│</span> enterprises through an API.\\n\"                                                                                  <span style=\"color: #c0c0c0; text-decoration-color: #c0c0c0\">│</span>\n",
       "<span style=\"color: #c0c0c0; text-decoration-color: #c0c0c0\">│</span> }                                                                                                               <span style=\"color: #c0c0c0; text-decoration-color: #c0c0c0\">│</span>\n",
       "<span style=\"color: #c0c0c0; text-decoration-color: #c0c0c0\">╰─────────────────────────────────────────────────────────────────────────────────────────────────────────────────╯</span>\n",
       "</pre>\n"
      ],
      "text/plain": [
       "\u001b[37m╭─\u001b[0m\u001b[37m────────────────────────────────────────────────────\u001b[0m\u001b[37m 📝 AI \u001b[0m\u001b[37m────────────────────────────────────────────────────\u001b[0m\u001b[37m─╮\u001b[0m\n",
       "\u001b[37m│\u001b[0m                                                                                                                 \u001b[37m│\u001b[0m\n",
       "\u001b[37m│\u001b[0m 🔧 Tool Call: WriteToScratchpad                                                                                 \u001b[37m│\u001b[0m\n",
       "\u001b[37m│\u001b[0m    Args: {                                                                                                      \u001b[37m│\u001b[0m\n",
       "\u001b[37m│\u001b[0m   \"notes\": \"## Cohere: Funding and Recent Developments\\n\\n**Funding:**\\n*   **Total Funding:** $970 million     \u001b[37m│\u001b[0m\n",
       "\u001b[37m│\u001b[0m over 5 funding rounds.\\n*   **Funding Round Details:**\\n    *   Series D (June 2024): $500 million, valuing the \u001b[37m│\u001b[0m\n",
       "\u001b[37m│\u001b[0m company at $5.5 billion.\\n    *   Series C (June 2023): $270 million.\\n*   **Key Investors:** Inovia Capital,   \u001b[37m│\u001b[0m\n",
       "\u001b[37m│\u001b[0m NVIDIA, Oracle, Salesforce Ventures, and others.\\n\\n**Recent Developments:**\\n*   **Product Launches:**\\n    *  \u001b[37m│\u001b[0m\n",
       "\u001b[37m│\u001b[0m **Command R+:** A new, highly advanced language model designed for enterprise use cases.\\n    *   **Embed V3:** \u001b[37m│\u001b[0m\n",
       "\u001b[37m│\u001b[0m A highly performant text embedding model.\\n    *   **Open-Source Initiative:** Released some of its models as   \u001b[37m│\u001b[0m\n",
       "\u001b[37m│\u001b[0m open source.\\n*   **Strategic Partnerships:**\\n    *   **Oracle:** Integrated its models into Oracle's cloud    \u001b[37m│\u001b[0m\n",
       "\u001b[37m│\u001b[0m services.\\n    *   **NVIDIA:** Partnered on model training and deployment.\\n    *   **Salesforce:**             \u001b[37m│\u001b[0m\n",
       "\u001b[37m│\u001b[0m Collaborating on AI for enterprise customers.\\n*   **Expansion:**\\n    *   Opened a new office in New York      \u001b[37m│\u001b[0m\n",
       "\u001b[37m│\u001b[0m City.\\n    *   Expanded its team significantly.\\n*   **Leadership:** Co-founded by Aidan Gomez, one of the      \u001b[37m│\u001b[0m\n",
       "\u001b[37m│\u001b[0m co-authors of the original \\\"Attention is All You Need\\\" paper that introduced the Transformer architecture.\\n* \u001b[37m│\u001b[0m\n",
       "\u001b[37m│\u001b[0m **Focus:** Building a suite of large language models (LLMs) and making them accessible to developers and        \u001b[37m│\u001b[0m\n",
       "\u001b[37m│\u001b[0m enterprises through an API.\\n\"                                                                                  \u001b[37m│\u001b[0m\n",
       "\u001b[37m│\u001b[0m }                                                                                                               \u001b[37m│\u001b[0m\n",
       "\u001b[37m╰─────────────────────────────────────────────────────────────────────────────────────────────────────────────────╯\u001b[0m\n"
      ]
     },
     "metadata": {},
     "output_type": "display_data"
    },
    {
     "data": {
      "text/html": [
       "<pre style=\"white-space:pre;overflow-x:auto;line-height:normal;font-family:Menlo,'DejaVu Sans Mono',consolas,'Courier New',monospace\"><span style=\"color: #808000; text-decoration-color: #808000\">╭──────────────────────────────────────────────── 🔧 Tool Output ─────────────────────────────────────────────────╮</span>\n",
       "<span style=\"color: #808000; text-decoration-color: #808000\">│</span> Wrote to scratchpad: ## Cohere: Funding and Recent Developments                                                 <span style=\"color: #808000; text-decoration-color: #808000\">│</span>\n",
       "<span style=\"color: #808000; text-decoration-color: #808000\">│</span>                                                                                                                 <span style=\"color: #808000; text-decoration-color: #808000\">│</span>\n",
       "<span style=\"color: #808000; text-decoration-color: #808000\">│</span> **Funding:**                                                                                                    <span style=\"color: #808000; text-decoration-color: #808000\">│</span>\n",
       "<span style=\"color: #808000; text-decoration-color: #808000\">│</span> *   **Total Funding:** $970 million over 5 funding rounds.                                                      <span style=\"color: #808000; text-decoration-color: #808000\">│</span>\n",
       "<span style=\"color: #808000; text-decoration-color: #808000\">│</span> *   **Funding Round Details:**                                                                                  <span style=\"color: #808000; text-decoration-color: #808000\">│</span>\n",
       "<span style=\"color: #808000; text-decoration-color: #808000\">│</span>     *   Series D (June 2024): $500 million, valuing the company at $5.5 billion.                                <span style=\"color: #808000; text-decoration-color: #808000\">│</span>\n",
       "<span style=\"color: #808000; text-decoration-color: #808000\">│</span>     *   Series C (June 2023): $270 million.                                                                     <span style=\"color: #808000; text-decoration-color: #808000\">│</span>\n",
       "<span style=\"color: #808000; text-decoration-color: #808000\">│</span> *   **Key Investors:** Inovia Capital, NVIDIA, Oracle, Salesforce Ventures, and others.                         <span style=\"color: #808000; text-decoration-color: #808000\">│</span>\n",
       "<span style=\"color: #808000; text-decoration-color: #808000\">│</span>                                                                                                                 <span style=\"color: #808000; text-decoration-color: #808000\">│</span>\n",
       "<span style=\"color: #808000; text-decoration-color: #808000\">│</span> **Recent Developments:**                                                                                        <span style=\"color: #808000; text-decoration-color: #808000\">│</span>\n",
       "<span style=\"color: #808000; text-decoration-color: #808000\">│</span> *   **Product Launches:**                                                                                       <span style=\"color: #808000; text-decoration-color: #808000\">│</span>\n",
       "<span style=\"color: #808000; text-decoration-color: #808000\">│</span>     *   **Command R+:** A new, highly advanced language model designed for enterprise use cases.                <span style=\"color: #808000; text-decoration-color: #808000\">│</span>\n",
       "<span style=\"color: #808000; text-decoration-color: #808000\">│</span>     *   **Embed V3:** A highly performant text embedding model.                                                 <span style=\"color: #808000; text-decoration-color: #808000\">│</span>\n",
       "<span style=\"color: #808000; text-decoration-color: #808000\">│</span>     *   **Open-Source Initiative:** Released some of its models as open source.                                 <span style=\"color: #808000; text-decoration-color: #808000\">│</span>\n",
       "<span style=\"color: #808000; text-decoration-color: #808000\">│</span> *   **Strategic Partnerships:**                                                                                 <span style=\"color: #808000; text-decoration-color: #808000\">│</span>\n",
       "<span style=\"color: #808000; text-decoration-color: #808000\">│</span>     *   **Oracle:** Integrated its models into Oracle's cloud services.                                         <span style=\"color: #808000; text-decoration-color: #808000\">│</span>\n",
       "<span style=\"color: #808000; text-decoration-color: #808000\">│</span>     *   **NVIDIA:** Partnered on model training and deployment.                                                 <span style=\"color: #808000; text-decoration-color: #808000\">│</span>\n",
       "<span style=\"color: #808000; text-decoration-color: #808000\">│</span>     *   **Salesforce:** Collaborating on AI for enterprise customers.                                           <span style=\"color: #808000; text-decoration-color: #808000\">│</span>\n",
       "<span style=\"color: #808000; text-decoration-color: #808000\">│</span> *   **Expansion:**                                                                                              <span style=\"color: #808000; text-decoration-color: #808000\">│</span>\n",
       "<span style=\"color: #808000; text-decoration-color: #808000\">│</span>     *   Opened a new office in New York City.                                                                   <span style=\"color: #808000; text-decoration-color: #808000\">│</span>\n",
       "<span style=\"color: #808000; text-decoration-color: #808000\">│</span>     *   Expanded its team significantly.                                                                        <span style=\"color: #808000; text-decoration-color: #808000\">│</span>\n",
       "<span style=\"color: #808000; text-decoration-color: #808000\">│</span> *   **Leadership:** Co-founded by Aidan Gomez, one of the co-authors of the original \"Attention is All You      <span style=\"color: #808000; text-decoration-color: #808000\">│</span>\n",
       "<span style=\"color: #808000; text-decoration-color: #808000\">│</span> Need\" paper that introduced the Transformer architecture.                                                       <span style=\"color: #808000; text-decoration-color: #808000\">│</span>\n",
       "<span style=\"color: #808000; text-decoration-color: #808000\">│</span> *   **Focus:** Building a suite of large language models (LLMs) and making them accessible to developers and    <span style=\"color: #808000; text-decoration-color: #808000\">│</span>\n",
       "<span style=\"color: #808000; text-decoration-color: #808000\">│</span> enterprises through an API.                                                                                     <span style=\"color: #808000; text-decoration-color: #808000\">│</span>\n",
       "<span style=\"color: #808000; text-decoration-color: #808000\">│</span>                                                                                                                 <span style=\"color: #808000; text-decoration-color: #808000\">│</span>\n",
       "<span style=\"color: #808000; text-decoration-color: #808000\">╰─────────────────────────────────────────────────────────────────────────────────────────────────────────────────╯</span>\n",
       "</pre>\n"
      ],
      "text/plain": [
       "\u001b[33m╭─\u001b[0m\u001b[33m───────────────────────────────────────────────\u001b[0m\u001b[33m 🔧 Tool Output \u001b[0m\u001b[33m────────────────────────────────────────────────\u001b[0m\u001b[33m─╮\u001b[0m\n",
       "\u001b[33m│\u001b[0m Wrote to scratchpad: ## Cohere: Funding and Recent Developments                                                 \u001b[33m│\u001b[0m\n",
       "\u001b[33m│\u001b[0m                                                                                                                 \u001b[33m│\u001b[0m\n",
       "\u001b[33m│\u001b[0m **Funding:**                                                                                                    \u001b[33m│\u001b[0m\n",
       "\u001b[33m│\u001b[0m *   **Total Funding:** $970 million over 5 funding rounds.                                                      \u001b[33m│\u001b[0m\n",
       "\u001b[33m│\u001b[0m *   **Funding Round Details:**                                                                                  \u001b[33m│\u001b[0m\n",
       "\u001b[33m│\u001b[0m     *   Series D (June 2024): $500 million, valuing the company at $5.5 billion.                                \u001b[33m│\u001b[0m\n",
       "\u001b[33m│\u001b[0m     *   Series C (June 2023): $270 million.                                                                     \u001b[33m│\u001b[0m\n",
       "\u001b[33m│\u001b[0m *   **Key Investors:** Inovia Capital, NVIDIA, Oracle, Salesforce Ventures, and others.                         \u001b[33m│\u001b[0m\n",
       "\u001b[33m│\u001b[0m                                                                                                                 \u001b[33m│\u001b[0m\n",
       "\u001b[33m│\u001b[0m **Recent Developments:**                                                                                        \u001b[33m│\u001b[0m\n",
       "\u001b[33m│\u001b[0m *   **Product Launches:**                                                                                       \u001b[33m│\u001b[0m\n",
       "\u001b[33m│\u001b[0m     *   **Command R+:** A new, highly advanced language model designed for enterprise use cases.                \u001b[33m│\u001b[0m\n",
       "\u001b[33m│\u001b[0m     *   **Embed V3:** A highly performant text embedding model.                                                 \u001b[33m│\u001b[0m\n",
       "\u001b[33m│\u001b[0m     *   **Open-Source Initiative:** Released some of its models as open source.                                 \u001b[33m│\u001b[0m\n",
       "\u001b[33m│\u001b[0m *   **Strategic Partnerships:**                                                                                 \u001b[33m│\u001b[0m\n",
       "\u001b[33m│\u001b[0m     *   **Oracle:** Integrated its models into Oracle's cloud services.                                         \u001b[33m│\u001b[0m\n",
       "\u001b[33m│\u001b[0m     *   **NVIDIA:** Partnered on model training and deployment.                                                 \u001b[33m│\u001b[0m\n",
       "\u001b[33m│\u001b[0m     *   **Salesforce:** Collaborating on AI for enterprise customers.                                           \u001b[33m│\u001b[0m\n",
       "\u001b[33m│\u001b[0m *   **Expansion:**                                                                                              \u001b[33m│\u001b[0m\n",
       "\u001b[33m│\u001b[0m     *   Opened a new office in New York City.                                                                   \u001b[33m│\u001b[0m\n",
       "\u001b[33m│\u001b[0m     *   Expanded its team significantly.                                                                        \u001b[33m│\u001b[0m\n",
       "\u001b[33m│\u001b[0m *   **Leadership:** Co-founded by Aidan Gomez, one of the co-authors of the original \"Attention is All You      \u001b[33m│\u001b[0m\n",
       "\u001b[33m│\u001b[0m Need\" paper that introduced the Transformer architecture.                                                       \u001b[33m│\u001b[0m\n",
       "\u001b[33m│\u001b[0m *   **Focus:** Building a suite of large language models (LLMs) and making them accessible to developers and    \u001b[33m│\u001b[0m\n",
       "\u001b[33m│\u001b[0m enterprises through an API.                                                                                     \u001b[33m│\u001b[0m\n",
       "\u001b[33m│\u001b[0m                                                                                                                 \u001b[33m│\u001b[0m\n",
       "\u001b[33m╰─────────────────────────────────────────────────────────────────────────────────────────────────────────────────╯\u001b[0m\n"
      ]
     },
     "metadata": {},
     "output_type": "display_data"
    },
    {
     "data": {
      "text/html": [
       "<pre style=\"white-space:pre;overflow-x:auto;line-height:normal;font-family:Menlo,'DejaVu Sans Mono',consolas,'Courier New',monospace\"><span style=\"color: #c0c0c0; text-decoration-color: #c0c0c0\">╭───────────────────────────────────────────────────── 📝 AI ─────────────────────────────────────────────────────╮</span>\n",
       "<span style=\"color: #c0c0c0; text-decoration-color: #c0c0c0\">│</span>                                                                                                                 <span style=\"color: #c0c0c0; text-decoration-color: #c0c0c0\">│</span>\n",
       "<span style=\"color: #c0c0c0; text-decoration-color: #c0c0c0\">│</span> 🔧 Tool Call: ReadFromScratchpad                                                                                <span style=\"color: #c0c0c0; text-decoration-color: #c0c0c0\">│</span>\n",
       "<span style=\"color: #c0c0c0; text-decoration-color: #c0c0c0\">│</span>    Args: {                                                                                                      <span style=\"color: #c0c0c0; text-decoration-color: #c0c0c0\">│</span>\n",
       "<span style=\"color: #c0c0c0; text-decoration-color: #c0c0c0\">│</span>   \"reasoning\": \"I have gathered information on both Xaira and Cohere's funding and recent developments. Now I   <span style=\"color: #c0c0c0; text-decoration-color: #c0c0c0\">│</span>\n",
       "<span style=\"color: #c0c0c0; text-decoration-color: #c0c0c0\">│</span> will synthesize this information to provide a comprehensive comparison.\"                                        <span style=\"color: #c0c0c0; text-decoration-color: #c0c0c0\">│</span>\n",
       "<span style=\"color: #c0c0c0; text-decoration-color: #c0c0c0\">│</span> }                                                                                                               <span style=\"color: #c0c0c0; text-decoration-color: #c0c0c0\">│</span>\n",
       "<span style=\"color: #c0c0c0; text-decoration-color: #c0c0c0\">╰─────────────────────────────────────────────────────────────────────────────────────────────────────────────────╯</span>\n",
       "</pre>\n"
      ],
      "text/plain": [
       "\u001b[37m╭─\u001b[0m\u001b[37m────────────────────────────────────────────────────\u001b[0m\u001b[37m 📝 AI \u001b[0m\u001b[37m────────────────────────────────────────────────────\u001b[0m\u001b[37m─╮\u001b[0m\n",
       "\u001b[37m│\u001b[0m                                                                                                                 \u001b[37m│\u001b[0m\n",
       "\u001b[37m│\u001b[0m 🔧 Tool Call: ReadFromScratchpad                                                                                \u001b[37m│\u001b[0m\n",
       "\u001b[37m│\u001b[0m    Args: {                                                                                                      \u001b[37m│\u001b[0m\n",
       "\u001b[37m│\u001b[0m   \"reasoning\": \"I have gathered information on both Xaira and Cohere's funding and recent developments. Now I   \u001b[37m│\u001b[0m\n",
       "\u001b[37m│\u001b[0m will synthesize this information to provide a comprehensive comparison.\"                                        \u001b[37m│\u001b[0m\n",
       "\u001b[37m│\u001b[0m }                                                                                                               \u001b[37m│\u001b[0m\n",
       "\u001b[37m╰─────────────────────────────────────────────────────────────────────────────────────────────────────────────────╯\u001b[0m\n"
      ]
     },
     "metadata": {},
     "output_type": "display_data"
    },
    {
     "data": {
      "text/html": [
       "<pre style=\"white-space:pre;overflow-x:auto;line-height:normal;font-family:Menlo,'DejaVu Sans Mono',consolas,'Courier New',monospace\"><span style=\"color: #808000; text-decoration-color: #808000\">╭──────────────────────────────────────────────── 🔧 Tool Output ─────────────────────────────────────────────────╮</span>\n",
       "<span style=\"color: #808000; text-decoration-color: #808000\">│</span> Notes from scratchpad: ## Cohere: Funding and Recent Developments                                               <span style=\"color: #808000; text-decoration-color: #808000\">│</span>\n",
       "<span style=\"color: #808000; text-decoration-color: #808000\">│</span>                                                                                                                 <span style=\"color: #808000; text-decoration-color: #808000\">│</span>\n",
       "<span style=\"color: #808000; text-decoration-color: #808000\">│</span> **Funding:**                                                                                                    <span style=\"color: #808000; text-decoration-color: #808000\">│</span>\n",
       "<span style=\"color: #808000; text-decoration-color: #808000\">│</span> *   **Total Funding:** $970 million over 5 funding rounds.                                                      <span style=\"color: #808000; text-decoration-color: #808000\">│</span>\n",
       "<span style=\"color: #808000; text-decoration-color: #808000\">│</span> *   **Funding Round Details:**                                                                                  <span style=\"color: #808000; text-decoration-color: #808000\">│</span>\n",
       "<span style=\"color: #808000; text-decoration-color: #808000\">│</span>     *   Series D (June 2024): $500 million, valuing the company at $5.5 billion.                                <span style=\"color: #808000; text-decoration-color: #808000\">│</span>\n",
       "<span style=\"color: #808000; text-decoration-color: #808000\">│</span>     *   Series C (June 2023): $270 million.                                                                     <span style=\"color: #808000; text-decoration-color: #808000\">│</span>\n",
       "<span style=\"color: #808000; text-decoration-color: #808000\">│</span> *   **Key Investors:** Inovia Capital, NVIDIA, Oracle, Salesforce Ventures, and others.                         <span style=\"color: #808000; text-decoration-color: #808000\">│</span>\n",
       "<span style=\"color: #808000; text-decoration-color: #808000\">│</span>                                                                                                                 <span style=\"color: #808000; text-decoration-color: #808000\">│</span>\n",
       "<span style=\"color: #808000; text-decoration-color: #808000\">│</span> **Recent Developments:**                                                                                        <span style=\"color: #808000; text-decoration-color: #808000\">│</span>\n",
       "<span style=\"color: #808000; text-decoration-color: #808000\">│</span> *   **Product Launches:**                                                                                       <span style=\"color: #808000; text-decoration-color: #808000\">│</span>\n",
       "<span style=\"color: #808000; text-decoration-color: #808000\">│</span>     *   **Command R+:** A new, highly advanced language model designed for enterprise use cases.                <span style=\"color: #808000; text-decoration-color: #808000\">│</span>\n",
       "<span style=\"color: #808000; text-decoration-color: #808000\">│</span>     *   **Embed V3:** A highly performant text embedding model.                                                 <span style=\"color: #808000; text-decoration-color: #808000\">│</span>\n",
       "<span style=\"color: #808000; text-decoration-color: #808000\">│</span>     *   **Open-Source Initiative:** Released some of its models as open source.                                 <span style=\"color: #808000; text-decoration-color: #808000\">│</span>\n",
       "<span style=\"color: #808000; text-decoration-color: #808000\">│</span> *   **Strategic Partnerships:**                                                                                 <span style=\"color: #808000; text-decoration-color: #808000\">│</span>\n",
       "<span style=\"color: #808000; text-decoration-color: #808000\">│</span>     *   **Oracle:** Integrated its models into Oracle's cloud services.                                         <span style=\"color: #808000; text-decoration-color: #808000\">│</span>\n",
       "<span style=\"color: #808000; text-decoration-color: #808000\">│</span>     *   **NVIDIA:** Partnered on model training and deployment.                                                 <span style=\"color: #808000; text-decoration-color: #808000\">│</span>\n",
       "<span style=\"color: #808000; text-decoration-color: #808000\">│</span>     *   **Salesforce:** Collaborating on AI for enterprise customers.                                           <span style=\"color: #808000; text-decoration-color: #808000\">│</span>\n",
       "<span style=\"color: #808000; text-decoration-color: #808000\">│</span> *   **Expansion:**                                                                                              <span style=\"color: #808000; text-decoration-color: #808000\">│</span>\n",
       "<span style=\"color: #808000; text-decoration-color: #808000\">│</span>     *   Opened a new office in New York City.                                                                   <span style=\"color: #808000; text-decoration-color: #808000\">│</span>\n",
       "<span style=\"color: #808000; text-decoration-color: #808000\">│</span>     *   Expanded its team significantly.                                                                        <span style=\"color: #808000; text-decoration-color: #808000\">│</span>\n",
       "<span style=\"color: #808000; text-decoration-color: #808000\">│</span> *   **Leadership:** Co-founded by Aidan Gomez, one of the co-authors of the original \"Attention is All You      <span style=\"color: #808000; text-decoration-color: #808000\">│</span>\n",
       "<span style=\"color: #808000; text-decoration-color: #808000\">│</span> Need\" paper that introduced the Transformer architecture.                                                       <span style=\"color: #808000; text-decoration-color: #808000\">│</span>\n",
       "<span style=\"color: #808000; text-decoration-color: #808000\">│</span> *   **Focus:** Building a suite of large language models (LLMs) and making them accessible to developers and    <span style=\"color: #808000; text-decoration-color: #808000\">│</span>\n",
       "<span style=\"color: #808000; text-decoration-color: #808000\">│</span> enterprises through an API.                                                                                     <span style=\"color: #808000; text-decoration-color: #808000\">│</span>\n",
       "<span style=\"color: #808000; text-decoration-color: #808000\">│</span>                                                                                                                 <span style=\"color: #808000; text-decoration-color: #808000\">│</span>\n",
       "<span style=\"color: #808000; text-decoration-color: #808000\">╰─────────────────────────────────────────────────────────────────────────────────────────────────────────────────╯</span>\n",
       "</pre>\n"
      ],
      "text/plain": [
       "\u001b[33m╭─\u001b[0m\u001b[33m───────────────────────────────────────────────\u001b[0m\u001b[33m 🔧 Tool Output \u001b[0m\u001b[33m────────────────────────────────────────────────\u001b[0m\u001b[33m─╮\u001b[0m\n",
       "\u001b[33m│\u001b[0m Notes from scratchpad: ## Cohere: Funding and Recent Developments                                               \u001b[33m│\u001b[0m\n",
       "\u001b[33m│\u001b[0m                                                                                                                 \u001b[33m│\u001b[0m\n",
       "\u001b[33m│\u001b[0m **Funding:**                                                                                                    \u001b[33m│\u001b[0m\n",
       "\u001b[33m│\u001b[0m *   **Total Funding:** $970 million over 5 funding rounds.                                                      \u001b[33m│\u001b[0m\n",
       "\u001b[33m│\u001b[0m *   **Funding Round Details:**                                                                                  \u001b[33m│\u001b[0m\n",
       "\u001b[33m│\u001b[0m     *   Series D (June 2024): $500 million, valuing the company at $5.5 billion.                                \u001b[33m│\u001b[0m\n",
       "\u001b[33m│\u001b[0m     *   Series C (June 2023): $270 million.                                                                     \u001b[33m│\u001b[0m\n",
       "\u001b[33m│\u001b[0m *   **Key Investors:** Inovia Capital, NVIDIA, Oracle, Salesforce Ventures, and others.                         \u001b[33m│\u001b[0m\n",
       "\u001b[33m│\u001b[0m                                                                                                                 \u001b[33m│\u001b[0m\n",
       "\u001b[33m│\u001b[0m **Recent Developments:**                                                                                        \u001b[33m│\u001b[0m\n",
       "\u001b[33m│\u001b[0m *   **Product Launches:**                                                                                       \u001b[33m│\u001b[0m\n",
       "\u001b[33m│\u001b[0m     *   **Command R+:** A new, highly advanced language model designed for enterprise use cases.                \u001b[33m│\u001b[0m\n",
       "\u001b[33m│\u001b[0m     *   **Embed V3:** A highly performant text embedding model.                                                 \u001b[33m│\u001b[0m\n",
       "\u001b[33m│\u001b[0m     *   **Open-Source Initiative:** Released some of its models as open source.                                 \u001b[33m│\u001b[0m\n",
       "\u001b[33m│\u001b[0m *   **Strategic Partnerships:**                                                                                 \u001b[33m│\u001b[0m\n",
       "\u001b[33m│\u001b[0m     *   **Oracle:** Integrated its models into Oracle's cloud services.                                         \u001b[33m│\u001b[0m\n",
       "\u001b[33m│\u001b[0m     *   **NVIDIA:** Partnered on model training and deployment.                                                 \u001b[33m│\u001b[0m\n",
       "\u001b[33m│\u001b[0m     *   **Salesforce:** Collaborating on AI for enterprise customers.                                           \u001b[33m│\u001b[0m\n",
       "\u001b[33m│\u001b[0m *   **Expansion:**                                                                                              \u001b[33m│\u001b[0m\n",
       "\u001b[33m│\u001b[0m     *   Opened a new office in New York City.                                                                   \u001b[33m│\u001b[0m\n",
       "\u001b[33m│\u001b[0m     *   Expanded its team significantly.                                                                        \u001b[33m│\u001b[0m\n",
       "\u001b[33m│\u001b[0m *   **Leadership:** Co-founded by Aidan Gomez, one of the co-authors of the original \"Attention is All You      \u001b[33m│\u001b[0m\n",
       "\u001b[33m│\u001b[0m Need\" paper that introduced the Transformer architecture.                                                       \u001b[33m│\u001b[0m\n",
       "\u001b[33m│\u001b[0m *   **Focus:** Building a suite of large language models (LLMs) and making them accessible to developers and    \u001b[33m│\u001b[0m\n",
       "\u001b[33m│\u001b[0m enterprises through an API.                                                                                     \u001b[33m│\u001b[0m\n",
       "\u001b[33m│\u001b[0m                                                                                                                 \u001b[33m│\u001b[0m\n",
       "\u001b[33m╰─────────────────────────────────────────────────────────────────────────────────────────────────────────────────╯\u001b[0m\n"
      ]
     },
     "metadata": {},
     "output_type": "display_data"
    },
    {
     "data": {
      "text/html": [
       "<pre style=\"white-space:pre;overflow-x:auto;line-height:normal;font-family:Menlo,'DejaVu Sans Mono',consolas,'Courier New',monospace\"><span style=\"color: #c0c0c0; text-decoration-color: #c0c0c0\">╭───────────────────────────────────────────────────── 📝 AI ─────────────────────────────────────────────────────╮</span>\n",
       "<span style=\"color: #c0c0c0; text-decoration-color: #c0c0c0\">│</span> An in-depth comparison of Xaira and Cohere reveals two distinct strategies in the competitive AI landscape.     <span style=\"color: #c0c0c0; text-decoration-color: #c0c0c0\">│</span>\n",
       "<span style=\"color: #c0c0c0; text-decoration-color: #c0c0c0\">│</span> Xaira, a newcomer, has made a dramatic entrance with a massive initial funding round, while Cohere, a more      <span style=\"color: #c0c0c0; text-decoration-color: #c0c0c0\">│</span>\n",
       "<span style=\"color: #c0c0c0; text-decoration-color: #c0c0c0\">│</span> established player, continues to build on its strong foundation with significant, steady funding and a focus on <span style=\"color: #c0c0c0; text-decoration-color: #c0c0c0\">│</span>\n",
       "<span style=\"color: #c0c0c0; text-decoration-color: #c0c0c0\">│</span> enterprise solutions.                                                                                           <span style=\"color: #c0c0c0; text-decoration-color: #c0c0c0\">│</span>\n",
       "<span style=\"color: #c0c0c0; text-decoration-color: #c0c0c0\">│</span>                                                                                                                 <span style=\"color: #c0c0c0; text-decoration-color: #c0c0c0\">│</span>\n",
       "<span style=\"color: #c0c0c0; text-decoration-color: #c0c0c0\">│</span> ### Funding                                                                                                     <span style=\"color: #c0c0c0; text-decoration-color: #c0c0c0\">│</span>\n",
       "<span style=\"color: #c0c0c0; text-decoration-color: #c0c0c0\">│</span>                                                                                                                 <span style=\"color: #c0c0c0; text-decoration-color: #c0c0c0\">│</span>\n",
       "<span style=\"color: #c0c0c0; text-decoration-color: #c0c0c0\">│</span> | Feature | Xaira | Cohere |                                                                                    <span style=\"color: #c0c0c0; text-decoration-color: #c0c0c0\">│</span>\n",
       "<span style=\"color: #c0c0c0; text-decoration-color: #c0c0c0\">│</span> | --- | --- | --- |                                                                                             <span style=\"color: #c0c0c0; text-decoration-color: #c0c0c0\">│</span>\n",
       "<span style=\"color: #c0c0c0; text-decoration-color: #c0c0c0\">│</span> | **Total Funding** | Over $1 billion | Approximately $970 million |                                            <span style=\"color: #c0c0c0; text-decoration-color: #c0c0c0\">│</span>\n",
       "<span style=\"color: #c0c0c0; text-decoration-color: #c0c0c0\">│</span> | **Funding Rounds** | Launched with a single, massive $1 billion+ round in April 2024. | Multiple rounds,      <span style=\"color: #c0c0c0; text-decoration-color: #c0c0c0\">│</span>\n",
       "<span style=\"color: #c0c0c0; text-decoration-color: #c0c0c0\">│</span> including a $270 million Series C in June 2023 and a $500 million Series D in June 2024. |                      <span style=\"color: #c0c0c0; text-decoration-color: #c0c0c0\">│</span>\n",
       "<span style=\"color: #c0c0c0; text-decoration-color: #c0c0c0\">│</span> | **Valuation** | Not publicly disclosed, but launched with significant backing. | Valued at $5.5 billion as of <span style=\"color: #c0c0c0; text-decoration-color: #c0c0c0\">│</span>\n",
       "<span style=\"color: #c0c0c0; text-decoration-color: #c0c0c0\">│</span> its June 2024 Series D round. |                                                                                 <span style=\"color: #c0c0c0; text-decoration-color: #c0c0c0\">│</span>\n",
       "<span style=\"color: #c0c0c0; text-decoration-color: #c0c0c0\">│</span> | **Key Investors** | Incubated by Arch Venture Partners and Foresite Labs. | Inovia Capital, NVIDIA, Oracle,   <span style=\"color: #c0c0c0; text-decoration-color: #c0c0c0\">│</span>\n",
       "<span style=\"color: #c0c0c0; text-decoration-color: #c0c0c0\">│</span> Salesforce Ventures, and other institutional investors. |                                                       <span style=\"color: #c0c0c0; text-decoration-color: #c0c0c0\">│</span>\n",
       "<span style=\"color: #c0c0c0; text-decoration-color: #c0c0c0\">│</span>                                                                                                                 <span style=\"color: #c0c0c0; text-decoration-color: #c0c0c0\">│</span>\n",
       "<span style=\"color: #c0c0c0; text-decoration-color: #c0c0c0\">│</span> **Analysis:** Xaira's funding is notable for its size and timing, launching with one of the largest seed rounds <span style=\"color: #c0c0c0; text-decoration-color: #c0c0c0\">│</span>\n",
       "<span style=\"color: #c0c0c0; text-decoration-color: #c0c0c0\">│</span> in biotech history. This suggests a high degree of confidence from its investors in the company's vision and    <span style=\"color: #c0c0c0; text-decoration-color: #c0c0c0\">│</span>\n",
       "<span style=\"color: #c0c0c0; text-decoration-color: #c0c0c0\">│</span> leadership. In contrast, Cohere's funding has been more traditional, with multiple rounds that have steadily    <span style=\"color: #c0c0c0; text-decoration-color: #c0c0c0\">│</span>\n",
       "<span style=\"color: #c0c0c0; text-decoration-color: #c0c0c0\">│</span> increased its valuation and reflect its growing maturity and market traction.                                   <span style=\"color: #c0c0c0; text-decoration-color: #c0c0c0\">│</span>\n",
       "<span style=\"color: #c0c0c0; text-decoration-color: #c0c0c0\">│</span>                                                                                                                 <span style=\"color: #c0c0c0; text-decoration-color: #c0c0c0\">│</span>\n",
       "<span style=\"color: #c0c0c0; text-decoration-color: #c0c0c0\">│</span> ### Recent Developments                                                                                         <span style=\"color: #c0c0c0; text-decoration-color: #c0c0c0\">│</span>\n",
       "<span style=\"color: #c0c0c0; text-decoration-color: #c0c0c0\">│</span>                                                                                                                 <span style=\"color: #c0c0c0; text-decoration-color: #c0c0c0\">│</span>\n",
       "<span style=\"color: #c0c0c0; text-decoration-color: #c0c0c0\">│</span> | Feature | Xaira | Cohere |                                                                                    <span style=\"color: #c0c0c0; text-decoration-color: #c0c0c0\">│</span>\n",
       "<span style=\"color: #c0c0c0; text-decoration-color: #c0c0c0\">│</span> | --- | --- | --- |                                                                                             <span style=\"color: #c0c0c0; text-decoration-color: #c0c0c0\">│</span>\n",
       "<span style=\"color: #c0c0c0; text-decoration-color: #c0c0c0\">│</span> | **Company Status**| Launched in April 2024, emerging from stealth mode. | Established company with a growing  <span style=\"color: #c0c0c0; text-decoration-color: #c0c0c0\">│</span>\n",
       "<span style=\"color: #c0c0c0; text-decoration-color: #c0c0c0\">│</span> global presence, including a new office in New York City. |                                                     <span style=\"color: #c0c0c0; text-decoration-color: #c0c0c0\">│</span>\n",
       "<span style=\"color: #c0c0c0; text-decoration-color: #c0c0c0\">│</span> | **Leadership** | Led by CEO Marc Tessier-Lavigne, former Chief Scientific Officer of Genentech. | Co-founded  <span style=\"color: #c0c0c0; text-decoration-color: #c0c0c0\">│</span>\n",
       "<span style=\"color: #c0c0c0; text-decoration-color: #c0c0c0\">│</span> by Aidan Gomez, a co-author of the seminal \"Attention is All You Need\" paper. |                                 <span style=\"color: #c0c0c0; text-decoration-color: #c0c0c0\">│</span>\n",
       "<span style=\"color: #c0c0c0; text-decoration-color: #c0c0c0\">│</span> | **Focus** | AI-driven drug discovery and development, aiming to connect biological targets with engineered    <span style=\"color: #c0c0c0; text-decoration-color: #c0c0c0\">│</span>\n",
       "<span style=\"color: #c0c0c0; text-decoration-color: #c0c0c0\">│</span> molecules. | Enterprise-focused large language models (LLMs) and a suite of tools for developers, accessible    <span style=\"color: #c0c0c0; text-decoration-color: #c0c0c0\">│</span>\n",
       "<span style=\"color: #c0c0c0; text-decoration-color: #c0c0c0\">│</span> via API. |                                                                                                      <span style=\"color: #c0c0c0; text-decoration-color: #c0c0c0\">│</span>\n",
       "<span style=\"color: #c0c0c0; text-decoration-color: #c0c0c0\">│</span> | **Recent News** | Company launch and announcement of its ambitious goals in the biotech space. | Launch of    <span style=\"color: #c0c0c0; text-decoration-color: #c0c0c0\">│</span>\n",
       "<span style=\"color: #c0c0c0; text-decoration-color: #c0c0c0\">│</span> new models like Command R+, strategic partnerships with Oracle and Salesforce, and open-sourcing of some        <span style=\"color: #c0c0c0; text-decoration-color: #c0c0c0\">│</span>\n",
       "<span style=\"color: #c0c0c0; text-decoration-color: #c0c0c0\">│</span> models. |                                                                                                       <span style=\"color: #c0c0c0; text-decoration-color: #c0c0c0\">│</span>\n",
       "<span style=\"color: #c0c0c0; text-decoration-color: #c0c0c0\">│</span>                                                                                                                 <span style=\"color: #c0c0c0; text-decoration-color: #c0c0c0\">│</span>\n",
       "<span style=\"color: #c0c0c0; text-decoration-color: #c0c0c0\">│</span> **Analysis:** Xaira is a new entrant with a highly specialized focus on the pharmaceutical and biotech          <span style=\"color: #c0c0c0; text-decoration-color: #c0c0c0\">│</span>\n",
       "<span style=\"color: #c0c0c0; text-decoration-color: #c0c0c0\">│</span> industries. Its leadership team, with deep roots in biotechnology, signals its intention to be a major player   <span style=\"color: #c0c0c0; text-decoration-color: #c0c0c0\">│</span>\n",
       "<span style=\"color: #c0c0c0; text-decoration-color: #c0c0c0\">│</span> in that domain. Cohere, on the other hand, is a more established AI company with a broader, enterprise-focused  <span style=\"color: #c0c0c0; text-decoration-color: #c0c0c0\">│</span>\n",
       "<span style=\"color: #c0c0c0; text-decoration-color: #c0c0c0\">│</span> strategy. Its recent developments, including the launch of its powerful Command R+ model and partnerships with  <span style=\"color: #c0c0c0; text-decoration-color: #c0c0c0\">│</span>\n",
       "<span style=\"color: #c0c0c0; text-decoration-color: #c0c0c0\">│</span> major tech players, demonstrate a commitment to making its technology widely accessible and integrated into     <span style=\"color: #c0c0c0; text-decoration-color: #c0c0c0\">│</span>\n",
       "<span style=\"color: #c0c0c0; text-decoration-color: #c0c0c0\">│</span> existing business workflows.                                                                                    <span style=\"color: #c0c0c0; text-decoration-color: #c0c0c0\">│</span>\n",
       "<span style=\"color: #c0c0c0; text-decoration-color: #c0c0c0\">│</span>                                                                                                                 <span style=\"color: #c0c0c0; text-decoration-color: #c0c0c0\">│</span>\n",
       "<span style=\"color: #c0c0c0; text-decoration-color: #c0c0c0\">│</span> ### Summary                                                                                                     <span style=\"color: #c0c0c0; text-decoration-color: #c0c0c0\">│</span>\n",
       "<span style=\"color: #c0c0c0; text-decoration-color: #c0c0c0\">│</span>                                                                                                                 <span style=\"color: #c0c0c0; text-decoration-color: #c0c0c0\">│</span>\n",
       "<span style=\"color: #c0c0c0; text-decoration-color: #c0c0c0\">│</span> *   **Xaira** is a well-funded newcomer targeting a specific, high-stakes industry: drug discovery. Its massive <span style=\"color: #c0c0c0; text-decoration-color: #c0c0c0\">│</span>\n",
       "<span style=\"color: #c0c0c0; text-decoration-color: #c0c0c0\">│</span> initial funding and experienced leadership team make it a formidable new player.                                <span style=\"color: #c0c0c0; text-decoration-color: #c0c0c0\">│</span>\n",
       "<span style=\"color: #c0c0c0; text-decoration-color: #c0c0c0\">│</span> *   **Cohere** is a more mature AI company that has built a strong reputation and a solid funding base. Its     <span style=\"color: #c0c0c0; text-decoration-color: #c0c0c0\">│</span>\n",
       "<span style=\"color: #c0c0c0; text-decoration-color: #c0c0c0\">│</span> focus on enterprise solutions and strategic partnerships has positioned it as a key competitor to other major   <span style=\"color: #c0c0c0; text-decoration-color: #c0c0c0\">│</span>\n",
       "<span style=\"color: #c0c0c0; text-decoration-color: #c0c0c0\">│</span> AI labs.                                                                                                        <span style=\"color: #c0c0c0; text-decoration-color: #c0c0c0\">│</span>\n",
       "<span style=\"color: #c0c0c0; text-decoration-color: #c0c0c0\">│</span>                                                                                                                 <span style=\"color: #c0c0c0; text-decoration-color: #c0c0c0\">│</span>\n",
       "<span style=\"color: #c0c0c0; text-decoration-color: #c0c0c0\">│</span> In essence, the comparison highlights two different, yet powerful, approaches to building an AI-driven company. <span style=\"color: #c0c0c0; text-decoration-color: #c0c0c0\">│</span>\n",
       "<span style=\"color: #c0c0c0; text-decoration-color: #c0c0c0\">│</span> Xaira is making a targeted, high-impact bet on a single industry, while Cohere is building a broad,             <span style=\"color: #c0c0c0; text-decoration-color: #c0c0c0\">│</span>\n",
       "<span style=\"color: #c0c0c0; text-decoration-color: #c0c0c0\">│</span> enterprise-focused platform.                                                                                    <span style=\"color: #c0c0c0; text-decoration-color: #c0c0c0\">│</span>\n",
       "<span style=\"color: #c0c0c0; text-decoration-color: #c0c0c0\">╰─────────────────────────────────────────────────────────────────────────────────────────────────────────────────╯</span>\n",
       "</pre>\n"
      ],
      "text/plain": [
       "\u001b[37m╭─\u001b[0m\u001b[37m────────────────────────────────────────────────────\u001b[0m\u001b[37m 📝 AI \u001b[0m\u001b[37m────────────────────────────────────────────────────\u001b[0m\u001b[37m─╮\u001b[0m\n",
       "\u001b[37m│\u001b[0m An in-depth comparison of Xaira and Cohere reveals two distinct strategies in the competitive AI landscape.     \u001b[37m│\u001b[0m\n",
       "\u001b[37m│\u001b[0m Xaira, a newcomer, has made a dramatic entrance with a massive initial funding round, while Cohere, a more      \u001b[37m│\u001b[0m\n",
       "\u001b[37m│\u001b[0m established player, continues to build on its strong foundation with significant, steady funding and a focus on \u001b[37m│\u001b[0m\n",
       "\u001b[37m│\u001b[0m enterprise solutions.                                                                                           \u001b[37m│\u001b[0m\n",
       "\u001b[37m│\u001b[0m                                                                                                                 \u001b[37m│\u001b[0m\n",
       "\u001b[37m│\u001b[0m ### Funding                                                                                                     \u001b[37m│\u001b[0m\n",
       "\u001b[37m│\u001b[0m                                                                                                                 \u001b[37m│\u001b[0m\n",
       "\u001b[37m│\u001b[0m | Feature | Xaira | Cohere |                                                                                    \u001b[37m│\u001b[0m\n",
       "\u001b[37m│\u001b[0m | --- | --- | --- |                                                                                             \u001b[37m│\u001b[0m\n",
       "\u001b[37m│\u001b[0m | **Total Funding** | Over $1 billion | Approximately $970 million |                                            \u001b[37m│\u001b[0m\n",
       "\u001b[37m│\u001b[0m | **Funding Rounds** | Launched with a single, massive $1 billion+ round in April 2024. | Multiple rounds,      \u001b[37m│\u001b[0m\n",
       "\u001b[37m│\u001b[0m including a $270 million Series C in June 2023 and a $500 million Series D in June 2024. |                      \u001b[37m│\u001b[0m\n",
       "\u001b[37m│\u001b[0m | **Valuation** | Not publicly disclosed, but launched with significant backing. | Valued at $5.5 billion as of \u001b[37m│\u001b[0m\n",
       "\u001b[37m│\u001b[0m its June 2024 Series D round. |                                                                                 \u001b[37m│\u001b[0m\n",
       "\u001b[37m│\u001b[0m | **Key Investors** | Incubated by Arch Venture Partners and Foresite Labs. | Inovia Capital, NVIDIA, Oracle,   \u001b[37m│\u001b[0m\n",
       "\u001b[37m│\u001b[0m Salesforce Ventures, and other institutional investors. |                                                       \u001b[37m│\u001b[0m\n",
       "\u001b[37m│\u001b[0m                                                                                                                 \u001b[37m│\u001b[0m\n",
       "\u001b[37m│\u001b[0m **Analysis:** Xaira's funding is notable for its size and timing, launching with one of the largest seed rounds \u001b[37m│\u001b[0m\n",
       "\u001b[37m│\u001b[0m in biotech history. This suggests a high degree of confidence from its investors in the company's vision and    \u001b[37m│\u001b[0m\n",
       "\u001b[37m│\u001b[0m leadership. In contrast, Cohere's funding has been more traditional, with multiple rounds that have steadily    \u001b[37m│\u001b[0m\n",
       "\u001b[37m│\u001b[0m increased its valuation and reflect its growing maturity and market traction.                                   \u001b[37m│\u001b[0m\n",
       "\u001b[37m│\u001b[0m                                                                                                                 \u001b[37m│\u001b[0m\n",
       "\u001b[37m│\u001b[0m ### Recent Developments                                                                                         \u001b[37m│\u001b[0m\n",
       "\u001b[37m│\u001b[0m                                                                                                                 \u001b[37m│\u001b[0m\n",
       "\u001b[37m│\u001b[0m | Feature | Xaira | Cohere |                                                                                    \u001b[37m│\u001b[0m\n",
       "\u001b[37m│\u001b[0m | --- | --- | --- |                                                                                             \u001b[37m│\u001b[0m\n",
       "\u001b[37m│\u001b[0m | **Company Status**| Launched in April 2024, emerging from stealth mode. | Established company with a growing  \u001b[37m│\u001b[0m\n",
       "\u001b[37m│\u001b[0m global presence, including a new office in New York City. |                                                     \u001b[37m│\u001b[0m\n",
       "\u001b[37m│\u001b[0m | **Leadership** | Led by CEO Marc Tessier-Lavigne, former Chief Scientific Officer of Genentech. | Co-founded  \u001b[37m│\u001b[0m\n",
       "\u001b[37m│\u001b[0m by Aidan Gomez, a co-author of the seminal \"Attention is All You Need\" paper. |                                 \u001b[37m│\u001b[0m\n",
       "\u001b[37m│\u001b[0m | **Focus** | AI-driven drug discovery and development, aiming to connect biological targets with engineered    \u001b[37m│\u001b[0m\n",
       "\u001b[37m│\u001b[0m molecules. | Enterprise-focused large language models (LLMs) and a suite of tools for developers, accessible    \u001b[37m│\u001b[0m\n",
       "\u001b[37m│\u001b[0m via API. |                                                                                                      \u001b[37m│\u001b[0m\n",
       "\u001b[37m│\u001b[0m | **Recent News** | Company launch and announcement of its ambitious goals in the biotech space. | Launch of    \u001b[37m│\u001b[0m\n",
       "\u001b[37m│\u001b[0m new models like Command R+, strategic partnerships with Oracle and Salesforce, and open-sourcing of some        \u001b[37m│\u001b[0m\n",
       "\u001b[37m│\u001b[0m models. |                                                                                                       \u001b[37m│\u001b[0m\n",
       "\u001b[37m│\u001b[0m                                                                                                                 \u001b[37m│\u001b[0m\n",
       "\u001b[37m│\u001b[0m **Analysis:** Xaira is a new entrant with a highly specialized focus on the pharmaceutical and biotech          \u001b[37m│\u001b[0m\n",
       "\u001b[37m│\u001b[0m industries. Its leadership team, with deep roots in biotechnology, signals its intention to be a major player   \u001b[37m│\u001b[0m\n",
       "\u001b[37m│\u001b[0m in that domain. Cohere, on the other hand, is a more established AI company with a broader, enterprise-focused  \u001b[37m│\u001b[0m\n",
       "\u001b[37m│\u001b[0m strategy. Its recent developments, including the launch of its powerful Command R+ model and partnerships with  \u001b[37m│\u001b[0m\n",
       "\u001b[37m│\u001b[0m major tech players, demonstrate a commitment to making its technology widely accessible and integrated into     \u001b[37m│\u001b[0m\n",
       "\u001b[37m│\u001b[0m existing business workflows.                                                                                    \u001b[37m│\u001b[0m\n",
       "\u001b[37m│\u001b[0m                                                                                                                 \u001b[37m│\u001b[0m\n",
       "\u001b[37m│\u001b[0m ### Summary                                                                                                     \u001b[37m│\u001b[0m\n",
       "\u001b[37m│\u001b[0m                                                                                                                 \u001b[37m│\u001b[0m\n",
       "\u001b[37m│\u001b[0m *   **Xaira** is a well-funded newcomer targeting a specific, high-stakes industry: drug discovery. Its massive \u001b[37m│\u001b[0m\n",
       "\u001b[37m│\u001b[0m initial funding and experienced leadership team make it a formidable new player.                                \u001b[37m│\u001b[0m\n",
       "\u001b[37m│\u001b[0m *   **Cohere** is a more mature AI company that has built a strong reputation and a solid funding base. Its     \u001b[37m│\u001b[0m\n",
       "\u001b[37m│\u001b[0m focus on enterprise solutions and strategic partnerships has positioned it as a key competitor to other major   \u001b[37m│\u001b[0m\n",
       "\u001b[37m│\u001b[0m AI labs.                                                                                                        \u001b[37m│\u001b[0m\n",
       "\u001b[37m│\u001b[0m                                                                                                                 \u001b[37m│\u001b[0m\n",
       "\u001b[37m│\u001b[0m In essence, the comparison highlights two different, yet powerful, approaches to building an AI-driven company. \u001b[37m│\u001b[0m\n",
       "\u001b[37m│\u001b[0m Xaira is making a targeted, high-impact bet on a single industry, while Cohere is building a broad,             \u001b[37m│\u001b[0m\n",
       "\u001b[37m│\u001b[0m enterprise-focused platform.                                                                                    \u001b[37m│\u001b[0m\n",
       "\u001b[37m╰─────────────────────────────────────────────────────────────────────────────────────────────────────────────────╯\u001b[0m\n"
      ]
     },
     "metadata": {},
     "output_type": "display_data"
    }
   ],
   "source": [
    "format_messages(state['messages'])"
   ]
  },
  {
   "cell_type": "code",
   "execution_count": 16,
   "id": "96cd23b6",
   "metadata": {},
   "outputs": [
    {
     "data": {
      "text/html": [
       "<pre style=\"white-space:pre;overflow-x:auto;line-height:normal;font-family:Menlo,'DejaVu Sans Mono',consolas,'Courier New',monospace\">\n",
       "<span style=\"color: #008000; text-decoration-color: #008000; font-weight: bold\">Scratchpad:</span>\n",
       "</pre>\n"
      ],
      "text/plain": [
       "\n",
       "\u001b[1;32mScratchpad:\u001b[0m\n"
      ]
     },
     "metadata": {},
     "output_type": "display_data"
    },
    {
     "data": {
      "text/html": [
       "<pre style=\"white-space:pre;overflow-x:auto;line-height:normal;font-family:Menlo,'DejaVu Sans Mono',consolas,'Courier New',monospace\">\n",
       "                                      <span style=\"font-weight: bold; text-decoration: underline\">Cohere: Funding and Recent Developments</span>                                      \n",
       "\n",
       "<span style=\"font-weight: bold\">Funding:</span>                                                                                                           \n",
       "\n",
       "<span style=\"color: #808000; text-decoration-color: #808000; font-weight: bold\"> • </span><span style=\"font-weight: bold\">Total Funding:</span> $970 million over 5 funding rounds.                                                              \n",
       "<span style=\"color: #808000; text-decoration-color: #808000; font-weight: bold\"> • </span><span style=\"font-weight: bold\">Funding Round Details:</span>                                                                                          \n",
       "<span style=\"color: #808000; text-decoration-color: #808000; font-weight: bold\">    • </span>Series D (June 2024): $500 million, valuing the company at $5.5 billion.                                     \n",
       "<span style=\"color: #808000; text-decoration-color: #808000; font-weight: bold\">    • </span>Series C (June 2023): $270 million.                                                                          \n",
       "<span style=\"color: #808000; text-decoration-color: #808000; font-weight: bold\"> • </span><span style=\"font-weight: bold\">Key Investors:</span> Inovia Capital, NVIDIA, Oracle, Salesforce Ventures, and others.                                 \n",
       "\n",
       "<span style=\"font-weight: bold\">Recent Developments:</span>                                                                                               \n",
       "\n",
       "<span style=\"color: #808000; text-decoration-color: #808000; font-weight: bold\"> • </span><span style=\"font-weight: bold\">Product Launches:</span>                                                                                               \n",
       "<span style=\"color: #808000; text-decoration-color: #808000; font-weight: bold\">    • </span><span style=\"font-weight: bold\">Command R+:</span> A new, highly advanced language model designed for enterprise use cases.                         \n",
       "<span style=\"color: #808000; text-decoration-color: #808000; font-weight: bold\">    • </span><span style=\"font-weight: bold\">Embed V3:</span> A highly performant text embedding model.                                                          \n",
       "<span style=\"color: #808000; text-decoration-color: #808000; font-weight: bold\">    • </span><span style=\"font-weight: bold\">Open-Source Initiative:</span> Released some of its models as open source.                                          \n",
       "<span style=\"color: #808000; text-decoration-color: #808000; font-weight: bold\"> • </span><span style=\"font-weight: bold\">Strategic Partnerships:</span>                                                                                         \n",
       "<span style=\"color: #808000; text-decoration-color: #808000; font-weight: bold\">    • </span><span style=\"font-weight: bold\">Oracle:</span> Integrated its models into Oracle's cloud services.                                                  \n",
       "<span style=\"color: #808000; text-decoration-color: #808000; font-weight: bold\">    • </span><span style=\"font-weight: bold\">NVIDIA:</span> Partnered on model training and deployment.                                                          \n",
       "<span style=\"color: #808000; text-decoration-color: #808000; font-weight: bold\">    • </span><span style=\"font-weight: bold\">Salesforce:</span> Collaborating on AI for enterprise customers.                                                    \n",
       "<span style=\"color: #808000; text-decoration-color: #808000; font-weight: bold\"> • </span><span style=\"font-weight: bold\">Expansion:</span>                                                                                                      \n",
       "<span style=\"color: #808000; text-decoration-color: #808000; font-weight: bold\">    • </span>Opened a new office in New York City.                                                                        \n",
       "<span style=\"color: #808000; text-decoration-color: #808000; font-weight: bold\">    • </span>Expanded its team significantly.                                                                             \n",
       "<span style=\"color: #808000; text-decoration-color: #808000; font-weight: bold\"> • </span><span style=\"font-weight: bold\">Leadership:</span> Co-founded by Aidan Gomez, one of the co-authors of the original \"Attention is All You Need\" paper  \n",
       "<span style=\"color: #808000; text-decoration-color: #808000; font-weight: bold\">   </span>that introduced the Transformer architecture.                                                                   \n",
       "<span style=\"color: #808000; text-decoration-color: #808000; font-weight: bold\"> • </span><span style=\"font-weight: bold\">Focus:</span> Building a suite of large language models (LLMs) and making them accessible to developers and enterprises\n",
       "<span style=\"color: #808000; text-decoration-color: #808000; font-weight: bold\">   </span>through an API.                                                                                                 \n",
       "</pre>\n"
      ],
      "text/plain": [
       "\n",
       "                                      \u001b[1;4mCohere: Funding and Recent Developments\u001b[0m                                      \n",
       "\n",
       "\u001b[1mFunding:\u001b[0m                                                                                                           \n",
       "\n",
       "\u001b[1;33m • \u001b[0m\u001b[1mTotal Funding:\u001b[0m $970 million over 5 funding rounds.                                                              \n",
       "\u001b[1;33m • \u001b[0m\u001b[1mFunding Round Details:\u001b[0m                                                                                          \n",
       "\u001b[1;33m   \u001b[0m\u001b[1;33m • \u001b[0mSeries D (June 2024): $500 million, valuing the company at $5.5 billion.                                     \n",
       "\u001b[1;33m   \u001b[0m\u001b[1;33m • \u001b[0mSeries C (June 2023): $270 million.                                                                          \n",
       "\u001b[1;33m • \u001b[0m\u001b[1mKey Investors:\u001b[0m Inovia Capital, NVIDIA, Oracle, Salesforce Ventures, and others.                                 \n",
       "\n",
       "\u001b[1mRecent Developments:\u001b[0m                                                                                               \n",
       "\n",
       "\u001b[1;33m • \u001b[0m\u001b[1mProduct Launches:\u001b[0m                                                                                               \n",
       "\u001b[1;33m   \u001b[0m\u001b[1;33m • \u001b[0m\u001b[1mCommand R+:\u001b[0m A new, highly advanced language model designed for enterprise use cases.                         \n",
       "\u001b[1;33m   \u001b[0m\u001b[1;33m • \u001b[0m\u001b[1mEmbed V3:\u001b[0m A highly performant text embedding model.                                                          \n",
       "\u001b[1;33m   \u001b[0m\u001b[1;33m • \u001b[0m\u001b[1mOpen-Source Initiative:\u001b[0m Released some of its models as open source.                                          \n",
       "\u001b[1;33m • \u001b[0m\u001b[1mStrategic Partnerships:\u001b[0m                                                                                         \n",
       "\u001b[1;33m   \u001b[0m\u001b[1;33m • \u001b[0m\u001b[1mOracle:\u001b[0m Integrated its models into Oracle's cloud services.                                                  \n",
       "\u001b[1;33m   \u001b[0m\u001b[1;33m • \u001b[0m\u001b[1mNVIDIA:\u001b[0m Partnered on model training and deployment.                                                          \n",
       "\u001b[1;33m   \u001b[0m\u001b[1;33m • \u001b[0m\u001b[1mSalesforce:\u001b[0m Collaborating on AI for enterprise customers.                                                    \n",
       "\u001b[1;33m • \u001b[0m\u001b[1mExpansion:\u001b[0m                                                                                                      \n",
       "\u001b[1;33m   \u001b[0m\u001b[1;33m • \u001b[0mOpened a new office in New York City.                                                                        \n",
       "\u001b[1;33m   \u001b[0m\u001b[1;33m • \u001b[0mExpanded its team significantly.                                                                             \n",
       "\u001b[1;33m • \u001b[0m\u001b[1mLeadership:\u001b[0m Co-founded by Aidan Gomez, one of the co-authors of the original \"Attention is All You Need\" paper  \n",
       "\u001b[1;33m   \u001b[0mthat introduced the Transformer architecture.                                                                   \n",
       "\u001b[1;33m • \u001b[0m\u001b[1mFocus:\u001b[0m Building a suite of large language models (LLMs) and making them accessible to developers and enterprises\n",
       "\u001b[1;33m   \u001b[0mthrough an API.                                                                                                 \n"
      ]
     },
     "execution_count": 16,
     "metadata": {},
     "output_type": "execute_result"
    }
   ],
   "source": [
    "from rich.console import Console\n",
    "from rich.pretty import pprint\n",
    "console = Console()\n",
    "console.print(\"\\n[bold green]Scratchpad:[/bold green]\")\n",
    "from rich.markdown import Markdown\n",
    "Markdown(state['scratchpad'])"
   ]
  },
  {
   "cell_type": "code",
   "execution_count": 22,
   "id": "73b081d1",
   "metadata": {},
   "outputs": [],
   "source": [
    "from langgraph.store.memory import InMemoryStore\n",
    "\n",
    "# Initialize in-memory store for long-term memory\n",
    "store = InMemoryStore()\n",
    "\n",
    "# Define a namespace to organize context\n",
    "namespace = (\"rlm\", \"scratchpad\")\n",
    "\n",
    "# Add persistent context to the store\n",
    "store.put(\n",
    "    namespace,\n",
    "    \"scratchpad\",\n",
    "    {\n",
    "        \"scratchpad\": \"Research project on renewable energy adoption in developing countries. Key areas to track: policy frameworks, technology barriers, financing mechanisms, and success stories from pilot programs.\"\n",
    "    }\n",
    ")\n"
   ]
  },
  {
   "cell_type": "code",
   "execution_count": 23,
   "id": "2e65b4a1",
   "metadata": {},
   "outputs": [
    {
     "data": {
      "text/html": [
       "<pre style=\"white-space:pre;overflow-x:auto;line-height:normal;font-family:Menlo,'DejaVu Sans Mono',consolas,'Courier New',monospace\">\n",
       "<span style=\"color: #008000; text-decoration-color: #008000; font-weight: bold\">Retrieved Context from Memory:</span>\n",
       "</pre>\n"
      ],
      "text/plain": [
       "\n",
       "\u001b[1;32mRetrieved Context from Memory:\u001b[0m\n"
      ]
     },
     "metadata": {},
     "output_type": "display_data"
    },
    {
     "name": "stdout",
     "output_type": "stream",
     "text": [
      "Item(namespace=['rlm', 'scratchpad'], key='scratchpad', value={'scratchpad': 'Research project on renewable energy adoption in developing countries. Key areas to track: policy frameworks, technology barriers, financing mechanisms, and success stories from pilot programs.'}, created_at='2025-08-06T07:16:01.788744+00:00', updated_at='2025-08-06T07:16:01.788748+00:00')\n"
     ]
    }
   ],
   "source": [
    "from rich.console import Console\n",
    "from pprint import pprint\n",
    "\n",
    "# Retrieve the stored scratchpad data\n",
    "scratchpad = store.get(namespace, \"scratchpad\")\n",
    "\n",
    "# Display the stored data\n",
    "console = Console()\n",
    "console.print(\"\\n[bold green]Retrieved Context from Memory:[/bold green]\")\n",
    "pprint(scratchpad)\n"
   ]
  },
  {
   "cell_type": "code",
   "execution_count": 24,
   "id": "f733ae58",
   "metadata": {},
   "outputs": [],
   "source": [
    "from langgraph.store.base import BaseStore\n",
    "from langgraph.checkpoint.memory import InMemorySaver\n",
    "\n",
    "def tool_node_persistent(state: ScratchpadState, store: BaseStore) -> dict:\n",
    "    result = []\n",
    "    for tool_call in state[\"messages\"][-1].tool_calls:\n",
    "        tool = tools_by_name[tool_call[\"name\"]]\n",
    "        observation = tool.invoke(tool_call[\"args\"])\n",
    "\n",
    "        if tool_call[\"name\"] == \"WriteToScratchpad\":\n",
    "            notes = observation.notes\n",
    "            result.append(ToolMessage(content=f\"Wrote to scratchpad: {notes}\", tool_call_id=tool_call[\"id\"]))\n",
    "            store.put(namespace, \"scratchpad\", {\"scratchpad\": notes})\n",
    "            update = {\"messages\": result}\n",
    "\n",
    "        elif tool_call[\"name\"] == \"ReadFromScratchpad\":\n",
    "            stored_data = store.get(namespace, \"scratchpad\")\n",
    "            notes = stored_data.value[\"scratchpad\"] if stored_data else \"No notes found\"\n",
    "            result.append(ToolMessage(content=f\"Notes from scratchpad: {notes}\", tool_call_id=tool_call[\"id\"]))\n",
    "            update = {\"messages\": result}\n",
    "\n",
    "        elif tool_call[\"name\"] == \"tavily_search\":\n",
    "            result.append(ToolMessage(content=observation, tool_call_id=tool_call[\"id\"]))\n",
    "            update = {\"messages\": result}\n",
    "\n",
    "    return update\n"
   ]
  },
  {
   "cell_type": "code",
   "execution_count": 25,
   "id": "9a7dbb99",
   "metadata": {},
   "outputs": [],
   "source": [
    "agent_builder_persistent = StateGraph(ScratchpadState)\n",
    "agent_builder_persistent.add_node(\"llm_call\", llm_call)\n",
    "agent_builder_persistent.add_node(\"tool_node\", tool_node_persistent)\n",
    "agent_builder_persistent.add_edge(START, \"llm_call\")\n",
    "agent_builder_persistent.add_conditional_edges(\"llm_call\", should_continue, {\"tool_node\": \"tool_node\", END: END})\n",
    "agent_builder_persistent.add_edge(\"tool_node\", \"llm_call\")\n",
    "\n",
    "# Checkpoint for thread history\n",
    "checkpointer = InMemorySaver()\n",
    "\n",
    "# Memory store for long-term context\n",
    "memory_store = InMemoryStore()\n",
    "\n",
    "# Compile persistent agent\n",
    "agent = agent_builder_persistent.compile(\n",
    "    checkpointer=checkpointer,\n",
    "    store=memory_store\n",
    ")\n",
    "\n"
   ]
  },
  {
   "cell_type": "code",
   "execution_count": 13,
   "id": "803267c5",
   "metadata": {},
   "outputs": [
    {
     "data": {
      "image/png": "[encoded data removed]",
      "text/plain": [
       "<IPython.core.display.Image object>"
      ]
     },
     "metadata": {},
     "output_type": "display_data"
    }
   ],
   "source": [
    "display(Image(agent.get_graph(xray=True).draw_mermaid_png()))\n"
   ]
  },
  {
   "cell_type": "code",
   "execution_count": 26,
   "id": "9555322f",
   "metadata": {},
   "outputs": [
    {
     "name": "stderr",
     "output_type": "stream",
     "text": [
      "Retrying langchain_google_genai.chat_models._chat_with_retry.<locals>._chat_with_retry in 2.0 seconds as it raised InternalServerError: 500 An internal error has occurred. Please retry or report in https://developers.generativeai.google/guide/troubleshooting.\n"
     ]
    }
   ],
   "source": [
    "config_1 = {\"configurable\": {\"thread_id\": \"1\"}}\n",
    "message_1 = agent.invoke({\n",
    "    \"messages\": [HumanMessage(content=\"Can you search for funding rounds and recent developments of Commonwealth Fusion Systems? Make sure to follow system message and research workflow as given.\")]\n",
    "}, config_1)\n"
   ]
  },
  {
   "cell_type": "code",
   "execution_count": 28,
   "id": "d74b9ca0",
   "metadata": {},
   "outputs": [
    {
     "data": {
      "text/html": [
       "<pre style=\"white-space:pre;overflow-x:auto;line-height:normal;font-family:Menlo,'DejaVu Sans Mono',consolas,'Courier New',monospace\">\n",
       "<span style=\"color: #008080; text-decoration-color: #008080; font-weight: bold\">Workflow Result (Thread </span><span style=\"color: #008080; text-decoration-color: #008080; font-weight: bold\">1</span><span style=\"color: #008080; text-decoration-color: #008080; font-weight: bold\">) - Kick Off Research:</span>\n",
       "</pre>\n"
      ],
      "text/plain": [
       "\n",
       "\u001b[1;36mWorkflow Result \u001b[0m\u001b[1;36m(\u001b[0m\u001b[1;36mThread \u001b[0m\u001b[1;36m1\u001b[0m\u001b[1;36m)\u001b[0m\u001b[1;36m - Kick Off Research:\u001b[0m\n"
      ]
     },
     "metadata": {},
     "output_type": "display_data"
    },
    {
     "data": {
      "text/html": [
       "<pre style=\"white-space:pre;overflow-x:auto;line-height:normal;font-family:Menlo,'DejaVu Sans Mono',consolas,'Courier New',monospace\"><span style=\"color: #000080; text-decoration-color: #000080\">╭─────────────────────────────────────────────────── 🧑 Human ────────────────────────────────────────────────────╮</span>\n",
       "<span style=\"color: #000080; text-decoration-color: #000080\">│</span> Can you search for funding rounds and recent developments of Commonwealth Fusion Systems? Make sure to follow   <span style=\"color: #000080; text-decoration-color: #000080\">│</span>\n",
       "<span style=\"color: #000080; text-decoration-color: #000080\">│</span> system message and research workflow as given.                                                                  <span style=\"color: #000080; text-decoration-color: #000080\">│</span>\n",
       "<span style=\"color: #000080; text-decoration-color: #000080\">╰─────────────────────────────────────────────────────────────────────────────────────────────────────────────────╯</span>\n",
       "</pre>\n"
      ],
      "text/plain": [
       "\u001b[34m╭─\u001b[0m\u001b[34m──────────────────────────────────────────────────\u001b[0m\u001b[34m 🧑 Human \u001b[0m\u001b[34m───────────────────────────────────────────────────\u001b[0m\u001b[34m─╮\u001b[0m\n",
       "\u001b[34m│\u001b[0m Can you search for funding rounds and recent developments of Commonwealth Fusion Systems? Make sure to follow   \u001b[34m│\u001b[0m\n",
       "\u001b[34m│\u001b[0m system message and research workflow as given.                                                                  \u001b[34m│\u001b[0m\n",
       "\u001b[34m╰─────────────────────────────────────────────────────────────────────────────────────────────────────────────────╯\u001b[0m\n"
      ]
     },
     "metadata": {},
     "output_type": "display_data"
    },
    {
     "data": {
      "text/html": [
       "<pre style=\"white-space:pre;overflow-x:auto;line-height:normal;font-family:Menlo,'DejaVu Sans Mono',consolas,'Courier New',monospace\"><span style=\"color: #c0c0c0; text-decoration-color: #c0c0c0\">╭───────────────────────────────────────────────────── 📝 AI ─────────────────────────────────────────────────────╮</span>\n",
       "<span style=\"color: #c0c0c0; text-decoration-color: #c0c0c0\">│</span> Right, time to research Commonwealth Fusion Systems' funding and recent developments.                           <span style=\"color: #c0c0c0; text-decoration-color: #c0c0c0\">│</span>\n",
       "<span style=\"color: #c0c0c0; text-decoration-color: #c0c0c0\">│</span>                                                                                                                 <span style=\"color: #c0c0c0; text-decoration-color: #c0c0c0\">│</span>\n",
       "<span style=\"color: #c0c0c0; text-decoration-color: #c0c0c0\">│</span> First, a quick check of my scratchpad for any prior notes. Next, I'll map out a research plan and save it.      <span style=\"color: #c0c0c0; text-decoration-color: #c0c0c0\">│</span>\n",
       "<span style=\"color: #c0c0c0; text-decoration-color: #c0c0c0\">│</span> Then, I'll start digging for information, updating my scratchpad as I go. Once the research is complete, I will <span style=\"color: #c0c0c0; text-decoration-color: #c0c0c0\">│</span>\n",
       "<span style=\"color: #c0c0c0; text-decoration-color: #c0c0c0\">│</span> provide the final answer.                                                                                       <span style=\"color: #c0c0c0; text-decoration-color: #c0c0c0\">│</span>\n",
       "<span style=\"color: #c0c0c0; text-decoration-color: #c0c0c0\">│</span>                                                                                                                 <span style=\"color: #c0c0c0; text-decoration-color: #c0c0c0\">│</span>\n",
       "<span style=\"color: #c0c0c0; text-decoration-color: #c0c0c0\">│</span> **Research Plan:**                                                                                              <span style=\"color: #c0c0c0; text-decoration-color: #c0c0c0\">│</span>\n",
       "<span style=\"color: #c0c0c0; text-decoration-color: #c0c0c0\">│</span>                                                                                                                 <span style=\"color: #c0c0c0; text-decoration-color: #c0c0c0\">│</span>\n",
       "<span style=\"color: #c0c0c0; text-decoration-color: #c0c0c0\">│</span> 1.  **Funding Rounds:**                                                                                         <span style=\"color: #c0c0c0; text-decoration-color: #c0c0c0\">│</span>\n",
       "<span style=\"color: #c0c0c0; text-decoration-color: #c0c0c0\">│</span>     *   List all major funding rounds (Series A, B, etc.).                                                      <span style=\"color: #c0c0c0; text-decoration-color: #c0c0c0\">│</span>\n",
       "<span style=\"color: #c0c0c0; text-decoration-color: #c0c0c0\">│</span>     *   Detail the amount, key investors, and date for each round.                                              <span style=\"color: #c0c0c0; text-decoration-color: #c0c0c0\">│</span>\n",
       "<span style=\"color: #c0c0c0; text-decoration-color: #c0c0c0\">│</span> 2.  **Recent Developments (last 12-18 months):**                                                                <span style=\"color: #c0c0c0; text-decoration-color: #c0c0c0\">│</span>\n",
       "<span style=\"color: #c0c0c0; text-decoration-color: #c0c0c0\">│</span>     *   Compile news and press releases.                                                                        <span style=\"color: #c0c0c0; text-decoration-color: #c0c0c0\">│</span>\n",
       "<span style=\"color: #c0c0c0; text-decoration-color: #c0c0c0\">│</span>     *   Track technological milestones, especially for the SPARC and ARC projects.                              <span style=\"color: #c0c0c0; text-decoration-color: #c0c0c0\">│</span>\n",
       "<span style=\"color: #c0c0c0; text-decoration-color: #c0c0c0\">│</span>     *   Note new partnerships and construction updates.                                                         <span style=\"color: #c0c0c0; text-decoration-color: #c0c0c0\">│</span>\n",
       "<span style=\"color: #c0c0c0; text-decoration-color: #c0c0c0\">│</span>     *   Identify any leadership changes.                                                                        <span style=\"color: #c0c0c0; text-decoration-color: #c0c0c0\">│</span>\n",
       "<span style=\"color: #c0c0c0; text-decoration-color: #c0c0c0\">│</span>                                                                                                                 <span style=\"color: #c0c0c0; text-decoration-color: #c0c0c0\">│</span>\n",
       "<span style=\"color: #c0c0c0; text-decoration-color: #c0c0c0\">│</span> I'll begin by checking the scratchpad.                                                                          <span style=\"color: #c0c0c0; text-decoration-color: #c0c0c0\">│</span>\n",
       "<span style=\"color: #c0c0c0; text-decoration-color: #c0c0c0\">╰─────────────────────────────────────────────────────────────────────────────────────────────────────────────────╯</span>\n",
       "</pre>\n"
      ],
      "text/plain": [
       "\u001b[37m╭─\u001b[0m\u001b[37m────────────────────────────────────────────────────\u001b[0m\u001b[37m 📝 AI \u001b[0m\u001b[37m────────────────────────────────────────────────────\u001b[0m\u001b[37m─╮\u001b[0m\n",
       "\u001b[37m│\u001b[0m Right, time to research Commonwealth Fusion Systems' funding and recent developments.                           \u001b[37m│\u001b[0m\n",
       "\u001b[37m│\u001b[0m                                                                                                                 \u001b[37m│\u001b[0m\n",
       "\u001b[37m│\u001b[0m First, a quick check of my scratchpad for any prior notes. Next, I'll map out a research plan and save it.      \u001b[37m│\u001b[0m\n",
       "\u001b[37m│\u001b[0m Then, I'll start digging for information, updating my scratchpad as I go. Once the research is complete, I will \u001b[37m│\u001b[0m\n",
       "\u001b[37m│\u001b[0m provide the final answer.                                                                                       \u001b[37m│\u001b[0m\n",
       "\u001b[37m│\u001b[0m                                                                                                                 \u001b[37m│\u001b[0m\n",
       "\u001b[37m│\u001b[0m **Research Plan:**                                                                                              \u001b[37m│\u001b[0m\n",
       "\u001b[37m│\u001b[0m                                                                                                                 \u001b[37m│\u001b[0m\n",
       "\u001b[37m│\u001b[0m 1.  **Funding Rounds:**                                                                                         \u001b[37m│\u001b[0m\n",
       "\u001b[37m│\u001b[0m     *   List all major funding rounds (Series A, B, etc.).                                                      \u001b[37m│\u001b[0m\n",
       "\u001b[37m│\u001b[0m     *   Detail the amount, key investors, and date for each round.                                              \u001b[37m│\u001b[0m\n",
       "\u001b[37m│\u001b[0m 2.  **Recent Developments (last 12-18 months):**                                                                \u001b[37m│\u001b[0m\n",
       "\u001b[37m│\u001b[0m     *   Compile news and press releases.                                                                        \u001b[37m│\u001b[0m\n",
       "\u001b[37m│\u001b[0m     *   Track technological milestones, especially for the SPARC and ARC projects.                              \u001b[37m│\u001b[0m\n",
       "\u001b[37m│\u001b[0m     *   Note new partnerships and construction updates.                                                         \u001b[37m│\u001b[0m\n",
       "\u001b[37m│\u001b[0m     *   Identify any leadership changes.                                                                        \u001b[37m│\u001b[0m\n",
       "\u001b[37m│\u001b[0m                                                                                                                 \u001b[37m│\u001b[0m\n",
       "\u001b[37m│\u001b[0m I'll begin by checking the scratchpad.                                                                          \u001b[37m│\u001b[0m\n",
       "\u001b[37m╰─────────────────────────────────────────────────────────────────────────────────────────────────────────────────╯\u001b[0m\n"
      ]
     },
     "metadata": {},
     "output_type": "display_data"
    },
    {
     "data": {
      "text/html": [
       "<pre style=\"white-space:pre;overflow-x:auto;line-height:normal;font-family:Menlo,'DejaVu Sans Mono',consolas,'Courier New',monospace\"><span style=\"color: #808000; text-decoration-color: #808000\">╭──────────────────────────────────────────────── 🔧 Tool Output ─────────────────────────────────────────────────╮</span>\n",
       "<span style=\"color: #808000; text-decoration-color: #808000\">│</span> Notes from scratchpad: No notes found                                                                           <span style=\"color: #808000; text-decoration-color: #808000\">│</span>\n",
       "<span style=\"color: #808000; text-decoration-color: #808000\">╰─────────────────────────────────────────────────────────────────────────────────────────────────────────────────╯</span>\n",
       "</pre>\n"
      ],
      "text/plain": [
       "\u001b[33m╭─\u001b[0m\u001b[33m───────────────────────────────────────────────\u001b[0m\u001b[33m 🔧 Tool Output \u001b[0m\u001b[33m────────────────────────────────────────────────\u001b[0m\u001b[33m─╮\u001b[0m\n",
       "\u001b[33m│\u001b[0m Notes from scratchpad: No notes found                                                                           \u001b[33m│\u001b[0m\n",
       "\u001b[33m╰─────────────────────────────────────────────────────────────────────────────────────────────────────────────────╯\u001b[0m\n"
      ]
     },
     "metadata": {},
     "output_type": "display_data"
    },
    {
     "data": {
      "text/html": [
       "<pre style=\"white-space:pre;overflow-x:auto;line-height:normal;font-family:Menlo,'DejaVu Sans Mono',consolas,'Courier New',monospace\"><span style=\"color: #c0c0c0; text-decoration-color: #c0c0c0\">╭───────────────────────────────────────────────────── 📝 AI ─────────────────────────────────────────────────────╮</span>\n",
       "<span style=\"color: #c0c0c0; text-decoration-color: #c0c0c0\">│</span> I will start by creating a research plan to guide my investigation into Commonwealth Fusion Systems' funding    <span style=\"color: #c0c0c0; text-decoration-color: #c0c0c0\">│</span>\n",
       "<span style=\"color: #c0c0c0; text-decoration-color: #c0c0c0\">│</span> and recent developments. This plan will be saved to my scratchpad for future reference.                         <span style=\"color: #c0c0c0; text-decoration-color: #c0c0c0\">│</span>\n",
       "<span style=\"color: #c0c0c0; text-decoration-color: #c0c0c0\">│</span>                                                                                                                 <span style=\"color: #c0c0c0; text-decoration-color: #c0c0c0\">│</span>\n",
       "<span style=\"color: #c0c0c0; text-decoration-color: #c0c0c0\">│</span> **Research Plan:**                                                                                              <span style=\"color: #c0c0c0; text-decoration-color: #c0c0c0\">│</span>\n",
       "<span style=\"color: #c0c0c0; text-decoration-color: #c0c0c0\">│</span>                                                                                                                 <span style=\"color: #c0c0c0; text-decoration-color: #c0c0c0\">│</span>\n",
       "<span style=\"color: #c0c0c0; text-decoration-color: #c0c0c0\">│</span> 1.  **Funding Rounds:** I will identify all major funding rounds, including the amount raised and key investors <span style=\"color: #c0c0c0; text-decoration-color: #c0c0c0\">│</span>\n",
       "<span style=\"color: #c0c0c0; text-decoration-color: #c0c0c0\">│</span> for each round, and then determine the company's total funding.                                                 <span style=\"color: #c0c0c0; text-decoration-color: #c0c0c0\">│</span>\n",
       "<span style=\"color: #c0c0c0; text-decoration-color: #c0c0c0\">│</span>                                                                                                                 <span style=\"color: #c0c0c0; text-decoration-color: #c0c0c0\">│</span>\n",
       "<span style=\"color: #c0c0c0; text-decoration-color: #c0c0c0\">│</span> 2.  **Recent Developments:** I will search for recent news (within the last 12-18 months) covering              <span style=\"color: #c0c0c0; text-decoration-color: #c0c0c0\">│</span>\n",
       "<span style=\"color: #c0c0c0; text-decoration-color: #c0c0c0\">│</span> technological milestones, partnerships, and progress on their SPARC and ARC projects.                           <span style=\"color: #c0c0c0; text-decoration-color: #c0c0c0\">│</span>\n",
       "<span style=\"color: #c0c0c0; text-decoration-color: #c0c0c0\">│</span>                                                                                                                 <span style=\"color: #c0c0c0; text-decoration-color: #c0c0c0\">│</span>\n",
       "<span style=\"color: #c0c0c0; text-decoration-color: #c0c0c0\">│</span> 3.  **Synthesize Findings:** I will organize the gathered data to create a comprehensive summary of the         <span style=\"color: #c0c0c0; text-decoration-color: #c0c0c0\">│</span>\n",
       "<span style=\"color: #c0c0c0; text-decoration-color: #c0c0c0\">│</span> company's financial and technological status.                                                                   <span style=\"color: #c0c0c0; text-decoration-color: #c0c0c0\">│</span>\n",
       "<span style=\"color: #c0c0c0; text-decoration-color: #c0c0c0\">╰─────────────────────────────────────────────────────────────────────────────────────────────────────────────────╯</span>\n",
       "</pre>\n"
      ],
      "text/plain": [
       "\u001b[37m╭─\u001b[0m\u001b[37m────────────────────────────────────────────────────\u001b[0m\u001b[37m 📝 AI \u001b[0m\u001b[37m────────────────────────────────────────────────────\u001b[0m\u001b[37m─╮\u001b[0m\n",
       "\u001b[37m│\u001b[0m I will start by creating a research plan to guide my investigation into Commonwealth Fusion Systems' funding    \u001b[37m│\u001b[0m\n",
       "\u001b[37m│\u001b[0m and recent developments. This plan will be saved to my scratchpad for future reference.                         \u001b[37m│\u001b[0m\n",
       "\u001b[37m│\u001b[0m                                                                                                                 \u001b[37m│\u001b[0m\n",
       "\u001b[37m│\u001b[0m **Research Plan:**                                                                                              \u001b[37m│\u001b[0m\n",
       "\u001b[37m│\u001b[0m                                                                                                                 \u001b[37m│\u001b[0m\n",
       "\u001b[37m│\u001b[0m 1.  **Funding Rounds:** I will identify all major funding rounds, including the amount raised and key investors \u001b[37m│\u001b[0m\n",
       "\u001b[37m│\u001b[0m for each round, and then determine the company's total funding.                                                 \u001b[37m│\u001b[0m\n",
       "\u001b[37m│\u001b[0m                                                                                                                 \u001b[37m│\u001b[0m\n",
       "\u001b[37m│\u001b[0m 2.  **Recent Developments:** I will search for recent news (within the last 12-18 months) covering              \u001b[37m│\u001b[0m\n",
       "\u001b[37m│\u001b[0m technological milestones, partnerships, and progress on their SPARC and ARC projects.                           \u001b[37m│\u001b[0m\n",
       "\u001b[37m│\u001b[0m                                                                                                                 \u001b[37m│\u001b[0m\n",
       "\u001b[37m│\u001b[0m 3.  **Synthesize Findings:** I will organize the gathered data to create a comprehensive summary of the         \u001b[37m│\u001b[0m\n",
       "\u001b[37m│\u001b[0m company's financial and technological status.                                                                   \u001b[37m│\u001b[0m\n",
       "\u001b[37m╰─────────────────────────────────────────────────────────────────────────────────────────────────────────────────╯\u001b[0m\n"
      ]
     },
     "metadata": {},
     "output_type": "display_data"
    },
    {
     "data": {
      "text/html": [
       "<pre style=\"white-space:pre;overflow-x:auto;line-height:normal;font-family:Menlo,'DejaVu Sans Mono',consolas,'Courier New',monospace\"><span style=\"color: #808000; text-decoration-color: #808000\">╭──────────────────────────────────────────────── 🔧 Tool Output ─────────────────────────────────────────────────╮</span>\n",
       "<span style=\"color: #808000; text-decoration-color: #808000\">│</span> Wrote to scratchpad: **Research Plan: Commonwealth Fusion Systems**                                             <span style=\"color: #808000; text-decoration-color: #808000\">│</span>\n",
       "<span style=\"color: #808000; text-decoration-color: #808000\">│</span>                                                                                                                 <span style=\"color: #808000; text-decoration-color: #808000\">│</span>\n",
       "<span style=\"color: #808000; text-decoration-color: #808000\">│</span> **1. Funding Rounds:**                                                                                          <span style=\"color: #808000; text-decoration-color: #808000\">│</span>\n",
       "<span style=\"color: #808000; text-decoration-color: #808000\">│</span> *   Identify all major funding rounds (Series A, B, etc.).                                                      <span style=\"color: #808000; text-decoration-color: #808000\">│</span>\n",
       "<span style=\"color: #808000; text-decoration-color: #808000\">│</span> *   For each round, determine the amount raised and the key investors.                                          <span style=\"color: #808000; text-decoration-color: #808000\">│</span>\n",
       "<span style=\"color: #808000; text-decoration-color: #808000\">│</span> *   Find the total funding raised to date.                                                                      <span style=\"color: #808000; text-decoration-color: #808000\">│</span>\n",
       "<span style=\"color: #808000; text-decoration-color: #808000\">│</span>                                                                                                                 <span style=\"color: #808000; text-decoration-color: #808000\">│</span>\n",
       "<span style=\"color: #808000; text-decoration-color: #808000\">│</span> **2. Recent Developments:**                                                                                     <span style=\"color: #808000; text-decoration-color: #808000\">│</span>\n",
       "<span style=\"color: #808000; text-decoration-color: #808000\">│</span> *   Search for news and press releases from the last 12-18 months.                                              <span style=\"color: #808000; text-decoration-color: #808000\">│</span>\n",
       "<span style=\"color: #808000; text-decoration-color: #808000\">│</span> *   Focus on technological milestones, such as successful tests or new projects.                                <span style=\"color: #808000; text-decoration-color: #808000\">│</span>\n",
       "<span style=\"color: #808000; text-decoration-color: #808000\">│</span> *   Identify key partnerships or collaborations.                                                                <span style=\"color: #808000; text-decoration-color: #808000\">│</span>\n",
       "<span style=\"color: #808000; text-decoration-color: #808000\">│</span> *   Look for information on their progress toward building the SPARC and ARC fusion machines.                   <span style=\"color: #808000; text-decoration-color: #808000\">│</span>\n",
       "<span style=\"color: #808000; text-decoration-color: #808000\">│</span>                                                                                                                 <span style=\"color: #808000; text-decoration-color: #808000\">│</span>\n",
       "<span style=\"color: #808000; text-decoration-color: #808000\">│</span> **3. Synthesize Findings:**                                                                                     <span style=\"color: #808000; text-decoration-color: #808000\">│</span>\n",
       "<span style=\"color: #808000; text-decoration-color: #808000\">│</span> *   Organize the collected information chronologically.                                                         <span style=\"color: #808000; text-decoration-color: #808000\">│</span>\n",
       "<span style=\"color: #808000; text-decoration-color: #808000\">│</span> *   Prepare a summary of the company's financial and technological progress.                                    <span style=\"color: #808000; text-decoration-color: #808000\">│</span>\n",
       "<span style=\"color: #808000; text-decoration-color: #808000\">╰─────────────────────────────────────────────────────────────────────────────────────────────────────────────────╯</span>\n",
       "</pre>\n"
      ],
      "text/plain": [
       "\u001b[33m╭─\u001b[0m\u001b[33m───────────────────────────────────────────────\u001b[0m\u001b[33m 🔧 Tool Output \u001b[0m\u001b[33m────────────────────────────────────────────────\u001b[0m\u001b[33m─╮\u001b[0m\n",
       "\u001b[33m│\u001b[0m Wrote to scratchpad: **Research Plan: Commonwealth Fusion Systems**                                             \u001b[33m│\u001b[0m\n",
       "\u001b[33m│\u001b[0m                                                                                                                 \u001b[33m│\u001b[0m\n",
       "\u001b[33m│\u001b[0m **1. Funding Rounds:**                                                                                          \u001b[33m│\u001b[0m\n",
       "\u001b[33m│\u001b[0m *   Identify all major funding rounds (Series A, B, etc.).                                                      \u001b[33m│\u001b[0m\n",
       "\u001b[33m│\u001b[0m *   For each round, determine the amount raised and the key investors.                                          \u001b[33m│\u001b[0m\n",
       "\u001b[33m│\u001b[0m *   Find the total funding raised to date.                                                                      \u001b[33m│\u001b[0m\n",
       "\u001b[33m│\u001b[0m                                                                                                                 \u001b[33m│\u001b[0m\n",
       "\u001b[33m│\u001b[0m **2. Recent Developments:**                                                                                     \u001b[33m│\u001b[0m\n",
       "\u001b[33m│\u001b[0m *   Search for news and press releases from the last 12-18 months.                                              \u001b[33m│\u001b[0m\n",
       "\u001b[33m│\u001b[0m *   Focus on technological milestones, such as successful tests or new projects.                                \u001b[33m│\u001b[0m\n",
       "\u001b[33m│\u001b[0m *   Identify key partnerships or collaborations.                                                                \u001b[33m│\u001b[0m\n",
       "\u001b[33m│\u001b[0m *   Look for information on their progress toward building the SPARC and ARC fusion machines.                   \u001b[33m│\u001b[0m\n",
       "\u001b[33m│\u001b[0m                                                                                                                 \u001b[33m│\u001b[0m\n",
       "\u001b[33m│\u001b[0m **3. Synthesize Findings:**                                                                                     \u001b[33m│\u001b[0m\n",
       "\u001b[33m│\u001b[0m *   Organize the collected information chronologically.                                                         \u001b[33m│\u001b[0m\n",
       "\u001b[33m│\u001b[0m *   Prepare a summary of the company's financial and technological progress.                                    \u001b[33m│\u001b[0m\n",
       "\u001b[33m╰─────────────────────────────────────────────────────────────────────────────────────────────────────────────────╯\u001b[0m\n"
      ]
     },
     "metadata": {},
     "output_type": "display_data"
    },
    {
     "data": {
      "text/html": [
       "<pre style=\"white-space:pre;overflow-x:auto;line-height:normal;font-family:Menlo,'DejaVu Sans Mono',consolas,'Courier New',monospace\"><span style=\"color: #c0c0c0; text-decoration-color: #c0c0c0\">╭───────────────────────────────────────────────────── 📝 AI ─────────────────────────────────────────────────────╮</span>\n",
       "<span style=\"color: #c0c0c0; text-decoration-color: #c0c0c0\">│</span>                                                                                                                 <span style=\"color: #c0c0c0; text-decoration-color: #c0c0c0\">│</span>\n",
       "<span style=\"color: #c0c0c0; text-decoration-color: #c0c0c0\">│</span> 🔧 Tool Call: tavily_search                                                                                     <span style=\"color: #c0c0c0; text-decoration-color: #c0c0c0\">│</span>\n",
       "<span style=\"color: #c0c0c0; text-decoration-color: #c0c0c0\">│</span>    Args: {                                                                                                      <span style=\"color: #c0c0c0; text-decoration-color: #c0c0c0\">│</span>\n",
       "<span style=\"color: #c0c0c0; text-decoration-color: #c0c0c0\">│</span>   \"query\": \"Commonwealth Fusion Systems funding rounds\"                                                         <span style=\"color: #c0c0c0; text-decoration-color: #c0c0c0\">│</span>\n",
       "<span style=\"color: #c0c0c0; text-decoration-color: #c0c0c0\">│</span> }                                                                                                               <span style=\"color: #c0c0c0; text-decoration-color: #c0c0c0\">│</span>\n",
       "<span style=\"color: #c0c0c0; text-decoration-color: #c0c0c0\">╰─────────────────────────────────────────────────────────────────────────────────────────────────────────────────╯</span>\n",
       "</pre>\n"
      ],
      "text/plain": [
       "\u001b[37m╭─\u001b[0m\u001b[37m────────────────────────────────────────────────────\u001b[0m\u001b[37m 📝 AI \u001b[0m\u001b[37m────────────────────────────────────────────────────\u001b[0m\u001b[37m─╮\u001b[0m\n",
       "\u001b[37m│\u001b[0m                                                                                                                 \u001b[37m│\u001b[0m\n",
       "\u001b[37m│\u001b[0m 🔧 Tool Call: tavily_search                                                                                     \u001b[37m│\u001b[0m\n",
       "\u001b[37m│\u001b[0m    Args: {                                                                                                      \u001b[37m│\u001b[0m\n",
       "\u001b[37m│\u001b[0m   \"query\": \"Commonwealth Fusion Systems funding rounds\"                                                         \u001b[37m│\u001b[0m\n",
       "\u001b[37m│\u001b[0m }                                                                                                               \u001b[37m│\u001b[0m\n",
       "\u001b[37m╰─────────────────────────────────────────────────────────────────────────────────────────────────────────────────╯\u001b[0m\n"
      ]
     },
     "metadata": {},
     "output_type": "display_data"
    },
    {
     "data": {
      "text/html": [
       "<pre style=\"white-space:pre;overflow-x:auto;line-height:normal;font-family:Menlo,'DejaVu Sans Mono',consolas,'Courier New',monospace\"><span style=\"color: #808000; text-decoration-color: #808000\">╭──────────────────────────────────────────────── 🔧 Tool Output ─────────────────────────────────────────────────╮</span>\n",
       "<span style=\"color: #808000; text-decoration-color: #808000\">│</span> {'query': 'Commonwealth Fusion Systems funding rounds', 'follow_up_questions': None, 'answer': None, 'images':  <span style=\"color: #808000; text-decoration-color: #808000\">│</span>\n",
       "<span style=\"color: #808000; text-decoration-color: #808000\">│</span> [], 'results': [{'url': 'https://www.crunchbase.com/organization/commonwealth-fusion-systems', 'title':         <span style=\"color: #808000; text-decoration-color: #808000\">│</span>\n",
       "<span style=\"color: #808000; text-decoration-color: #808000\">│</span> 'Commonwealth Fusion Systems', 'content': 'When was the last funding round for Commonwealth Fusion Systems ?    <span style=\"color: #808000; text-decoration-color: #808000\">│</span>\n",
       "<span style=\"color: #808000; text-decoration-color: #808000\">│</span> Commonwealth Fusion Systems closed its last funding round on Jun 30, 2025 from a Corporate', 'score':           <span style=\"color: #808000; text-decoration-color: #808000\">│</span>\n",
       "<span style=\"color: #808000; text-decoration-color: #808000\">│</span> 0.85567063, 'raw_content': None}, {'url':                                                                       <span style=\"color: #808000; text-decoration-color: #808000\">│</span>\n",
       "<span style=\"color: #808000; text-decoration-color: #808000\">│</span> 'https://www.cfs.energy/news-and-media/commonwealth-fusion-systems-closes-1-8-billion-series-b-round/',         <span style=\"color: #808000; text-decoration-color: #808000\">│</span>\n",
       "<span style=\"color: #808000; text-decoration-color: #808000\">│</span> 'title': 'Commonwealth Fusion Systems Raises $1.8 Billion in ...', 'content': 'Commonwealth Fusion Systems      <span style=\"color: #808000; text-decoration-color: #808000\">│</span>\n",
       "<span style=\"color: #808000; text-decoration-color: #808000\">│</span> (CFS) announced it has closed on more than $1.8 billion in Series B funding to commercialize fusion energy.',   <span style=\"color: #808000; text-decoration-color: #808000\">│</span>\n",
       "<span style=\"color: #808000; text-decoration-color: #808000\">│</span> 'score': 0.84183896, 'raw_content': None}, {'url':                                                              <span style=\"color: #808000; text-decoration-color: #808000\">│</span>\n",
       "<span style=\"color: #808000; text-decoration-color: #808000\">│</span> 'https://www.reddit.com/r/fusion/comments/1km2g7h/commonwealth_fusion_systems_raising_1_billionplus/', 'title': <span style=\"color: #808000; text-decoration-color: #808000\">│</span>\n",
       "<span style=\"color: #808000; text-decoration-color: #808000\">│</span> 'Commonwealth Fusion Systems raising $1 billion-plus ...', 'content': '31K Members Online    ### An Update from <span style=\"color: #808000; text-decoration-color: #808000\">│</span>\n",
       "<span style=\"color: #808000; text-decoration-color: #808000\">│</span> Commonwealth Fusion Systems (December 2024) youtu    74 upvotes ·18 comments    31K Members Online    ###       <span style=\"color: #808000; text-decoration-color: #808000\">│</span>\n",
       "<span style=\"color: #808000; text-decoration-color: #808000\">│</span> Commonwealth Fusion Systems and Type One Energy Sign Fusion Magnet Agreement cfs    35 upvotes ·8 comments      <span style=\"color: #808000; text-decoration-color: #808000\">│</span>\n",
       "<span style=\"color: #808000; text-decoration-color: #808000\">│</span> 31K Members Online    ### PREVIEW - Interview with Commonwealth Fusion Systems Chief Commercial Officer Rick    <span style=\"color: #808000; text-decoration-color: #808000\">│</span>\n",
       "<span style=\"color: #808000; text-decoration-color: #808000\">│</span> Needham youtube    20 upvotes ·5 comments    31K Members Online    ### Fusion industry makes its case to GOP    <span style=\"color: #808000; text-decoration-color: #808000\">│</span>\n",
       "<span style=\"color: #808000; text-decoration-color: #808000\">│</span> axios    80 upvotes ·17 comments    31K Members Online    ### Focused Energy raising $150 million for laser     <span style=\"color: #808000; text-decoration-color: #808000\">│</span>\n",
       "<span style=\"color: #808000; text-decoration-color: #808000\">│</span> fusion energy - by Axios archive    13 upvotes ·6 comments    22M Members Online    ### ‘World’s first’         <span style=\"color: #808000; text-decoration-color: #808000\">│</span>\n",
       "<span style=\"color: #808000; text-decoration-color: #808000\">│</span> grid-scale nuclear fusion power plant announced in the US in another step for the futuristic energy cnn    1.1K <span style=\"color: #808000; text-decoration-color: #808000\">│</span>\n",
       "<span style=\"color: #808000; text-decoration-color: #808000\">│</span> upvotes ·117 comments   ', 'score': 0.53895956, 'raw_content': None}, {'url':                                   <span style=\"color: #808000; text-decoration-color: #808000\">│</span>\n",
       "<span style=\"color: #808000; text-decoration-color: #808000\">│</span> 'https://www.datacenterdynamics.com/en/news/commonwealth-fusion-systems-raises-more-than-1bn-backed-by-unnamed- <span style=\"color: #808000; text-decoration-color: #808000\">│</span>\n",
       "<span style=\"color: #808000; text-decoration-color: #808000\">│</span> hyperscale-data-center-developer-report/', 'title': 'Commonwealth Fusion Systems raises more than $1bn ...',    <span style=\"color: #808000; text-decoration-color: #808000\">│</span>\n",
       "<span style=\"color: #808000; text-decoration-color: #808000\">│</span> 'content': 'Commonwealth Fusion Systems raises more than $1bn, backed by unnamed hyperscale data center         <span style=\"color: #808000; text-decoration-color: #808000\">│</span>\n",
       "<span style=\"color: #808000; text-decoration-color: #808000\">│</span> developer - report - DCD Commonwealth Fusion Systems raises more than $1bn, backed by unnamed hyperscale data   <span style=\"color: #808000; text-decoration-color: #808000\">│</span>\n",
       "<span style=\"color: #808000; text-decoration-color: #808000\">│</span> center developer - report *    Data Center Trends 2025: Power, AI, and Progress *   06 Dec 2024  Dutch telecom  <span style=\"color: #808000; text-decoration-color: #808000\">│</span>\n",
       "<span style=\"color: #808000; text-decoration-color: #808000\">│</span> and data center firms challenge new rules on grid connection priority *   2025 Data Center Power Report         <span style=\"color: #808000; text-decoration-color: #808000\">│</span>\n",
       "<span style=\"color: #808000; text-decoration-color: #808000\">│</span> Connectivity (\"NextRoll\") and our 20 advertising partners use cookies and similar technologies on this site and <span style=\"color: #808000; text-decoration-color: #808000\">│</span>\n",
       "<span style=\"color: #808000; text-decoration-color: #808000\">│</span> use personal data (e.g., your IP address). NextRoll and our advertising partners process personal data to: ●    <span style=\"color: #808000; text-decoration-color: #808000\">│</span>\n",
       "<span style=\"color: #808000; text-decoration-color: #808000\">│</span> Store and/or access information on a device; ● Create a personalised content profile; ● Select personalised     <span style=\"color: #808000; text-decoration-color: #808000\">│</span>\n",
       "<span style=\"color: #808000; text-decoration-color: #808000\">│</span> content; ● Personalised advertising, advertising measurement, audience research and services development; ●     <span style=\"color: #808000; text-decoration-color: #808000\">│</span>\n",
       "<span style=\"color: #808000; text-decoration-color: #808000\">│</span> Services development.', 'score': 0.5164741, 'raw_content': None}, {'url':                                       <span style=\"color: #808000; text-decoration-color: #808000\">│</span>\n",
       "<span style=\"color: #808000; text-decoration-color: #808000\">│</span> 'https://news.crunchbase.com/clean-tech-and-energy/fusion-funding-falls-commonwealth-helion-altman/', 'title':  <span style=\"color: #808000; text-decoration-color: #808000\">│</span>\n",
       "<span style=\"color: #808000; text-decoration-color: #808000\">│</span> 'Fusion Funding Has Fizzled', 'content': 'Funding to startups focused on fusion energy has declined sharply in  <span style=\"color: #808000; text-decoration-color: #808000\">│</span>\n",
       "<span style=\"color: #808000; text-decoration-color: #808000\">│</span> recent quarters after hitting a high two-and-a-half years ago. For a sense of how fusion-focused startup        <span style=\"color: #808000; text-decoration-color: #808000\">│</span>\n",
       "<span style=\"color: #808000; text-decoration-color: #808000\">│</span> funding has fluctuated, we used Crunchbase data to chart out investment to the space over the past 14 quarters. <span style=\"color: #808000; text-decoration-color: #808000\">│</span>\n",
       "<span style=\"color: #808000; text-decoration-color: #808000\">│</span> Fusion funding has seen much more dramatic annual ups and downs than average for startup sectors, as charted    <span style=\"color: #808000; text-decoration-color: #808000\">│</span>\n",
       "<span style=\"color: #808000; text-decoration-color: #808000\">│</span> below. * Fusion Energy-Related Startup Funding * Battery Tech And Fusion Dominate Big Energy Tech Funding       <span style=\"color: #808000; text-decoration-color: #808000\">│</span>\n",
       "<span style=\"color: #808000; text-decoration-color: #808000\">│</span> Rounds Artificial intelligence • Clean tech and energy • Cybersecurity • Defense tech • Fintech • M&amp;A • Public  <span style=\"color: #808000; text-decoration-color: #808000\">│</span>\n",
       "<span style=\"color: #808000; text-decoration-color: #808000\">│</span> Markets • Quarterly and annual reports • Regional • Startups • Venture', 'score': 0.23220608, 'raw_content':    <span style=\"color: #808000; text-decoration-color: #808000\">│</span>\n",
       "<span style=\"color: #808000; text-decoration-color: #808000\">│</span> None}], 'response_time': 1.12}                                                                                  <span style=\"color: #808000; text-decoration-color: #808000\">│</span>\n",
       "<span style=\"color: #808000; text-decoration-color: #808000\">╰─────────────────────────────────────────────────────────────────────────────────────────────────────────────────╯</span>\n",
       "</pre>\n"
      ],
      "text/plain": [
       "\u001b[33m╭─\u001b[0m\u001b[33m───────────────────────────────────────────────\u001b[0m\u001b[33m 🔧 Tool Output \u001b[0m\u001b[33m────────────────────────────────────────────────\u001b[0m\u001b[33m─╮\u001b[0m\n",
       "\u001b[33m│\u001b[0m {'query': 'Commonwealth Fusion Systems funding rounds', 'follow_up_questions': None, 'answer': None, 'images':  \u001b[33m│\u001b[0m\n",
       "\u001b[33m│\u001b[0m [], 'results': [{'url': 'https://www.crunchbase.com/organization/commonwealth-fusion-systems', 'title':         \u001b[33m│\u001b[0m\n",
       "\u001b[33m│\u001b[0m 'Commonwealth Fusion Systems', 'content': 'When was the last funding round for Commonwealth Fusion Systems ?    \u001b[33m│\u001b[0m\n",
       "\u001b[33m│\u001b[0m Commonwealth Fusion Systems closed its last funding round on Jun 30, 2025 from a Corporate', 'score':           \u001b[33m│\u001b[0m\n",
       "\u001b[33m│\u001b[0m 0.85567063, 'raw_content': None}, {'url':                                                                       \u001b[33m│\u001b[0m\n",
       "\u001b[33m│\u001b[0m 'https://www.cfs.energy/news-and-media/commonwealth-fusion-systems-closes-1-8-billion-series-b-round/',         \u001b[33m│\u001b[0m\n",
       "\u001b[33m│\u001b[0m 'title': 'Commonwealth Fusion Systems Raises $1.8 Billion in ...', 'content': 'Commonwealth Fusion Systems      \u001b[33m│\u001b[0m\n",
       "\u001b[33m│\u001b[0m (CFS) announced it has closed on more than $1.8 billion in Series B funding to commercialize fusion energy.',   \u001b[33m│\u001b[0m\n",
       "\u001b[33m│\u001b[0m 'score': 0.84183896, 'raw_content': None}, {'url':                                                              \u001b[33m│\u001b[0m\n",
       "\u001b[33m│\u001b[0m 'https://www.reddit.com/r/fusion/comments/1km2g7h/commonwealth_fusion_systems_raising_1_billionplus/', 'title': \u001b[33m│\u001b[0m\n",
       "\u001b[33m│\u001b[0m 'Commonwealth Fusion Systems raising $1 billion-plus ...', 'content': '31K Members Online    ### An Update from \u001b[33m│\u001b[0m\n",
       "\u001b[33m│\u001b[0m Commonwealth Fusion Systems (December 2024) youtu    74 upvotes ·18 comments    31K Members Online    ###       \u001b[33m│\u001b[0m\n",
       "\u001b[33m│\u001b[0m Commonwealth Fusion Systems and Type One Energy Sign Fusion Magnet Agreement cfs    35 upvotes ·8 comments      \u001b[33m│\u001b[0m\n",
       "\u001b[33m│\u001b[0m 31K Members Online    ### PREVIEW - Interview with Commonwealth Fusion Systems Chief Commercial Officer Rick    \u001b[33m│\u001b[0m\n",
       "\u001b[33m│\u001b[0m Needham youtube    20 upvotes ·5 comments    31K Members Online    ### Fusion industry makes its case to GOP    \u001b[33m│\u001b[0m\n",
       "\u001b[33m│\u001b[0m axios    80 upvotes ·17 comments    31K Members Online    ### Focused Energy raising $150 million for laser     \u001b[33m│\u001b[0m\n",
       "\u001b[33m│\u001b[0m fusion energy - by Axios archive    13 upvotes ·6 comments    22M Members Online    ### ‘World’s first’         \u001b[33m│\u001b[0m\n",
       "\u001b[33m│\u001b[0m grid-scale nuclear fusion power plant announced in the US in another step for the futuristic energy cnn    1.1K \u001b[33m│\u001b[0m\n",
       "\u001b[33m│\u001b[0m upvotes ·117 comments   ', 'score': 0.53895956, 'raw_content': None}, {'url':                                   \u001b[33m│\u001b[0m\n",
       "\u001b[33m│\u001b[0m 'https://www.datacenterdynamics.com/en/news/commonwealth-fusion-systems-raises-more-than-1bn-backed-by-unnamed- \u001b[33m│\u001b[0m\n",
       "\u001b[33m│\u001b[0m hyperscale-data-center-developer-report/', 'title': 'Commonwealth Fusion Systems raises more than $1bn ...',    \u001b[33m│\u001b[0m\n",
       "\u001b[33m│\u001b[0m 'content': 'Commonwealth Fusion Systems raises more than $1bn, backed by unnamed hyperscale data center         \u001b[33m│\u001b[0m\n",
       "\u001b[33m│\u001b[0m developer - report - DCD Commonwealth Fusion Systems raises more than $1bn, backed by unnamed hyperscale data   \u001b[33m│\u001b[0m\n",
       "\u001b[33m│\u001b[0m center developer - report *    Data Center Trends 2025: Power, AI, and Progress *   06 Dec 2024  Dutch telecom  \u001b[33m│\u001b[0m\n",
       "\u001b[33m│\u001b[0m and data center firms challenge new rules on grid connection priority *   2025 Data Center Power Report         \u001b[33m│\u001b[0m\n",
       "\u001b[33m│\u001b[0m Connectivity (\"NextRoll\") and our 20 advertising partners use cookies and similar technologies on this site and \u001b[33m│\u001b[0m\n",
       "\u001b[33m│\u001b[0m use personal data (e.g., your IP address). NextRoll and our advertising partners process personal data to: ●    \u001b[33m│\u001b[0m\n",
       "\u001b[33m│\u001b[0m Store and/or access information on a device; ● Create a personalised content profile; ● Select personalised     \u001b[33m│\u001b[0m\n",
       "\u001b[33m│\u001b[0m content; ● Personalised advertising, advertising measurement, audience research and services development; ●     \u001b[33m│\u001b[0m\n",
       "\u001b[33m│\u001b[0m Services development.', 'score': 0.5164741, 'raw_content': None}, {'url':                                       \u001b[33m│\u001b[0m\n",
       "\u001b[33m│\u001b[0m 'https://news.crunchbase.com/clean-tech-and-energy/fusion-funding-falls-commonwealth-helion-altman/', 'title':  \u001b[33m│\u001b[0m\n",
       "\u001b[33m│\u001b[0m 'Fusion Funding Has Fizzled', 'content': 'Funding to startups focused on fusion energy has declined sharply in  \u001b[33m│\u001b[0m\n",
       "\u001b[33m│\u001b[0m recent quarters after hitting a high two-and-a-half years ago. For a sense of how fusion-focused startup        \u001b[33m│\u001b[0m\n",
       "\u001b[33m│\u001b[0m funding has fluctuated, we used Crunchbase data to chart out investment to the space over the past 14 quarters. \u001b[33m│\u001b[0m\n",
       "\u001b[33m│\u001b[0m Fusion funding has seen much more dramatic annual ups and downs than average for startup sectors, as charted    \u001b[33m│\u001b[0m\n",
       "\u001b[33m│\u001b[0m below. * Fusion Energy-Related Startup Funding * Battery Tech And Fusion Dominate Big Energy Tech Funding       \u001b[33m│\u001b[0m\n",
       "\u001b[33m│\u001b[0m Rounds Artificial intelligence • Clean tech and energy • Cybersecurity • Defense tech • Fintech • M&A • Public  \u001b[33m│\u001b[0m\n",
       "\u001b[33m│\u001b[0m Markets • Quarterly and annual reports • Regional • Startups • Venture', 'score': 0.23220608, 'raw_content':    \u001b[33m│\u001b[0m\n",
       "\u001b[33m│\u001b[0m None}], 'response_time': 1.12}                                                                                  \u001b[33m│\u001b[0m\n",
       "\u001b[33m╰─────────────────────────────────────────────────────────────────────────────────────────────────────────────────╯\u001b[0m\n"
      ]
     },
     "metadata": {},
     "output_type": "display_data"
    },
    {
     "data": {
      "text/html": [
       "<pre style=\"white-space:pre;overflow-x:auto;line-height:normal;font-family:Menlo,'DejaVu Sans Mono',consolas,'Courier New',monospace\"><span style=\"color: #c0c0c0; text-decoration-color: #c0c0c0\">╭───────────────────────────────────────────────────── 📝 AI ─────────────────────────────────────────────────────╮</span>\n",
       "<span style=\"color: #c0c0c0; text-decoration-color: #c0c0c0\">│</span>                                                                                                                 <span style=\"color: #c0c0c0; text-decoration-color: #c0c0c0\">│</span>\n",
       "<span style=\"color: #c0c0c0; text-decoration-color: #c0c0c0\">│</span> 🔧 Tool Call: WriteToScratchpad                                                                                 <span style=\"color: #c0c0c0; text-decoration-color: #c0c0c0\">│</span>\n",
       "<span style=\"color: #c0c0c0; text-decoration-color: #c0c0c0\">│</span>    Args: {                                                                                                      <span style=\"color: #c0c0c0; text-decoration-color: #c0c0c0\">│</span>\n",
       "<span style=\"color: #c0c0c0; text-decoration-color: #c0c0c0\">│</span>   \"notes\": \"**Research Progress: Commonwealth Fusion Systems**\\n\\n**1. Funding Rounds:**\\n*   **Series B:**     <span style=\"color: #c0c0c0; text-decoration-color: #c0c0c0\">│</span>\n",
       "<span style=\"color: #c0c0c0; text-decoration-color: #c0c0c0\">│</span> Raised over $1.8 billion. This appears to be a major funding round.\\n*   **Other Funding:** One source mentions <span style=\"color: #c0c0c0; text-decoration-color: #c0c0c0\">│</span>\n",
       "<span style=\"color: #c0c0c0; text-decoration-color: #c0c0c0\">│</span> a \\\"Corporate\\\" funding round on June 30, 2025, which is likely an error in the data source and needs to be     <span style=\"color: #c0c0c0; text-decoration-color: #c0c0c0\">│</span>\n",
       "<span style=\"color: #c0c0c0; text-decoration-color: #c0c0c0\">│</span> verified. There's also a mention of raising over $1 billion with backing from a hyperscale data center          <span style=\"color: #c0c0c0; text-decoration-color: #c0c0c0\">│</span>\n",
       "<span style=\"color: #c0c0c0; text-decoration-color: #c0c0c0\">│</span> developer. This could be related to the Series B round, but I need to confirm.\\n*   **Total Funding:** The      <span style=\"color: #c0c0c0; text-decoration-color: #c0c0c0\">│</span>\n",
       "<span style=\"color: #c0c0c0; text-decoration-color: #c0c0c0\">│</span> total funding is still unclear, but it seems to be in the billions. I need to find details on Series A and any  <span style=\"color: #c0c0c0; text-decoration-color: #c0c0c0\">│</span>\n",
       "<span style=\"color: #c0c0c0; text-decoration-color: #c0c0c0\">│</span> other rounds to get a more accurate number.\\n\\n**Next Steps:**\\n*   Investigate the details of the $1.8 billion <span style=\"color: #c0c0c0; text-decoration-color: #c0c0c0\">│</span>\n",
       "<span style=\"color: #c0c0c0; text-decoration-color: #c0c0c0\">│</span> Series B round, including the date and key investors.\\n*   Search for information on Commonwealth Fusion        <span style=\"color: #c0c0c0; text-decoration-color: #c0c0c0\">│</span>\n",
       "<span style=\"color: #c0c0c0; text-decoration-color: #c0c0c0\">│</span> Systems' Series A funding round.\\n*   Clarify the information about the \\\"Corporate\\\" funding round and the $1  <span style=\"color: #c0c0c0; text-decoration-color: #c0c0c0\">│</span>\n",
       "<span style=\"color: #c0c0c0; text-decoration-color: #c0c0c0\">│</span> billion investment from a hyperscale data center developer.\"                                                    <span style=\"color: #c0c0c0; text-decoration-color: #c0c0c0\">│</span>\n",
       "<span style=\"color: #c0c0c0; text-decoration-color: #c0c0c0\">│</span> }                                                                                                               <span style=\"color: #c0c0c0; text-decoration-color: #c0c0c0\">│</span>\n",
       "<span style=\"color: #c0c0c0; text-decoration-color: #c0c0c0\">╰─────────────────────────────────────────────────────────────────────────────────────────────────────────────────╯</span>\n",
       "</pre>\n"
      ],
      "text/plain": [
       "\u001b[37m╭─\u001b[0m\u001b[37m────────────────────────────────────────────────────\u001b[0m\u001b[37m 📝 AI \u001b[0m\u001b[37m────────────────────────────────────────────────────\u001b[0m\u001b[37m─╮\u001b[0m\n",
       "\u001b[37m│\u001b[0m                                                                                                                 \u001b[37m│\u001b[0m\n",
       "\u001b[37m│\u001b[0m 🔧 Tool Call: WriteToScratchpad                                                                                 \u001b[37m│\u001b[0m\n",
       "\u001b[37m│\u001b[0m    Args: {                                                                                                      \u001b[37m│\u001b[0m\n",
       "\u001b[37m│\u001b[0m   \"notes\": \"**Research Progress: Commonwealth Fusion Systems**\\n\\n**1. Funding Rounds:**\\n*   **Series B:**     \u001b[37m│\u001b[0m\n",
       "\u001b[37m│\u001b[0m Raised over $1.8 billion. This appears to be a major funding round.\\n*   **Other Funding:** One source mentions \u001b[37m│\u001b[0m\n",
       "\u001b[37m│\u001b[0m a \\\"Corporate\\\" funding round on June 30, 2025, which is likely an error in the data source and needs to be     \u001b[37m│\u001b[0m\n",
       "\u001b[37m│\u001b[0m verified. There's also a mention of raising over $1 billion with backing from a hyperscale data center          \u001b[37m│\u001b[0m\n",
       "\u001b[37m│\u001b[0m developer. This could be related to the Series B round, but I need to confirm.\\n*   **Total Funding:** The      \u001b[37m│\u001b[0m\n",
       "\u001b[37m│\u001b[0m total funding is still unclear, but it seems to be in the billions. I need to find details on Series A and any  \u001b[37m│\u001b[0m\n",
       "\u001b[37m│\u001b[0m other rounds to get a more accurate number.\\n\\n**Next Steps:**\\n*   Investigate the details of the $1.8 billion \u001b[37m│\u001b[0m\n",
       "\u001b[37m│\u001b[0m Series B round, including the date and key investors.\\n*   Search for information on Commonwealth Fusion        \u001b[37m│\u001b[0m\n",
       "\u001b[37m│\u001b[0m Systems' Series A funding round.\\n*   Clarify the information about the \\\"Corporate\\\" funding round and the $1  \u001b[37m│\u001b[0m\n",
       "\u001b[37m│\u001b[0m billion investment from a hyperscale data center developer.\"                                                    \u001b[37m│\u001b[0m\n",
       "\u001b[37m│\u001b[0m }                                                                                                               \u001b[37m│\u001b[0m\n",
       "\u001b[37m╰─────────────────────────────────────────────────────────────────────────────────────────────────────────────────╯\u001b[0m\n"
      ]
     },
     "metadata": {},
     "output_type": "display_data"
    },
    {
     "data": {
      "text/html": [
       "<pre style=\"white-space:pre;overflow-x:auto;line-height:normal;font-family:Menlo,'DejaVu Sans Mono',consolas,'Courier New',monospace\"><span style=\"color: #808000; text-decoration-color: #808000\">╭──────────────────────────────────────────────── 🔧 Tool Output ─────────────────────────────────────────────────╮</span>\n",
       "<span style=\"color: #808000; text-decoration-color: #808000\">│</span> Wrote to scratchpad: **Research Progress: Commonwealth Fusion Systems**                                         <span style=\"color: #808000; text-decoration-color: #808000\">│</span>\n",
       "<span style=\"color: #808000; text-decoration-color: #808000\">│</span>                                                                                                                 <span style=\"color: #808000; text-decoration-color: #808000\">│</span>\n",
       "<span style=\"color: #808000; text-decoration-color: #808000\">│</span> **1. Funding Rounds:**                                                                                          <span style=\"color: #808000; text-decoration-color: #808000\">│</span>\n",
       "<span style=\"color: #808000; text-decoration-color: #808000\">│</span> *   **Series B:** Raised over $1.8 billion. This appears to be a major funding round.                           <span style=\"color: #808000; text-decoration-color: #808000\">│</span>\n",
       "<span style=\"color: #808000; text-decoration-color: #808000\">│</span> *   **Other Funding:** One source mentions a \"Corporate\" funding round on June 30, 2025, which is likely an     <span style=\"color: #808000; text-decoration-color: #808000\">│</span>\n",
       "<span style=\"color: #808000; text-decoration-color: #808000\">│</span> error in the data source and needs to be verified. There's also a mention of raising over $1 billion with       <span style=\"color: #808000; text-decoration-color: #808000\">│</span>\n",
       "<span style=\"color: #808000; text-decoration-color: #808000\">│</span> backing from a hyperscale data center developer. This could be related to the Series B round, but I need to     <span style=\"color: #808000; text-decoration-color: #808000\">│</span>\n",
       "<span style=\"color: #808000; text-decoration-color: #808000\">│</span> confirm.                                                                                                        <span style=\"color: #808000; text-decoration-color: #808000\">│</span>\n",
       "<span style=\"color: #808000; text-decoration-color: #808000\">│</span> *   **Total Funding:** The total funding is still unclear, but it seems to be in the billions. I need to find   <span style=\"color: #808000; text-decoration-color: #808000\">│</span>\n",
       "<span style=\"color: #808000; text-decoration-color: #808000\">│</span> details on Series A and any other rounds to get a more accurate number.                                         <span style=\"color: #808000; text-decoration-color: #808000\">│</span>\n",
       "<span style=\"color: #808000; text-decoration-color: #808000\">│</span>                                                                                                                 <span style=\"color: #808000; text-decoration-color: #808000\">│</span>\n",
       "<span style=\"color: #808000; text-decoration-color: #808000\">│</span> **Next Steps:**                                                                                                 <span style=\"color: #808000; text-decoration-color: #808000\">│</span>\n",
       "<span style=\"color: #808000; text-decoration-color: #808000\">│</span> *   Investigate the details of the $1.8 billion Series B round, including the date and key investors.           <span style=\"color: #808000; text-decoration-color: #808000\">│</span>\n",
       "<span style=\"color: #808000; text-decoration-color: #808000\">│</span> *   Search for information on Commonwealth Fusion Systems' Series A funding round.                              <span style=\"color: #808000; text-decoration-color: #808000\">│</span>\n",
       "<span style=\"color: #808000; text-decoration-color: #808000\">│</span> *   Clarify the information about the \"Corporate\" funding round and the $1 billion investment from a hyperscale <span style=\"color: #808000; text-decoration-color: #808000\">│</span>\n",
       "<span style=\"color: #808000; text-decoration-color: #808000\">│</span> data center developer.                                                                                          <span style=\"color: #808000; text-decoration-color: #808000\">│</span>\n",
       "<span style=\"color: #808000; text-decoration-color: #808000\">╰─────────────────────────────────────────────────────────────────────────────────────────────────────────────────╯</span>\n",
       "</pre>\n"
      ],
      "text/plain": [
       "\u001b[33m╭─\u001b[0m\u001b[33m───────────────────────────────────────────────\u001b[0m\u001b[33m 🔧 Tool Output \u001b[0m\u001b[33m────────────────────────────────────────────────\u001b[0m\u001b[33m─╮\u001b[0m\n",
       "\u001b[33m│\u001b[0m Wrote to scratchpad: **Research Progress: Commonwealth Fusion Systems**                                         \u001b[33m│\u001b[0m\n",
       "\u001b[33m│\u001b[0m                                                                                                                 \u001b[33m│\u001b[0m\n",
       "\u001b[33m│\u001b[0m **1. Funding Rounds:**                                                                                          \u001b[33m│\u001b[0m\n",
       "\u001b[33m│\u001b[0m *   **Series B:** Raised over $1.8 billion. This appears to be a major funding round.                           \u001b[33m│\u001b[0m\n",
       "\u001b[33m│\u001b[0m *   **Other Funding:** One source mentions a \"Corporate\" funding round on June 30, 2025, which is likely an     \u001b[33m│\u001b[0m\n",
       "\u001b[33m│\u001b[0m error in the data source and needs to be verified. There's also a mention of raising over $1 billion with       \u001b[33m│\u001b[0m\n",
       "\u001b[33m│\u001b[0m backing from a hyperscale data center developer. This could be related to the Series B round, but I need to     \u001b[33m│\u001b[0m\n",
       "\u001b[33m│\u001b[0m confirm.                                                                                                        \u001b[33m│\u001b[0m\n",
       "\u001b[33m│\u001b[0m *   **Total Funding:** The total funding is still unclear, but it seems to be in the billions. I need to find   \u001b[33m│\u001b[0m\n",
       "\u001b[33m│\u001b[0m details on Series A and any other rounds to get a more accurate number.                                         \u001b[33m│\u001b[0m\n",
       "\u001b[33m│\u001b[0m                                                                                                                 \u001b[33m│\u001b[0m\n",
       "\u001b[33m│\u001b[0m **Next Steps:**                                                                                                 \u001b[33m│\u001b[0m\n",
       "\u001b[33m│\u001b[0m *   Investigate the details of the $1.8 billion Series B round, including the date and key investors.           \u001b[33m│\u001b[0m\n",
       "\u001b[33m│\u001b[0m *   Search for information on Commonwealth Fusion Systems' Series A funding round.                              \u001b[33m│\u001b[0m\n",
       "\u001b[33m│\u001b[0m *   Clarify the information about the \"Corporate\" funding round and the $1 billion investment from a hyperscale \u001b[33m│\u001b[0m\n",
       "\u001b[33m│\u001b[0m data center developer.                                                                                          \u001b[33m│\u001b[0m\n",
       "\u001b[33m╰─────────────────────────────────────────────────────────────────────────────────────────────────────────────────╯\u001b[0m\n"
      ]
     },
     "metadata": {},
     "output_type": "display_data"
    },
    {
     "data": {
      "text/html": [
       "<pre style=\"white-space:pre;overflow-x:auto;line-height:normal;font-family:Menlo,'DejaVu Sans Mono',consolas,'Courier New',monospace\"><span style=\"color: #c0c0c0; text-decoration-color: #c0c0c0\">╭───────────────────────────────────────────────────── 📝 AI ─────────────────────────────────────────────────────╮</span>\n",
       "<span style=\"color: #c0c0c0; text-decoration-color: #c0c0c0\">│</span>                                                                                                                 <span style=\"color: #c0c0c0; text-decoration-color: #c0c0c0\">│</span>\n",
       "<span style=\"color: #c0c0c0; text-decoration-color: #c0c0c0\">│</span> 🔧 Tool Call: tavily_search                                                                                     <span style=\"color: #c0c0c0; text-decoration-color: #c0c0c0\">│</span>\n",
       "<span style=\"color: #c0c0c0; text-decoration-color: #c0c0c0\">│</span>    Args: {                                                                                                      <span style=\"color: #c0c0c0; text-decoration-color: #c0c0c0\">│</span>\n",
       "<span style=\"color: #c0c0c0; text-decoration-color: #c0c0c0\">│</span>   \"query\": \"Commonwealth Fusion Systems Series B funding investors\"                                             <span style=\"color: #c0c0c0; text-decoration-color: #c0c0c0\">│</span>\n",
       "<span style=\"color: #c0c0c0; text-decoration-color: #c0c0c0\">│</span> }                                                                                                               <span style=\"color: #c0c0c0; text-decoration-color: #c0c0c0\">│</span>\n",
       "<span style=\"color: #c0c0c0; text-decoration-color: #c0c0c0\">╰─────────────────────────────────────────────────────────────────────────────────────────────────────────────────╯</span>\n",
       "</pre>\n"
      ],
      "text/plain": [
       "\u001b[37m╭─\u001b[0m\u001b[37m────────────────────────────────────────────────────\u001b[0m\u001b[37m 📝 AI \u001b[0m\u001b[37m────────────────────────────────────────────────────\u001b[0m\u001b[37m─╮\u001b[0m\n",
       "\u001b[37m│\u001b[0m                                                                                                                 \u001b[37m│\u001b[0m\n",
       "\u001b[37m│\u001b[0m 🔧 Tool Call: tavily_search                                                                                     \u001b[37m│\u001b[0m\n",
       "\u001b[37m│\u001b[0m    Args: {                                                                                                      \u001b[37m│\u001b[0m\n",
       "\u001b[37m│\u001b[0m   \"query\": \"Commonwealth Fusion Systems Series B funding investors\"                                             \u001b[37m│\u001b[0m\n",
       "\u001b[37m│\u001b[0m }                                                                                                               \u001b[37m│\u001b[0m\n",
       "\u001b[37m╰─────────────────────────────────────────────────────────────────────────────────────────────────────────────────╯\u001b[0m\n"
      ]
     },
     "metadata": {},
     "output_type": "display_data"
    },
    {
     "data": {
      "text/html": [
       "<pre style=\"white-space:pre;overflow-x:auto;line-height:normal;font-family:Menlo,'DejaVu Sans Mono',consolas,'Courier New',monospace\"><span style=\"color: #808000; text-decoration-color: #808000\">╭──────────────────────────────────────────────── 🔧 Tool Output ─────────────────────────────────────────────────╮</span>\n",
       "<span style=\"color: #808000; text-decoration-color: #808000\">│</span> {'query': 'Commonwealth Fusion Systems Series B funding investors', 'follow_up_questions': None, 'answer':      <span style=\"color: #808000; text-decoration-color: #808000\">│</span>\n",
       "<span style=\"color: #808000; text-decoration-color: #808000\">│</span> None, 'images': [], 'results': [{'url':                                                                         <span style=\"color: #808000; text-decoration-color: #808000\">│</span>\n",
       "<span style=\"color: #808000; text-decoration-color: #808000\">│</span> 'https://www.crunchbase.com/funding_round/commonwealth-fusion-systems-series-b--83168bde', 'title': 'Series B - <span style=\"color: #808000; text-decoration-color: #808000\">│</span>\n",
       "<span style=\"color: #808000; text-decoration-color: #808000\">│</span> Commonwealth Fusion Systems - 2021-12-01', 'content': 'Commonwealth Fusion Systems raises $1.8 billion in       <span style=\"color: #808000; text-decoration-color: #808000\">│</span>\n",
       "<span style=\"color: #808000; text-decoration-color: #808000\">│</span> funding to commercialize fusion energy. News• Dec 1, 2021', 'score': 0.81347597, 'raw_content': None}, {'url':  <span style=\"color: #808000; text-decoration-color: #808000\">│</span>\n",
       "<span style=\"color: #808000; text-decoration-color: #808000\">│</span> 'https://www.cfs.energy/news-and-media/commonwealth-fusion-systems-closes-1-8-billion-series-b-round/',         <span style=\"color: #808000; text-decoration-color: #808000\">│</span>\n",
       "<span style=\"color: #808000; text-decoration-color: #808000\">│</span> 'title': 'Commonwealth Fusion Systems Raises $1.8 Billion in ...', 'content': 'Commonwealth Fusion Systems      <span style=\"color: #808000; text-decoration-color: #808000\">│</span>\n",
       "<span style=\"color: #808000; text-decoration-color: #808000\">│</span> (CFS) announced it has closed on more than $1.8 billion in Series B funding to commercialize fusion energy.',   <span style=\"color: #808000; text-decoration-color: #808000\">│</span>\n",
       "<span style=\"color: #808000; text-decoration-color: #808000\">│</span> 'score': 0.8106142, 'raw_content': None}, {'url': 'https://www.clay.com/dossier/commonwealth-fusion-funding',   <span style=\"color: #808000; text-decoration-color: #808000\">│</span>\n",
       "<span style=\"color: #808000; text-decoration-color: #808000\">│</span> 'title': 'How Much Did Commonwealth Fusion Raise? Funding &amp; ...', 'content': 'Amount Raised: $1.8B · Date:      <span style=\"color: #808000; text-decoration-color: #808000\">│</span>\n",
       "<span style=\"color: #808000; text-decoration-color: #808000\">│</span> December 2021 · Lead Investors: Tiger Global Management · Valuation at Round: Not publicly disclosed', 'score': <span style=\"color: #808000; text-decoration-color: #808000\">│</span>\n",
       "<span style=\"color: #808000; text-decoration-color: #808000\">│</span> 0.57006866, 'raw_content': None}, {'url':                                                                       <span style=\"color: #808000; text-decoration-color: #808000\">│</span>\n",
       "<span style=\"color: #808000; text-decoration-color: #808000\">│</span> 'https://www.reddit.com/r/fusion/comments/1km2g7h/commonwealth_fusion_systems_raising_1_billionplus/', 'title': <span style=\"color: #808000; text-decoration-color: #808000\">│</span>\n",
       "<span style=\"color: #808000; text-decoration-color: #808000\">│</span> 'Commonwealth Fusion Systems raising $1 billion-plus ...', 'content': '31K Members Online    ### An Update from <span style=\"color: #808000; text-decoration-color: #808000\">│</span>\n",
       "<span style=\"color: #808000; text-decoration-color: #808000\">│</span> Commonwealth Fusion Systems (December 2024) youtu    74 upvotes ·18 comments    31K Members Online    ###       <span style=\"color: #808000; text-decoration-color: #808000\">│</span>\n",
       "<span style=\"color: #808000; text-decoration-color: #808000\">│</span> Commonwealth Fusion Systems and Type One Energy Sign Fusion Magnet Agreement cfs    35 upvotes ·8 comments      <span style=\"color: #808000; text-decoration-color: #808000\">│</span>\n",
       "<span style=\"color: #808000; text-decoration-color: #808000\">│</span> 31K Members Online    ### PREVIEW - Interview with Commonwealth Fusion Systems Chief Commercial Officer Rick    <span style=\"color: #808000; text-decoration-color: #808000\">│</span>\n",
       "<span style=\"color: #808000; text-decoration-color: #808000\">│</span> Needham youtube    20 upvotes ·5 comments    31K Members Online    ### Fusion industry makes its case to GOP    <span style=\"color: #808000; text-decoration-color: #808000\">│</span>\n",
       "<span style=\"color: #808000; text-decoration-color: #808000\">│</span> axios    80 upvotes ·17 comments    31K Members Online    ### Focused Energy raising $150 million for laser     <span style=\"color: #808000; text-decoration-color: #808000\">│</span>\n",
       "<span style=\"color: #808000; text-decoration-color: #808000\">│</span> fusion energy - by Axios archive    13 upvotes ·6 comments    22M Members Online    ### ‘World’s first’         <span style=\"color: #808000; text-decoration-color: #808000\">│</span>\n",
       "<span style=\"color: #808000; text-decoration-color: #808000\">│</span> grid-scale nuclear fusion power plant announced in the US in another step for the futuristic energy cnn    1.1K <span style=\"color: #808000; text-decoration-color: #808000\">│</span>\n",
       "<span style=\"color: #808000; text-decoration-color: #808000\">│</span> upvotes ·117 comments   ', 'score': 0.2903471, 'raw_content': None}, {'url':                                    <span style=\"color: #808000; text-decoration-color: #808000\">│</span>\n",
       "<span style=\"color: #808000; text-decoration-color: #808000\">│</span> 'https://news.crunchbase.com/clean-tech-and-energy/fusion-funding-falls-commonwealth-helion-altman/', 'title':  <span style=\"color: #808000; text-decoration-color: #808000\">│</span>\n",
       "<span style=\"color: #808000; text-decoration-color: #808000\">│</span> 'Fusion Funding Has Fizzled', 'content': 'Funding to startups focused on fusion energy has declined sharply in  <span style=\"color: #808000; text-decoration-color: #808000\">│</span>\n",
       "<span style=\"color: #808000; text-decoration-color: #808000\">│</span> recent quarters after hitting a high two-and-a-half years ago. For a sense of how fusion-focused startup        <span style=\"color: #808000; text-decoration-color: #808000\">│</span>\n",
       "<span style=\"color: #808000; text-decoration-color: #808000\">│</span> funding has fluctuated, we used Crunchbase data to chart out investment to the space over the past 14 quarters. <span style=\"color: #808000; text-decoration-color: #808000\">│</span>\n",
       "<span style=\"color: #808000; text-decoration-color: #808000\">│</span> Fusion funding has seen much more dramatic annual ups and downs than average for startup sectors, as charted    <span style=\"color: #808000; text-decoration-color: #808000\">│</span>\n",
       "<span style=\"color: #808000; text-decoration-color: #808000\">│</span> below. * Fusion Energy-Related Startup Funding * Battery Tech And Fusion Dominate Big Energy Tech Funding       <span style=\"color: #808000; text-decoration-color: #808000\">│</span>\n",
       "<span style=\"color: #808000; text-decoration-color: #808000\">│</span> Rounds Artificial intelligence • Clean tech and energy • Cybersecurity • Defense tech • Fintech • M&amp;A • Public  <span style=\"color: #808000; text-decoration-color: #808000\">│</span>\n",
       "<span style=\"color: #808000; text-decoration-color: #808000\">│</span> Markets • Quarterly and annual reports • Regional • Startups • Venture', 'score': 0.09593248, 'raw_content':    <span style=\"color: #808000; text-decoration-color: #808000\">│</span>\n",
       "<span style=\"color: #808000; text-decoration-color: #808000\">│</span> None}], 'response_time': 0.99}                                                                                  <span style=\"color: #808000; text-decoration-color: #808000\">│</span>\n",
       "<span style=\"color: #808000; text-decoration-color: #808000\">╰─────────────────────────────────────────────────────────────────────────────────────────────────────────────────╯</span>\n",
       "</pre>\n"
      ],
      "text/plain": [
       "\u001b[33m╭─\u001b[0m\u001b[33m───────────────────────────────────────────────\u001b[0m\u001b[33m 🔧 Tool Output \u001b[0m\u001b[33m────────────────────────────────────────────────\u001b[0m\u001b[33m─╮\u001b[0m\n",
       "\u001b[33m│\u001b[0m {'query': 'Commonwealth Fusion Systems Series B funding investors', 'follow_up_questions': None, 'answer':      \u001b[33m│\u001b[0m\n",
       "\u001b[33m│\u001b[0m None, 'images': [], 'results': [{'url':                                                                         \u001b[33m│\u001b[0m\n",
       "\u001b[33m│\u001b[0m 'https://www.crunchbase.com/funding_round/commonwealth-fusion-systems-series-b--83168bde', 'title': 'Series B - \u001b[33m│\u001b[0m\n",
       "\u001b[33m│\u001b[0m Commonwealth Fusion Systems - 2021-12-01', 'content': 'Commonwealth Fusion Systems raises $1.8 billion in       \u001b[33m│\u001b[0m\n",
       "\u001b[33m│\u001b[0m funding to commercialize fusion energy. News• Dec 1, 2021', 'score': 0.81347597, 'raw_content': None}, {'url':  \u001b[33m│\u001b[0m\n",
       "\u001b[33m│\u001b[0m 'https://www.cfs.energy/news-and-media/commonwealth-fusion-systems-closes-1-8-billion-series-b-round/',         \u001b[33m│\u001b[0m\n",
       "\u001b[33m│\u001b[0m 'title': 'Commonwealth Fusion Systems Raises $1.8 Billion in ...', 'content': 'Commonwealth Fusion Systems      \u001b[33m│\u001b[0m\n",
       "\u001b[33m│\u001b[0m (CFS) announced it has closed on more than $1.8 billion in Series B funding to commercialize fusion energy.',   \u001b[33m│\u001b[0m\n",
       "\u001b[33m│\u001b[0m 'score': 0.8106142, 'raw_content': None}, {'url': 'https://www.clay.com/dossier/commonwealth-fusion-funding',   \u001b[33m│\u001b[0m\n",
       "\u001b[33m│\u001b[0m 'title': 'How Much Did Commonwealth Fusion Raise? Funding & ...', 'content': 'Amount Raised: $1.8B · Date:      \u001b[33m│\u001b[0m\n",
       "\u001b[33m│\u001b[0m December 2021 · Lead Investors: Tiger Global Management · Valuation at Round: Not publicly disclosed', 'score': \u001b[33m│\u001b[0m\n",
       "\u001b[33m│\u001b[0m 0.57006866, 'raw_content': None}, {'url':                                                                       \u001b[33m│\u001b[0m\n",
       "\u001b[33m│\u001b[0m 'https://www.reddit.com/r/fusion/comments/1km2g7h/commonwealth_fusion_systems_raising_1_billionplus/', 'title': \u001b[33m│\u001b[0m\n",
       "\u001b[33m│\u001b[0m 'Commonwealth Fusion Systems raising $1 billion-plus ...', 'content': '31K Members Online    ### An Update from \u001b[33m│\u001b[0m\n",
       "\u001b[33m│\u001b[0m Commonwealth Fusion Systems (December 2024) youtu    74 upvotes ·18 comments    31K Members Online    ###       \u001b[33m│\u001b[0m\n",
       "\u001b[33m│\u001b[0m Commonwealth Fusion Systems and Type One Energy Sign Fusion Magnet Agreement cfs    35 upvotes ·8 comments      \u001b[33m│\u001b[0m\n",
       "\u001b[33m│\u001b[0m 31K Members Online    ### PREVIEW - Interview with Commonwealth Fusion Systems Chief Commercial Officer Rick    \u001b[33m│\u001b[0m\n",
       "\u001b[33m│\u001b[0m Needham youtube    20 upvotes ·5 comments    31K Members Online    ### Fusion industry makes its case to GOP    \u001b[33m│\u001b[0m\n",
       "\u001b[33m│\u001b[0m axios    80 upvotes ·17 comments    31K Members Online    ### Focused Energy raising $150 million for laser     \u001b[33m│\u001b[0m\n",
       "\u001b[33m│\u001b[0m fusion energy - by Axios archive    13 upvotes ·6 comments    22M Members Online    ### ‘World’s first’         \u001b[33m│\u001b[0m\n",
       "\u001b[33m│\u001b[0m grid-scale nuclear fusion power plant announced in the US in another step for the futuristic energy cnn    1.1K \u001b[33m│\u001b[0m\n",
       "\u001b[33m│\u001b[0m upvotes ·117 comments   ', 'score': 0.2903471, 'raw_content': None}, {'url':                                    \u001b[33m│\u001b[0m\n",
       "\u001b[33m│\u001b[0m 'https://news.crunchbase.com/clean-tech-and-energy/fusion-funding-falls-commonwealth-helion-altman/', 'title':  \u001b[33m│\u001b[0m\n",
       "\u001b[33m│\u001b[0m 'Fusion Funding Has Fizzled', 'content': 'Funding to startups focused on fusion energy has declined sharply in  \u001b[33m│\u001b[0m\n",
       "\u001b[33m│\u001b[0m recent quarters after hitting a high two-and-a-half years ago. For a sense of how fusion-focused startup        \u001b[33m│\u001b[0m\n",
       "\u001b[33m│\u001b[0m funding has fluctuated, we used Crunchbase data to chart out investment to the space over the past 14 quarters. \u001b[33m│\u001b[0m\n",
       "\u001b[33m│\u001b[0m Fusion funding has seen much more dramatic annual ups and downs than average for startup sectors, as charted    \u001b[33m│\u001b[0m\n",
       "\u001b[33m│\u001b[0m below. * Fusion Energy-Related Startup Funding * Battery Tech And Fusion Dominate Big Energy Tech Funding       \u001b[33m│\u001b[0m\n",
       "\u001b[33m│\u001b[0m Rounds Artificial intelligence • Clean tech and energy • Cybersecurity • Defense tech • Fintech • M&A • Public  \u001b[33m│\u001b[0m\n",
       "\u001b[33m│\u001b[0m Markets • Quarterly and annual reports • Regional • Startups • Venture', 'score': 0.09593248, 'raw_content':    \u001b[33m│\u001b[0m\n",
       "\u001b[33m│\u001b[0m None}], 'response_time': 0.99}                                                                                  \u001b[33m│\u001b[0m\n",
       "\u001b[33m╰─────────────────────────────────────────────────────────────────────────────────────────────────────────────────╯\u001b[0m\n"
      ]
     },
     "metadata": {},
     "output_type": "display_data"
    },
    {
     "data": {
      "text/html": [
       "<pre style=\"white-space:pre;overflow-x:auto;line-height:normal;font-family:Menlo,'DejaVu Sans Mono',consolas,'Courier New',monospace\"><span style=\"color: #c0c0c0; text-decoration-color: #c0c0c0\">╭───────────────────────────────────────────────────── 📝 AI ─────────────────────────────────────────────────────╮</span>\n",
       "<span style=\"color: #c0c0c0; text-decoration-color: #c0c0c0\">│</span>                                                                                                                 <span style=\"color: #c0c0c0; text-decoration-color: #c0c0c0\">│</span>\n",
       "<span style=\"color: #c0c0c0; text-decoration-color: #c0c0c0\">│</span> 🔧 Tool Call: tavily_search                                                                                     <span style=\"color: #c0c0c0; text-decoration-color: #c0c0c0\">│</span>\n",
       "<span style=\"color: #c0c0c0; text-decoration-color: #c0c0c0\">│</span>    Args: {                                                                                                      <span style=\"color: #c0c0c0; text-decoration-color: #c0c0c0\">│</span>\n",
       "<span style=\"color: #c0c0c0; text-decoration-color: #c0c0c0\">│</span>   \"query\": \"Commonwealth Fusion Systems Series A funding\"                                                       <span style=\"color: #c0c0c0; text-decoration-color: #c0c0c0\">│</span>\n",
       "<span style=\"color: #c0c0c0; text-decoration-color: #c0c0c0\">│</span> }                                                                                                               <span style=\"color: #c0c0c0; text-decoration-color: #c0c0c0\">│</span>\n",
       "<span style=\"color: #c0c0c0; text-decoration-color: #c0c0c0\">╰─────────────────────────────────────────────────────────────────────────────────────────────────────────────────╯</span>\n",
       "</pre>\n"
      ],
      "text/plain": [
       "\u001b[37m╭─\u001b[0m\u001b[37m────────────────────────────────────────────────────\u001b[0m\u001b[37m 📝 AI \u001b[0m\u001b[37m────────────────────────────────────────────────────\u001b[0m\u001b[37m─╮\u001b[0m\n",
       "\u001b[37m│\u001b[0m                                                                                                                 \u001b[37m│\u001b[0m\n",
       "\u001b[37m│\u001b[0m 🔧 Tool Call: tavily_search                                                                                     \u001b[37m│\u001b[0m\n",
       "\u001b[37m│\u001b[0m    Args: {                                                                                                      \u001b[37m│\u001b[0m\n",
       "\u001b[37m│\u001b[0m   \"query\": \"Commonwealth Fusion Systems Series A funding\"                                                       \u001b[37m│\u001b[0m\n",
       "\u001b[37m│\u001b[0m }                                                                                                               \u001b[37m│\u001b[0m\n",
       "\u001b[37m╰─────────────────────────────────────────────────────────────────────────────────────────────────────────────────╯\u001b[0m\n"
      ]
     },
     "metadata": {},
     "output_type": "display_data"
    },
    {
     "data": {
      "text/html": [
       "<pre style=\"white-space:pre;overflow-x:auto;line-height:normal;font-family:Menlo,'DejaVu Sans Mono',consolas,'Courier New',monospace\"><span style=\"color: #808000; text-decoration-color: #808000\">╭──────────────────────────────────────────────── 🔧 Tool Output ─────────────────────────────────────────────────╮</span>\n",
       "<span style=\"color: #808000; text-decoration-color: #808000\">│</span> {'query': 'Commonwealth Fusion Systems Series A funding', 'follow_up_questions': None, 'answer': None,          <span style=\"color: #808000; text-decoration-color: #808000\">│</span>\n",
       "<span style=\"color: #808000; text-decoration-color: #808000\">│</span> 'images': [], 'results': [{'url': 'https://cfs.energy/news-and-media/close-series-a-round/', 'title':           <span style=\"color: #808000; text-decoration-color: #808000\">│</span>\n",
       "<span style=\"color: #808000; text-decoration-color: #808000\">│</span> 'Commonwealth Fusion Systems Raises $115 Million and ...', 'content': 'Commonwealth Fusion Systems (CFS), a     <span style=\"color: #808000; text-decoration-color: #808000\">│</span>\n",
       "<span style=\"color: #808000; text-decoration-color: #808000\">│</span> startup commercializing fusion energy, today announced it has raised $115 million and closed its Series A       <span style=\"color: #808000; text-decoration-color: #808000\">│</span>\n",
       "<span style=\"color: #808000; text-decoration-color: #808000\">│</span> round.', 'score': 0.86928266, 'raw_content': None}, {'url':                                                     <span style=\"color: #808000; text-decoration-color: #808000\">│</span>\n",
       "<span style=\"color: #808000; text-decoration-color: #808000\">│</span> 'https://www.prnewswire.com/news-releases/commonwealth-fusion-systems-raises-115-million-and-closes-series-a-ro <span style=\"color: #808000; text-decoration-color: #808000\">│</span>\n",
       "<span style=\"color: #808000; text-decoration-color: #808000\">│</span> und-to-commercialize-fusion-energy-300875732.html', 'title': 'Commonwealth Fusion Systems Raises $115 Million   <span style=\"color: #808000; text-decoration-color: #808000\">│</span>\n",
       "<span style=\"color: #808000; text-decoration-color: #808000\">│</span> and ...', 'content': 'Commonwealth Fusion Systems (CFS), a startup commercializing fusion energy, today         <span style=\"color: #808000; text-decoration-color: #808000\">│</span>\n",
       "<span style=\"color: #808000; text-decoration-color: #808000\">│</span> announced it has raised $115 million and closed its Series A round.', 'score': 0.86928266, 'raw_content':       <span style=\"color: #808000; text-decoration-color: #808000\">│</span>\n",
       "<span style=\"color: #808000; text-decoration-color: #808000\">│</span> None}, {'url': 'https://en.wikipedia.org/wiki/Commonwealth_Fusion_Systems', 'title': 'Commonwealth Fusion       <span style=\"color: #808000; text-decoration-color: #808000\">│</span>\n",
       "<span style=\"color: #808000; text-decoration-color: #808000\">│</span> Systems', 'content': \"CFS raised an additional US$ 84million in series A2 funding from Singapore's Temasek,     <span style=\"color: #808000; text-decoration-color: #808000\">│</span>\n",
       "<span style=\"color: #808000; text-decoration-color: #808000\">│</span> Norway's Equinor, and Devonshire Investors, as well as from previous\", 'score': 0.84246206, 'raw_content':      <span style=\"color: #808000; text-decoration-color: #808000\">│</span>\n",
       "<span style=\"color: #808000; text-decoration-color: #808000\">│</span> None}, {'url':                                                                                                  <span style=\"color: #808000; text-decoration-color: #808000\">│</span>\n",
       "<span style=\"color: #808000; text-decoration-color: #808000\">│</span> 'https://www.cfs.energy/news-and-media/commonwealth-fusion-systems-closes-1-8-billion-series-b-round/',         <span style=\"color: #808000; text-decoration-color: #808000\">│</span>\n",
       "<span style=\"color: #808000; text-decoration-color: #808000\">│</span> 'title': 'Commonwealth Fusion Systems Raises $1.8 Billion in ...', 'content': 'Commonwealth Fusion Systems      <span style=\"color: #808000; text-decoration-color: #808000\">│</span>\n",
       "<span style=\"color: #808000; text-decoration-color: #808000\">│</span> (CFS) announced it has closed on more than $1.8 billion in Series B funding to commercialize fusion energy.',   <span style=\"color: #808000; text-decoration-color: #808000\">│</span>\n",
       "<span style=\"color: #808000; text-decoration-color: #808000\">│</span> 'score': 0.7099254, 'raw_content': None}, {'url':                                                               <span style=\"color: #808000; text-decoration-color: #808000\">│</span>\n",
       "<span style=\"color: #808000; text-decoration-color: #808000\">│</span> 'https://news.crunchbase.com/clean-tech-and-energy/fusion-funding-falls-commonwealth-helion-altman/', 'title':  <span style=\"color: #808000; text-decoration-color: #808000\">│</span>\n",
       "<span style=\"color: #808000; text-decoration-color: #808000\">│</span> 'Fusion Funding Has Fizzled', 'content': 'Funding to startups focused on fusion energy has declined sharply in  <span style=\"color: #808000; text-decoration-color: #808000\">│</span>\n",
       "<span style=\"color: #808000; text-decoration-color: #808000\">│</span> recent quarters after hitting a high two-and-a-half years ago. For a sense of how fusion-focused startup        <span style=\"color: #808000; text-decoration-color: #808000\">│</span>\n",
       "<span style=\"color: #808000; text-decoration-color: #808000\">│</span> funding has fluctuated, we used Crunchbase data to chart out investment to the space over the past 14 quarters. <span style=\"color: #808000; text-decoration-color: #808000\">│</span>\n",
       "<span style=\"color: #808000; text-decoration-color: #808000\">│</span> Fusion funding has seen much more dramatic annual ups and downs than average for startup sectors, as charted    <span style=\"color: #808000; text-decoration-color: #808000\">│</span>\n",
       "<span style=\"color: #808000; text-decoration-color: #808000\">│</span> below. * Fusion Energy-Related Startup Funding * Battery Tech And Fusion Dominate Big Energy Tech Funding       <span style=\"color: #808000; text-decoration-color: #808000\">│</span>\n",
       "<span style=\"color: #808000; text-decoration-color: #808000\">│</span> Rounds Artificial intelligence • Clean tech and energy • Cybersecurity • Defense tech • Fintech • M&amp;A • Public  <span style=\"color: #808000; text-decoration-color: #808000\">│</span>\n",
       "<span style=\"color: #808000; text-decoration-color: #808000\">│</span> Markets • Quarterly and annual reports • Regional • Startups • Venture', 'score': 0.1196859, 'raw_content':     <span style=\"color: #808000; text-decoration-color: #808000\">│</span>\n",
       "<span style=\"color: #808000; text-decoration-color: #808000\">│</span> None}], 'response_time': 0.82}                                                                                  <span style=\"color: #808000; text-decoration-color: #808000\">│</span>\n",
       "<span style=\"color: #808000; text-decoration-color: #808000\">╰─────────────────────────────────────────────────────────────────────────────────────────────────────────────────╯</span>\n",
       "</pre>\n"
      ],
      "text/plain": [
       "\u001b[33m╭─\u001b[0m\u001b[33m───────────────────────────────────────────────\u001b[0m\u001b[33m 🔧 Tool Output \u001b[0m\u001b[33m────────────────────────────────────────────────\u001b[0m\u001b[33m─╮\u001b[0m\n",
       "\u001b[33m│\u001b[0m {'query': 'Commonwealth Fusion Systems Series A funding', 'follow_up_questions': None, 'answer': None,          \u001b[33m│\u001b[0m\n",
       "\u001b[33m│\u001b[0m 'images': [], 'results': [{'url': 'https://cfs.energy/news-and-media/close-series-a-round/', 'title':           \u001b[33m│\u001b[0m\n",
       "\u001b[33m│\u001b[0m 'Commonwealth Fusion Systems Raises $115 Million and ...', 'content': 'Commonwealth Fusion Systems (CFS), a     \u001b[33m│\u001b[0m\n",
       "\u001b[33m│\u001b[0m startup commercializing fusion energy, today announced it has raised $115 million and closed its Series A       \u001b[33m│\u001b[0m\n",
       "\u001b[33m│\u001b[0m round.', 'score': 0.86928266, 'raw_content': None}, {'url':                                                     \u001b[33m│\u001b[0m\n",
       "\u001b[33m│\u001b[0m 'https://www.prnewswire.com/news-releases/commonwealth-fusion-systems-raises-115-million-and-closes-series-a-ro \u001b[33m│\u001b[0m\n",
       "\u001b[33m│\u001b[0m und-to-commercialize-fusion-energy-300875732.html', 'title': 'Commonwealth Fusion Systems Raises $115 Million   \u001b[33m│\u001b[0m\n",
       "\u001b[33m│\u001b[0m and ...', 'content': 'Commonwealth Fusion Systems (CFS), a startup commercializing fusion energy, today         \u001b[33m│\u001b[0m\n",
       "\u001b[33m│\u001b[0m announced it has raised $115 million and closed its Series A round.', 'score': 0.86928266, 'raw_content':       \u001b[33m│\u001b[0m\n",
       "\u001b[33m│\u001b[0m None}, {'url': 'https://en.wikipedia.org/wiki/Commonwealth_Fusion_Systems', 'title': 'Commonwealth Fusion       \u001b[33m│\u001b[0m\n",
       "\u001b[33m│\u001b[0m Systems', 'content': \"CFS raised an additional US$ 84million in series A2 funding from Singapore's Temasek,     \u001b[33m│\u001b[0m\n",
       "\u001b[33m│\u001b[0m Norway's Equinor, and Devonshire Investors, as well as from previous\", 'score': 0.84246206, 'raw_content':      \u001b[33m│\u001b[0m\n",
       "\u001b[33m│\u001b[0m None}, {'url':                                                                                                  \u001b[33m│\u001b[0m\n",
       "\u001b[33m│\u001b[0m 'https://www.cfs.energy/news-and-media/commonwealth-fusion-systems-closes-1-8-billion-series-b-round/',         \u001b[33m│\u001b[0m\n",
       "\u001b[33m│\u001b[0m 'title': 'Commonwealth Fusion Systems Raises $1.8 Billion in ...', 'content': 'Commonwealth Fusion Systems      \u001b[33m│\u001b[0m\n",
       "\u001b[33m│\u001b[0m (CFS) announced it has closed on more than $1.8 billion in Series B funding to commercialize fusion energy.',   \u001b[33m│\u001b[0m\n",
       "\u001b[33m│\u001b[0m 'score': 0.7099254, 'raw_content': None}, {'url':                                                               \u001b[33m│\u001b[0m\n",
       "\u001b[33m│\u001b[0m 'https://news.crunchbase.com/clean-tech-and-energy/fusion-funding-falls-commonwealth-helion-altman/', 'title':  \u001b[33m│\u001b[0m\n",
       "\u001b[33m│\u001b[0m 'Fusion Funding Has Fizzled', 'content': 'Funding to startups focused on fusion energy has declined sharply in  \u001b[33m│\u001b[0m\n",
       "\u001b[33m│\u001b[0m recent quarters after hitting a high two-and-a-half years ago. For a sense of how fusion-focused startup        \u001b[33m│\u001b[0m\n",
       "\u001b[33m│\u001b[0m funding has fluctuated, we used Crunchbase data to chart out investment to the space over the past 14 quarters. \u001b[33m│\u001b[0m\n",
       "\u001b[33m│\u001b[0m Fusion funding has seen much more dramatic annual ups and downs than average for startup sectors, as charted    \u001b[33m│\u001b[0m\n",
       "\u001b[33m│\u001b[0m below. * Fusion Energy-Related Startup Funding * Battery Tech And Fusion Dominate Big Energy Tech Funding       \u001b[33m│\u001b[0m\n",
       "\u001b[33m│\u001b[0m Rounds Artificial intelligence • Clean tech and energy • Cybersecurity • Defense tech • Fintech • M&A • Public  \u001b[33m│\u001b[0m\n",
       "\u001b[33m│\u001b[0m Markets • Quarterly and annual reports • Regional • Startups • Venture', 'score': 0.1196859, 'raw_content':     \u001b[33m│\u001b[0m\n",
       "\u001b[33m│\u001b[0m None}], 'response_time': 0.82}                                                                                  \u001b[33m│\u001b[0m\n",
       "\u001b[33m╰─────────────────────────────────────────────────────────────────────────────────────────────────────────────────╯\u001b[0m\n"
      ]
     },
     "metadata": {},
     "output_type": "display_data"
    },
    {
     "data": {
      "text/html": [
       "<pre style=\"white-space:pre;overflow-x:auto;line-height:normal;font-family:Menlo,'DejaVu Sans Mono',consolas,'Courier New',monospace\"><span style=\"color: #c0c0c0; text-decoration-color: #c0c0c0\">╭───────────────────────────────────────────────────── 📝 AI ─────────────────────────────────────────────────────╮</span>\n",
       "<span style=\"color: #c0c0c0; text-decoration-color: #c0c0c0\">│</span>                                                                                                                 <span style=\"color: #c0c0c0; text-decoration-color: #c0c0c0\">│</span>\n",
       "<span style=\"color: #c0c0c0; text-decoration-color: #c0c0c0\">│</span> 🔧 Tool Call: WriteToScratchpad                                                                                 <span style=\"color: #c0c0c0; text-decoration-color: #c0c0c0\">│</span>\n",
       "<span style=\"color: #c0c0c0; text-decoration-color: #c0c0c0\">│</span>    Args: {                                                                                                      <span style=\"color: #c0c0c0; text-decoration-color: #c0c0c0\">│</span>\n",
       "<span style=\"color: #c0c0c0; text-decoration-color: #c0c0c0\">│</span>   \"notes\": \"**Research Progress: Commonwealth Fusion Systems**\\n\\n**1. Funding Rounds:**\\n*   **Series B        <span style=\"color: #c0c0c0; text-decoration-color: #c0c0c0\">│</span>\n",
       "<span style=\"color: #c0c0c0; text-decoration-color: #c0c0c0\">│</span> (December 2021):** Raised over $1.8 billion.\\n    *   **Lead Investor:** Tiger Global Management.\\n*   **Series <span style=\"color: #c0c0c0; text-decoration-color: #c0c0c0\">│</span>\n",
       "<span style=\"color: #c0c0c0; text-decoration-color: #c0c0c0\">│</span> A2:** Raised an additional $84 million.\\n    *   **Investors:** Temasek (Singapore), Equinor (Norway),          <span style=\"color: #c0c0c0; text-decoration-color: #c0c0c0\">│</span>\n",
       "<span style=\"color: #c0c0c0; text-decoration-color: #c0c0c0\">│</span> Devonshire Investors.\\n*   **Series A (June 2019):** Raised $115 million.\\n*   **Total Funding to Date:**       <span style=\"color: #c0c0c0; text-decoration-color: #c0c0c0\">│</span>\n",
       "<span style=\"color: #c0c0c0; text-decoration-color: #c0c0c0\">│</span> Approximately $2 billion ($1.8B + $115M + $84M). The \\\"Corporate\\\" funding round mentioned previously seems to  <span style=\"color: #c0c0c0; text-decoration-color: #c0c0c0\">│</span>\n",
       "<span style=\"color: #c0c0c0; text-decoration-color: #c0c0c0\">│</span> be an error. The $1 billion from a hyperscale data center developer appears to be part of the Series B          <span style=\"color: #c0c0c0; text-decoration-color: #c0c0c0\">│</span>\n",
       "<span style=\"color: #c0c0c0; text-decoration-color: #c0c0c0\">│</span> round.\\n\\n**2. Recent Developments:**\\n*   Now that I have a good understanding of the funding, I will focus on <span style=\"color: #c0c0c0; text-decoration-color: #c0c0c0\">│</span>\n",
       "<span style=\"color: #c0c0c0; text-decoration-color: #c0c0c0\">│</span> recent developments.\\n\\n**Next Steps:**\\n*   Search for news and press releases from the last 12-18 months to   <span style=\"color: #c0c0c0; text-decoration-color: #c0c0c0\">│</span>\n",
       "<span style=\"color: #c0c0c0; text-decoration-color: #c0c0c0\">│</span> identify technological milestones, partnerships, and progress on SPARC and ARC.\"                                <span style=\"color: #c0c0c0; text-decoration-color: #c0c0c0\">│</span>\n",
       "<span style=\"color: #c0c0c0; text-decoration-color: #c0c0c0\">│</span> }                                                                                                               <span style=\"color: #c0c0c0; text-decoration-color: #c0c0c0\">│</span>\n",
       "<span style=\"color: #c0c0c0; text-decoration-color: #c0c0c0\">╰─────────────────────────────────────────────────────────────────────────────────────────────────────────────────╯</span>\n",
       "</pre>\n"
      ],
      "text/plain": [
       "\u001b[37m╭─\u001b[0m\u001b[37m────────────────────────────────────────────────────\u001b[0m\u001b[37m 📝 AI \u001b[0m\u001b[37m────────────────────────────────────────────────────\u001b[0m\u001b[37m─╮\u001b[0m\n",
       "\u001b[37m│\u001b[0m                                                                                                                 \u001b[37m│\u001b[0m\n",
       "\u001b[37m│\u001b[0m 🔧 Tool Call: WriteToScratchpad                                                                                 \u001b[37m│\u001b[0m\n",
       "\u001b[37m│\u001b[0m    Args: {                                                                                                      \u001b[37m│\u001b[0m\n",
       "\u001b[37m│\u001b[0m   \"notes\": \"**Research Progress: Commonwealth Fusion Systems**\\n\\n**1. Funding Rounds:**\\n*   **Series B        \u001b[37m│\u001b[0m\n",
       "\u001b[37m│\u001b[0m (December 2021):** Raised over $1.8 billion.\\n    *   **Lead Investor:** Tiger Global Management.\\n*   **Series \u001b[37m│\u001b[0m\n",
       "\u001b[37m│\u001b[0m A2:** Raised an additional $84 million.\\n    *   **Investors:** Temasek (Singapore), Equinor (Norway),          \u001b[37m│\u001b[0m\n",
       "\u001b[37m│\u001b[0m Devonshire Investors.\\n*   **Series A (June 2019):** Raised $115 million.\\n*   **Total Funding to Date:**       \u001b[37m│\u001b[0m\n",
       "\u001b[37m│\u001b[0m Approximately $2 billion ($1.8B + $115M + $84M). The \\\"Corporate\\\" funding round mentioned previously seems to  \u001b[37m│\u001b[0m\n",
       "\u001b[37m│\u001b[0m be an error. The $1 billion from a hyperscale data center developer appears to be part of the Series B          \u001b[37m│\u001b[0m\n",
       "\u001b[37m│\u001b[0m round.\\n\\n**2. Recent Developments:**\\n*   Now that I have a good understanding of the funding, I will focus on \u001b[37m│\u001b[0m\n",
       "\u001b[37m│\u001b[0m recent developments.\\n\\n**Next Steps:**\\n*   Search for news and press releases from the last 12-18 months to   \u001b[37m│\u001b[0m\n",
       "\u001b[37m│\u001b[0m identify technological milestones, partnerships, and progress on SPARC and ARC.\"                                \u001b[37m│\u001b[0m\n",
       "\u001b[37m│\u001b[0m }                                                                                                               \u001b[37m│\u001b[0m\n",
       "\u001b[37m╰─────────────────────────────────────────────────────────────────────────────────────────────────────────────────╯\u001b[0m\n"
      ]
     },
     "metadata": {},
     "output_type": "display_data"
    },
    {
     "data": {
      "text/html": [
       "<pre style=\"white-space:pre;overflow-x:auto;line-height:normal;font-family:Menlo,'DejaVu Sans Mono',consolas,'Courier New',monospace\"><span style=\"color: #808000; text-decoration-color: #808000\">╭──────────────────────────────────────────────── 🔧 Tool Output ─────────────────────────────────────────────────╮</span>\n",
       "<span style=\"color: #808000; text-decoration-color: #808000\">│</span> Wrote to scratchpad: **Research Progress: Commonwealth Fusion Systems**                                         <span style=\"color: #808000; text-decoration-color: #808000\">│</span>\n",
       "<span style=\"color: #808000; text-decoration-color: #808000\">│</span>                                                                                                                 <span style=\"color: #808000; text-decoration-color: #808000\">│</span>\n",
       "<span style=\"color: #808000; text-decoration-color: #808000\">│</span> **1. Funding Rounds:**                                                                                          <span style=\"color: #808000; text-decoration-color: #808000\">│</span>\n",
       "<span style=\"color: #808000; text-decoration-color: #808000\">│</span> *   **Series B (December 2021):** Raised over $1.8 billion.                                                     <span style=\"color: #808000; text-decoration-color: #808000\">│</span>\n",
       "<span style=\"color: #808000; text-decoration-color: #808000\">│</span>     *   **Lead Investor:** Tiger Global Management.                                                             <span style=\"color: #808000; text-decoration-color: #808000\">│</span>\n",
       "<span style=\"color: #808000; text-decoration-color: #808000\">│</span> *   **Series A2:** Raised an additional $84 million.                                                            <span style=\"color: #808000; text-decoration-color: #808000\">│</span>\n",
       "<span style=\"color: #808000; text-decoration-color: #808000\">│</span>     *   **Investors:** Temasek (Singapore), Equinor (Norway), Devonshire Investors.                             <span style=\"color: #808000; text-decoration-color: #808000\">│</span>\n",
       "<span style=\"color: #808000; text-decoration-color: #808000\">│</span> *   **Series A (June 2019):** Raised $115 million.                                                              <span style=\"color: #808000; text-decoration-color: #808000\">│</span>\n",
       "<span style=\"color: #808000; text-decoration-color: #808000\">│</span> *   **Total Funding to Date:** Approximately $2 billion ($1.8B + $115M + $84M). The \"Corporate\" funding round   <span style=\"color: #808000; text-decoration-color: #808000\">│</span>\n",
       "<span style=\"color: #808000; text-decoration-color: #808000\">│</span> mentioned previously seems to be an error. The $1 billion from a hyperscale data center developer appears to be <span style=\"color: #808000; text-decoration-color: #808000\">│</span>\n",
       "<span style=\"color: #808000; text-decoration-color: #808000\">│</span> part of the Series B round.                                                                                     <span style=\"color: #808000; text-decoration-color: #808000\">│</span>\n",
       "<span style=\"color: #808000; text-decoration-color: #808000\">│</span>                                                                                                                 <span style=\"color: #808000; text-decoration-color: #808000\">│</span>\n",
       "<span style=\"color: #808000; text-decoration-color: #808000\">│</span> **2. Recent Developments:**                                                                                     <span style=\"color: #808000; text-decoration-color: #808000\">│</span>\n",
       "<span style=\"color: #808000; text-decoration-color: #808000\">│</span> *   Now that I have a good understanding of the funding, I will focus on recent developments.                   <span style=\"color: #808000; text-decoration-color: #808000\">│</span>\n",
       "<span style=\"color: #808000; text-decoration-color: #808000\">│</span>                                                                                                                 <span style=\"color: #808000; text-decoration-color: #808000\">│</span>\n",
       "<span style=\"color: #808000; text-decoration-color: #808000\">│</span> **Next Steps:**                                                                                                 <span style=\"color: #808000; text-decoration-color: #808000\">│</span>\n",
       "<span style=\"color: #808000; text-decoration-color: #808000\">│</span> *   Search for news and press releases from the last 12-18 months to identify technological milestones,         <span style=\"color: #808000; text-decoration-color: #808000\">│</span>\n",
       "<span style=\"color: #808000; text-decoration-color: #808000\">│</span> partnerships, and progress on SPARC and ARC.                                                                    <span style=\"color: #808000; text-decoration-color: #808000\">│</span>\n",
       "<span style=\"color: #808000; text-decoration-color: #808000\">╰─────────────────────────────────────────────────────────────────────────────────────────────────────────────────╯</span>\n",
       "</pre>\n"
      ],
      "text/plain": [
       "\u001b[33m╭─\u001b[0m\u001b[33m───────────────────────────────────────────────\u001b[0m\u001b[33m 🔧 Tool Output \u001b[0m\u001b[33m────────────────────────────────────────────────\u001b[0m\u001b[33m─╮\u001b[0m\n",
       "\u001b[33m│\u001b[0m Wrote to scratchpad: **Research Progress: Commonwealth Fusion Systems**                                         \u001b[33m│\u001b[0m\n",
       "\u001b[33m│\u001b[0m                                                                                                                 \u001b[33m│\u001b[0m\n",
       "\u001b[33m│\u001b[0m **1. Funding Rounds:**                                                                                          \u001b[33m│\u001b[0m\n",
       "\u001b[33m│\u001b[0m *   **Series B (December 2021):** Raised over $1.8 billion.                                                     \u001b[33m│\u001b[0m\n",
       "\u001b[33m│\u001b[0m     *   **Lead Investor:** Tiger Global Management.                                                             \u001b[33m│\u001b[0m\n",
       "\u001b[33m│\u001b[0m *   **Series A2:** Raised an additional $84 million.                                                            \u001b[33m│\u001b[0m\n",
       "\u001b[33m│\u001b[0m     *   **Investors:** Temasek (Singapore), Equinor (Norway), Devonshire Investors.                             \u001b[33m│\u001b[0m\n",
       "\u001b[33m│\u001b[0m *   **Series A (June 2019):** Raised $115 million.                                                              \u001b[33m│\u001b[0m\n",
       "\u001b[33m│\u001b[0m *   **Total Funding to Date:** Approximately $2 billion ($1.8B + $115M + $84M). The \"Corporate\" funding round   \u001b[33m│\u001b[0m\n",
       "\u001b[33m│\u001b[0m mentioned previously seems to be an error. The $1 billion from a hyperscale data center developer appears to be \u001b[33m│\u001b[0m\n",
       "\u001b[33m│\u001b[0m part of the Series B round.                                                                                     \u001b[33m│\u001b[0m\n",
       "\u001b[33m│\u001b[0m                                                                                                                 \u001b[33m│\u001b[0m\n",
       "\u001b[33m│\u001b[0m **2. Recent Developments:**                                                                                     \u001b[33m│\u001b[0m\n",
       "\u001b[33m│\u001b[0m *   Now that I have a good understanding of the funding, I will focus on recent developments.                   \u001b[33m│\u001b[0m\n",
       "\u001b[33m│\u001b[0m                                                                                                                 \u001b[33m│\u001b[0m\n",
       "\u001b[33m│\u001b[0m **Next Steps:**                                                                                                 \u001b[33m│\u001b[0m\n",
       "\u001b[33m│\u001b[0m *   Search for news and press releases from the last 12-18 months to identify technological milestones,         \u001b[33m│\u001b[0m\n",
       "\u001b[33m│\u001b[0m partnerships, and progress on SPARC and ARC.                                                                    \u001b[33m│\u001b[0m\n",
       "\u001b[33m╰─────────────────────────────────────────────────────────────────────────────────────────────────────────────────╯\u001b[0m\n"
      ]
     },
     "metadata": {},
     "output_type": "display_data"
    },
    {
     "data": {
      "text/html": [
       "<pre style=\"white-space:pre;overflow-x:auto;line-height:normal;font-family:Menlo,'DejaVu Sans Mono',consolas,'Courier New',monospace\"><span style=\"color: #c0c0c0; text-decoration-color: #c0c0c0\">╭───────────────────────────────────────────────────── 📝 AI ─────────────────────────────────────────────────────╮</span>\n",
       "<span style=\"color: #c0c0c0; text-decoration-color: #c0c0c0\">│</span>                                                                                                                 <span style=\"color: #c0c0c0; text-decoration-color: #c0c0c0\">│</span>\n",
       "<span style=\"color: #c0c0c0; text-decoration-color: #c0c0c0\">│</span> 🔧 Tool Call: tavily_search                                                                                     <span style=\"color: #c0c0c0; text-decoration-color: #c0c0c0\">│</span>\n",
       "<span style=\"color: #c0c0c0; text-decoration-color: #c0c0c0\">│</span>    Args: {                                                                                                      <span style=\"color: #c0c0c0; text-decoration-color: #c0c0c0\">│</span>\n",
       "<span style=\"color: #c0c0c0; text-decoration-color: #c0c0c0\">│</span>   \"query\": \"Commonwealth Fusion Systems recent developments 2023 2024\"                                          <span style=\"color: #c0c0c0; text-decoration-color: #c0c0c0\">│</span>\n",
       "<span style=\"color: #c0c0c0; text-decoration-color: #c0c0c0\">│</span> }                                                                                                               <span style=\"color: #c0c0c0; text-decoration-color: #c0c0c0\">│</span>\n",
       "<span style=\"color: #c0c0c0; text-decoration-color: #c0c0c0\">╰─────────────────────────────────────────────────────────────────────────────────────────────────────────────────╯</span>\n",
       "</pre>\n"
      ],
      "text/plain": [
       "\u001b[37m╭─\u001b[0m\u001b[37m────────────────────────────────────────────────────\u001b[0m\u001b[37m 📝 AI \u001b[0m\u001b[37m────────────────────────────────────────────────────\u001b[0m\u001b[37m─╮\u001b[0m\n",
       "\u001b[37m│\u001b[0m                                                                                                                 \u001b[37m│\u001b[0m\n",
       "\u001b[37m│\u001b[0m 🔧 Tool Call: tavily_search                                                                                     \u001b[37m│\u001b[0m\n",
       "\u001b[37m│\u001b[0m    Args: {                                                                                                      \u001b[37m│\u001b[0m\n",
       "\u001b[37m│\u001b[0m   \"query\": \"Commonwealth Fusion Systems recent developments 2023 2024\"                                          \u001b[37m│\u001b[0m\n",
       "\u001b[37m│\u001b[0m }                                                                                                               \u001b[37m│\u001b[0m\n",
       "\u001b[37m╰─────────────────────────────────────────────────────────────────────────────────────────────────────────────────╯\u001b[0m\n"
      ]
     },
     "metadata": {},
     "output_type": "display_data"
    },
    {
     "data": {
      "text/html": [
       "<pre style=\"white-space:pre;overflow-x:auto;line-height:normal;font-family:Menlo,'DejaVu Sans Mono',consolas,'Courier New',monospace\"><span style=\"color: #808000; text-decoration-color: #808000\">╭──────────────────────────────────────────────── 🔧 Tool Output ─────────────────────────────────────────────────╮</span>\n",
       "<span style=\"color: #808000; text-decoration-color: #808000\">│</span> {'query': 'Commonwealth Fusion Systems recent developments 2023 2024', 'follow_up_questions': None, 'answer':   <span style=\"color: #808000; text-decoration-color: #808000\">│</span>\n",
       "<span style=\"color: #808000; text-decoration-color: #808000\">│</span> None, 'images': [], 'results': [{'url': 'https://www.youtube.com/watch?v=4WCLcmjFYiw', 'title': 'An Update from <span style=\"color: #808000; text-decoration-color: #808000\">│</span>\n",
       "<span style=\"color: #808000; text-decoration-color: #808000\">│</span> Commonwealth Fusion Systems (December 2024)', 'content': \"We're ramping up our commercialization work at        <span style=\"color: #808000; text-decoration-color: #808000\">│</span>\n",
       "<span style=\"color: #808000; text-decoration-color: #808000\">│</span> Commonwealth Fusion Systems (CFS). In the newest of our twice-yearly video updates,\", 'score': 0.84918517,      <span style=\"color: #808000; text-decoration-color: #808000\">│</span>\n",
       "<span style=\"color: #808000; text-decoration-color: #808000\">│</span> 'raw_content': None}, {'url': 'https://cfs.energy/devens-campus/updates/', 'title': 'Devens Events &amp; Updates -  <span style=\"color: #808000; text-decoration-color: #808000\">│</span>\n",
       "<span style=\"color: #808000; text-decoration-color: #808000\">│</span> Commonwealth Fusion Systems', 'content': 'Feb 10, 2023. CFS officially opened its new campus to support the     <span style=\"color: #808000; text-decoration-color: #808000\">│</span>\n",
       "<span style=\"color: #808000; text-decoration-color: #808000\">│</span> development and deployment of commercial fusion energy. The ceremonial event today included', 'score':          <span style=\"color: #808000; text-decoration-color: #808000\">│</span>\n",
       "<span style=\"color: #808000; text-decoration-color: #808000\">│</span> 0.49450764, 'raw_content': None}, {'url': 'https://cfs.energy/', 'title': 'Commonwealth Fusion Systems: Home',  <span style=\"color: #808000; text-decoration-color: #808000\">│</span>\n",
       "<span style=\"color: #808000; text-decoration-color: #808000\">│</span> 'content': 'CFS is using revolutionary high temperature superconducting magnets developed in collaboration with <span style=\"color: #808000; text-decoration-color: #808000\">│</span>\n",
       "<span style=\"color: #808000; text-decoration-color: #808000\">│</span> MIT to build smaller and lower-cost tokamak fusion systems.', 'score': 0.42763633, 'raw_content': None},        <span style=\"color: #808000; text-decoration-color: #808000\">│</span>\n",
       "<span style=\"color: #808000; text-decoration-color: #808000\">│</span> {'url':                                                                                                         <span style=\"color: #808000; text-decoration-color: #808000\">│</span>\n",
       "<span style=\"color: #808000; text-decoration-color: #808000\">│</span> 'https://techcrunch.com/2025/06/30/google-inks-its-first-fusion-power-deal-with-commonwealth-fusion-systems/',  <span style=\"color: #808000; text-decoration-color: #808000\">│</span>\n",
       "<span style=\"color: #808000; text-decoration-color: #808000\">│</span> 'title': 'Google inks its first fusion power deal with Commonwealth Fusion ...', 'content': 'Commonwealth       <span style=\"color: #808000; text-decoration-color: #808000\">│</span>\n",
       "<span style=\"color: #808000; text-decoration-color: #808000\">│</span> Fusion Systems (CFS) will send Google 200 megawatts of electricity from its Arc power plant, which is expected  <span style=\"color: #808000; text-decoration-color: #808000\">│</span>\n",
       "<span style=\"color: #808000; text-decoration-color: #808000\">│</span> to come online in the early 2030s.', 'score': 0.3503997, 'raw_content': None}, {'url':                          <span style=\"color: #808000; text-decoration-color: #808000\">│</span>\n",
       "<span style=\"color: #808000; text-decoration-color: #808000\">│</span> 'https://blog.cfs.energy/the-race-to-lead-the-world-in-fusion-has-begun/', 'title': 'The race to lead the world <span style=\"color: #808000; text-decoration-color: #808000\">│</span>\n",
       "<span style=\"color: #808000; text-decoration-color: #808000\">│</span> in fusion has begun | The Tokamak Times', 'content': 'Our effort at Commonwealth Fusion Systems (CFS) in        <span style=\"color: #808000; text-decoration-color: #808000\">│</span>\n",
       "<span style=\"color: #808000; text-decoration-color: #808000\">│</span> Massachusetts is the most mature, securing more than $2 billion in funding and hiring more', 'score':           <span style=\"color: #808000; text-decoration-color: #808000\">│</span>\n",
       "<span style=\"color: #808000; text-decoration-color: #808000\">│</span> 0.34514993, 'raw_content': None}], 'response_time': 0.94}                                                       <span style=\"color: #808000; text-decoration-color: #808000\">│</span>\n",
       "<span style=\"color: #808000; text-decoration-color: #808000\">╰─────────────────────────────────────────────────────────────────────────────────────────────────────────────────╯</span>\n",
       "</pre>\n"
      ],
      "text/plain": [
       "\u001b[33m╭─\u001b[0m\u001b[33m───────────────────────────────────────────────\u001b[0m\u001b[33m 🔧 Tool Output \u001b[0m\u001b[33m────────────────────────────────────────────────\u001b[0m\u001b[33m─╮\u001b[0m\n",
       "\u001b[33m│\u001b[0m {'query': 'Commonwealth Fusion Systems recent developments 2023 2024', 'follow_up_questions': None, 'answer':   \u001b[33m│\u001b[0m\n",
       "\u001b[33m│\u001b[0m None, 'images': [], 'results': [{'url': 'https://www.youtube.com/watch?v=4WCLcmjFYiw', 'title': 'An Update from \u001b[33m│\u001b[0m\n",
       "\u001b[33m│\u001b[0m Commonwealth Fusion Systems (December 2024)', 'content': \"We're ramping up our commercialization work at        \u001b[33m│\u001b[0m\n",
       "\u001b[33m│\u001b[0m Commonwealth Fusion Systems (CFS). In the newest of our twice-yearly video updates,\", 'score': 0.84918517,      \u001b[33m│\u001b[0m\n",
       "\u001b[33m│\u001b[0m 'raw_content': None}, {'url': 'https://cfs.energy/devens-campus/updates/', 'title': 'Devens Events & Updates -  \u001b[33m│\u001b[0m\n",
       "\u001b[33m│\u001b[0m Commonwealth Fusion Systems', 'content': 'Feb 10, 2023. CFS officially opened its new campus to support the     \u001b[33m│\u001b[0m\n",
       "\u001b[33m│\u001b[0m development and deployment of commercial fusion energy. The ceremonial event today included', 'score':          \u001b[33m│\u001b[0m\n",
       "\u001b[33m│\u001b[0m 0.49450764, 'raw_content': None}, {'url': 'https://cfs.energy/', 'title': 'Commonwealth Fusion Systems: Home',  \u001b[33m│\u001b[0m\n",
       "\u001b[33m│\u001b[0m 'content': 'CFS is using revolutionary high temperature superconducting magnets developed in collaboration with \u001b[33m│\u001b[0m\n",
       "\u001b[33m│\u001b[0m MIT to build smaller and lower-cost tokamak fusion systems.', 'score': 0.42763633, 'raw_content': None},        \u001b[33m│\u001b[0m\n",
       "\u001b[33m│\u001b[0m {'url':                                                                                                         \u001b[33m│\u001b[0m\n",
       "\u001b[33m│\u001b[0m 'https://techcrunch.com/2025/06/30/google-inks-its-first-fusion-power-deal-with-commonwealth-fusion-systems/',  \u001b[33m│\u001b[0m\n",
       "\u001b[33m│\u001b[0m 'title': 'Google inks its first fusion power deal with Commonwealth Fusion ...', 'content': 'Commonwealth       \u001b[33m│\u001b[0m\n",
       "\u001b[33m│\u001b[0m Fusion Systems (CFS) will send Google 200 megawatts of electricity from its Arc power plant, which is expected  \u001b[33m│\u001b[0m\n",
       "\u001b[33m│\u001b[0m to come online in the early 2030s.', 'score': 0.3503997, 'raw_content': None}, {'url':                          \u001b[33m│\u001b[0m\n",
       "\u001b[33m│\u001b[0m 'https://blog.cfs.energy/the-race-to-lead-the-world-in-fusion-has-begun/', 'title': 'The race to lead the world \u001b[33m│\u001b[0m\n",
       "\u001b[33m│\u001b[0m in fusion has begun | The Tokamak Times', 'content': 'Our effort at Commonwealth Fusion Systems (CFS) in        \u001b[33m│\u001b[0m\n",
       "\u001b[33m│\u001b[0m Massachusetts is the most mature, securing more than $2 billion in funding and hiring more', 'score':           \u001b[33m│\u001b[0m\n",
       "\u001b[33m│\u001b[0m 0.34514993, 'raw_content': None}], 'response_time': 0.94}                                                       \u001b[33m│\u001b[0m\n",
       "\u001b[33m╰─────────────────────────────────────────────────────────────────────────────────────────────────────────────────╯\u001b[0m\n"
      ]
     },
     "metadata": {},
     "output_type": "display_data"
    },
    {
     "data": {
      "text/html": [
       "<pre style=\"white-space:pre;overflow-x:auto;line-height:normal;font-family:Menlo,'DejaVu Sans Mono',consolas,'Courier New',monospace\"><span style=\"color: #c0c0c0; text-decoration-color: #c0c0c0\">╭───────────────────────────────────────────────────── 📝 AI ─────────────────────────────────────────────────────╮</span>\n",
       "<span style=\"color: #c0c0c0; text-decoration-color: #c0c0c0\">│</span>                                                                                                                 <span style=\"color: #c0c0c0; text-decoration-color: #c0c0c0\">│</span>\n",
       "<span style=\"color: #c0c0c0; text-decoration-color: #c0c0c0\">╰─────────────────────────────────────────────────────────────────────────────────────────────────────────────────╯</span>\n",
       "</pre>\n"
      ],
      "text/plain": [
       "\u001b[37m╭─\u001b[0m\u001b[37m────────────────────────────────────────────────────\u001b[0m\u001b[37m 📝 AI \u001b[0m\u001b[37m────────────────────────────────────────────────────\u001b[0m\u001b[37m─╮\u001b[0m\n",
       "\u001b[37m│\u001b[0m                                                                                                                 \u001b[37m│\u001b[0m\n",
       "\u001b[37m╰─────────────────────────────────────────────────────────────────────────────────────────────────────────────────╯\u001b[0m\n"
      ]
     },
     "metadata": {},
     "output_type": "display_data"
    }
   ],
   "source": [
    "console.print(\"\\n[bold cyan]Workflow Result (Thread 1) - Kick Off Research:[/bold cyan]\")\n",
    "format_messages(message_1['messages'])"
   ]
  },
  {
   "cell_type": "code",
   "execution_count": 29,
   "id": "827b3d2d",
   "metadata": {},
   "outputs": [
    {
     "data": {
      "text/plain": [
       "{'messages': [HumanMessage(content='Can you search for funding rounds and recent developments of Commonwealth Fusion Systems? Make sure to follow system message and research workflow as given.', additional_kwargs={}, response_metadata={}, id='392b4646-1f3c-433d-8348-6bcc740aac56'),\n",
       "  AIMessage(content=\"Right, time to research Commonwealth Fusion Systems' funding and recent developments.\\n\\nFirst, a quick check of my scratchpad for any prior notes. Next, I'll map out a research plan and save it. Then, I'll start digging for information, updating my scratchpad as I go. Once the research is complete, I will provide the final answer.\\n\\n**Research Plan:**\\n\\n1.  **Funding Rounds:**\\n    *   List all major funding rounds (Series A, B, etc.).\\n    *   Detail the amount, key investors, and date for each round.\\n2.  **Recent Developments (last 12-18 months):**\\n    *   Compile news and press releases.\\n    *   Track technological milestones, especially for the SPARC and ARC projects.\\n    *   Note new partnerships and construction updates.\\n    *   Identify any leadership changes.\\n\\nI'll begin by checking the scratchpad.\", additional_kwargs={'function_call': {'name': 'ReadFromScratchpad', 'arguments': '{\"reasoning\": \"I need to check if I have any existing notes on Commonwealth Fusion Systems before starting my research.\"}'}}, response_metadata={'prompt_feedback': {'block_reason': 0, 'safety_ratings': []}, 'finish_reason': 'STOP', 'model_name': 'gemini-2.5-pro', 'safety_ratings': []}, id='run--992398ff-793e-4e87-af7c-cc0650e5eac7-0', tool_calls=[{'name': 'ReadFromScratchpad', 'args': {'reasoning': 'I need to check if I have any existing notes on Commonwealth Fusion Systems before starting my research.'}, 'id': 'caec6da6-9a51-469f-98f7-194e865b1274', 'type': 'tool_call'}], usage_metadata={'input_tokens': 1592, 'output_tokens': 464, 'total_tokens': 2056, 'input_token_details': {'cache_read': 0}, 'output_token_details': {'reasoning': 232}}),\n",
       "  ToolMessage(content='Notes from scratchpad: No notes found', id='dfb2b5ab-595e-4c4a-b7b9-7c4ce1e79b95', tool_call_id='caec6da6-9a51-469f-98f7-194e865b1274'),\n",
       "  AIMessage(content=\"I will start by creating a research plan to guide my investigation into Commonwealth Fusion Systems' funding and recent developments. This plan will be saved to my scratchpad for future reference.\\n\\n**Research Plan:**\\n\\n1.  **Funding Rounds:** I will identify all major funding rounds, including the amount raised and key investors for each round, and then determine the company's total funding.\\n\\n2.  **Recent Developments:** I will search for recent news (within the last 12-18 months) covering technological milestones, partnerships, and progress on their SPARC and ARC projects.\\n\\n3.  **Synthesize Findings:** I will organize the gathered data to create a comprehensive summary of the company's financial and technological status.\", additional_kwargs={'function_call': {'name': 'WriteToScratchpad', 'arguments': '{\"notes\": \"**Research Plan: Commonwealth Fusion Systems**\\\\n\\\\n**1. Funding Rounds:**\\\\n*   Identify all major funding rounds (Series A, B, etc.).\\\\n*   For each round, determine the amount raised and the key investors.\\\\n*   Find the total funding raised to date.\\\\n\\\\n**2. Recent Developments:**\\\\n*   Search for news and press releases from the last 12-18 months.\\\\n*   Focus on technological milestones, such as successful tests or new projects.\\\\n*   Identify key partnerships or collaborations.\\\\n*   Look for information on their progress toward building the SPARC and ARC fusion machines.\\\\n\\\\n**3. Synthesize Findings:**\\\\n*   Organize the collected information chronologically.\\\\n*   Prepare a summary of the company\\'s financial and technological progress.\"}'}}, response_metadata={'prompt_feedback': {'block_reason': 0, 'safety_ratings': []}, 'finish_reason': 'STOP', 'model_name': 'gemini-2.5-pro', 'safety_ratings': []}, id='run--1abe02d6-b4a1-4111-8229-79dee536783d-0', tool_calls=[{'name': 'WriteToScratchpad', 'args': {'notes': \"**Research Plan: Commonwealth Fusion Systems**\\n\\n**1. Funding Rounds:**\\n*   Identify all major funding rounds (Series A, B, etc.).\\n*   For each round, determine the amount raised and the key investors.\\n*   Find the total funding raised to date.\\n\\n**2. Recent Developments:**\\n*   Search for news and press releases from the last 12-18 months.\\n*   Focus on technological milestones, such as successful tests or new projects.\\n*   Identify key partnerships or collaborations.\\n*   Look for information on their progress toward building the SPARC and ARC fusion machines.\\n\\n**3. Synthesize Findings:**\\n*   Organize the collected information chronologically.\\n*   Prepare a summary of the company's financial and technological progress.\"}, 'id': 'b145b2fe-6992-4d2a-8970-c7dfeb8ea6eb', 'type': 'tool_call'}], usage_metadata={'input_tokens': 1651, 'output_tokens': 546, 'total_tokens': 2197, 'input_token_details': {'cache_read': 0}, 'output_token_details': {'reasoning': 208}}),\n",
       "  ToolMessage(content=\"Wrote to scratchpad: **Research Plan: Commonwealth Fusion Systems**\\n\\n**1. Funding Rounds:**\\n*   Identify all major funding rounds (Series A, B, etc.).\\n*   For each round, determine the amount raised and the key investors.\\n*   Find the total funding raised to date.\\n\\n**2. Recent Developments:**\\n*   Search for news and press releases from the last 12-18 months.\\n*   Focus on technological milestones, such as successful tests or new projects.\\n*   Identify key partnerships or collaborations.\\n*   Look for information on their progress toward building the SPARC and ARC fusion machines.\\n\\n**3. Synthesize Findings:**\\n*   Organize the collected information chronologically.\\n*   Prepare a summary of the company's financial and technological progress.\", id='f8426611-35d7-477b-8fa0-583fb103ddec', tool_call_id='b145b2fe-6992-4d2a-8970-c7dfeb8ea6eb'),\n",
       "  AIMessage(content='', additional_kwargs={'function_call': {'name': 'tavily_search', 'arguments': '{\"query\": \"Commonwealth Fusion Systems funding rounds\"}'}}, response_metadata={'prompt_feedback': {'block_reason': 0, 'safety_ratings': []}, 'finish_reason': 'STOP', 'model_name': 'gemini-2.5-pro', 'safety_ratings': []}, id='run--02ed0e6c-4432-476c-83e6-41eadc6aea79-0', tool_calls=[{'name': 'tavily_search', 'args': {'query': 'Commonwealth Fusion Systems funding rounds'}, 'id': 'e3a8d2d8-63bb-43ba-85c8-11db37de1639', 'type': 'tool_call'}], usage_metadata={'input_tokens': 2037, 'output_tokens': 67, 'total_tokens': 2104, 'input_token_details': {'cache_read': 0}, 'output_token_details': {'reasoning': 46}}),\n",
       "  ToolMessage(content='{\\'query\\': \\'Commonwealth Fusion Systems funding rounds\\', \\'follow_up_questions\\': None, \\'answer\\': None, \\'images\\': [], \\'results\\': [{\\'url\\': \\'https://www.crunchbase.com/organization/commonwealth-fusion-systems\\', \\'title\\': \\'Commonwealth Fusion Systems\\', \\'content\\': \\'When was the last funding round for Commonwealth Fusion Systems ? Commonwealth Fusion Systems closed its last funding round on Jun 30, 2025 from a Corporate\\', \\'score\\': 0.85567063, \\'raw_content\\': None}, {\\'url\\': \\'https://www.cfs.energy/news-and-media/commonwealth-fusion-systems-closes-1-8-billion-series-b-round/\\', \\'title\\': \\'Commonwealth Fusion Systems Raises $1.8 Billion in ...\\', \\'content\\': \\'Commonwealth Fusion Systems (CFS) announced it has closed on more than $1.8 billion in Series B funding to commercialize fusion energy.\\', \\'score\\': 0.84183896, \\'raw_content\\': None}, {\\'url\\': \\'https://www.reddit.com/r/fusion/comments/1km2g7h/commonwealth_fusion_systems_raising_1_billionplus/\\', \\'title\\': \\'Commonwealth Fusion Systems raising $1 billion-plus ...\\', \\'content\\': \\'31K Members Online    ### An Update from Commonwealth Fusion Systems (December 2024) youtu    74 upvotes ·18 comments    31K Members Online    ### Commonwealth Fusion Systems and Type One Energy Sign Fusion Magnet Agreement cfs    35 upvotes ·8 comments    31K Members Online    ### PREVIEW - Interview with Commonwealth Fusion Systems Chief Commercial Officer Rick Needham youtube    20 upvotes ·5 comments    31K Members Online    ### Fusion industry makes its case to GOP axios    80 upvotes ·17 comments    31K Members Online    ### Focused Energy raising $150 million for laser fusion energy - by Axios archive    13 upvotes ·6 comments    22M Members Online    ### ‘World’s first’ grid-scale nuclear fusion power plant announced in the US in another step for the futuristic energy cnn    1.1K upvotes ·117 comments   \\', \\'score\\': 0.53895956, \\'raw_content\\': None}, {\\'url\\': \\'https://www.datacenterdynamics.com/en/news/commonwealth-fusion-systems-raises-more-than-1bn-backed-by-unnamed-hyperscale-data-center-developer-report/\\', \\'title\\': \\'Commonwealth Fusion Systems raises more than $1bn ...\\', \\'content\\': \\'Commonwealth Fusion Systems raises more than $1bn, backed by unnamed hyperscale data center developer - report - DCD Commonwealth Fusion Systems raises more than $1bn, backed by unnamed hyperscale data center developer - report *    Data Center Trends 2025: Power, AI, and Progress *   06 Dec 2024  Dutch telecom and data center firms challenge new rules on grid connection priority *   2025 Data Center Power Report Connectivity (\"NextRoll\") and our 20 advertising partners use cookies and similar technologies on this site and use personal data (e.g., your IP address). NextRoll and our advertising partners process personal data to: ● Store and/or access information on a device; ● Create a personalised content profile; ● Select personalised content; ● Personalised advertising, advertising measurement, audience research and services development; ● Services development.\\', \\'score\\': 0.5164741, \\'raw_content\\': None}, {\\'url\\': \\'https://news.crunchbase.com/clean-tech-and-energy/fusion-funding-falls-commonwealth-helion-altman/\\', \\'title\\': \\'Fusion Funding Has Fizzled\\', \\'content\\': \\'Funding to startups focused on fusion energy has declined sharply in recent quarters after hitting a high two-and-a-half years ago. For a sense of how fusion-focused startup funding has fluctuated, we used Crunchbase data to chart out investment to the space over the past 14 quarters. Fusion funding has seen much more dramatic annual ups and downs than average for startup sectors, as charted below. * Fusion Energy-Related Startup Funding * Battery Tech And Fusion Dominate Big Energy Tech Funding Rounds Artificial intelligence • Clean tech and energy • Cybersecurity • Defense tech • Fintech • M&A • Public Markets • Quarterly and annual reports • Regional • Startups • Venture\\', \\'score\\': 0.23220608, \\'raw_content\\': None}], \\'response_time\\': 1.12}', id='f82b2dbf-869d-45bd-b4f5-3e0d448c056d', tool_call_id='e3a8d2d8-63bb-43ba-85c8-11db37de1639'),\n",
       "  AIMessage(content='', additional_kwargs={'function_call': {'name': 'WriteToScratchpad', 'arguments': '{\"notes\": \"**Research Progress: Commonwealth Fusion Systems**\\\\n\\\\n**1. Funding Rounds:**\\\\n*   **Series B:** Raised over $1.8 billion. This appears to be a major funding round.\\\\n*   **Other Funding:** One source mentions a \\\\\"Corporate\\\\\" funding round on June 30, 2025, which is likely an error in the data source and needs to be verified. There\\'s also a mention of raising over $1 billion with backing from a hyperscale data center developer. This could be related to the Series B round, but I need to confirm.\\\\n*   **Total Funding:** The total funding is still unclear, but it seems to be in the billions. I need to find details on Series A and any other rounds to get a more accurate number.\\\\n\\\\n**Next Steps:**\\\\n*   Investigate the details of the $1.8 billion Series B round, including the date and key investors.\\\\n*   Search for information on Commonwealth Fusion Systems\\' Series A funding round.\\\\n*   Clarify the information about the \\\\\"Corporate\\\\\" funding round and the $1 billion investment from a hyperscale data center developer.\"}'}}, response_metadata={'prompt_feedback': {'block_reason': 0, 'safety_ratings': []}, 'finish_reason': 'STOP', 'model_name': 'gemini-2.5-pro', 'safety_ratings': []}, id='run--23acd0e8-c45e-4361-9b4b-291eeb0dbf3f-0', tool_calls=[{'name': 'WriteToScratchpad', 'args': {'notes': '**Research Progress: Commonwealth Fusion Systems**\\n\\n**1. Funding Rounds:**\\n*   **Series B:** Raised over $1.8 billion. This appears to be a major funding round.\\n*   **Other Funding:** One source mentions a \"Corporate\" funding round on June 30, 2025, which is likely an error in the data source and needs to be verified. There\\'s also a mention of raising over $1 billion with backing from a hyperscale data center developer. This could be related to the Series B round, but I need to confirm.\\n*   **Total Funding:** The total funding is still unclear, but it seems to be in the billions. I need to find details on Series A and any other rounds to get a more accurate number.\\n\\n**Next Steps:**\\n*   Investigate the details of the $1.8 billion Series B round, including the date and key investors.\\n*   Search for information on Commonwealth Fusion Systems\\' Series A funding round.\\n*   Clarify the information about the \"Corporate\" funding round and the $1 billion investment from a hyperscale data center developer.'}, 'id': 'b37aaa5f-e142-42cb-bff1-cddef6034fde', 'type': 'tool_call'}], usage_metadata={'input_tokens': 3124, 'output_tokens': 416, 'total_tokens': 3540, 'input_token_details': {'cache_read': 0}, 'output_token_details': {'reasoning': 159}}),\n",
       "  ToolMessage(content='Wrote to scratchpad: **Research Progress: Commonwealth Fusion Systems**\\n\\n**1. Funding Rounds:**\\n*   **Series B:** Raised over $1.8 billion. This appears to be a major funding round.\\n*   **Other Funding:** One source mentions a \"Corporate\" funding round on June 30, 2025, which is likely an error in the data source and needs to be verified. There\\'s also a mention of raising over $1 billion with backing from a hyperscale data center developer. This could be related to the Series B round, but I need to confirm.\\n*   **Total Funding:** The total funding is still unclear, but it seems to be in the billions. I need to find details on Series A and any other rounds to get a more accurate number.\\n\\n**Next Steps:**\\n*   Investigate the details of the $1.8 billion Series B round, including the date and key investors.\\n*   Search for information on Commonwealth Fusion Systems\\' Series A funding round.\\n*   Clarify the information about the \"Corporate\" funding round and the $1 billion investment from a hyperscale data center developer.', id='46a06765-26d2-4984-b2a9-3450706e0487', tool_call_id='b37aaa5f-e142-42cb-bff1-cddef6034fde'),\n",
       "  AIMessage(content='', additional_kwargs={'function_call': {'name': 'tavily_search', 'arguments': '{\"query\": \"Commonwealth Fusion Systems Series B funding investors\"}'}}, response_metadata={'prompt_feedback': {'block_reason': 0, 'safety_ratings': []}, 'finish_reason': 'STOP', 'model_name': 'gemini-2.5-pro', 'safety_ratings': []}, id='run--75405356-c704-4b81-ba5f-a79a6ef85581-0', tool_calls=[{'name': 'tavily_search', 'args': {'query': 'Commonwealth Fusion Systems Series B funding investors'}, 'id': '234f87e4-d59b-4596-b039-154ab8b65a30', 'type': 'tool_call'}], usage_metadata={'input_tokens': 3646, 'output_tokens': 251, 'total_tokens': 3897, 'input_token_details': {'cache_read': 0}, 'output_token_details': {'reasoning': 228}}),\n",
       "  ToolMessage(content=\"{'query': 'Commonwealth Fusion Systems Series B funding investors', 'follow_up_questions': None, 'answer': None, 'images': [], 'results': [{'url': 'https://www.crunchbase.com/funding_round/commonwealth-fusion-systems-series-b--83168bde', 'title': 'Series B - Commonwealth Fusion Systems - 2021-12-01', 'content': 'Commonwealth Fusion Systems raises $1.8 billion in funding to commercialize fusion energy. News• Dec 1, 2021', 'score': 0.81347597, 'raw_content': None}, {'url': 'https://www.cfs.energy/news-and-media/commonwealth-fusion-systems-closes-1-8-billion-series-b-round/', 'title': 'Commonwealth Fusion Systems Raises $1.8 Billion in ...', 'content': 'Commonwealth Fusion Systems (CFS) announced it has closed on more than $1.8 billion in Series B funding to commercialize fusion energy.', 'score': 0.8106142, 'raw_content': None}, {'url': 'https://www.clay.com/dossier/commonwealth-fusion-funding', 'title': 'How Much Did Commonwealth Fusion Raise? Funding & ...', 'content': 'Amount Raised: $1.8B · Date: December 2021 · Lead Investors: Tiger Global Management · Valuation at Round: Not publicly disclosed', 'score': 0.57006866, 'raw_content': None}, {'url': 'https://www.reddit.com/r/fusion/comments/1km2g7h/commonwealth_fusion_systems_raising_1_billionplus/', 'title': 'Commonwealth Fusion Systems raising $1 billion-plus ...', 'content': '31K Members Online    ### An Update from Commonwealth Fusion Systems (December 2024) youtu    74 upvotes ·18 comments    31K Members Online    ### Commonwealth Fusion Systems and Type One Energy Sign Fusion Magnet Agreement cfs    35 upvotes ·8 comments    31K Members Online    ### PREVIEW - Interview with Commonwealth Fusion Systems Chief Commercial Officer Rick Needham youtube    20 upvotes ·5 comments    31K Members Online    ### Fusion industry makes its case to GOP axios    80 upvotes ·17 comments    31K Members Online    ### Focused Energy raising $150 million for laser fusion energy - by Axios archive    13 upvotes ·6 comments    22M Members Online    ### ‘World’s first’ grid-scale nuclear fusion power plant announced in the US in another step for the futuristic energy cnn    1.1K upvotes ·117 comments   ', 'score': 0.2903471, 'raw_content': None}, {'url': 'https://news.crunchbase.com/clean-tech-and-energy/fusion-funding-falls-commonwealth-helion-altman/', 'title': 'Fusion Funding Has Fizzled', 'content': 'Funding to startups focused on fusion energy has declined sharply in recent quarters after hitting a high two-and-a-half years ago. For a sense of how fusion-focused startup funding has fluctuated, we used Crunchbase data to chart out investment to the space over the past 14 quarters. Fusion funding has seen much more dramatic annual ups and downs than average for startup sectors, as charted below. * Fusion Energy-Related Startup Funding * Battery Tech And Fusion Dominate Big Energy Tech Funding Rounds Artificial intelligence • Clean tech and energy • Cybersecurity • Defense tech • Fintech • M&A • Public Markets • Quarterly and annual reports • Regional • Startups • Venture', 'score': 0.09593248, 'raw_content': None}], 'response_time': 0.99}\", id='ebc3c799-8917-4afa-9691-96b54a2ef10d', tool_call_id='234f87e4-d59b-4596-b039-154ab8b65a30'),\n",
       "  AIMessage(content='', additional_kwargs={'function_call': {'name': 'tavily_search', 'arguments': '{\"query\": \"Commonwealth Fusion Systems Series A funding\"}'}}, response_metadata={'prompt_feedback': {'block_reason': 0, 'safety_ratings': []}, 'finish_reason': 'STOP', 'model_name': 'gemini-2.5-pro', 'safety_ratings': []}, id='run--25b1eac2-3aeb-440e-8526-0fe0205efafb-0', tool_calls=[{'name': 'tavily_search', 'args': {'query': 'Commonwealth Fusion Systems Series A funding'}, 'id': 'bb0dcd4e-5f01-4079-a5d4-ee0106894800', 'type': 'tool_call'}], usage_metadata={'input_tokens': 4584, 'output_tokens': 22, 'total_tokens': 4606, 'input_token_details': {'cache_read': 0}}),\n",
       "  ToolMessage(content='{\\'query\\': \\'Commonwealth Fusion Systems Series A funding\\', \\'follow_up_questions\\': None, \\'answer\\': None, \\'images\\': [], \\'results\\': [{\\'url\\': \\'https://cfs.energy/news-and-media/close-series-a-round/\\', \\'title\\': \\'Commonwealth Fusion Systems Raises $115 Million and ...\\', \\'content\\': \\'Commonwealth Fusion Systems (CFS), a startup commercializing fusion energy, today announced it has raised $115 million and closed its Series A round.\\', \\'score\\': 0.86928266, \\'raw_content\\': None}, {\\'url\\': \\'https://www.prnewswire.com/news-releases/commonwealth-fusion-systems-raises-115-million-and-closes-series-a-round-to-commercialize-fusion-energy-300875732.html\\', \\'title\\': \\'Commonwealth Fusion Systems Raises $115 Million and ...\\', \\'content\\': \\'Commonwealth Fusion Systems (CFS), a startup commercializing fusion energy, today announced it has raised $115 million and closed its Series A round.\\', \\'score\\': 0.86928266, \\'raw_content\\': None}, {\\'url\\': \\'https://en.wikipedia.org/wiki/Commonwealth_Fusion_Systems\\', \\'title\\': \\'Commonwealth Fusion Systems\\', \\'content\\': \"CFS raised an additional US$ 84million in series A2 funding from Singapore\\'s Temasek, Norway\\'s Equinor, and Devonshire Investors, as well as from previous\", \\'score\\': 0.84246206, \\'raw_content\\': None}, {\\'url\\': \\'https://www.cfs.energy/news-and-media/commonwealth-fusion-systems-closes-1-8-billion-series-b-round/\\', \\'title\\': \\'Commonwealth Fusion Systems Raises $1.8 Billion in ...\\', \\'content\\': \\'Commonwealth Fusion Systems (CFS) announced it has closed on more than $1.8 billion in Series B funding to commercialize fusion energy.\\', \\'score\\': 0.7099254, \\'raw_content\\': None}, {\\'url\\': \\'https://news.crunchbase.com/clean-tech-and-energy/fusion-funding-falls-commonwealth-helion-altman/\\', \\'title\\': \\'Fusion Funding Has Fizzled\\', \\'content\\': \\'Funding to startups focused on fusion energy has declined sharply in recent quarters after hitting a high two-and-a-half years ago. For a sense of how fusion-focused startup funding has fluctuated, we used Crunchbase data to chart out investment to the space over the past 14 quarters. Fusion funding has seen much more dramatic annual ups and downs than average for startup sectors, as charted below. * Fusion Energy-Related Startup Funding * Battery Tech And Fusion Dominate Big Energy Tech Funding Rounds Artificial intelligence • Clean tech and energy • Cybersecurity • Defense tech • Fintech • M&A • Public Markets • Quarterly and annual reports • Regional • Startups • Venture\\', \\'score\\': 0.1196859, \\'raw_content\\': None}], \\'response_time\\': 0.82}', id='0c798ce3-8636-4134-88ca-b8326ce59883', tool_call_id='bb0dcd4e-5f01-4079-a5d4-ee0106894800'),\n",
       "  AIMessage(content='', additional_kwargs={'function_call': {'name': 'WriteToScratchpad', 'arguments': '{\"notes\": \"**Research Progress: Commonwealth Fusion Systems**\\\\n\\\\n**1. Funding Rounds:**\\\\n*   **Series B (December 2021):** Raised over $1.8 billion.\\\\n    *   **Lead Investor:** Tiger Global Management.\\\\n*   **Series A2:** Raised an additional $84 million.\\\\n    *   **Investors:** Temasek (Singapore), Equinor (Norway), Devonshire Investors.\\\\n*   **Series A (June 2019):** Raised $115 million.\\\\n*   **Total Funding to Date:** Approximately $2 billion ($1.8B + $115M + $84M). The \\\\\"Corporate\\\\\" funding round mentioned previously seems to be an error. The $1 billion from a hyperscale data center developer appears to be part of the Series B round.\\\\n\\\\n**2. Recent Developments:**\\\\n*   Now that I have a good understanding of the funding, I will focus on recent developments.\\\\n\\\\n**Next Steps:**\\\\n*   Search for news and press releases from the last 12-18 months to identify technological milestones, partnerships, and progress on SPARC and ARC.\"}'}}, response_metadata={'prompt_feedback': {'block_reason': 0, 'safety_ratings': []}, 'finish_reason': 'STOP', 'model_name': 'gemini-2.5-pro', 'safety_ratings': []}, id='run--b8bc8747-2801-4353-ac0a-023379f22967-0', tool_calls=[{'name': 'WriteToScratchpad', 'args': {'notes': '**Research Progress: Commonwealth Fusion Systems**\\n\\n**1. Funding Rounds:**\\n*   **Series B (December 2021):** Raised over $1.8 billion.\\n    *   **Lead Investor:** Tiger Global Management.\\n*   **Series A2:** Raised an additional $84 million.\\n    *   **Investors:** Temasek (Singapore), Equinor (Norway), Devonshire Investors.\\n*   **Series A (June 2019):** Raised $115 million.\\n*   **Total Funding to Date:** Approximately $2 billion ($1.8B + $115M + $84M). The \"Corporate\" funding round mentioned previously seems to be an error. The $1 billion from a hyperscale data center developer appears to be part of the Series B round.\\n\\n**2. Recent Developments:**\\n*   Now that I have a good understanding of the funding, I will focus on recent developments.\\n\\n**Next Steps:**\\n*   Search for news and press releases from the last 12-18 months to identify technological milestones, partnerships, and progress on SPARC and ARC.'}, 'id': '2f1503b3-c8bd-4527-b8db-3d030e0726ee', 'type': 'tool_call'}], usage_metadata={'input_tokens': 5359, 'output_tokens': 265, 'total_tokens': 5624, 'input_token_details': {'cache_read': 0}}),\n",
       "  ToolMessage(content='Wrote to scratchpad: **Research Progress: Commonwealth Fusion Systems**\\n\\n**1. Funding Rounds:**\\n*   **Series B (December 2021):** Raised over $1.8 billion.\\n    *   **Lead Investor:** Tiger Global Management.\\n*   **Series A2:** Raised an additional $84 million.\\n    *   **Investors:** Temasek (Singapore), Equinor (Norway), Devonshire Investors.\\n*   **Series A (June 2019):** Raised $115 million.\\n*   **Total Funding to Date:** Approximately $2 billion ($1.8B + $115M + $84M). The \"Corporate\" funding round mentioned previously seems to be an error. The $1 billion from a hyperscale data center developer appears to be part of the Series B round.\\n\\n**2. Recent Developments:**\\n*   Now that I have a good understanding of the funding, I will focus on recent developments.\\n\\n**Next Steps:**\\n*   Search for news and press releases from the last 12-18 months to identify technological milestones, partnerships, and progress on SPARC and ARC.', id='612e1d49-15d2-4e4a-b749-f2c8d67a84a2', tool_call_id='2f1503b3-c8bd-4527-b8db-3d030e0726ee'),\n",
       "  AIMessage(content='', additional_kwargs={'function_call': {'name': 'tavily_search', 'arguments': '{\"query\": \"Commonwealth Fusion Systems recent developments 2023 2024\"}'}}, response_metadata={'prompt_feedback': {'block_reason': 0, 'safety_ratings': []}, 'finish_reason': 'STOP', 'model_name': 'gemini-2.5-pro', 'safety_ratings': []}, id='run--20b074fe-ff44-46d3-9d0c-6607d15e1b49-0', tool_calls=[{'name': 'tavily_search', 'args': {'query': 'Commonwealth Fusion Systems recent developments 2023 2024'}, 'id': '794752a1-80ec-49fa-b989-ec4543d02e1f', 'type': 'tool_call'}], usage_metadata={'input_tokens': 5897, 'output_tokens': 31, 'total_tokens': 5928, 'input_token_details': {'cache_read': 0}}),\n",
       "  ToolMessage(content='{\\'query\\': \\'Commonwealth Fusion Systems recent developments 2023 2024\\', \\'follow_up_questions\\': None, \\'answer\\': None, \\'images\\': [], \\'results\\': [{\\'url\\': \\'https://www.youtube.com/watch?v=4WCLcmjFYiw\\', \\'title\\': \\'An Update from Commonwealth Fusion Systems (December 2024)\\', \\'content\\': \"We\\'re ramping up our commercialization work at Commonwealth Fusion Systems (CFS). In the newest of our twice-yearly video updates,\", \\'score\\': 0.84918517, \\'raw_content\\': None}, {\\'url\\': \\'https://cfs.energy/devens-campus/updates/\\', \\'title\\': \\'Devens Events & Updates - Commonwealth Fusion Systems\\', \\'content\\': \\'Feb 10, 2023. CFS officially opened its new campus to support the development and deployment of commercial fusion energy. The ceremonial event today included\\', \\'score\\': 0.49450764, \\'raw_content\\': None}, {\\'url\\': \\'https://cfs.energy/\\', \\'title\\': \\'Commonwealth Fusion Systems: Home\\', \\'content\\': \\'CFS is using revolutionary high temperature superconducting magnets developed in collaboration with MIT to build smaller and lower-cost tokamak fusion systems.\\', \\'score\\': 0.42763633, \\'raw_content\\': None}, {\\'url\\': \\'https://techcrunch.com/2025/06/30/google-inks-its-first-fusion-power-deal-with-commonwealth-fusion-systems/\\', \\'title\\': \\'Google inks its first fusion power deal with Commonwealth Fusion ...\\', \\'content\\': \\'Commonwealth Fusion Systems (CFS) will send Google 200 megawatts of electricity from its Arc power plant, which is expected to come online in the early 2030s.\\', \\'score\\': 0.3503997, \\'raw_content\\': None}, {\\'url\\': \\'https://blog.cfs.energy/the-race-to-lead-the-world-in-fusion-has-begun/\\', \\'title\\': \\'The race to lead the world in fusion has begun | The Tokamak Times\\', \\'content\\': \\'Our effort at Commonwealth Fusion Systems (CFS) in Massachusetts is the most mature, securing more than $2 billion in funding and hiring more\\', \\'score\\': 0.34514993, \\'raw_content\\': None}], \\'response_time\\': 0.94}', id='28633af3-4002-4ead-ae7f-d8efb5889019', tool_call_id='794752a1-80ec-49fa-b989-ec4543d02e1f'),\n",
       "  AIMessage(content='', additional_kwargs={}, response_metadata={'prompt_feedback': {'block_reason': 0, 'safety_ratings': []}, 'finish_reason': 'STOP', 'model_name': 'gemini-2.5-pro', 'safety_ratings': []}, id='run--11d8b46f-53a4-427d-9674-d2ad64057024-0', usage_metadata={'input_tokens': 6542, 'output_tokens': 57, 'total_tokens': 6599, 'input_token_details': {'cache_read': 0}, 'output_token_details': {'reasoning': 57}})]}"
      ]
     },
     "execution_count": 29,
     "metadata": {},
     "output_type": "execute_result"
    }
   ],
   "source": [
    "message_1"
   ]
  },
  {
   "cell_type": "code",
   "execution_count": 30,
   "id": "8953dfb7",
   "metadata": {},
   "outputs": [
    {
     "data": {
      "text/html": [
       "<pre style=\"white-space:pre;overflow-x:auto;line-height:normal;font-family:Menlo,'DejaVu Sans Mono',consolas,'Courier New',monospace\">\n",
       "<span style=\"color: #008080; text-decoration-color: #008080; font-weight: bold\">Workflow Result (Thread </span><span style=\"color: #008080; text-decoration-color: #008080; font-weight: bold\">2</span><span style=\"color: #008080; text-decoration-color: #008080; font-weight: bold\">) - Cross-Thread Memory Access:</span>\n",
       "</pre>\n"
      ],
      "text/plain": [
       "\n",
       "\u001b[1;36mWorkflow Result \u001b[0m\u001b[1;36m(\u001b[0m\u001b[1;36mThread \u001b[0m\u001b[1;36m2\u001b[0m\u001b[1;36m)\u001b[0m\u001b[1;36m - Cross-Thread Memory Access:\u001b[0m\n"
      ]
     },
     "metadata": {},
     "output_type": "display_data"
    },
    {
     "data": {
      "text/html": [
       "<pre style=\"white-space:pre;overflow-x:auto;line-height:normal;font-family:Menlo,'DejaVu Sans Mono',consolas,'Courier New',monospace\"><span style=\"color: #000080; text-decoration-color: #000080\">╭─────────────────────────────────────────────────── 🧑 Human ────────────────────────────────────────────────────╮</span>\n",
       "<span style=\"color: #000080; text-decoration-color: #000080\">│</span> How does the funding raised for Helion Energy compare to Commonwealth Fusion Systems? make srue to follow the   <span style=\"color: #000080; text-decoration-color: #000080\">│</span>\n",
       "<span style=\"color: #000080; text-decoration-color: #000080\">│</span> system message and workflow steps.                                                                              <span style=\"color: #000080; text-decoration-color: #000080\">│</span>\n",
       "<span style=\"color: #000080; text-decoration-color: #000080\">╰─────────────────────────────────────────────────────────────────────────────────────────────────────────────────╯</span>\n",
       "</pre>\n"
      ],
      "text/plain": [
       "\u001b[34m╭─\u001b[0m\u001b[34m──────────────────────────────────────────────────\u001b[0m\u001b[34m 🧑 Human \u001b[0m\u001b[34m───────────────────────────────────────────────────\u001b[0m\u001b[34m─╮\u001b[0m\n",
       "\u001b[34m│\u001b[0m How does the funding raised for Helion Energy compare to Commonwealth Fusion Systems? make srue to follow the   \u001b[34m│\u001b[0m\n",
       "\u001b[34m│\u001b[0m system message and workflow steps.                                                                              \u001b[34m│\u001b[0m\n",
       "\u001b[34m╰─────────────────────────────────────────────────────────────────────────────────────────────────────────────────╯\u001b[0m\n"
      ]
     },
     "metadata": {},
     "output_type": "display_data"
    },
    {
     "data": {
      "text/html": [
       "<pre style=\"white-space:pre;overflow-x:auto;line-height:normal;font-family:Menlo,'DejaVu Sans Mono',consolas,'Courier New',monospace\"><span style=\"color: #c0c0c0; text-decoration-color: #c0c0c0\">╭───────────────────────────────────────────────────── 📝 AI ─────────────────────────────────────────────────────╮</span>\n",
       "<span style=\"color: #c0c0c0; text-decoration-color: #c0c0c0\">│</span>                                                                                                                 <span style=\"color: #c0c0c0; text-decoration-color: #c0c0c0\">│</span>\n",
       "<span style=\"color: #c0c0c0; text-decoration-color: #c0c0c0\">│</span> 🔧 Tool Call: ReadFromScratchpad                                                                                <span style=\"color: #c0c0c0; text-decoration-color: #c0c0c0\">│</span>\n",
       "<span style=\"color: #c0c0c0; text-decoration-color: #c0c0c0\">│</span>    Args: {                                                                                                      <span style=\"color: #c0c0c0; text-decoration-color: #c0c0c0\">│</span>\n",
       "<span style=\"color: #c0c0c0; text-decoration-color: #c0c0c0\">│</span>   \"reasoning\": \"I need to check if I have any saved notes about Helion Energy or Commonwealth Fusion Systems    <span style=\"color: #c0c0c0; text-decoration-color: #c0c0c0\">│</span>\n",
       "<span style=\"color: #c0c0c0; text-decoration-color: #c0c0c0\">│</span> from previous research. This will help me determine if I can start with existing information or if I need to    <span style=\"color: #c0c0c0; text-decoration-color: #c0c0c0\">│</span>\n",
       "<span style=\"color: #c0c0c0; text-decoration-color: #c0c0c0\">│</span> build my knowledge base from scratch.\"                                                                          <span style=\"color: #c0c0c0; text-decoration-color: #c0c0c0\">│</span>\n",
       "<span style=\"color: #c0c0c0; text-decoration-color: #c0c0c0\">│</span> }                                                                                                               <span style=\"color: #c0c0c0; text-decoration-color: #c0c0c0\">│</span>\n",
       "<span style=\"color: #c0c0c0; text-decoration-color: #c0c0c0\">╰─────────────────────────────────────────────────────────────────────────────────────────────────────────────────╯</span>\n",
       "</pre>\n"
      ],
      "text/plain": [
       "\u001b[37m╭─\u001b[0m\u001b[37m────────────────────────────────────────────────────\u001b[0m\u001b[37m 📝 AI \u001b[0m\u001b[37m────────────────────────────────────────────────────\u001b[0m\u001b[37m─╮\u001b[0m\n",
       "\u001b[37m│\u001b[0m                                                                                                                 \u001b[37m│\u001b[0m\n",
       "\u001b[37m│\u001b[0m 🔧 Tool Call: ReadFromScratchpad                                                                                \u001b[37m│\u001b[0m\n",
       "\u001b[37m│\u001b[0m    Args: {                                                                                                      \u001b[37m│\u001b[0m\n",
       "\u001b[37m│\u001b[0m   \"reasoning\": \"I need to check if I have any saved notes about Helion Energy or Commonwealth Fusion Systems    \u001b[37m│\u001b[0m\n",
       "\u001b[37m│\u001b[0m from previous research. This will help me determine if I can start with existing information or if I need to    \u001b[37m│\u001b[0m\n",
       "\u001b[37m│\u001b[0m build my knowledge base from scratch.\"                                                                          \u001b[37m│\u001b[0m\n",
       "\u001b[37m│\u001b[0m }                                                                                                               \u001b[37m│\u001b[0m\n",
       "\u001b[37m╰─────────────────────────────────────────────────────────────────────────────────────────────────────────────────╯\u001b[0m\n"
      ]
     },
     "metadata": {},
     "output_type": "display_data"
    },
    {
     "data": {
      "text/html": [
       "<pre style=\"white-space:pre;overflow-x:auto;line-height:normal;font-family:Menlo,'DejaVu Sans Mono',consolas,'Courier New',monospace\"><span style=\"color: #808000; text-decoration-color: #808000\">╭──────────────────────────────────────────────── 🔧 Tool Output ─────────────────────────────────────────────────╮</span>\n",
       "<span style=\"color: #808000; text-decoration-color: #808000\">│</span> Notes from scratchpad: **Research Progress: Commonwealth Fusion Systems**                                       <span style=\"color: #808000; text-decoration-color: #808000\">│</span>\n",
       "<span style=\"color: #808000; text-decoration-color: #808000\">│</span>                                                                                                                 <span style=\"color: #808000; text-decoration-color: #808000\">│</span>\n",
       "<span style=\"color: #808000; text-decoration-color: #808000\">│</span> **1. Funding Rounds:**                                                                                          <span style=\"color: #808000; text-decoration-color: #808000\">│</span>\n",
       "<span style=\"color: #808000; text-decoration-color: #808000\">│</span> *   **Series B (December 2021):** Raised over $1.8 billion.                                                     <span style=\"color: #808000; text-decoration-color: #808000\">│</span>\n",
       "<span style=\"color: #808000; text-decoration-color: #808000\">│</span>     *   **Lead Investor:** Tiger Global Management.                                                             <span style=\"color: #808000; text-decoration-color: #808000\">│</span>\n",
       "<span style=\"color: #808000; text-decoration-color: #808000\">│</span> *   **Series A2:** Raised an additional $84 million.                                                            <span style=\"color: #808000; text-decoration-color: #808000\">│</span>\n",
       "<span style=\"color: #808000; text-decoration-color: #808000\">│</span>     *   **Investors:** Temasek (Singapore), Equinor (Norway), Devonshire Investors.                             <span style=\"color: #808000; text-decoration-color: #808000\">│</span>\n",
       "<span style=\"color: #808000; text-decoration-color: #808000\">│</span> *   **Series A (June 2019):** Raised $115 million.                                                              <span style=\"color: #808000; text-decoration-color: #808000\">│</span>\n",
       "<span style=\"color: #808000; text-decoration-color: #808000\">│</span> *   **Total Funding to Date:** Approximately $2 billion ($1.8B + $115M + $84M). The \"Corporate\" funding round   <span style=\"color: #808000; text-decoration-color: #808000\">│</span>\n",
       "<span style=\"color: #808000; text-decoration-color: #808000\">│</span> mentioned previously seems to be an error. The $1 billion from a hyperscale data center developer appears to be <span style=\"color: #808000; text-decoration-color: #808000\">│</span>\n",
       "<span style=\"color: #808000; text-decoration-color: #808000\">│</span> part of the Series B round.                                                                                     <span style=\"color: #808000; text-decoration-color: #808000\">│</span>\n",
       "<span style=\"color: #808000; text-decoration-color: #808000\">│</span>                                                                                                                 <span style=\"color: #808000; text-decoration-color: #808000\">│</span>\n",
       "<span style=\"color: #808000; text-decoration-color: #808000\">│</span> **2. Recent Developments:**                                                                                     <span style=\"color: #808000; text-decoration-color: #808000\">│</span>\n",
       "<span style=\"color: #808000; text-decoration-color: #808000\">│</span> *   Now that I have a good understanding of the funding, I will focus on recent developments.                   <span style=\"color: #808000; text-decoration-color: #808000\">│</span>\n",
       "<span style=\"color: #808000; text-decoration-color: #808000\">│</span>                                                                                                                 <span style=\"color: #808000; text-decoration-color: #808000\">│</span>\n",
       "<span style=\"color: #808000; text-decoration-color: #808000\">│</span> **Next Steps:**                                                                                                 <span style=\"color: #808000; text-decoration-color: #808000\">│</span>\n",
       "<span style=\"color: #808000; text-decoration-color: #808000\">│</span> *   Search for news and press releases from the last 12-18 months to identify technological milestones,         <span style=\"color: #808000; text-decoration-color: #808000\">│</span>\n",
       "<span style=\"color: #808000; text-decoration-color: #808000\">│</span> partnerships, and progress on SPARC and ARC.                                                                    <span style=\"color: #808000; text-decoration-color: #808000\">│</span>\n",
       "<span style=\"color: #808000; text-decoration-color: #808000\">╰─────────────────────────────────────────────────────────────────────────────────────────────────────────────────╯</span>\n",
       "</pre>\n"
      ],
      "text/plain": [
       "\u001b[33m╭─\u001b[0m\u001b[33m───────────────────────────────────────────────\u001b[0m\u001b[33m 🔧 Tool Output \u001b[0m\u001b[33m────────────────────────────────────────────────\u001b[0m\u001b[33m─╮\u001b[0m\n",
       "\u001b[33m│\u001b[0m Notes from scratchpad: **Research Progress: Commonwealth Fusion Systems**                                       \u001b[33m│\u001b[0m\n",
       "\u001b[33m│\u001b[0m                                                                                                                 \u001b[33m│\u001b[0m\n",
       "\u001b[33m│\u001b[0m **1. Funding Rounds:**                                                                                          \u001b[33m│\u001b[0m\n",
       "\u001b[33m│\u001b[0m *   **Series B (December 2021):** Raised over $1.8 billion.                                                     \u001b[33m│\u001b[0m\n",
       "\u001b[33m│\u001b[0m     *   **Lead Investor:** Tiger Global Management.                                                             \u001b[33m│\u001b[0m\n",
       "\u001b[33m│\u001b[0m *   **Series A2:** Raised an additional $84 million.                                                            \u001b[33m│\u001b[0m\n",
       "\u001b[33m│\u001b[0m     *   **Investors:** Temasek (Singapore), Equinor (Norway), Devonshire Investors.                             \u001b[33m│\u001b[0m\n",
       "\u001b[33m│\u001b[0m *   **Series A (June 2019):** Raised $115 million.                                                              \u001b[33m│\u001b[0m\n",
       "\u001b[33m│\u001b[0m *   **Total Funding to Date:** Approximately $2 billion ($1.8B + $115M + $84M). The \"Corporate\" funding round   \u001b[33m│\u001b[0m\n",
       "\u001b[33m│\u001b[0m mentioned previously seems to be an error. The $1 billion from a hyperscale data center developer appears to be \u001b[33m│\u001b[0m\n",
       "\u001b[33m│\u001b[0m part of the Series B round.                                                                                     \u001b[33m│\u001b[0m\n",
       "\u001b[33m│\u001b[0m                                                                                                                 \u001b[33m│\u001b[0m\n",
       "\u001b[33m│\u001b[0m **2. Recent Developments:**                                                                                     \u001b[33m│\u001b[0m\n",
       "\u001b[33m│\u001b[0m *   Now that I have a good understanding of the funding, I will focus on recent developments.                   \u001b[33m│\u001b[0m\n",
       "\u001b[33m│\u001b[0m                                                                                                                 \u001b[33m│\u001b[0m\n",
       "\u001b[33m│\u001b[0m **Next Steps:**                                                                                                 \u001b[33m│\u001b[0m\n",
       "\u001b[33m│\u001b[0m *   Search for news and press releases from the last 12-18 months to identify technological milestones,         \u001b[33m│\u001b[0m\n",
       "\u001b[33m│\u001b[0m partnerships, and progress on SPARC and ARC.                                                                    \u001b[33m│\u001b[0m\n",
       "\u001b[33m╰─────────────────────────────────────────────────────────────────────────────────────────────────────────────────╯\u001b[0m\n"
      ]
     },
     "metadata": {},
     "output_type": "display_data"
    },
    {
     "data": {
      "text/html": [
       "<pre style=\"white-space:pre;overflow-x:auto;line-height:normal;font-family:Menlo,'DejaVu Sans Mono',consolas,'Courier New',monospace\"><span style=\"color: #c0c0c0; text-decoration-color: #c0c0c0\">╭───────────────────────────────────────────────────── 📝 AI ─────────────────────────────────────────────────────╮</span>\n",
       "<span style=\"color: #c0c0c0; text-decoration-color: #c0c0c0\">│</span>                                                                                                                 <span style=\"color: #c0c0c0; text-decoration-color: #c0c0c0\">│</span>\n",
       "<span style=\"color: #c0c0c0; text-decoration-color: #c0c0c0\">│</span> 🔧 Tool Call: WriteToScratchpad                                                                                 <span style=\"color: #c0c0c0; text-decoration-color: #c0c0c0\">│</span>\n",
       "<span style=\"color: #c0c0c0; text-decoration-color: #c0c0c0\">│</span>    Args: {                                                                                                      <span style=\"color: #c0c0c0; text-decoration-color: #c0c0c0\">│</span>\n",
       "<span style=\"color: #c0c0c0; text-decoration-color: #c0c0c0\">│</span>   \"notes\": \"I have existing notes on Commonwealth Fusion Systems, which will serve as a starting                <span style=\"color: #c0c0c0; text-decoration-color: #c0c0c0\">│</span>\n",
       "<span style=\"color: #c0c0c0; text-decoration-color: #c0c0c0\">│</span> point.\\n\\n**Research Plan:**\\n\\n1.  **Review existing notes:** I have detailed funding information for          <span style=\"color: #c0c0c0; text-decoration-color: #c0c0c0\">│</span>\n",
       "<span style=\"color: #c0c0c0; text-decoration-color: #c0c0c0\">│</span> Commonwealth Fusion Systems.\\n2.  **Gather funding data for Helion Energy:**\\n    *   Search for Helion         <span style=\"color: #c0c0c0; text-decoration-color: #c0c0c0\">│</span>\n",
       "<span style=\"color: #c0c0c0; text-decoration-color: #c0c0c0\">│</span> Energy's total funding to date.\\n    *   Identify key funding rounds (e.g., Series A, B, etc.) and the amounts  <span style=\"color: #c0c0c0; text-decoration-color: #c0c0c0\">│</span>\n",
       "<span style=\"color: #c0c0c0; text-decoration-color: #c0c0c0\">│</span> raised in each.\\n    *   Note any prominent investors.\\n3.  **Synthesize and compare:**\\n    *   Create a       <span style=\"color: #c0c0c0; text-decoration-color: #c0c0c0\">│</span>\n",
       "<span style=\"color: #c0c0c0; text-decoration-color: #c0c0c0\">│</span> summary table comparing the total funding and key funding rounds of both companies.\\n    *   Write a            <span style=\"color: #c0c0c0; text-decoration-color: #c0c0c0\">│</span>\n",
       "<span style=\"color: #c0c0c0; text-decoration-color: #c0c0c0\">│</span> comparative analysis of their funding history and key investors.\\n    *   Provide a concluding statement on     <span style=\"color: #c0c0c0; text-decoration-color: #c0c0c0\">│</span>\n",
       "<span style=\"color: #c0c0c0; text-decoration-color: #c0c0c0\">│</span> their overall funding status.\"                                                                                  <span style=\"color: #c0c0c0; text-decoration-color: #c0c0c0\">│</span>\n",
       "<span style=\"color: #c0c0c0; text-decoration-color: #c0c0c0\">│</span> }                                                                                                               <span style=\"color: #c0c0c0; text-decoration-color: #c0c0c0\">│</span>\n",
       "<span style=\"color: #c0c0c0; text-decoration-color: #c0c0c0\">╰─────────────────────────────────────────────────────────────────────────────────────────────────────────────────╯</span>\n",
       "</pre>\n"
      ],
      "text/plain": [
       "\u001b[37m╭─\u001b[0m\u001b[37m────────────────────────────────────────────────────\u001b[0m\u001b[37m 📝 AI \u001b[0m\u001b[37m────────────────────────────────────────────────────\u001b[0m\u001b[37m─╮\u001b[0m\n",
       "\u001b[37m│\u001b[0m                                                                                                                 \u001b[37m│\u001b[0m\n",
       "\u001b[37m│\u001b[0m 🔧 Tool Call: WriteToScratchpad                                                                                 \u001b[37m│\u001b[0m\n",
       "\u001b[37m│\u001b[0m    Args: {                                                                                                      \u001b[37m│\u001b[0m\n",
       "\u001b[37m│\u001b[0m   \"notes\": \"I have existing notes on Commonwealth Fusion Systems, which will serve as a starting                \u001b[37m│\u001b[0m\n",
       "\u001b[37m│\u001b[0m point.\\n\\n**Research Plan:**\\n\\n1.  **Review existing notes:** I have detailed funding information for          \u001b[37m│\u001b[0m\n",
       "\u001b[37m│\u001b[0m Commonwealth Fusion Systems.\\n2.  **Gather funding data for Helion Energy:**\\n    *   Search for Helion         \u001b[37m│\u001b[0m\n",
       "\u001b[37m│\u001b[0m Energy's total funding to date.\\n    *   Identify key funding rounds (e.g., Series A, B, etc.) and the amounts  \u001b[37m│\u001b[0m\n",
       "\u001b[37m│\u001b[0m raised in each.\\n    *   Note any prominent investors.\\n3.  **Synthesize and compare:**\\n    *   Create a       \u001b[37m│\u001b[0m\n",
       "\u001b[37m│\u001b[0m summary table comparing the total funding and key funding rounds of both companies.\\n    *   Write a            \u001b[37m│\u001b[0m\n",
       "\u001b[37m│\u001b[0m comparative analysis of their funding history and key investors.\\n    *   Provide a concluding statement on     \u001b[37m│\u001b[0m\n",
       "\u001b[37m│\u001b[0m their overall funding status.\"                                                                                  \u001b[37m│\u001b[0m\n",
       "\u001b[37m│\u001b[0m }                                                                                                               \u001b[37m│\u001b[0m\n",
       "\u001b[37m╰─────────────────────────────────────────────────────────────────────────────────────────────────────────────────╯\u001b[0m\n"
      ]
     },
     "metadata": {},
     "output_type": "display_data"
    },
    {
     "data": {
      "text/html": [
       "<pre style=\"white-space:pre;overflow-x:auto;line-height:normal;font-family:Menlo,'DejaVu Sans Mono',consolas,'Courier New',monospace\"><span style=\"color: #808000; text-decoration-color: #808000\">╭──────────────────────────────────────────────── 🔧 Tool Output ─────────────────────────────────────────────────╮</span>\n",
       "<span style=\"color: #808000; text-decoration-color: #808000\">│</span> Wrote to scratchpad: I have existing notes on Commonwealth Fusion Systems, which will serve as a starting       <span style=\"color: #808000; text-decoration-color: #808000\">│</span>\n",
       "<span style=\"color: #808000; text-decoration-color: #808000\">│</span> point.                                                                                                          <span style=\"color: #808000; text-decoration-color: #808000\">│</span>\n",
       "<span style=\"color: #808000; text-decoration-color: #808000\">│</span>                                                                                                                 <span style=\"color: #808000; text-decoration-color: #808000\">│</span>\n",
       "<span style=\"color: #808000; text-decoration-color: #808000\">│</span> **Research Plan:**                                                                                              <span style=\"color: #808000; text-decoration-color: #808000\">│</span>\n",
       "<span style=\"color: #808000; text-decoration-color: #808000\">│</span>                                                                                                                 <span style=\"color: #808000; text-decoration-color: #808000\">│</span>\n",
       "<span style=\"color: #808000; text-decoration-color: #808000\">│</span> 1.  **Review existing notes:** I have detailed funding information for Commonwealth Fusion Systems.             <span style=\"color: #808000; text-decoration-color: #808000\">│</span>\n",
       "<span style=\"color: #808000; text-decoration-color: #808000\">│</span> 2.  **Gather funding data for Helion Energy:**                                                                  <span style=\"color: #808000; text-decoration-color: #808000\">│</span>\n",
       "<span style=\"color: #808000; text-decoration-color: #808000\">│</span>     *   Search for Helion Energy's total funding to date.                                                       <span style=\"color: #808000; text-decoration-color: #808000\">│</span>\n",
       "<span style=\"color: #808000; text-decoration-color: #808000\">│</span>     *   Identify key funding rounds (e.g., Series A, B, etc.) and the amounts raised in each.                   <span style=\"color: #808000; text-decoration-color: #808000\">│</span>\n",
       "<span style=\"color: #808000; text-decoration-color: #808000\">│</span>     *   Note any prominent investors.                                                                           <span style=\"color: #808000; text-decoration-color: #808000\">│</span>\n",
       "<span style=\"color: #808000; text-decoration-color: #808000\">│</span> 3.  **Synthesize and compare:**                                                                                 <span style=\"color: #808000; text-decoration-color: #808000\">│</span>\n",
       "<span style=\"color: #808000; text-decoration-color: #808000\">│</span>     *   Create a summary table comparing the total funding and key funding rounds of both companies.            <span style=\"color: #808000; text-decoration-color: #808000\">│</span>\n",
       "<span style=\"color: #808000; text-decoration-color: #808000\">│</span>     *   Write a comparative analysis of their funding history and key investors.                                <span style=\"color: #808000; text-decoration-color: #808000\">│</span>\n",
       "<span style=\"color: #808000; text-decoration-color: #808000\">│</span>     *   Provide a concluding statement on their overall funding status.                                         <span style=\"color: #808000; text-decoration-color: #808000\">│</span>\n",
       "<span style=\"color: #808000; text-decoration-color: #808000\">╰─────────────────────────────────────────────────────────────────────────────────────────────────────────────────╯</span>\n",
       "</pre>\n"
      ],
      "text/plain": [
       "\u001b[33m╭─\u001b[0m\u001b[33m───────────────────────────────────────────────\u001b[0m\u001b[33m 🔧 Tool Output \u001b[0m\u001b[33m────────────────────────────────────────────────\u001b[0m\u001b[33m─╮\u001b[0m\n",
       "\u001b[33m│\u001b[0m Wrote to scratchpad: I have existing notes on Commonwealth Fusion Systems, which will serve as a starting       \u001b[33m│\u001b[0m\n",
       "\u001b[33m│\u001b[0m point.                                                                                                          \u001b[33m│\u001b[0m\n",
       "\u001b[33m│\u001b[0m                                                                                                                 \u001b[33m│\u001b[0m\n",
       "\u001b[33m│\u001b[0m **Research Plan:**                                                                                              \u001b[33m│\u001b[0m\n",
       "\u001b[33m│\u001b[0m                                                                                                                 \u001b[33m│\u001b[0m\n",
       "\u001b[33m│\u001b[0m 1.  **Review existing notes:** I have detailed funding information for Commonwealth Fusion Systems.             \u001b[33m│\u001b[0m\n",
       "\u001b[33m│\u001b[0m 2.  **Gather funding data for Helion Energy:**                                                                  \u001b[33m│\u001b[0m\n",
       "\u001b[33m│\u001b[0m     *   Search for Helion Energy's total funding to date.                                                       \u001b[33m│\u001b[0m\n",
       "\u001b[33m│\u001b[0m     *   Identify key funding rounds (e.g., Series A, B, etc.) and the amounts raised in each.                   \u001b[33m│\u001b[0m\n",
       "\u001b[33m│\u001b[0m     *   Note any prominent investors.                                                                           \u001b[33m│\u001b[0m\n",
       "\u001b[33m│\u001b[0m 3.  **Synthesize and compare:**                                                                                 \u001b[33m│\u001b[0m\n",
       "\u001b[33m│\u001b[0m     *   Create a summary table comparing the total funding and key funding rounds of both companies.            \u001b[33m│\u001b[0m\n",
       "\u001b[33m│\u001b[0m     *   Write a comparative analysis of their funding history and key investors.                                \u001b[33m│\u001b[0m\n",
       "\u001b[33m│\u001b[0m     *   Provide a concluding statement on their overall funding status.                                         \u001b[33m│\u001b[0m\n",
       "\u001b[33m╰─────────────────────────────────────────────────────────────────────────────────────────────────────────────────╯\u001b[0m\n"
      ]
     },
     "metadata": {},
     "output_type": "display_data"
    },
    {
     "data": {
      "text/html": [
       "<pre style=\"white-space:pre;overflow-x:auto;line-height:normal;font-family:Menlo,'DejaVu Sans Mono',consolas,'Courier New',monospace\"><span style=\"color: #c0c0c0; text-decoration-color: #c0c0c0\">╭───────────────────────────────────────────────────── 📝 AI ─────────────────────────────────────────────────────╮</span>\n",
       "<span style=\"color: #c0c0c0; text-decoration-color: #c0c0c0\">│</span>                                                                                                                 <span style=\"color: #c0c0c0; text-decoration-color: #c0c0c0\">│</span>\n",
       "<span style=\"color: #c0c0c0; text-decoration-color: #c0c0c0\">│</span> 🔧 Tool Call: tavily_search                                                                                     <span style=\"color: #c0c0c0; text-decoration-color: #c0c0c0\">│</span>\n",
       "<span style=\"color: #c0c0c0; text-decoration-color: #c0c0c0\">│</span>    Args: {                                                                                                      <span style=\"color: #c0c0c0; text-decoration-color: #c0c0c0\">│</span>\n",
       "<span style=\"color: #c0c0c0; text-decoration-color: #c0c0c0\">│</span>   \"query\": \"Helion Energy total funding and key investors\"                                                      <span style=\"color: #c0c0c0; text-decoration-color: #c0c0c0\">│</span>\n",
       "<span style=\"color: #c0c0c0; text-decoration-color: #c0c0c0\">│</span> }                                                                                                               <span style=\"color: #c0c0c0; text-decoration-color: #c0c0c0\">│</span>\n",
       "<span style=\"color: #c0c0c0; text-decoration-color: #c0c0c0\">╰─────────────────────────────────────────────────────────────────────────────────────────────────────────────────╯</span>\n",
       "</pre>\n"
      ],
      "text/plain": [
       "\u001b[37m╭─\u001b[0m\u001b[37m────────────────────────────────────────────────────\u001b[0m\u001b[37m 📝 AI \u001b[0m\u001b[37m────────────────────────────────────────────────────\u001b[0m\u001b[37m─╮\u001b[0m\n",
       "\u001b[37m│\u001b[0m                                                                                                                 \u001b[37m│\u001b[0m\n",
       "\u001b[37m│\u001b[0m 🔧 Tool Call: tavily_search                                                                                     \u001b[37m│\u001b[0m\n",
       "\u001b[37m│\u001b[0m    Args: {                                                                                                      \u001b[37m│\u001b[0m\n",
       "\u001b[37m│\u001b[0m   \"query\": \"Helion Energy total funding and key investors\"                                                      \u001b[37m│\u001b[0m\n",
       "\u001b[37m│\u001b[0m }                                                                                                               \u001b[37m│\u001b[0m\n",
       "\u001b[37m╰─────────────────────────────────────────────────────────────────────────────────────────────────────────────────╯\u001b[0m\n"
      ]
     },
     "metadata": {},
     "output_type": "display_data"
    },
    {
     "data": {
      "text/html": [
       "<pre style=\"white-space:pre;overflow-x:auto;line-height:normal;font-family:Menlo,'DejaVu Sans Mono',consolas,'Courier New',monospace\"><span style=\"color: #808000; text-decoration-color: #808000\">╭──────────────────────────────────────────────── 🔧 Tool Output ─────────────────────────────────────────────────╮</span>\n",
       "<span style=\"color: #808000; text-decoration-color: #808000\">│</span> {'query': 'Helion Energy total funding and key investors', 'follow_up_questions': None, 'answer': None,         <span style=\"color: #808000; text-decoration-color: #808000\">│</span>\n",
       "<span style=\"color: #808000; text-decoration-color: #808000\">│</span> 'images': [], 'results': [{'url':                                                                               <span style=\"color: #808000; text-decoration-color: #808000\">│</span>\n",
       "<span style=\"color: #808000; text-decoration-color: #808000\">│</span> 'https://tracxn.com/d/companies/helion/__fS6qGKScel2LE9EV85bGN9zjK8uhT4s_uRFQXu4k0M8', 'title': 'Helion - 2025  <span style=\"color: #808000; text-decoration-color: #808000\">│</span>\n",
       "<span style=\"color: #808000; text-decoration-color: #808000\">│</span> Company Profile, Funding &amp; Competitors - Tracxn', 'content': 'Helion has raised a total funding of $977M over 7 <span style=\"color: #808000; text-decoration-color: #808000\">│</span>\n",
       "<span style=\"color: #808000; text-decoration-color: #808000\">│</span> rounds. Its first funding round was on Aug 16, 2011. Its latest funding round was a Series F round on Jan 28,   <span style=\"color: #808000; text-decoration-color: #808000\">│</span>\n",
       "<span style=\"color: #808000; text-decoration-color: #808000\">│</span> 2025 for $425M. 6 investors participated in its latest round, which includes Lightspeed Venture Partners,       <span style=\"color: #808000; text-decoration-color: #808000\">│</span>\n",
       "<span style=\"color: #808000; text-decoration-color: #808000\">│</span> Defense.gov, DOE and SoftBank Vision Fund .', 'score': 0.8974172, 'raw_content': None}, {'url':                 <span style=\"color: #808000; text-decoration-color: #808000\">│</span>\n",
       "<span style=\"color: #808000; text-decoration-color: #808000\">│</span> 'https://www.helionenergy.com/articles/fusion-energy-startup-helion-energy-closes-latest-funding-round-at-1-25b <span style=\"color: #808000; text-decoration-color: #808000\">│</span>\n",
       "<span style=\"color: #808000; text-decoration-color: #808000\">│</span> -valuation/', 'title': 'Fusion Energy Startup Helion Energy Closes Latest Funding Round ...', 'content': \"This  <span style=\"color: #808000; text-decoration-color: #808000\">│</span>\n",
       "<span style=\"color: #808000; text-decoration-color: #808000\">│</span> latest fundraise brings the company's total funding amount to $77.8 million since its founding in 2013.         <span style=\"color: #808000; text-decoration-color: #808000\">│</span>\n",
       "<span style=\"color: #808000; text-decoration-color: #808000\">│</span> Previous investors include Mithril Capital\", 'score': 0.87681407, 'raw_content': None}, {'url':                 <span style=\"color: #808000; text-decoration-color: #808000\">│</span>\n",
       "<span style=\"color: #808000; text-decoration-color: #808000\">│</span> 'https://www.crunchbase.com/organization/helion-energy', 'title': 'Helion Energy - Crunchbase Company Profile &amp; <span style=\"color: #808000; text-decoration-color: #808000\">│</span>\n",
       "<span style=\"color: #808000; text-decoration-color: #808000\">│</span> Funding', 'content': 'Western US Companies With More Than $1M in Revenue (Top 10K) · 9,934 Number of            <span style=\"color: #808000; text-decoration-color: #808000\">│</span>\n",
       "<span style=\"color: #808000; text-decoration-color: #808000\">│</span> Organizations • $1.8T Total Funding Amount • 87,135 Number of Investors. Track.', 'score': 0.7876867,           <span style=\"color: #808000; text-decoration-color: #808000\">│</span>\n",
       "<span style=\"color: #808000; text-decoration-color: #808000\">│</span> 'raw_content': None}, {'url': 'https://pitchbook.com/profiles/company/65013-49', 'title': 'Helion 2025 Company  <span style=\"color: #808000; text-decoration-color: #808000\">│</span>\n",
       "<span style=\"color: #808000; text-decoration-color: #808000\">│</span> Profile: Valuation, Funding &amp; Investors', 'content': \"Who are Helion's investors? Good Ventures Foundation,     <span style=\"color: #808000; text-decoration-color: #808000\">│</span>\n",
       "<span style=\"color: #808000; text-decoration-color: #808000\">│</span> Lightspeed Venture Partners, SoftBank Group, Nucor, and AllianceBernstein are 5 of 22 investors who have\",      <span style=\"color: #808000; text-decoration-color: #808000\">│</span>\n",
       "<span style=\"color: #808000; text-decoration-color: #808000\">│</span> 'score': 0.7701369, 'raw_content': None}, {'url':                                                               <span style=\"color: #808000; text-decoration-color: #808000\">│</span>\n",
       "<span style=\"color: #808000; text-decoration-color: #808000\">│</span> 'https://equitybee.com/companies/company?company=helion%20energy', 'title': 'Fund Helion Energy stock options | <span style=\"color: #808000; text-decoration-color: #808000\">│</span>\n",
       "<span style=\"color: #808000; text-decoration-color: #808000\">│</span> Equitybee', 'content': 'Equitybee does not give investment advice, endorsement, analysis or recommendations     <span style=\"color: #808000; text-decoration-color: #808000\">│</span>\n",
       "<span style=\"color: #808000; text-decoration-color: #808000\">│</span> with respect to any securities and/or investments or investment decisions and none of the information included  <span style=\"color: #808000; text-decoration-color: #808000\">│</span>\n",
       "<span style=\"color: #808000; text-decoration-color: #808000\">│</span> herein should be referred to as such advice or recommendation. Neither Equitybee nor any of its officers,       <span style=\"color: #808000; text-decoration-color: #808000\">│</span>\n",
       "<span style=\"color: #808000; text-decoration-color: #808000\">│</span> directors, agents and employees makes any warranty, express or implied, of any kind related to the adequacy,    <span style=\"color: #808000; text-decoration-color: #808000\">│</span>\n",
       "<span style=\"color: #808000; text-decoration-color: #808000\">│</span> accuracy or completeness of any information on this site or the use of information on this site. Investments in <span style=\"color: #808000; text-decoration-color: #808000\">│</span>\n",
       "<span style=\"color: #808000; text-decoration-color: #808000\">│</span> startups are highly illiquid and those investors who cannot hold an investment for the long term (at least 5-7  <span style=\"color: #808000; text-decoration-color: #808000\">│</span>\n",
       "<span style=\"color: #808000; text-decoration-color: #808000\">│</span> years) should not invest.EquityBee Securities Form CRSCopyright Â© 2025 EquityBee Inc. All rights reserved.',   <span style=\"color: #808000; text-decoration-color: #808000\">│</span>\n",
       "<span style=\"color: #808000; text-decoration-color: #808000\">│</span> 'score': 0.2670483, 'raw_content': None}], 'response_time': 1.65}                                               <span style=\"color: #808000; text-decoration-color: #808000\">│</span>\n",
       "<span style=\"color: #808000; text-decoration-color: #808000\">╰─────────────────────────────────────────────────────────────────────────────────────────────────────────────────╯</span>\n",
       "</pre>\n"
      ],
      "text/plain": [
       "\u001b[33m╭─\u001b[0m\u001b[33m───────────────────────────────────────────────\u001b[0m\u001b[33m 🔧 Tool Output \u001b[0m\u001b[33m────────────────────────────────────────────────\u001b[0m\u001b[33m─╮\u001b[0m\n",
       "\u001b[33m│\u001b[0m {'query': 'Helion Energy total funding and key investors', 'follow_up_questions': None, 'answer': None,         \u001b[33m│\u001b[0m\n",
       "\u001b[33m│\u001b[0m 'images': [], 'results': [{'url':                                                                               \u001b[33m│\u001b[0m\n",
       "\u001b[33m│\u001b[0m 'https://tracxn.com/d/companies/helion/__fS6qGKScel2LE9EV85bGN9zjK8uhT4s_uRFQXu4k0M8', 'title': 'Helion - 2025  \u001b[33m│\u001b[0m\n",
       "\u001b[33m│\u001b[0m Company Profile, Funding & Competitors - Tracxn', 'content': 'Helion has raised a total funding of $977M over 7 \u001b[33m│\u001b[0m\n",
       "\u001b[33m│\u001b[0m rounds. Its first funding round was on Aug 16, 2011. Its latest funding round was a Series F round on Jan 28,   \u001b[33m│\u001b[0m\n",
       "\u001b[33m│\u001b[0m 2025 for $425M. 6 investors participated in its latest round, which includes Lightspeed Venture Partners,       \u001b[33m│\u001b[0m\n",
       "\u001b[33m│\u001b[0m Defense.gov, DOE and SoftBank Vision Fund .', 'score': 0.8974172, 'raw_content': None}, {'url':                 \u001b[33m│\u001b[0m\n",
       "\u001b[33m│\u001b[0m 'https://www.helionenergy.com/articles/fusion-energy-startup-helion-energy-closes-latest-funding-round-at-1-25b \u001b[33m│\u001b[0m\n",
       "\u001b[33m│\u001b[0m -valuation/', 'title': 'Fusion Energy Startup Helion Energy Closes Latest Funding Round ...', 'content': \"This  \u001b[33m│\u001b[0m\n",
       "\u001b[33m│\u001b[0m latest fundraise brings the company's total funding amount to $77.8 million since its founding in 2013.         \u001b[33m│\u001b[0m\n",
       "\u001b[33m│\u001b[0m Previous investors include Mithril Capital\", 'score': 0.87681407, 'raw_content': None}, {'url':                 \u001b[33m│\u001b[0m\n",
       "\u001b[33m│\u001b[0m 'https://www.crunchbase.com/organization/helion-energy', 'title': 'Helion Energy - Crunchbase Company Profile & \u001b[33m│\u001b[0m\n",
       "\u001b[33m│\u001b[0m Funding', 'content': 'Western US Companies With More Than $1M in Revenue (Top 10K) · 9,934 Number of            \u001b[33m│\u001b[0m\n",
       "\u001b[33m│\u001b[0m Organizations • $1.8T Total Funding Amount • 87,135 Number of Investors. Track.', 'score': 0.7876867,           \u001b[33m│\u001b[0m\n",
       "\u001b[33m│\u001b[0m 'raw_content': None}, {'url': 'https://pitchbook.com/profiles/company/65013-49', 'title': 'Helion 2025 Company  \u001b[33m│\u001b[0m\n",
       "\u001b[33m│\u001b[0m Profile: Valuation, Funding & Investors', 'content': \"Who are Helion's investors? Good Ventures Foundation,     \u001b[33m│\u001b[0m\n",
       "\u001b[33m│\u001b[0m Lightspeed Venture Partners, SoftBank Group, Nucor, and AllianceBernstein are 5 of 22 investors who have\",      \u001b[33m│\u001b[0m\n",
       "\u001b[33m│\u001b[0m 'score': 0.7701369, 'raw_content': None}, {'url':                                                               \u001b[33m│\u001b[0m\n",
       "\u001b[33m│\u001b[0m 'https://equitybee.com/companies/company?company=helion%20energy', 'title': 'Fund Helion Energy stock options | \u001b[33m│\u001b[0m\n",
       "\u001b[33m│\u001b[0m Equitybee', 'content': 'Equitybee does not give investment advice, endorsement, analysis or recommendations     \u001b[33m│\u001b[0m\n",
       "\u001b[33m│\u001b[0m with respect to any securities and/or investments or investment decisions and none of the information included  \u001b[33m│\u001b[0m\n",
       "\u001b[33m│\u001b[0m herein should be referred to as such advice or recommendation. Neither Equitybee nor any of its officers,       \u001b[33m│\u001b[0m\n",
       "\u001b[33m│\u001b[0m directors, agents and employees makes any warranty, express or implied, of any kind related to the adequacy,    \u001b[33m│\u001b[0m\n",
       "\u001b[33m│\u001b[0m accuracy or completeness of any information on this site or the use of information on this site. Investments in \u001b[33m│\u001b[0m\n",
       "\u001b[33m│\u001b[0m startups are highly illiquid and those investors who cannot hold an investment for the long term (at least 5-7  \u001b[33m│\u001b[0m\n",
       "\u001b[33m│\u001b[0m years) should not invest.EquityBee Securities Form CRSCopyright Â© 2025 EquityBee Inc. All rights reserved.',   \u001b[33m│\u001b[0m\n",
       "\u001b[33m│\u001b[0m 'score': 0.2670483, 'raw_content': None}], 'response_time': 1.65}                                               \u001b[33m│\u001b[0m\n",
       "\u001b[33m╰─────────────────────────────────────────────────────────────────────────────────────────────────────────────────╯\u001b[0m\n"
      ]
     },
     "metadata": {},
     "output_type": "display_data"
    },
    {
     "data": {
      "text/html": [
       "<pre style=\"white-space:pre;overflow-x:auto;line-height:normal;font-family:Menlo,'DejaVu Sans Mono',consolas,'Courier New',monospace\"><span style=\"color: #c0c0c0; text-decoration-color: #c0c0c0\">╭───────────────────────────────────────────────────── 📝 AI ─────────────────────────────────────────────────────╮</span>\n",
       "<span style=\"color: #c0c0c0; text-decoration-color: #c0c0c0\">│</span>                                                                                                                 <span style=\"color: #c0c0c0; text-decoration-color: #c0c0c0\">│</span>\n",
       "<span style=\"color: #c0c0c0; text-decoration-color: #c0c0c0\">│</span> 🔧 Tool Call: WriteToScratchpad                                                                                 <span style=\"color: #c0c0c0; text-decoration-color: #c0c0c0\">│</span>\n",
       "<span style=\"color: #c0c0c0; text-decoration-color: #c0c0c0\">│</span>    Args: {                                                                                                      <span style=\"color: #c0c0c0; text-decoration-color: #c0c0c0\">│</span>\n",
       "<span style=\"color: #c0c0c0; text-decoration-color: #c0c0c0\">│</span>   \"notes\": \"I've initiated research on Helion Energy's funding, uncovering some initial figures. However, there <span style=\"color: #c0c0c0; text-decoration-color: #c0c0c0\">│</span>\n",
       "<span style=\"color: #c0c0c0; text-decoration-color: #c0c0c0\">│</span> are inconsistencies in the total funding amount and the dates of the funding rounds. One source suggests a      <span style=\"color: #c0c0c0; text-decoration-color: #c0c0c0\">│</span>\n",
       "<span style=\"color: #c0c0c0; text-decoration-color: #c0c0c0\">│</span> total of $977M, while another, likely outdated, cites a much smaller figure. A key investor, Sam Altman, is     <span style=\"color: #c0c0c0; text-decoration-color: #c0c0c0\">│</span>\n",
       "<span style=\"color: #c0c0c0; text-decoration-color: #c0c0c0\">│</span> also mentioned in some sources.\\n\\n**Updated Research Plan:**\\n\\n1.  **Clarify Helion Energy's Funding:**\\n     <span style=\"color: #c0c0c0; text-decoration-color: #c0c0c0\">│</span>\n",
       "<span style=\"color: #c0c0c0; text-decoration-color: #c0c0c0\">│</span> *   Perform a targeted search to verify the total funding raised by Helion Energy, aiming to resolve the        <span style=\"color: #c0c0c0; text-decoration-color: #c0c0c0\">│</span>\n",
       "<span style=\"color: #c0c0c0; text-decoration-color: #c0c0c0\">│</span> discrepancies found in the initial search.\\n    *   Specifically investigate the details of their Series E      <span style=\"color: #c0c0c0; text-decoration-color: #c0c0c0\">│</span>\n",
       "<span style=\"color: #c0c0c0; text-decoration-color: #c0c0c0\">│</span> funding round, as this appears to be a major round.\\n    *   Confirm the key investors and the amounts they     <span style=\"color: #c0c0c0; text-decoration-color: #c0c0c0\">│</span>\n",
       "<span style=\"color: #c0c0c0; text-decoration-color: #c0c0c0\">│</span> contributed, if possible.\\n2.  **Synthesize and Compare:**\\n    *   Once the information on Helion is clear,    <span style=\"color: #c0c0c0; text-decoration-color: #c0c0c0\">│</span>\n",
       "<span style=\"color: #c0c0c0; text-decoration-color: #c0c0c0\">│</span> create a detailed comparison with the funding data I have for Commonwealth Fusion Systems.\\n    *   The         <span style=\"color: #c0c0c0; text-decoration-color: #c0c0c0\">│</span>\n",
       "<span style=\"color: #c0c0c0; text-decoration-color: #c0c0c0\">│</span> comparison will include total funding, a breakdown of key funding rounds, and a list of major investors for     <span style=\"color: #c0c0c0; text-decoration-color: #c0c0c0\">│</span>\n",
       "<span style=\"color: #c0c0c0; text-decoration-color: #c0c0c0\">│</span> both companies.\\n3.  **Final Report:**\\n    *   Draft a comprehensive answer to the user's question, presenting <span style=\"color: #c0c0c0; text-decoration-color: #c0c0c0\">│</span>\n",
       "<span style=\"color: #c0c0c0; text-decoration-color: #c0c0c0\">│</span> the comparison in a clear and organized manner. This will likely involve a summary table and a narrative        <span style=\"color: #c0c0c0; text-decoration-color: #c0c0c0\">│</span>\n",
       "<span style=\"color: #c0c0c0; text-decoration-color: #c0c0c0\">│</span> analysis.\"                                                                                                      <span style=\"color: #c0c0c0; text-decoration-color: #c0c0c0\">│</span>\n",
       "<span style=\"color: #c0c0c0; text-decoration-color: #c0c0c0\">│</span> }                                                                                                               <span style=\"color: #c0c0c0; text-decoration-color: #c0c0c0\">│</span>\n",
       "<span style=\"color: #c0c0c0; text-decoration-color: #c0c0c0\">╰─────────────────────────────────────────────────────────────────────────────────────────────────────────────────╯</span>\n",
       "</pre>\n"
      ],
      "text/plain": [
       "\u001b[37m╭─\u001b[0m\u001b[37m────────────────────────────────────────────────────\u001b[0m\u001b[37m 📝 AI \u001b[0m\u001b[37m────────────────────────────────────────────────────\u001b[0m\u001b[37m─╮\u001b[0m\n",
       "\u001b[37m│\u001b[0m                                                                                                                 \u001b[37m│\u001b[0m\n",
       "\u001b[37m│\u001b[0m 🔧 Tool Call: WriteToScratchpad                                                                                 \u001b[37m│\u001b[0m\n",
       "\u001b[37m│\u001b[0m    Args: {                                                                                                      \u001b[37m│\u001b[0m\n",
       "\u001b[37m│\u001b[0m   \"notes\": \"I've initiated research on Helion Energy's funding, uncovering some initial figures. However, there \u001b[37m│\u001b[0m\n",
       "\u001b[37m│\u001b[0m are inconsistencies in the total funding amount and the dates of the funding rounds. One source suggests a      \u001b[37m│\u001b[0m\n",
       "\u001b[37m│\u001b[0m total of $977M, while another, likely outdated, cites a much smaller figure. A key investor, Sam Altman, is     \u001b[37m│\u001b[0m\n",
       "\u001b[37m│\u001b[0m also mentioned in some sources.\\n\\n**Updated Research Plan:**\\n\\n1.  **Clarify Helion Energy's Funding:**\\n     \u001b[37m│\u001b[0m\n",
       "\u001b[37m│\u001b[0m *   Perform a targeted search to verify the total funding raised by Helion Energy, aiming to resolve the        \u001b[37m│\u001b[0m\n",
       "\u001b[37m│\u001b[0m discrepancies found in the initial search.\\n    *   Specifically investigate the details of their Series E      \u001b[37m│\u001b[0m\n",
       "\u001b[37m│\u001b[0m funding round, as this appears to be a major round.\\n    *   Confirm the key investors and the amounts they     \u001b[37m│\u001b[0m\n",
       "\u001b[37m│\u001b[0m contributed, if possible.\\n2.  **Synthesize and Compare:**\\n    *   Once the information on Helion is clear,    \u001b[37m│\u001b[0m\n",
       "\u001b[37m│\u001b[0m create a detailed comparison with the funding data I have for Commonwealth Fusion Systems.\\n    *   The         \u001b[37m│\u001b[0m\n",
       "\u001b[37m│\u001b[0m comparison will include total funding, a breakdown of key funding rounds, and a list of major investors for     \u001b[37m│\u001b[0m\n",
       "\u001b[37m│\u001b[0m both companies.\\n3.  **Final Report:**\\n    *   Draft a comprehensive answer to the user's question, presenting \u001b[37m│\u001b[0m\n",
       "\u001b[37m│\u001b[0m the comparison in a clear and organized manner. This will likely involve a summary table and a narrative        \u001b[37m│\u001b[0m\n",
       "\u001b[37m│\u001b[0m analysis.\"                                                                                                      \u001b[37m│\u001b[0m\n",
       "\u001b[37m│\u001b[0m }                                                                                                               \u001b[37m│\u001b[0m\n",
       "\u001b[37m╰─────────────────────────────────────────────────────────────────────────────────────────────────────────────────╯\u001b[0m\n"
      ]
     },
     "metadata": {},
     "output_type": "display_data"
    },
    {
     "data": {
      "text/html": [
       "<pre style=\"white-space:pre;overflow-x:auto;line-height:normal;font-family:Menlo,'DejaVu Sans Mono',consolas,'Courier New',monospace\"><span style=\"color: #808000; text-decoration-color: #808000\">╭──────────────────────────────────────────────── 🔧 Tool Output ─────────────────────────────────────────────────╮</span>\n",
       "<span style=\"color: #808000; text-decoration-color: #808000\">│</span> Wrote to scratchpad: I've initiated research on Helion Energy's funding, uncovering some initial figures.       <span style=\"color: #808000; text-decoration-color: #808000\">│</span>\n",
       "<span style=\"color: #808000; text-decoration-color: #808000\">│</span> However, there are inconsistencies in the total funding amount and the dates of the funding rounds. One source  <span style=\"color: #808000; text-decoration-color: #808000\">│</span>\n",
       "<span style=\"color: #808000; text-decoration-color: #808000\">│</span> suggests a total of $977M, while another, likely outdated, cites a much smaller figure. A key investor, Sam     <span style=\"color: #808000; text-decoration-color: #808000\">│</span>\n",
       "<span style=\"color: #808000; text-decoration-color: #808000\">│</span> Altman, is also mentioned in some sources.                                                                      <span style=\"color: #808000; text-decoration-color: #808000\">│</span>\n",
       "<span style=\"color: #808000; text-decoration-color: #808000\">│</span>                                                                                                                 <span style=\"color: #808000; text-decoration-color: #808000\">│</span>\n",
       "<span style=\"color: #808000; text-decoration-color: #808000\">│</span> **Updated Research Plan:**                                                                                      <span style=\"color: #808000; text-decoration-color: #808000\">│</span>\n",
       "<span style=\"color: #808000; text-decoration-color: #808000\">│</span>                                                                                                                 <span style=\"color: #808000; text-decoration-color: #808000\">│</span>\n",
       "<span style=\"color: #808000; text-decoration-color: #808000\">│</span> 1.  **Clarify Helion Energy's Funding:**                                                                        <span style=\"color: #808000; text-decoration-color: #808000\">│</span>\n",
       "<span style=\"color: #808000; text-decoration-color: #808000\">│</span>     *   Perform a targeted search to verify the total funding raised by Helion Energy, aiming to resolve the    <span style=\"color: #808000; text-decoration-color: #808000\">│</span>\n",
       "<span style=\"color: #808000; text-decoration-color: #808000\">│</span> discrepancies found in the initial search.                                                                      <span style=\"color: #808000; text-decoration-color: #808000\">│</span>\n",
       "<span style=\"color: #808000; text-decoration-color: #808000\">│</span>     *   Specifically investigate the details of their Series E funding round, as this appears to be a major     <span style=\"color: #808000; text-decoration-color: #808000\">│</span>\n",
       "<span style=\"color: #808000; text-decoration-color: #808000\">│</span> round.                                                                                                          <span style=\"color: #808000; text-decoration-color: #808000\">│</span>\n",
       "<span style=\"color: #808000; text-decoration-color: #808000\">│</span>     *   Confirm the key investors and the amounts they contributed, if possible.                                <span style=\"color: #808000; text-decoration-color: #808000\">│</span>\n",
       "<span style=\"color: #808000; text-decoration-color: #808000\">│</span> 2.  **Synthesize and Compare:**                                                                                 <span style=\"color: #808000; text-decoration-color: #808000\">│</span>\n",
       "<span style=\"color: #808000; text-decoration-color: #808000\">│</span>     *   Once the information on Helion is clear, create a detailed comparison with the funding data I have for  <span style=\"color: #808000; text-decoration-color: #808000\">│</span>\n",
       "<span style=\"color: #808000; text-decoration-color: #808000\">│</span> Commonwealth Fusion Systems.                                                                                    <span style=\"color: #808000; text-decoration-color: #808000\">│</span>\n",
       "<span style=\"color: #808000; text-decoration-color: #808000\">│</span>     *   The comparison will include total funding, a breakdown of key funding rounds, and a list of major       <span style=\"color: #808000; text-decoration-color: #808000\">│</span>\n",
       "<span style=\"color: #808000; text-decoration-color: #808000\">│</span> investors for both companies.                                                                                   <span style=\"color: #808000; text-decoration-color: #808000\">│</span>\n",
       "<span style=\"color: #808000; text-decoration-color: #808000\">│</span> 3.  **Final Report:**                                                                                           <span style=\"color: #808000; text-decoration-color: #808000\">│</span>\n",
       "<span style=\"color: #808000; text-decoration-color: #808000\">│</span>     *   Draft a comprehensive answer to the user's question, presenting the comparison in a clear and organized <span style=\"color: #808000; text-decoration-color: #808000\">│</span>\n",
       "<span style=\"color: #808000; text-decoration-color: #808000\">│</span> manner. This will likely involve a summary table and a narrative analysis.                                      <span style=\"color: #808000; text-decoration-color: #808000\">│</span>\n",
       "<span style=\"color: #808000; text-decoration-color: #808000\">╰─────────────────────────────────────────────────────────────────────────────────────────────────────────────────╯</span>\n",
       "</pre>\n"
      ],
      "text/plain": [
       "\u001b[33m╭─\u001b[0m\u001b[33m───────────────────────────────────────────────\u001b[0m\u001b[33m 🔧 Tool Output \u001b[0m\u001b[33m────────────────────────────────────────────────\u001b[0m\u001b[33m─╮\u001b[0m\n",
       "\u001b[33m│\u001b[0m Wrote to scratchpad: I've initiated research on Helion Energy's funding, uncovering some initial figures.       \u001b[33m│\u001b[0m\n",
       "\u001b[33m│\u001b[0m However, there are inconsistencies in the total funding amount and the dates of the funding rounds. One source  \u001b[33m│\u001b[0m\n",
       "\u001b[33m│\u001b[0m suggests a total of $977M, while another, likely outdated, cites a much smaller figure. A key investor, Sam     \u001b[33m│\u001b[0m\n",
       "\u001b[33m│\u001b[0m Altman, is also mentioned in some sources.                                                                      \u001b[33m│\u001b[0m\n",
       "\u001b[33m│\u001b[0m                                                                                                                 \u001b[33m│\u001b[0m\n",
       "\u001b[33m│\u001b[0m **Updated Research Plan:**                                                                                      \u001b[33m│\u001b[0m\n",
       "\u001b[33m│\u001b[0m                                                                                                                 \u001b[33m│\u001b[0m\n",
       "\u001b[33m│\u001b[0m 1.  **Clarify Helion Energy's Funding:**                                                                        \u001b[33m│\u001b[0m\n",
       "\u001b[33m│\u001b[0m     *   Perform a targeted search to verify the total funding raised by Helion Energy, aiming to resolve the    \u001b[33m│\u001b[0m\n",
       "\u001b[33m│\u001b[0m discrepancies found in the initial search.                                                                      \u001b[33m│\u001b[0m\n",
       "\u001b[33m│\u001b[0m     *   Specifically investigate the details of their Series E funding round, as this appears to be a major     \u001b[33m│\u001b[0m\n",
       "\u001b[33m│\u001b[0m round.                                                                                                          \u001b[33m│\u001b[0m\n",
       "\u001b[33m│\u001b[0m     *   Confirm the key investors and the amounts they contributed, if possible.                                \u001b[33m│\u001b[0m\n",
       "\u001b[33m│\u001b[0m 2.  **Synthesize and Compare:**                                                                                 \u001b[33m│\u001b[0m\n",
       "\u001b[33m│\u001b[0m     *   Once the information on Helion is clear, create a detailed comparison with the funding data I have for  \u001b[33m│\u001b[0m\n",
       "\u001b[33m│\u001b[0m Commonwealth Fusion Systems.                                                                                    \u001b[33m│\u001b[0m\n",
       "\u001b[33m│\u001b[0m     *   The comparison will include total funding, a breakdown of key funding rounds, and a list of major       \u001b[33m│\u001b[0m\n",
       "\u001b[33m│\u001b[0m investors for both companies.                                                                                   \u001b[33m│\u001b[0m\n",
       "\u001b[33m│\u001b[0m 3.  **Final Report:**                                                                                           \u001b[33m│\u001b[0m\n",
       "\u001b[33m│\u001b[0m     *   Draft a comprehensive answer to the user's question, presenting the comparison in a clear and organized \u001b[33m│\u001b[0m\n",
       "\u001b[33m│\u001b[0m manner. This will likely involve a summary table and a narrative analysis.                                      \u001b[33m│\u001b[0m\n",
       "\u001b[33m╰─────────────────────────────────────────────────────────────────────────────────────────────────────────────────╯\u001b[0m\n"
      ]
     },
     "metadata": {},
     "output_type": "display_data"
    },
    {
     "data": {
      "text/html": [
       "<pre style=\"white-space:pre;overflow-x:auto;line-height:normal;font-family:Menlo,'DejaVu Sans Mono',consolas,'Courier New',monospace\"><span style=\"color: #c0c0c0; text-decoration-color: #c0c0c0\">╭───────────────────────────────────────────────────── 📝 AI ─────────────────────────────────────────────────────╮</span>\n",
       "<span style=\"color: #c0c0c0; text-decoration-color: #c0c0c0\">│</span>                                                                                                                 <span style=\"color: #c0c0c0; text-decoration-color: #c0c0c0\">│</span>\n",
       "<span style=\"color: #c0c0c0; text-decoration-color: #c0c0c0\">│</span> 🔧 Tool Call: tavily_search                                                                                     <span style=\"color: #c0c0c0; text-decoration-color: #c0c0c0\">│</span>\n",
       "<span style=\"color: #c0c0c0; text-decoration-color: #c0c0c0\">│</span>    Args: {                                                                                                      <span style=\"color: #c0c0c0; text-decoration-color: #c0c0c0\">│</span>\n",
       "<span style=\"color: #c0c0c0; text-decoration-color: #c0c0c0\">│</span>   \"query\": \"Helion Energy Series E funding round details\"                                                       <span style=\"color: #c0c0c0; text-decoration-color: #c0c0c0\">│</span>\n",
       "<span style=\"color: #c0c0c0; text-decoration-color: #c0c0c0\">│</span> }                                                                                                               <span style=\"color: #c0c0c0; text-decoration-color: #c0c0c0\">│</span>\n",
       "<span style=\"color: #c0c0c0; text-decoration-color: #c0c0c0\">╰─────────────────────────────────────────────────────────────────────────────────────────────────────────────────╯</span>\n",
       "</pre>\n"
      ],
      "text/plain": [
       "\u001b[37m╭─\u001b[0m\u001b[37m────────────────────────────────────────────────────\u001b[0m\u001b[37m 📝 AI \u001b[0m\u001b[37m────────────────────────────────────────────────────\u001b[0m\u001b[37m─╮\u001b[0m\n",
       "\u001b[37m│\u001b[0m                                                                                                                 \u001b[37m│\u001b[0m\n",
       "\u001b[37m│\u001b[0m 🔧 Tool Call: tavily_search                                                                                     \u001b[37m│\u001b[0m\n",
       "\u001b[37m│\u001b[0m    Args: {                                                                                                      \u001b[37m│\u001b[0m\n",
       "\u001b[37m│\u001b[0m   \"query\": \"Helion Energy Series E funding round details\"                                                       \u001b[37m│\u001b[0m\n",
       "\u001b[37m│\u001b[0m }                                                                                                               \u001b[37m│\u001b[0m\n",
       "\u001b[37m╰─────────────────────────────────────────────────────────────────────────────────────────────────────────────────╯\u001b[0m\n"
      ]
     },
     "metadata": {},
     "output_type": "display_data"
    },
    {
     "data": {
      "text/html": [
       "<pre style=\"white-space:pre;overflow-x:auto;line-height:normal;font-family:Menlo,'DejaVu Sans Mono',consolas,'Courier New',monospace\"><span style=\"color: #808000; text-decoration-color: #808000\">╭──────────────────────────────────────────────── 🔧 Tool Output ─────────────────────────────────────────────────╮</span>\n",
       "<span style=\"color: #808000; text-decoration-color: #808000\">│</span> {'query': 'Helion Energy Series E funding round details', 'follow_up_questions': None, 'answer': None,          <span style=\"color: #808000; text-decoration-color: #808000\">│</span>\n",
       "<span style=\"color: #808000; text-decoration-color: #808000\">│</span> 'images': [], 'results': [{'url': 'https://www.crunchbase.com/funding_round/helion-energy-series-e--07414067',  <span style=\"color: #808000; text-decoration-color: #808000\">│</span>\n",
       "<span style=\"color: #808000; text-decoration-color: #808000\">│</span> 'title': 'Series E - Helion Energy - Crunchbase Funding Round Profile', 'content': 'Helion Energy raised        <span style=\"color: #808000; text-decoration-color: #808000\">│</span>\n",
       "<span style=\"color: #808000; text-decoration-color: #808000\">│</span> $500000000 on 2021-11-05 in Series E.', 'score': 0.84277284, 'raw_content': None}, {'url':                      <span style=\"color: #808000; text-decoration-color: #808000\">│</span>\n",
       "<span style=\"color: #808000; text-decoration-color: #808000\">│</span> 'https://www.goodwinlaw.com/en/news-and-events/news/2021/11/11_08-helion-completes-500m-series-e-financing',    <span style=\"color: #808000; text-decoration-color: #808000\">│</span>\n",
       "<span style=\"color: #808000; text-decoration-color: #808000\">│</span> 'title': 'Helion Completes $500 Million Series E Financing | News &amp; Events', 'content': 'The funding includes   <span style=\"color: #808000; text-decoration-color: #808000\">│</span>\n",
       "<span style=\"color: #808000; text-decoration-color: #808000\">│</span> the opportunity for an additional $1.7 billion in investment tied to Helion reaching key performance            <span style=\"color: #808000; text-decoration-color: #808000\">│</span>\n",
       "<span style=\"color: #808000; text-decoration-color: #808000\">│</span> milestones.', 'score': 0.79293, 'raw_content': None}, {'url':                                                   <span style=\"color: #808000; text-decoration-color: #808000\">│</span>\n",
       "<span style=\"color: #808000; text-decoration-color: #808000\">│</span> 'https://www.forbes.com/sites/jamesconca/2021/11/09/helion-energy-raises-500-million-on-the-fusion-power-of-sta <span style=\"color: #808000; text-decoration-color: #808000\">│</span>\n",
       "<span style=\"color: #808000; text-decoration-color: #808000\">│</span> rs/', 'title': 'Helion Energy Raises $500 Million On The Fusion Power Of Stars', 'content': '... Series E raise <span style=\"color: #808000; text-decoration-color: #808000\">│</span>\n",
       "<span style=\"color: #808000; text-decoration-color: #808000\">│</span> of $500 million. The round was led by Sam Altman, whose involvement in the company as investor and chairman     <span style=\"color: #808000; text-decoration-color: #808000\">│</span>\n",
       "<span style=\"color: #808000; text-decoration-color: #808000\">│</span> dates back to 2015.', 'score': 0.7680558, 'raw_content': None}, {'url':                                         <span style=\"color: #808000; text-decoration-color: #808000\">│</span>\n",
       "<span style=\"color: #808000; text-decoration-color: #808000\">│</span> 'https://www.cooley.com/news/coverage/2021/2021-11-11-helion-energy-raises-2-2-billion-with-series-e-round',    <span style=\"color: #808000; text-decoration-color: #808000\">│</span>\n",
       "<span style=\"color: #808000; text-decoration-color: #808000\">│</span> 'title': 'Helion Energy Raises $2.2 Billion With Series E Round - Cooley', 'content': 'Cooley advised Helion    <span style=\"color: #808000; text-decoration-color: #808000\">│</span>\n",
       "<span style=\"color: #808000; text-decoration-color: #808000\">│</span> Energy, a clean energy company committed to creating a new era of plentiful, zero-carbon electricity from       <span style=\"color: #808000; text-decoration-color: #808000\">│</span>\n",
       "<span style=\"color: #808000; text-decoration-color: #808000\">│</span> fusion, on its $500 million', 'score': 0.76152116, 'raw_content': None}, {'url':                                <span style=\"color: #808000; text-decoration-color: #808000\">│</span>\n",
       "<span style=\"color: #808000; text-decoration-color: #808000\">│</span> 'https://www.helionenergy.com/articles/helion-raises-500m/', 'title': 'Helion Raises $500 Million, Targets 2024 <span style=\"color: #808000; text-decoration-color: #808000\">│</span>\n",
       "<span style=\"color: #808000; text-decoration-color: #808000\">│</span> for Demonstrating Net ...', 'content': \"| yt-remote-cast-available | YouTube | Stores the user's video player   <span style=\"color: #808000; text-decoration-color: #808000\">│</span>\n",
       "<span style=\"color: #808000; text-decoration-color: #808000\">│</span> preferences using embedded YouTube video | Session | HTML Local Storage | | yt-remote-cast-installed | YouTube  <span style=\"color: #808000; text-decoration-color: #808000\">│</span>\n",
       "<span style=\"color: #808000; text-decoration-color: #808000\">│</span> | Stores the user's video player preferences using embedded YouTube video | Session | HTML Local Storage | |    <span style=\"color: #808000; text-decoration-color: #808000\">│</span>\n",
       "<span style=\"color: #808000; text-decoration-color: #808000\">│</span> yt-remote-connected-devices | YouTube | Stores the user's video player preferences using embedded YouTube video <span style=\"color: #808000; text-decoration-color: #808000\">│</span>\n",
       "<span style=\"color: #808000; text-decoration-color: #808000\">│</span> | Persistent | HTML Local Storage | | yt-remote-device-id | YouTube | Stores the user's video player            <span style=\"color: #808000; text-decoration-color: #808000\">│</span>\n",
       "<span style=\"color: #808000; text-decoration-color: #808000\">│</span> preferences using embedded YouTube video | Persistent | HTML Local Storage | | yt-remote-session-name | YouTube <span style=\"color: #808000; text-decoration-color: #808000\">│</span>\n",
       "<span style=\"color: #808000; text-decoration-color: #808000\">│</span> | Stores the user's video player preferences using embedded YouTube video | Session | HTML Local Storage |\",    <span style=\"color: #808000; text-decoration-color: #808000\">│</span>\n",
       "<span style=\"color: #808000; text-decoration-color: #808000\">│</span> 'score': 0.3697024, 'raw_content': None}], 'response_time': 0.69}                                               <span style=\"color: #808000; text-decoration-color: #808000\">│</span>\n",
       "<span style=\"color: #808000; text-decoration-color: #808000\">╰─────────────────────────────────────────────────────────────────────────────────────────────────────────────────╯</span>\n",
       "</pre>\n"
      ],
      "text/plain": [
       "\u001b[33m╭─\u001b[0m\u001b[33m───────────────────────────────────────────────\u001b[0m\u001b[33m 🔧 Tool Output \u001b[0m\u001b[33m────────────────────────────────────────────────\u001b[0m\u001b[33m─╮\u001b[0m\n",
       "\u001b[33m│\u001b[0m {'query': 'Helion Energy Series E funding round details', 'follow_up_questions': None, 'answer': None,          \u001b[33m│\u001b[0m\n",
       "\u001b[33m│\u001b[0m 'images': [], 'results': [{'url': 'https://www.crunchbase.com/funding_round/helion-energy-series-e--07414067',  \u001b[33m│\u001b[0m\n",
       "\u001b[33m│\u001b[0m 'title': 'Series E - Helion Energy - Crunchbase Funding Round Profile', 'content': 'Helion Energy raised        \u001b[33m│\u001b[0m\n",
       "\u001b[33m│\u001b[0m $500000000 on 2021-11-05 in Series E.', 'score': 0.84277284, 'raw_content': None}, {'url':                      \u001b[33m│\u001b[0m\n",
       "\u001b[33m│\u001b[0m 'https://www.goodwinlaw.com/en/news-and-events/news/2021/11/11_08-helion-completes-500m-series-e-financing',    \u001b[33m│\u001b[0m\n",
       "\u001b[33m│\u001b[0m 'title': 'Helion Completes $500 Million Series E Financing | News & Events', 'content': 'The funding includes   \u001b[33m│\u001b[0m\n",
       "\u001b[33m│\u001b[0m the opportunity for an additional $1.7 billion in investment tied to Helion reaching key performance            \u001b[33m│\u001b[0m\n",
       "\u001b[33m│\u001b[0m milestones.', 'score': 0.79293, 'raw_content': None}, {'url':                                                   \u001b[33m│\u001b[0m\n",
       "\u001b[33m│\u001b[0m 'https://www.forbes.com/sites/jamesconca/2021/11/09/helion-energy-raises-500-million-on-the-fusion-power-of-sta \u001b[33m│\u001b[0m\n",
       "\u001b[33m│\u001b[0m rs/', 'title': 'Helion Energy Raises $500 Million On The Fusion Power Of Stars', 'content': '... Series E raise \u001b[33m│\u001b[0m\n",
       "\u001b[33m│\u001b[0m of $500 million. The round was led by Sam Altman, whose involvement in the company as investor and chairman     \u001b[33m│\u001b[0m\n",
       "\u001b[33m│\u001b[0m dates back to 2015.', 'score': 0.7680558, 'raw_content': None}, {'url':                                         \u001b[33m│\u001b[0m\n",
       "\u001b[33m│\u001b[0m 'https://www.cooley.com/news/coverage/2021/2021-11-11-helion-energy-raises-2-2-billion-with-series-e-round',    \u001b[33m│\u001b[0m\n",
       "\u001b[33m│\u001b[0m 'title': 'Helion Energy Raises $2.2 Billion With Series E Round - Cooley', 'content': 'Cooley advised Helion    \u001b[33m│\u001b[0m\n",
       "\u001b[33m│\u001b[0m Energy, a clean energy company committed to creating a new era of plentiful, zero-carbon electricity from       \u001b[33m│\u001b[0m\n",
       "\u001b[33m│\u001b[0m fusion, on its $500 million', 'score': 0.76152116, 'raw_content': None}, {'url':                                \u001b[33m│\u001b[0m\n",
       "\u001b[33m│\u001b[0m 'https://www.helionenergy.com/articles/helion-raises-500m/', 'title': 'Helion Raises $500 Million, Targets 2024 \u001b[33m│\u001b[0m\n",
       "\u001b[33m│\u001b[0m for Demonstrating Net ...', 'content': \"| yt-remote-cast-available | YouTube | Stores the user's video player   \u001b[33m│\u001b[0m\n",
       "\u001b[33m│\u001b[0m preferences using embedded YouTube video | Session | HTML Local Storage | | yt-remote-cast-installed | YouTube  \u001b[33m│\u001b[0m\n",
       "\u001b[33m│\u001b[0m | Stores the user's video player preferences using embedded YouTube video | Session | HTML Local Storage | |    \u001b[33m│\u001b[0m\n",
       "\u001b[33m│\u001b[0m yt-remote-connected-devices | YouTube | Stores the user's video player preferences using embedded YouTube video \u001b[33m│\u001b[0m\n",
       "\u001b[33m│\u001b[0m | Persistent | HTML Local Storage | | yt-remote-device-id | YouTube | Stores the user's video player            \u001b[33m│\u001b[0m\n",
       "\u001b[33m│\u001b[0m preferences using embedded YouTube video | Persistent | HTML Local Storage | | yt-remote-session-name | YouTube \u001b[33m│\u001b[0m\n",
       "\u001b[33m│\u001b[0m | Stores the user's video player preferences using embedded YouTube video | Session | HTML Local Storage |\",    \u001b[33m│\u001b[0m\n",
       "\u001b[33m│\u001b[0m 'score': 0.3697024, 'raw_content': None}], 'response_time': 0.69}                                               \u001b[33m│\u001b[0m\n",
       "\u001b[33m╰─────────────────────────────────────────────────────────────────────────────────────────────────────────────────╯\u001b[0m\n"
      ]
     },
     "metadata": {},
     "output_type": "display_data"
    },
    {
     "data": {
      "text/html": [
       "<pre style=\"white-space:pre;overflow-x:auto;line-height:normal;font-family:Menlo,'DejaVu Sans Mono',consolas,'Courier New',monospace\"><span style=\"color: #c0c0c0; text-decoration-color: #c0c0c0\">╭───────────────────────────────────────────────────── 📝 AI ─────────────────────────────────────────────────────╮</span>\n",
       "<span style=\"color: #c0c0c0; text-decoration-color: #c0c0c0\">│</span>                                                                                                                 <span style=\"color: #c0c0c0; text-decoration-color: #c0c0c0\">│</span>\n",
       "<span style=\"color: #c0c0c0; text-decoration-color: #c0c0c0\">│</span> 🔧 Tool Call: tavily_search                                                                                     <span style=\"color: #c0c0c0; text-decoration-color: #c0c0c0\">│</span>\n",
       "<span style=\"color: #c0c0c0; text-decoration-color: #c0c0c0\">│</span>    Args: {                                                                                                      <span style=\"color: #c0c0c0; text-decoration-color: #c0c0c0\">│</span>\n",
       "<span style=\"color: #c0c0c0; text-decoration-color: #c0c0c0\">│</span>   \"query\": \"investors in Helion Energy's Series E funding round\"                                                <span style=\"color: #c0c0c0; text-decoration-color: #c0c0c0\">│</span>\n",
       "<span style=\"color: #c0c0c0; text-decoration-color: #c0c0c0\">│</span> }                                                                                                               <span style=\"color: #c0c0c0; text-decoration-color: #c0c0c0\">│</span>\n",
       "<span style=\"color: #c0c0c0; text-decoration-color: #c0c0c0\">╰─────────────────────────────────────────────────────────────────────────────────────────────────────────────────╯</span>\n",
       "</pre>\n"
      ],
      "text/plain": [
       "\u001b[37m╭─\u001b[0m\u001b[37m────────────────────────────────────────────────────\u001b[0m\u001b[37m 📝 AI \u001b[0m\u001b[37m────────────────────────────────────────────────────\u001b[0m\u001b[37m─╮\u001b[0m\n",
       "\u001b[37m│\u001b[0m                                                                                                                 \u001b[37m│\u001b[0m\n",
       "\u001b[37m│\u001b[0m 🔧 Tool Call: tavily_search                                                                                     \u001b[37m│\u001b[0m\n",
       "\u001b[37m│\u001b[0m    Args: {                                                                                                      \u001b[37m│\u001b[0m\n",
       "\u001b[37m│\u001b[0m   \"query\": \"investors in Helion Energy's Series E funding round\"                                                \u001b[37m│\u001b[0m\n",
       "\u001b[37m│\u001b[0m }                                                                                                               \u001b[37m│\u001b[0m\n",
       "\u001b[37m╰─────────────────────────────────────────────────────────────────────────────────────────────────────────────────╯\u001b[0m\n"
      ]
     },
     "metadata": {},
     "output_type": "display_data"
    },
    {
     "data": {
      "text/html": [
       "<pre style=\"white-space:pre;overflow-x:auto;line-height:normal;font-family:Menlo,'DejaVu Sans Mono',consolas,'Courier New',monospace\"><span style=\"color: #808000; text-decoration-color: #808000\">╭──────────────────────────────────────────────── 🔧 Tool Output ─────────────────────────────────────────────────╮</span>\n",
       "<span style=\"color: #808000; text-decoration-color: #808000\">│</span> {'query': \"investors in Helion Energy's Series E funding round\", 'follow_up_questions': None, 'answer': None,   <span style=\"color: #808000; text-decoration-color: #808000\">│</span>\n",
       "<span style=\"color: #808000; text-decoration-color: #808000\">│</span> 'images': [], 'results': [{'url':                                                                               <span style=\"color: #808000; text-decoration-color: #808000\">│</span>\n",
       "<span style=\"color: #808000; text-decoration-color: #808000\">│</span> 'https://fusionxinvest.com/news/3488/helion-energy-secures-35m-strategic-investment-from-nucor/', 'title':      <span style=\"color: #808000; text-decoration-color: #808000\">│</span>\n",
       "<span style=\"color: #808000; text-decoration-color: #808000\">│</span> 'Helion Energy secures $35m strategic investment from Nucor', 'content': 'Helion closes $500m Series E  Helion  <span style=\"color: #808000; text-decoration-color: #808000\">│</span>\n",
       "<span style=\"color: #808000; text-decoration-color: #808000\">│</span> successfully completed its Series E funding round, securing $500 million led by Sam Altman and supported by     <span style=\"color: #808000; text-decoration-color: #808000\">│</span>\n",
       "<span style=\"color: #808000; text-decoration-color: #808000\">│</span> existing investors like Dustin Moskovitz, Mithril Capital, and Capricorn Investment Group . The…', 'score':     <span style=\"color: #808000; text-decoration-color: #808000\">│</span>\n",
       "<span style=\"color: #808000; text-decoration-color: #808000\">│</span> 0.92491204, 'raw_content': None}, {'url':                                                                       <span style=\"color: #808000; text-decoration-color: #808000\">│</span>\n",
       "<span style=\"color: #808000; text-decoration-color: #808000\">│</span> 'https://www.goodwinlaw.com/en/news-and-events/news/2021/11/11_08-helion-completes-500m-series-e-financing',    <span style=\"color: #808000; text-decoration-color: #808000\">│</span>\n",
       "<span style=\"color: #808000; text-decoration-color: #808000\">│</span> 'title': 'Helion Completes $500 Million Series E Financing | News &amp; Events', 'content': 'Existing investors,    <span style=\"color: #808000; text-decoration-color: #808000\">│</span>\n",
       "<span style=\"color: #808000; text-decoration-color: #808000\">│</span> including Dustin Moskovitz, Mithril Capital and Capricorn Investment Group, also participated in the round.',   <span style=\"color: #808000; text-decoration-color: #808000\">│</span>\n",
       "<span style=\"color: #808000; text-decoration-color: #808000\">│</span> 'score': 0.8839694, 'raw_content': None}, {'url':                                                               <span style=\"color: #808000; text-decoration-color: #808000\">│</span>\n",
       "<span style=\"color: #808000; text-decoration-color: #808000\">│</span> 'https://news.crunchbase.com/venture/biggest-funding-rounds-helion-elevenlabs/', 'title': \"The Week's Biggest   <span style=\"color: #808000; text-decoration-color: #808000\">│</span>\n",
       "<span style=\"color: #808000; text-decoration-color: #808000\">│</span> Funding Rounds: Helion Energy Takes Top ...\", 'content': '2. ElevenLabs, $180M, artificial intelligence: Voice  <span style=\"color: #808000; text-decoration-color: #808000\">│</span>\n",
       "<span style=\"color: #808000; text-decoration-color: #808000\">│</span> AI startup ElevenLabs raised a $180 million round led by Iconiq Growth and Andreessen Horowitz at a $3.3        <span style=\"color: #808000; text-decoration-color: #808000\">│</span>\n",
       "<span style=\"color: #808000; text-decoration-color: #808000\">│</span> billion valuation. Founded in 2018, the company has raised $207 million, per Crunchbase. 5. (tied) Mercor,      <span style=\"color: #808000; text-decoration-color: #808000\">│</span>\n",
       "<span style=\"color: #808000; text-decoration-color: #808000\">│</span> $75M, human resources: San Francisco-based recruiting startup Mercor raised a $75 million round led by Felicis  <span style=\"color: #808000; text-decoration-color: #808000\">│</span>\n",
       "<span style=\"color: #808000; text-decoration-color: #808000\">│</span> 1\\xa0that values the company at a $2 billion valuation, per a report. Founded in 2010, the company has raised   <span style=\"color: #808000; text-decoration-color: #808000\">│</span>\n",
       "<span style=\"color: #808000; text-decoration-color: #808000\">│</span> $248 million, per Crunchbase. Rad AI, $60M, health care: San Francisco-based Rad AI, an artificial              <span style=\"color: #808000; text-decoration-color: #808000\">│</span>\n",
       "<span style=\"color: #808000; text-decoration-color: #808000\">│</span> intelligence-enhanced radiology firm, reportedly locked up a $60 million round led by Transformation Capital    <span style=\"color: #808000; text-decoration-color: #808000\">│</span>\n",
       "<span style=\"color: #808000; text-decoration-color: #808000\">│</span> that values the company at $525 million.', 'score': 0.61168414, 'raw_content': None}, {'url':                   <span style=\"color: #808000; text-decoration-color: #808000\">│</span>\n",
       "<span style=\"color: #808000; text-decoration-color: #808000\">│</span> 'https://www.helionenergy.com/articles/announcing-500-million-fundraise/', 'title': \"Announcing Helion's latest <span style=\"color: #808000; text-decoration-color: #808000\">│</span>\n",
       "<span style=\"color: #808000; text-decoration-color: #808000\">│</span> fundraise of $500 million\", 'content': \"| yt-remote-cast-available | YouTube | Stores the user's video player   <span style=\"color: #808000; text-decoration-color: #808000\">│</span>\n",
       "<span style=\"color: #808000; text-decoration-color: #808000\">│</span> preferences using embedded YouTube video | Session | HTML Local Storage | | yt-remote-cast-installed | YouTube  <span style=\"color: #808000; text-decoration-color: #808000\">│</span>\n",
       "<span style=\"color: #808000; text-decoration-color: #808000\">│</span> | Stores the user's video player preferences using embedded YouTube video | Session | HTML Local Storage | |    <span style=\"color: #808000; text-decoration-color: #808000\">│</span>\n",
       "<span style=\"color: #808000; text-decoration-color: #808000\">│</span> yt-remote-connected-devices | YouTube | Stores the user's video player preferences using embedded YouTube video <span style=\"color: #808000; text-decoration-color: #808000\">│</span>\n",
       "<span style=\"color: #808000; text-decoration-color: #808000\">│</span> | Persistent | HTML Local Storage | | yt-remote-device-id | YouTube | Stores the user's video player            <span style=\"color: #808000; text-decoration-color: #808000\">│</span>\n",
       "<span style=\"color: #808000; text-decoration-color: #808000\">│</span> preferences using embedded YouTube video | Persistent | HTML Local Storage | | yt-remote-session-name | YouTube <span style=\"color: #808000; text-decoration-color: #808000\">│</span>\n",
       "<span style=\"color: #808000; text-decoration-color: #808000\">│</span> | Stores the user's video player preferences using embedded YouTube video | Session | HTML Local Storage |\",    <span style=\"color: #808000; text-decoration-color: #808000\">│</span>\n",
       "<span style=\"color: #808000; text-decoration-color: #808000\">│</span> 'score': 0.25866336, 'raw_content': None}, {'url': 'https://www.helionenergy.com/articles/helion-raises-500m/', <span style=\"color: #808000; text-decoration-color: #808000\">│</span>\n",
       "<span style=\"color: #808000; text-decoration-color: #808000\">│</span> 'title': 'Helion Raises $500 Million, Targets 2024 for Demonstrating Net ...', 'content': \"|                    <span style=\"color: #808000; text-decoration-color: #808000\">│</span>\n",
       "<span style=\"color: #808000; text-decoration-color: #808000\">│</span> yt-remote-cast-available | YouTube | Stores the user's video player preferences using embedded YouTube video |  <span style=\"color: #808000; text-decoration-color: #808000\">│</span>\n",
       "<span style=\"color: #808000; text-decoration-color: #808000\">│</span> Session | HTML Local Storage | | yt-remote-cast-installed | YouTube | Stores the user's video player            <span style=\"color: #808000; text-decoration-color: #808000\">│</span>\n",
       "<span style=\"color: #808000; text-decoration-color: #808000\">│</span> preferences using embedded YouTube video | Session | HTML Local Storage | | yt-remote-connected-devices |       <span style=\"color: #808000; text-decoration-color: #808000\">│</span>\n",
       "<span style=\"color: #808000; text-decoration-color: #808000\">│</span> YouTube | Stores the user's video player preferences using embedded YouTube video | Persistent | HTML Local     <span style=\"color: #808000; text-decoration-color: #808000\">│</span>\n",
       "<span style=\"color: #808000; text-decoration-color: #808000\">│</span> Storage | | yt-remote-device-id | YouTube | Stores the user's video player preferences using embedded YouTube   <span style=\"color: #808000; text-decoration-color: #808000\">│</span>\n",
       "<span style=\"color: #808000; text-decoration-color: #808000\">│</span> video | Persistent | HTML Local Storage | | yt-remote-session-name | YouTube | Stores the user's video player   <span style=\"color: #808000; text-decoration-color: #808000\">│</span>\n",
       "<span style=\"color: #808000; text-decoration-color: #808000\">│</span> preferences using embedded YouTube video | Session | HTML Local Storage |\", 'score': 0.20018251, 'raw_content': <span style=\"color: #808000; text-decoration-color: #808000\">│</span>\n",
       "<span style=\"color: #808000; text-decoration-color: #808000\">│</span> None}], 'response_time': 0.9}                                                                                   <span style=\"color: #808000; text-decoration-color: #808000\">│</span>\n",
       "<span style=\"color: #808000; text-decoration-color: #808000\">╰─────────────────────────────────────────────────────────────────────────────────────────────────────────────────╯</span>\n",
       "</pre>\n"
      ],
      "text/plain": [
       "\u001b[33m╭─\u001b[0m\u001b[33m───────────────────────────────────────────────\u001b[0m\u001b[33m 🔧 Tool Output \u001b[0m\u001b[33m────────────────────────────────────────────────\u001b[0m\u001b[33m─╮\u001b[0m\n",
       "\u001b[33m│\u001b[0m {'query': \"investors in Helion Energy's Series E funding round\", 'follow_up_questions': None, 'answer': None,   \u001b[33m│\u001b[0m\n",
       "\u001b[33m│\u001b[0m 'images': [], 'results': [{'url':                                                                               \u001b[33m│\u001b[0m\n",
       "\u001b[33m│\u001b[0m 'https://fusionxinvest.com/news/3488/helion-energy-secures-35m-strategic-investment-from-nucor/', 'title':      \u001b[33m│\u001b[0m\n",
       "\u001b[33m│\u001b[0m 'Helion Energy secures $35m strategic investment from Nucor', 'content': 'Helion closes $500m Series E  Helion  \u001b[33m│\u001b[0m\n",
       "\u001b[33m│\u001b[0m successfully completed its Series E funding round, securing $500 million led by Sam Altman and supported by     \u001b[33m│\u001b[0m\n",
       "\u001b[33m│\u001b[0m existing investors like Dustin Moskovitz, Mithril Capital, and Capricorn Investment Group . The…', 'score':     \u001b[33m│\u001b[0m\n",
       "\u001b[33m│\u001b[0m 0.92491204, 'raw_content': None}, {'url':                                                                       \u001b[33m│\u001b[0m\n",
       "\u001b[33m│\u001b[0m 'https://www.goodwinlaw.com/en/news-and-events/news/2021/11/11_08-helion-completes-500m-series-e-financing',    \u001b[33m│\u001b[0m\n",
       "\u001b[33m│\u001b[0m 'title': 'Helion Completes $500 Million Series E Financing | News & Events', 'content': 'Existing investors,    \u001b[33m│\u001b[0m\n",
       "\u001b[33m│\u001b[0m including Dustin Moskovitz, Mithril Capital and Capricorn Investment Group, also participated in the round.',   \u001b[33m│\u001b[0m\n",
       "\u001b[33m│\u001b[0m 'score': 0.8839694, 'raw_content': None}, {'url':                                                               \u001b[33m│\u001b[0m\n",
       "\u001b[33m│\u001b[0m 'https://news.crunchbase.com/venture/biggest-funding-rounds-helion-elevenlabs/', 'title': \"The Week's Biggest   \u001b[33m│\u001b[0m\n",
       "\u001b[33m│\u001b[0m Funding Rounds: Helion Energy Takes Top ...\", 'content': '2. ElevenLabs, $180M, artificial intelligence: Voice  \u001b[33m│\u001b[0m\n",
       "\u001b[33m│\u001b[0m AI startup ElevenLabs raised a $180 million round led by Iconiq Growth and Andreessen Horowitz at a $3.3        \u001b[33m│\u001b[0m\n",
       "\u001b[33m│\u001b[0m billion valuation. Founded in 2018, the company has raised $207 million, per Crunchbase. 5. (tied) Mercor,      \u001b[33m│\u001b[0m\n",
       "\u001b[33m│\u001b[0m $75M, human resources: San Francisco-based recruiting startup Mercor raised a $75 million round led by Felicis  \u001b[33m│\u001b[0m\n",
       "\u001b[33m│\u001b[0m 1\\xa0that values the company at a $2 billion valuation, per a report. Founded in 2010, the company has raised   \u001b[33m│\u001b[0m\n",
       "\u001b[33m│\u001b[0m $248 million, per Crunchbase. Rad AI, $60M, health care: San Francisco-based Rad AI, an artificial              \u001b[33m│\u001b[0m\n",
       "\u001b[33m│\u001b[0m intelligence-enhanced radiology firm, reportedly locked up a $60 million round led by Transformation Capital    \u001b[33m│\u001b[0m\n",
       "\u001b[33m│\u001b[0m that values the company at $525 million.', 'score': 0.61168414, 'raw_content': None}, {'url':                   \u001b[33m│\u001b[0m\n",
       "\u001b[33m│\u001b[0m 'https://www.helionenergy.com/articles/announcing-500-million-fundraise/', 'title': \"Announcing Helion's latest \u001b[33m│\u001b[0m\n",
       "\u001b[33m│\u001b[0m fundraise of $500 million\", 'content': \"| yt-remote-cast-available | YouTube | Stores the user's video player   \u001b[33m│\u001b[0m\n",
       "\u001b[33m│\u001b[0m preferences using embedded YouTube video | Session | HTML Local Storage | | yt-remote-cast-installed | YouTube  \u001b[33m│\u001b[0m\n",
       "\u001b[33m│\u001b[0m | Stores the user's video player preferences using embedded YouTube video | Session | HTML Local Storage | |    \u001b[33m│\u001b[0m\n",
       "\u001b[33m│\u001b[0m yt-remote-connected-devices | YouTube | Stores the user's video player preferences using embedded YouTube video \u001b[33m│\u001b[0m\n",
       "\u001b[33m│\u001b[0m | Persistent | HTML Local Storage | | yt-remote-device-id | YouTube | Stores the user's video player            \u001b[33m│\u001b[0m\n",
       "\u001b[33m│\u001b[0m preferences using embedded YouTube video | Persistent | HTML Local Storage | | yt-remote-session-name | YouTube \u001b[33m│\u001b[0m\n",
       "\u001b[33m│\u001b[0m | Stores the user's video player preferences using embedded YouTube video | Session | HTML Local Storage |\",    \u001b[33m│\u001b[0m\n",
       "\u001b[33m│\u001b[0m 'score': 0.25866336, 'raw_content': None}, {'url': 'https://www.helionenergy.com/articles/helion-raises-500m/', \u001b[33m│\u001b[0m\n",
       "\u001b[33m│\u001b[0m 'title': 'Helion Raises $500 Million, Targets 2024 for Demonstrating Net ...', 'content': \"|                    \u001b[33m│\u001b[0m\n",
       "\u001b[33m│\u001b[0m yt-remote-cast-available | YouTube | Stores the user's video player preferences using embedded YouTube video |  \u001b[33m│\u001b[0m\n",
       "\u001b[33m│\u001b[0m Session | HTML Local Storage | | yt-remote-cast-installed | YouTube | Stores the user's video player            \u001b[33m│\u001b[0m\n",
       "\u001b[33m│\u001b[0m preferences using embedded YouTube video | Session | HTML Local Storage | | yt-remote-connected-devices |       \u001b[33m│\u001b[0m\n",
       "\u001b[33m│\u001b[0m YouTube | Stores the user's video player preferences using embedded YouTube video | Persistent | HTML Local     \u001b[33m│\u001b[0m\n",
       "\u001b[33m│\u001b[0m Storage | | yt-remote-device-id | YouTube | Stores the user's video player preferences using embedded YouTube   \u001b[33m│\u001b[0m\n",
       "\u001b[33m│\u001b[0m video | Persistent | HTML Local Storage | | yt-remote-session-name | YouTube | Stores the user's video player   \u001b[33m│\u001b[0m\n",
       "\u001b[33m│\u001b[0m preferences using embedded YouTube video | Session | HTML Local Storage |\", 'score': 0.20018251, 'raw_content': \u001b[33m│\u001b[0m\n",
       "\u001b[33m│\u001b[0m None}], 'response_time': 0.9}                                                                                   \u001b[33m│\u001b[0m\n",
       "\u001b[33m╰─────────────────────────────────────────────────────────────────────────────────────────────────────────────────╯\u001b[0m\n"
      ]
     },
     "metadata": {},
     "output_type": "display_data"
    },
    {
     "data": {
      "text/html": [
       "<pre style=\"white-space:pre;overflow-x:auto;line-height:normal;font-family:Menlo,'DejaVu Sans Mono',consolas,'Courier New',monospace\"><span style=\"color: #c0c0c0; text-decoration-color: #c0c0c0\">╭───────────────────────────────────────────────────── 📝 AI ─────────────────────────────────────────────────────╮</span>\n",
       "<span style=\"color: #c0c0c0; text-decoration-color: #c0c0c0\">│</span> Here is a detailed comparison of the funding raised by Helion Energy and Commonwealth Fusion Systems.           <span style=\"color: #c0c0c0; text-decoration-color: #c0c0c0\">│</span>\n",
       "<span style=\"color: #c0c0c0; text-decoration-color: #c0c0c0\">│</span>                                                                                                                 <span style=\"color: #c0c0c0; text-decoration-color: #c0c0c0\">│</span>\n",
       "<span style=\"color: #c0c0c0; text-decoration-color: #c0c0c0\">│</span> | Company | Total Funding | Key Funding Rounds | Notable Investors |                                            <span style=\"color: #c0c0c0; text-decoration-color: #c0c0c0\">│</span>\n",
       "<span style=\"color: #c0c0c0; text-decoration-color: #c0c0c0\">│</span> | :--- | :--- | :--- | :--- |                                                                                   <span style=\"color: #c0c0c0; text-decoration-color: #c0c0c0\">│</span>\n",
       "<span style=\"color: #c0c0c0; text-decoration-color: #c0c0c0\">│</span> | **Helion Energy** | ~$577 Million | **Series E (2021):** $500 million, with an additional $1.7 billion in     <span style=\"color: #c0c0c0; text-decoration-color: #c0c0c0\">│</span>\n",
       "<span style=\"color: #c0c0c0; text-decoration-color: #c0c0c0\">│</span> commitments tied to milestones. | Sam Altman (CEO of OpenAI), Mithril Capital, Capricorn Investment Group,      <span style=\"color: #c0c0c0; text-decoration-color: #c0c0c0\">│</span>\n",
       "<span style=\"color: #c0c0c0; text-decoration-color: #c0c0c0\">│</span> Dustin Moskovitz |                                                                                              <span style=\"color: #c0c0c0; text-decoration-color: #c0c0c0\">│</span>\n",
       "<span style=\"color: #c0c0c0; text-decoration-color: #c0c0c0\">│</span> | **Commonwealth Fusion Systems** | ~$2 Billion | **Series B (2021):** Over $1.8 billion | Tiger Global         <span style=\"color: #c0c0c0; text-decoration-color: #c0c0c0\">│</span>\n",
       "<span style=\"color: #c0c0c0; text-decoration-color: #c0c0c0\">│</span> Management, Bill Gates, Google, Temasek, Soros Fund Management |                                                <span style=\"color: #c0c0c0; text-decoration-color: #c0c0c0\">│</span>\n",
       "<span style=\"color: #c0c0c0; text-decoration-color: #c0c0c0\">│</span>                                                                                                                 <span style=\"color: #c0c0c0; text-decoration-color: #c0c0c0\">│</span>\n",
       "<span style=\"color: #c0c0c0; text-decoration-color: #c0c0c0\">│</span> ### **Summary of Findings**                                                                                     <span style=\"color: #c0c0c0; text-decoration-color: #c0c0c0\">│</span>\n",
       "<span style=\"color: #c0c0c0; text-decoration-color: #c0c0c0\">│</span>                                                                                                                 <span style=\"color: #c0c0c0; text-decoration-color: #c0c0c0\">│</span>\n",
       "<span style=\"color: #c0c0c0; text-decoration-color: #c0c0c0\">│</span> **Commonwealth Fusion Systems (CFS)** has raised significantly more capital than Helion Energy, with a total of <span style=\"color: #c0c0c0; text-decoration-color: #c0c0c0\">│</span>\n",
       "<span style=\"color: #c0c0c0; text-decoration-color: #c0c0c0\">│</span> approximately **$2 billion**, compared to Helion's **$577 million**.                                            <span style=\"color: #c0c0c0; text-decoration-color: #c0c0c0\">│</span>\n",
       "<span style=\"color: #c0c0c0; text-decoration-color: #c0c0c0\">│</span>                                                                                                                 <span style=\"color: #c0c0c0; text-decoration-color: #c0c0c0\">│</span>\n",
       "<span style=\"color: #c0c0c0; text-decoration-color: #c0c0c0\">│</span> The primary difference in their funding comes from a single, massive funding round for CFS. In 2021, CFS        <span style=\"color: #c0c0c0; text-decoration-color: #c0c0c0\">│</span>\n",
       "<span style=\"color: #c0c0c0; text-decoration-color: #c0c0c0\">│</span> secured over **$1.8 billion** in a Series B round, one of the largest funding rounds for any private company.   <span style=\"color: #c0c0c0; text-decoration-color: #c0c0c0\">│</span>\n",
       "<span style=\"color: #c0c0c0; text-decoration-color: #c0c0c0\">│</span> This round was led by Tiger Global Management and included a diverse group of high-profile investors, including <span style=\"color: #c0c0c0; text-decoration-color: #c0c0c0\">│</span>\n",
       "<span style=\"color: #c0c0c0; text-decoration-color: #c0c0c0\">│</span> Bill Gates and Google.                                                                                          <span style=\"color: #c0c0c0; text-decoration-color: #c0c0c0\">│</span>\n",
       "<span style=\"color: #c0c0c0; text-decoration-color: #c0c0c0\">│</span>                                                                                                                 <span style=\"color: #c0c0c0; text-decoration-color: #c0c0c0\">│</span>\n",
       "<span style=\"color: #c0c0c0; text-decoration-color: #c0c0c0\">│</span> **Helion Energy**, on the other hand, has raised a more modest, but still substantial, amount of capital. Their <span style=\"color: #c0c0c0; text-decoration-color: #c0c0c0\">│</span>\n",
       "<span style=\"color: #c0c0c0; text-decoration-color: #c0c0c0\">│</span> most significant funding event was a **$500 million Series E round** in 2021, led by Sam Altman, the CEO of     <span style=\"color: #c0c0c0; text-decoration-color: #c0c0c0\">│</span>\n",
       "<span style=\"color: #c0c0c0; text-decoration-color: #c0c0c0\">│</span> OpenAI. This funding also comes with a provision for an additional **$1.7 billion** in investment, contingent   <span style=\"color: #c0c0c0; text-decoration-color: #c0c0c0\">│</span>\n",
       "<span style=\"color: #c0c0c0; text-decoration-color: #c0c0c0\">│</span> on Helion achieving certain technical milestones.                                                               <span style=\"color: #c0c0c0; text-decoration-color: #c0c0c0\">│</span>\n",
       "<span style=\"color: #c0c0c0; text-decoration-color: #c0c0c0\">│</span>                                                                                                                 <span style=\"color: #c0c0c0; text-decoration-color: #c0c0c0\">│</span>\n",
       "<span style=\"color: #c0c0c0; text-decoration-color: #c0c0c0\">│</span> ### **Key Differences**                                                                                         <span style=\"color: #c0c0c0; text-decoration-color: #c0c0c0\">│</span>\n",
       "<span style=\"color: #c0c0c0; text-decoration-color: #c0c0c0\">│</span>                                                                                                                 <span style=\"color: #c0c0c0; text-decoration-color: #c0c0c0\">│</span>\n",
       "<span style=\"color: #c0c0c0; text-decoration-color: #c0c0c0\">│</span> *   **Total Capital Raised:** Commonwealth Fusion Systems has raised nearly four times the amount of capital as <span style=\"color: #c0c0c0; text-decoration-color: #c0c0c0\">│</span>\n",
       "<span style=\"color: #c0c0c0; text-decoration-color: #c0c0c0\">│</span> Helion Energy to date.                                                                                          <span style=\"color: #c0c0c0; text-decoration-color: #c0c0c0\">│</span>\n",
       "<span style=\"color: #c0c0c0; text-decoration-color: #c0c0c0\">│</span> *   **Investor Base:** While both companies have attracted prominent investors, CFS has a broader and more      <span style=\"color: #c0c0c0; text-decoration-color: #c0c0c0\">│</span>\n",
       "<span style=\"color: #c0c0c0; text-decoration-color: #c0c0c0\">│</span> institutionally diverse investor base, including major players like Tiger Global and sovereign wealth funds.    <span style=\"color: #c0c0c0; text-decoration-color: #c0c0c0\">│</span>\n",
       "<span style=\"color: #c0c0c0; text-decoration-color: #c0c0c0\">│</span> Helion's funding is more concentrated, with a significant portion of its backing coming from Sam Altman.        <span style=\"color: #c0c0c0; text-decoration-color: #c0c0c0\">│</span>\n",
       "<span style=\"color: #c0c0c0; text-decoration-color: #c0c0c0\">│</span> *   **Funding Structure:** Helion's Series E includes a unique milestone-based funding commitment, which could  <span style=\"color: #c0c0c0; text-decoration-color: #c0c0c0\">│</span>\n",
       "<span style=\"color: #c0c0c0; text-decoration-color: #c0c0c0\">│</span> significantly increase its total funding in the future. In contrast, CFS's funding has been more traditional,   <span style=\"color: #c0c0c0; text-decoration-color: #c0c0c0\">│</span>\n",
       "<span style=\"color: #c0c0c0; text-decoration-color: #c0c0c0\">│</span> with large, upfront investments.                                                                                <span style=\"color: #c0c0c0; text-decoration-color: #c0c0c0\">│</span>\n",
       "<span style=\"color: #c0c0c0; text-decoration-color: #c0c0c0\">│</span>                                                                                                                 <span style=\"color: #c0c0c0; text-decoration-color: #c0c0c0\">│</span>\n",
       "<span style=\"color: #c0c0c0; text-decoration-color: #c0c0c0\">│</span> In conclusion, while both companies are leaders in the private fusion industry, Commonwealth Fusion Systems has <span style=\"color: #c0c0c0; text-decoration-color: #c0c0c0\">│</span>\n",
       "<span style=\"color: #c0c0c0; text-decoration-color: #c0c0c0\">│</span> a much larger capital base at present. However, Helion's innovative funding structure and the backing of        <span style=\"color: #c0c0c0; text-decoration-color: #c0c0c0\">│</span>\n",
       "<span style=\"color: #c0c0c0; text-decoration-color: #c0c0c0\">│</span> influential tech figures like Sam Altman position it as a strong contender in the race to commercialize fusion  <span style=\"color: #c0c0c0; text-decoration-color: #c0c0c0\">│</span>\n",
       "<span style=\"color: #c0c0c0; text-decoration-color: #c0c0c0\">│</span> energy.                                                                                                         <span style=\"color: #c0c0c0; text-decoration-color: #c0c0c0\">│</span>\n",
       "<span style=\"color: #c0c0c0; text-decoration-color: #c0c0c0\">╰─────────────────────────────────────────────────────────────────────────────────────────────────────────────────╯</span>\n",
       "</pre>\n"
      ],
      "text/plain": [
       "\u001b[37m╭─\u001b[0m\u001b[37m────────────────────────────────────────────────────\u001b[0m\u001b[37m 📝 AI \u001b[0m\u001b[37m────────────────────────────────────────────────────\u001b[0m\u001b[37m─╮\u001b[0m\n",
       "\u001b[37m│\u001b[0m Here is a detailed comparison of the funding raised by Helion Energy and Commonwealth Fusion Systems.           \u001b[37m│\u001b[0m\n",
       "\u001b[37m│\u001b[0m                                                                                                                 \u001b[37m│\u001b[0m\n",
       "\u001b[37m│\u001b[0m | Company | Total Funding | Key Funding Rounds | Notable Investors |                                            \u001b[37m│\u001b[0m\n",
       "\u001b[37m│\u001b[0m | :--- | :--- | :--- | :--- |                                                                                   \u001b[37m│\u001b[0m\n",
       "\u001b[37m│\u001b[0m | **Helion Energy** | ~$577 Million | **Series E (2021):** $500 million, with an additional $1.7 billion in     \u001b[37m│\u001b[0m\n",
       "\u001b[37m│\u001b[0m commitments tied to milestones. | Sam Altman (CEO of OpenAI), Mithril Capital, Capricorn Investment Group,      \u001b[37m│\u001b[0m\n",
       "\u001b[37m│\u001b[0m Dustin Moskovitz |                                                                                              \u001b[37m│\u001b[0m\n",
       "\u001b[37m│\u001b[0m | **Commonwealth Fusion Systems** | ~$2 Billion | **Series B (2021):** Over $1.8 billion | Tiger Global         \u001b[37m│\u001b[0m\n",
       "\u001b[37m│\u001b[0m Management, Bill Gates, Google, Temasek, Soros Fund Management |                                                \u001b[37m│\u001b[0m\n",
       "\u001b[37m│\u001b[0m                                                                                                                 \u001b[37m│\u001b[0m\n",
       "\u001b[37m│\u001b[0m ### **Summary of Findings**                                                                                     \u001b[37m│\u001b[0m\n",
       "\u001b[37m│\u001b[0m                                                                                                                 \u001b[37m│\u001b[0m\n",
       "\u001b[37m│\u001b[0m **Commonwealth Fusion Systems (CFS)** has raised significantly more capital than Helion Energy, with a total of \u001b[37m│\u001b[0m\n",
       "\u001b[37m│\u001b[0m approximately **$2 billion**, compared to Helion's **$577 million**.                                            \u001b[37m│\u001b[0m\n",
       "\u001b[37m│\u001b[0m                                                                                                                 \u001b[37m│\u001b[0m\n",
       "\u001b[37m│\u001b[0m The primary difference in their funding comes from a single, massive funding round for CFS. In 2021, CFS        \u001b[37m│\u001b[0m\n",
       "\u001b[37m│\u001b[0m secured over **$1.8 billion** in a Series B round, one of the largest funding rounds for any private company.   \u001b[37m│\u001b[0m\n",
       "\u001b[37m│\u001b[0m This round was led by Tiger Global Management and included a diverse group of high-profile investors, including \u001b[37m│\u001b[0m\n",
       "\u001b[37m│\u001b[0m Bill Gates and Google.                                                                                          \u001b[37m│\u001b[0m\n",
       "\u001b[37m│\u001b[0m                                                                                                                 \u001b[37m│\u001b[0m\n",
       "\u001b[37m│\u001b[0m **Helion Energy**, on the other hand, has raised a more modest, but still substantial, amount of capital. Their \u001b[37m│\u001b[0m\n",
       "\u001b[37m│\u001b[0m most significant funding event was a **$500 million Series E round** in 2021, led by Sam Altman, the CEO of     \u001b[37m│\u001b[0m\n",
       "\u001b[37m│\u001b[0m OpenAI. This funding also comes with a provision for an additional **$1.7 billion** in investment, contingent   \u001b[37m│\u001b[0m\n",
       "\u001b[37m│\u001b[0m on Helion achieving certain technical milestones.                                                               \u001b[37m│\u001b[0m\n",
       "\u001b[37m│\u001b[0m                                                                                                                 \u001b[37m│\u001b[0m\n",
       "\u001b[37m│\u001b[0m ### **Key Differences**                                                                                         \u001b[37m│\u001b[0m\n",
       "\u001b[37m│\u001b[0m                                                                                                                 \u001b[37m│\u001b[0m\n",
       "\u001b[37m│\u001b[0m *   **Total Capital Raised:** Commonwealth Fusion Systems has raised nearly four times the amount of capital as \u001b[37m│\u001b[0m\n",
       "\u001b[37m│\u001b[0m Helion Energy to date.                                                                                          \u001b[37m│\u001b[0m\n",
       "\u001b[37m│\u001b[0m *   **Investor Base:** While both companies have attracted prominent investors, CFS has a broader and more      \u001b[37m│\u001b[0m\n",
       "\u001b[37m│\u001b[0m institutionally diverse investor base, including major players like Tiger Global and sovereign wealth funds.    \u001b[37m│\u001b[0m\n",
       "\u001b[37m│\u001b[0m Helion's funding is more concentrated, with a significant portion of its backing coming from Sam Altman.        \u001b[37m│\u001b[0m\n",
       "\u001b[37m│\u001b[0m *   **Funding Structure:** Helion's Series E includes a unique milestone-based funding commitment, which could  \u001b[37m│\u001b[0m\n",
       "\u001b[37m│\u001b[0m significantly increase its total funding in the future. In contrast, CFS's funding has been more traditional,   \u001b[37m│\u001b[0m\n",
       "\u001b[37m│\u001b[0m with large, upfront investments.                                                                                \u001b[37m│\u001b[0m\n",
       "\u001b[37m│\u001b[0m                                                                                                                 \u001b[37m│\u001b[0m\n",
       "\u001b[37m│\u001b[0m In conclusion, while both companies are leaders in the private fusion industry, Commonwealth Fusion Systems has \u001b[37m│\u001b[0m\n",
       "\u001b[37m│\u001b[0m a much larger capital base at present. However, Helion's innovative funding structure and the backing of        \u001b[37m│\u001b[0m\n",
       "\u001b[37m│\u001b[0m influential tech figures like Sam Altman position it as a strong contender in the race to commercialize fusion  \u001b[37m│\u001b[0m\n",
       "\u001b[37m│\u001b[0m energy.                                                                                                         \u001b[37m│\u001b[0m\n",
       "\u001b[37m╰─────────────────────────────────────────────────────────────────────────────────────────────────────────────────╯\u001b[0m\n"
      ]
     },
     "metadata": {},
     "output_type": "display_data"
    }
   ],
   "source": [
    "# Cross-thread memory persistence demonstration\n",
    "config_2 = {\"configurable\": {\"thread_id\": \"2\"}}\n",
    "messages_2 = agent.invoke({\n",
    "    \"messages\": [HumanMessage(content=\"How does the funding raised for Helion Energy compare to Commonwealth Fusion Systems? make srue to follow the system message and workflow steps.\")]\n",
    "}, config_2)\n",
    "\n",
    "console.print(\"\\n[bold cyan]Workflow Result (Thread 2) - Cross-Thread Memory Access:[/bold cyan]\")\n",
    "format_messages(messages_2['messages'])"
   ]
  },
  {
   "cell_type": "code",
   "execution_count": null,
   "id": "e0c7b8cc",
   "metadata": {},
   "outputs": [],
   "source": []
  }
 ],
 "metadata": {
  "kernelspec": {
   "display_name": ".venv",
   "language": "python",
   "name": "python3"
  },
  "language_info": {
   "codemirror_mode": {
    "name": "ipython",
    "version": 3
   },
   "file_extension": ".py",
   "mimetype": "text/x-python",
   "name": "python",
   "nbconvert_exporter": "python",
   "pygments_lexer": "ipython3",
   "version": "3.13.3"
  }
 },
 "nbformat": 4,
 "nbformat_minor": 5
}
