{
 "cells": [
  {
   "cell_type": "markdown",
   "id": "7a5f66b3",
   "metadata": {},
   "source": [
    "# Tool Loadout\n",
    "Tool Loadout means selecting only the tools that are relevant to the current task and adding their definitions to the model's context. This is done before sending the final input to the model.\n",
    "\n",
    "In one of the study, it was found that tool overload becomes a real problem beyond 30 tools. Descriptions start to blur and it creates confusion. With more than 100 tools, models like DeepSeek-v3 fail outright. Using RAG to select fewer than 30 tools improved selection accuracy by up to 3x.\n",
    "\n",
    "Smaller models suffer even sooner. In Less is More, Llama 3.1 8b failed with 46 tools but passed with 19 tools. The issue wasn't the context window, it was confusion from too many options.\n",
    "\n",
    "To solve this, the team built a tool recommender using an LLM. The model reasoned about what tools it needed, then a semantic search selected the loadout. On the Berkeley Function Calling Leaderboard, this improved Llama 3.1 8b performance by 44%.\n",
    "Ref:https://arxiv.org/abs/2411.15399\n",
    "\n",
    "The same paper also found practical benefits:\n",
    "1. Smaller contexts reduced power use by 18%\n",
    "2. Speed up inference by 77% , important for edge deployments.\n",
    "\n",
    "Most agents don't need dozens of tools. But if the tool surface grows, managing the loadout becomes critical.\n",
    "\n",
    "### Why Tool Loadout is helpful?\n",
    "Context confusion also appears when we include too many tools. It helps in mitigating context confusion by:\n",
    "1. Preventing Tool Overlap Confusion: Context confusion appears when many tools are added at once. Their descriptions can overlap, making it unclear which tool the model should choose.\n",
    "2. Reducing Context Overload: Even if all tools are useful, loading too many wastes space in the context. This can slow down the model or lead it to use the wrong tool.\n",
    "3. Improving Decision Quality: Tool loadout includes only the tools needed for the current task. This helps the model make better and more focused decisions.\n",
    "\n",
    "Let's now implement this solution in LangGraph.\n",
    "\n",
    "### Using Tool Loadout in LangGraph\n",
    "This is going to be an interesting project and very helpful to check how Tool Loadout helps in mitigating context confusions.\n",
    "\n",
    "In this project:\n",
    "1. We will give the agent access to every function in Python's built-in math library. \n",
    "2. Instead of loading all tool definitions into the context, we will first search for the ones most related tool based on its descriptions using semantic similarity with the user's query and fetches the most relevant ones from memory.\n",
    "3. It only binds the most relevant tools to the model.\n",
    "\n",
    "This approach will help avoid clutter and reduce confusion. \n",
    "\n",
    "Let's now implement this step by step.\n",
    "\n",
    "#### Requirements:\n",
    "```\n",
    "\"bs4>=0.0.2\",\n",
    "\"dotenv>=0.9.9\",\n",
    "\"ipykernel>=6.30.0\",\n",
    "\"langchain>=0.3.27\",\n",
    "\"langchain-community>=0.3.27\",\n",
    "\"langchain-google-genai>=2.1.8\",\n",
    "\"langgraph>=0.6.3\",\n",
    "\"langgraph-bigtool>=0.0.3\",\n",
    "\"pandas>=2.3.1\",\n",
    "\"rich>=14.1.0\",\n",
    "\"tiktoken>=0.9.0\"\n",
    "```"
   ]
  },
  {
   "cell_type": "code",
   "execution_count": 1,
   "id": "966600dd",
   "metadata": {},
   "outputs": [
    {
     "data": {
      "text/plain": [
       "True"
      ]
     },
     "execution_count": 1,
     "metadata": {},
     "output_type": "execute_result"
    }
   ],
   "source": [
    "from dotenv import load_dotenv\n",
    "\n",
    "load_dotenv()"
   ]
  },
  {
   "cell_type": "code",
   "execution_count": 2,
   "id": "e58c66e2",
   "metadata": {},
   "outputs": [],
   "source": [
    "import getpass\n",
    "import math  \n",
    "import os\n",
    "import types\n",
    "import uuid\n",
    "\n",
    "from langchain_google_genai import ChatGoogleGenerativeAI, GoogleGenerativeAIEmbeddings\n",
    "from langgraph.store.memory import InMemoryStore\n",
    "from langgraph_bigtool.utils import convert_positional_only_function_to_tool\n"
   ]
  },
  {
   "cell_type": "code",
   "execution_count": null,
   "id": "fd18a7c0",
   "metadata": {},
   "outputs": [],
   "source": [
    "# Initialize Gemini model \n",
    "llm = ChatGoogleGenerativeAI(model=\"gemini-2.0-flash\", temperature=0)\n"
   ]
  },
  {
   "cell_type": "code",
   "execution_count": 5,
   "id": "d8e2fa45",
   "metadata": {},
   "outputs": [
    {
     "name": "stderr",
     "output_type": "stream",
     "text": [
      "/var/folders/c9/h7x3gp7x57n7kz8n91yjhw6w0000gn/T/ipykernel_21920/478612921.py:7: LangChainBetaWarning: The function `convert_positional_only_function_to_tool` is in beta. It is actively being worked on, so the API may change.\n",
      "  if tool := convert_positional_only_function_to_tool(function):\n"
     ]
    },
    {
     "data": {
      "text/plain": [
       "[StructuredTool(name='acos', description='Return the arc cosine (measured in radians) of x.\\n\\nThe result is between 0 and pi.', args_schema=<class 'langchain_core.utils.pydantic.acos'>, func=<function acos at 0x10f9b28e0>),\n",
       " StructuredTool(name='acosh', description='Return the inverse hyperbolic cosine of x.', args_schema=<class 'langchain_core.utils.pydantic.acosh'>, func=<function acosh at 0x10f9b2a20>),\n",
       " StructuredTool(name='asin', description='Return the arc sine (measured in radians) of x.\\n\\nThe result is between -pi/2 and pi/2.', args_schema=<class 'langchain_core.utils.pydantic.asin'>, func=<function asin at 0x10f9b3380>),\n",
       " StructuredTool(name='asinh', description='Return the inverse hyperbolic sine of x.', args_schema=<class 'langchain_core.utils.pydantic.asinh'>, func=<function asinh at 0x10f9b39c0>),\n",
       " StructuredTool(name='atan', description='Return the arc tangent (measured in radians) of x.\\n\\nThe result is between -pi/2 and pi/2.', args_schema=<class 'langchain_core.utils.pydantic.atan'>, func=<function atan at 0x10f9b2b60>)]"
      ]
     },
     "execution_count": 5,
     "metadata": {},
     "output_type": "execute_result"
    }
   ],
   "source": [
    "# Extract and convert math module functions to LangChain tools\n",
    "all_tools = []\n",
    "for function_name in dir(math):\n",
    "    function = getattr(math, function_name)\n",
    "    if not isinstance(function, types.BuiltinFunctionType):\n",
    "        continue\n",
    "    if tool := convert_positional_only_function_to_tool(function):\n",
    "        all_tools.append(tool)\n",
    "all_tools[:5]"
   ]
  },
  {
   "cell_type": "code",
   "execution_count": 6,
   "id": "b6a9bb74",
   "metadata": {},
   "outputs": [],
   "source": [
    "# Map each tool to a unique ID for lookup\n",
    "tool_registry = {\n",
    "    str(uuid.uuid4()): tool\n",
    "    for tool in all_tools\n",
    "}\n"
   ]
  },
  {
   "cell_type": "code",
   "execution_count": 7,
   "id": "d5347bed",
   "metadata": {},
   "outputs": [],
   "source": [
    "# Initialize semantic search index with Google embeddings\n",
    "embeddings = GoogleGenerativeAIEmbeddings(model=\"models/embedding-001\")\n",
    "store = InMemoryStore(\n",
    "    index={\n",
    "        \"embed\": embeddings,\n",
    "        \"dims\": 768,  # Dimension for Google embeddings\n",
    "        \"fields\": [\"description\"],\n",
    "    }\n",
    ")\n",
    "\n",
    "# Index all tool descriptions into the store\n",
    "for tool_id, tool in tool_registry.items():\n",
    "    store.put(\n",
    "        (\"tools\",),\n",
    "        tool_id,\n",
    "        {\n",
    "            \"description\": f\"{tool.name}: {tool.description}\",\n",
    "        },\n",
    "    )\n"
   ]
  },
  {
   "cell_type": "code",
   "execution_count": 8,
   "id": "92ec94cd",
   "metadata": {},
   "outputs": [],
   "source": [
    "# Agent's state definition to include dynamic tool list\n",
    "from typing import Dict, Any\n",
    "from typing_extensions import Literal\n",
    "\n",
    "from langchain_core.messages import SystemMessage, ToolMessage, HumanMessage\n",
    "from langgraph.store.base import BaseStore\n",
    "from langgraph.graph import END, START, StateGraph, MessagesState\n",
    "\n",
    "from IPython.display import Image, display\n",
    "\n",
    "class ToolLoadoutState(MessagesState):\n",
    "    tools_by_name: Dict[str, Any] = {}\n"
   ]
  },
  {
   "cell_type": "code",
   "execution_count": 9,
   "id": "918af2b8",
   "metadata": {},
   "outputs": [],
   "source": [
    "system_prompt = \"\"\"You are a helpful assistant with access to mathematical functions from Python's math library. \n",
    "You can search for and use relevant mathematical tools to solve problems. \n",
    "When you need to perform mathematical calculations, first determine what type of mathematical operation you need, \n",
    "then use the appropriate tools from the math library.\"\"\"\n"
   ]
  },
  {
   "cell_type": "code",
   "execution_count": null,
   "id": "85c6706a",
   "metadata": {},
   "outputs": [],
   "source": [
    "def llm_call(state: ToolLoadoutState, store: BaseStore) -> dict:\n",
    "    messages = state[\"messages\"]\n",
    "    if messages and isinstance(messages[-1], HumanMessage):\n",
    "        query = messages[-1].content\n",
    "    else:\n",
    "        query = \"mathematical calculation\"\n",
    "\n",
    "    search_results = store.search((\"tools\",), query=query, limit=5)\n",
    "\n",
    "    relevant_tools = []\n",
    "    tools_by_name = {}\n",
    "\n",
    "    for result in search_results:\n",
    "        tool_id = result.key\n",
    "        if tool_id in tool_registry:\n",
    "            tool = tool_registry[tool_id]\n",
    "            relevant_tools.append(tool)\n",
    "            tools_by_name[tool.name] = tool\n",
    "\n",
    "    llm_with_tools = llm.bind_tools(relevant_tools) if relevant_tools else llm\n",
    "\n",
    "    response = llm_with_tools.invoke(\n",
    "        [SystemMessage(content=system_prompt)] + state[\"messages\"]\n",
    "    )\n",
    "\n",
    "    return {\n",
    "        \"messages\": [response],\n",
    "        \"tools_by_name\": tools_by_name\n",
    "    }\n"
   ]
  },
  {
   "cell_type": "code",
   "execution_count": 11,
   "id": "0007d9d3",
   "metadata": {},
   "outputs": [],
   "source": [
    "def tool_node(state: ToolLoadoutState) -> dict:\n",
    "    result = []\n",
    "    for tool_call in state[\"messages\"][-1].tool_calls:\n",
    "        tool = state[\"tools_by_name\"][tool_call[\"name\"]]\n",
    "        observation = tool.invoke(tool_call[\"args\"])\n",
    "        result.append(ToolMessage(content=str(observation), tool_call_id=tool_call[\"id\"]))\n",
    "    return {\"messages\": result}\n"
   ]
  },
  {
   "cell_type": "code",
   "execution_count": 12,
   "id": "b5eaf5bb",
   "metadata": {},
   "outputs": [],
   "source": [
    "def should_continue(state: ToolLoadoutState) -> Literal[\"tool_node\", \"__end__\"]:\n",
    "    messages = state[\"messages\"]\n",
    "    last_message = messages[-1]\n",
    "    if last_message.tool_calls:\n",
    "        return \"tool_node\"\n",
    "    return END\n"
   ]
  },
  {
   "cell_type": "code",
   "execution_count": 13,
   "id": "d33642d3",
   "metadata": {},
   "outputs": [
    {
     "data": {
      "image/png": "[encoded data removed]",
      "text/plain": [
       "<IPython.core.display.Image object>"
      ]
     },
     "metadata": {},
     "output_type": "display_data"
    }
   ],
   "source": [
    "# Build and compile the agent workflow\n",
    "agent_builder = StateGraph(ToolLoadoutState)\n",
    "\n",
    "agent_builder.add_node(\"llm_call\", llm_call)\n",
    "agent_builder.add_node(\"tool_node\", tool_node)\n",
    "\n",
    "agent_builder.add_edge(START, \"llm_call\")\n",
    "agent_builder.add_conditional_edges(\"llm_call\", should_continue, {\n",
    "    \"tool_node\": \"tool_node\",\n",
    "    END: END,\n",
    "})\n",
    "agent_builder.add_edge(\"tool_node\", \"llm_call\")\n",
    "\n",
    "agent = agent_builder.compile(store=store)\n",
    "\n",
    "# Visualize the workflow\n",
    "display(Image(agent.get_graph(xray=True).draw_mermaid_png()))\n"
   ]
  },
  {
   "cell_type": "code",
   "execution_count": 14,
   "id": "c730506a",
   "metadata": {},
   "outputs": [
    {
     "name": "stderr",
     "output_type": "stream",
     "text": [
      "WARNING: All log messages before absl::InitializeLog() is called are written to STDERR\n",
      "I0000 00:00:1754316072.800295 53712873 fork_posix.cc:71] Other threads are currently calling into gRPC, skipping fork() handlers\n"
     ]
    }
   ],
   "source": [
    "# Run the agent on a user query\n",
    "from utils import format_messages\n",
    "from langchain_core.messages import HumanMessage\n",
    "\n",
    "query = \"Use available tools to calculate arc cosine of 0.5.\"\n",
    "result = agent.invoke({\"messages\": [HumanMessage(content=query)]})\n",
    "\n"
   ]
  },
  {
   "cell_type": "code",
   "execution_count": 15,
   "id": "29ec62ab",
   "metadata": {},
   "outputs": [
    {
     "data": {
      "text/plain": [
       "{'messages': [HumanMessage(content='Use available tools to calculate arc cosine of 0.5.', additional_kwargs={}, response_metadata={}, id='61a1e1c2-d4dc-4668-a2cd-60b3df886997'),\n",
       "  AIMessage(content='', additional_kwargs={'function_call': {'name': 'acos', 'arguments': '{\"x\": 0.5}'}}, response_metadata={'prompt_feedback': {'block_reason': 0, 'safety_ratings': []}, 'finish_reason': 'STOP', 'model_name': 'gemini-2.0-flash', 'safety_ratings': []}, id='run--4f7578b1-8be3-41e9-9cd4-8f67b5c10cc3-0', tool_calls=[{'name': 'acos', 'args': {'x': 0.5}, 'id': 'ac4ada00-3b68-40bf-be60-69d31f2417a6', 'type': 'tool_call'}], usage_metadata={'input_tokens': 154, 'output_tokens': 3, 'total_tokens': 157, 'input_token_details': {'cache_read': 0}}),\n",
       "  ToolMessage(content='1.0471975511965976', id='5c8ed613-9835-4d5f-8dfa-d6142dfbf97b', tool_call_id='ac4ada00-3b68-40bf-be60-69d31f2417a6'),\n",
       "  AIMessage(content='The arc cosine of 0.5 is 1.0471975511965976 radians.', additional_kwargs={}, response_metadata={'prompt_feedback': {'block_reason': 0, 'safety_ratings': []}, 'finish_reason': 'STOP', 'model_name': 'gemini-2.0-flash', 'safety_ratings': []}, id='run--9bd173b5-0e1b-4f7b-9970-2d9aad9b2551-0', usage_metadata={'input_tokens': 137, 'output_tokens': 31, 'total_tokens': 168, 'input_token_details': {'cache_read': 0}})],\n",
       " 'tools_by_name': {'acos': StructuredTool(name='acos', description='Return the arc cosine (measured in radians) of x.\\n\\nThe result is between 0 and pi.', args_schema=<class 'langchain_core.utils.pydantic.acos'>, func=<function acos at 0x10f9b28e0>),\n",
       "  'cos': StructuredTool(name='cos', description='Return the cosine of x (measured in radians).', args_schema=<class 'langchain_core.utils.pydantic.cos'>, func=<function cos at 0x10f9e8c20>),\n",
       "  'degrees': StructuredTool(name='degrees', description='Convert angle x from radians to degrees.', args_schema=<class 'langchain_core.utils.pydantic.degrees'>, func=<function degrees at 0x10f9b3a60>),\n",
       "  'acosh': StructuredTool(name='acosh', description='Return the inverse hyperbolic cosine of x.', args_schema=<class 'langchain_core.utils.pydantic.acosh'>, func=<function acosh at 0x10f9b2a20>),\n",
       "  'radians': StructuredTool(name='radians', description='Convert angle x from degrees to radians.', args_schema=<class 'langchain_core.utils.pydantic.radians'>, func=<function radians at 0x10f9eb880>),\n",
       "  'erfc': StructuredTool(name='erfc', description='Complementary error function at x.', args_schema=<class 'langchain_core.utils.pydantic.erfc'>, func=<function erfc at 0x10f9b37e0>),\n",
       "  'gamma': StructuredTool(name='gamma', description='Gamma function at x.', args_schema=<class 'langchain_core.utils.pydantic.gamma'>, func=<function gamma at 0x10f9ea3e0>),\n",
       "  'erf': StructuredTool(name='erf', description='Error function at x.', args_schema=<class 'langchain_core.utils.pydantic.erf'>, func=<function erf at 0x10f9b2f20>),\n",
       "  'exp': StructuredTool(name='exp', description='Return e raised to the power of x.', args_schema=<class 'langchain_core.utils.pydantic.exp'>, func=<function exp at 0x10f9e9940>),\n",
       "  'sqrt': StructuredTool(name='sqrt', description='Return the square root of x.', args_schema=<class 'langchain_core.utils.pydantic.sqrt'>, func=<function sqrt at 0x10f9e9440>)}}"
      ]
     },
     "execution_count": 15,
     "metadata": {},
     "output_type": "execute_result"
    }
   ],
   "source": [
    "result"
   ]
  },
  {
   "cell_type": "code",
   "execution_count": 16,
   "id": "12013fa6",
   "metadata": {},
   "outputs": [
    {
     "data": {
      "text/html": [
       "<pre style=\"white-space:pre;overflow-x:auto;line-height:normal;font-family:Menlo,'DejaVu Sans Mono',consolas,'Courier New',monospace\"><span style=\"color: #000080; text-decoration-color: #000080\">╭─────────────────────────────────────────────────── 🧑 Human ────────────────────────────────────────────────────╮</span>\n",
       "<span style=\"color: #000080; text-decoration-color: #000080\">│</span> Use available tools to calculate arc cosine of 0.5.                                                             <span style=\"color: #000080; text-decoration-color: #000080\">│</span>\n",
       "<span style=\"color: #000080; text-decoration-color: #000080\">╰─────────────────────────────────────────────────────────────────────────────────────────────────────────────────╯</span>\n",
       "</pre>\n"
      ],
      "text/plain": [
       "\u001b[34m╭─\u001b[0m\u001b[34m──────────────────────────────────────────────────\u001b[0m\u001b[34m 🧑 Human \u001b[0m\u001b[34m───────────────────────────────────────────────────\u001b[0m\u001b[34m─╮\u001b[0m\n",
       "\u001b[34m│\u001b[0m Use available tools to calculate arc cosine of 0.5.                                                             \u001b[34m│\u001b[0m\n",
       "\u001b[34m╰─────────────────────────────────────────────────────────────────────────────────────────────────────────────────╯\u001b[0m\n"
      ]
     },
     "metadata": {},
     "output_type": "display_data"
    },
    {
     "data": {
      "text/html": [
       "<pre style=\"white-space:pre;overflow-x:auto;line-height:normal;font-family:Menlo,'DejaVu Sans Mono',consolas,'Courier New',monospace\"><span style=\"color: #c0c0c0; text-decoration-color: #c0c0c0\">╭───────────────────────────────────────────────────── 📝 AI ─────────────────────────────────────────────────────╮</span>\n",
       "<span style=\"color: #c0c0c0; text-decoration-color: #c0c0c0\">│</span>                                                                                                                 <span style=\"color: #c0c0c0; text-decoration-color: #c0c0c0\">│</span>\n",
       "<span style=\"color: #c0c0c0; text-decoration-color: #c0c0c0\">│</span> 🔧 Tool Call: acos                                                                                              <span style=\"color: #c0c0c0; text-decoration-color: #c0c0c0\">│</span>\n",
       "<span style=\"color: #c0c0c0; text-decoration-color: #c0c0c0\">│</span>    Args: {                                                                                                      <span style=\"color: #c0c0c0; text-decoration-color: #c0c0c0\">│</span>\n",
       "<span style=\"color: #c0c0c0; text-decoration-color: #c0c0c0\">│</span>   \"x\": 0.5                                                                                                      <span style=\"color: #c0c0c0; text-decoration-color: #c0c0c0\">│</span>\n",
       "<span style=\"color: #c0c0c0; text-decoration-color: #c0c0c0\">│</span> }                                                                                                               <span style=\"color: #c0c0c0; text-decoration-color: #c0c0c0\">│</span>\n",
       "<span style=\"color: #c0c0c0; text-decoration-color: #c0c0c0\">╰─────────────────────────────────────────────────────────────────────────────────────────────────────────────────╯</span>\n",
       "</pre>\n"
      ],
      "text/plain": [
       "\u001b[37m╭─\u001b[0m\u001b[37m────────────────────────────────────────────────────\u001b[0m\u001b[37m 📝 AI \u001b[0m\u001b[37m────────────────────────────────────────────────────\u001b[0m\u001b[37m─╮\u001b[0m\n",
       "\u001b[37m│\u001b[0m                                                                                                                 \u001b[37m│\u001b[0m\n",
       "\u001b[37m│\u001b[0m 🔧 Tool Call: acos                                                                                              \u001b[37m│\u001b[0m\n",
       "\u001b[37m│\u001b[0m    Args: {                                                                                                      \u001b[37m│\u001b[0m\n",
       "\u001b[37m│\u001b[0m   \"x\": 0.5                                                                                                      \u001b[37m│\u001b[0m\n",
       "\u001b[37m│\u001b[0m }                                                                                                               \u001b[37m│\u001b[0m\n",
       "\u001b[37m╰─────────────────────────────────────────────────────────────────────────────────────────────────────────────────╯\u001b[0m\n"
      ]
     },
     "metadata": {},
     "output_type": "display_data"
    },
    {
     "data": {
      "text/html": [
       "<pre style=\"white-space:pre;overflow-x:auto;line-height:normal;font-family:Menlo,'DejaVu Sans Mono',consolas,'Courier New',monospace\"><span style=\"color: #808000; text-decoration-color: #808000\">╭──────────────────────────────────────────────── 🔧 Tool Output ─────────────────────────────────────────────────╮</span>\n",
       "<span style=\"color: #808000; text-decoration-color: #808000\">│</span> 1.0471975511965976                                                                                              <span style=\"color: #808000; text-decoration-color: #808000\">│</span>\n",
       "<span style=\"color: #808000; text-decoration-color: #808000\">╰─────────────────────────────────────────────────────────────────────────────────────────────────────────────────╯</span>\n",
       "</pre>\n"
      ],
      "text/plain": [
       "\u001b[33m╭─\u001b[0m\u001b[33m───────────────────────────────────────────────\u001b[0m\u001b[33m 🔧 Tool Output \u001b[0m\u001b[33m────────────────────────────────────────────────\u001b[0m\u001b[33m─╮\u001b[0m\n",
       "\u001b[33m│\u001b[0m 1.0471975511965976                                                                                              \u001b[33m│\u001b[0m\n",
       "\u001b[33m╰─────────────────────────────────────────────────────────────────────────────────────────────────────────────────╯\u001b[0m\n"
      ]
     },
     "metadata": {},
     "output_type": "display_data"
    },
    {
     "data": {
      "text/html": [
       "<pre style=\"white-space:pre;overflow-x:auto;line-height:normal;font-family:Menlo,'DejaVu Sans Mono',consolas,'Courier New',monospace\"><span style=\"color: #c0c0c0; text-decoration-color: #c0c0c0\">╭───────────────────────────────────────────────────── 📝 AI ─────────────────────────────────────────────────────╮</span>\n",
       "<span style=\"color: #c0c0c0; text-decoration-color: #c0c0c0\">│</span> The arc cosine of 0.5 is 1.0471975511965976 radians.                                                            <span style=\"color: #c0c0c0; text-decoration-color: #c0c0c0\">│</span>\n",
       "<span style=\"color: #c0c0c0; text-decoration-color: #c0c0c0\">╰─────────────────────────────────────────────────────────────────────────────────────────────────────────────────╯</span>\n",
       "</pre>\n"
      ],
      "text/plain": [
       "\u001b[37m╭─\u001b[0m\u001b[37m────────────────────────────────────────────────────\u001b[0m\u001b[37m 📝 AI \u001b[0m\u001b[37m────────────────────────────────────────────────────\u001b[0m\u001b[37m─╮\u001b[0m\n",
       "\u001b[37m│\u001b[0m The arc cosine of 0.5 is 1.0471975511965976 radians.                                                            \u001b[37m│\u001b[0m\n",
       "\u001b[37m╰─────────────────────────────────────────────────────────────────────────────────────────────────────────────────╯\u001b[0m\n"
      ]
     },
     "metadata": {},
     "output_type": "display_data"
    }
   ],
   "source": [
    "format_messages(result['messages'])"
   ]
  },
  {
   "cell_type": "markdown",
   "id": "5bc23e99",
   "metadata": {},
   "source": [
    "Checkout the [trace](https://smith.langchain.com/public/5183fb52-151d-474a-9220-767c1ef2303c/r)"
   ]
  },
  {
   "cell_type": "markdown",
   "id": "cc57059b",
   "metadata": {},
   "source": []
  }
 ],
 "metadata": {
  "kernelspec": {
   "display_name": ".venv",
   "language": "python",
   "name": "python3"
  },
  "language_info": {
   "codemirror_mode": {
    "name": "ipython",
    "version": 3
   },
   "file_extension": ".py",
   "mimetype": "text/x-python",
   "name": "python",
   "nbconvert_exporter": "python",
   "pygments_lexer": "ipython3",
   "version": "3.13.3"
  }
 },
 "nbformat": 4,
 "nbformat_minor": 5
}
